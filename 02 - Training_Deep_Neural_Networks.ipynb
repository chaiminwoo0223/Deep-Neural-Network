{
  "nbformat": 4,
  "nbformat_minor": 0,
  "metadata": {
    "colab": {
      "provenance": [],
      "gpuType": "T4",
      "authorship_tag": "ABX9TyPAzNveikwyfAlLTc2Svbde",
      "include_colab_link": true
    },
    "kernelspec": {
      "name": "python3",
      "display_name": "Python 3"
    },
    "language_info": {
      "name": "python"
    },
    "accelerator": "GPU"
  },
  "cells": [
    {
      "cell_type": "markdown",
      "metadata": {
        "id": "view-in-github",
        "colab_type": "text"
      },
      "source": [
        "<a href=\"https://colab.research.google.com/github/chaiminwoo0223/Deep-Neural-Network/blob/main/02%20-%20Training_Deep_Neural_Networks.ipynb\" target=\"_parent\"><img src=\"https://colab.research.google.com/assets/colab-badge.svg\" alt=\"Open In Colab\"/></a>"
      ]
    },
    {
      "cell_type": "markdown",
      "source": [
        "# Import"
      ],
      "metadata": {
        "id": "5PeLu0M8Y683"
      }
    },
    {
      "cell_type": "code",
      "execution_count": 1,
      "metadata": {
        "id": "xfIw8mtwYyAo"
      },
      "outputs": [],
      "source": [
        "import numpy as np\n",
        "import pandas as pd\n",
        "import matplotlib.pyplot as plt\n",
        "import tensorflow as tf\n",
        "from tensorflow import keras\n",
        "\n",
        "%matplotlib inline"
      ]
    },
    {
      "cell_type": "markdown",
      "source": [
        "# 그레디언트 소실과 폭주\n",
        "## 1.글로럿과 He 초기화"
      ],
      "metadata": {
        "id": "uuq5bQaYZGSu"
      }
    },
    {
      "cell_type": "code",
      "source": [
        "[initializer for initializer in dir(keras.initializers) if not initializer.startswith(\"_\")]"
      ],
      "metadata": {
        "colab": {
          "base_uri": "https://localhost:8080/"
        },
        "id": "v37PI7qeaDi8",
        "outputId": "45efb6f1-8b1a-47ca-f59c-bb62e6c3a885"
      },
      "execution_count": 2,
      "outputs": [
        {
          "output_type": "execute_result",
          "data": {
            "text/plain": [
              "['Constant',\n",
              " 'GlorotNormal',\n",
              " 'GlorotUniform',\n",
              " 'HeNormal',\n",
              " 'HeUniform',\n",
              " 'Identity',\n",
              " 'Initializer',\n",
              " 'LecunNormal',\n",
              " 'LecunUniform',\n",
              " 'Ones',\n",
              " 'Orthogonal',\n",
              " 'RandomNormal',\n",
              " 'RandomUniform',\n",
              " 'TruncatedNormal',\n",
              " 'VarianceScaling',\n",
              " 'Zeros',\n",
              " 'constant',\n",
              " 'deserialize',\n",
              " 'get',\n",
              " 'glorot_normal',\n",
              " 'glorot_uniform',\n",
              " 'he_normal',\n",
              " 'he_uniform',\n",
              " 'identity',\n",
              " 'lecun_normal',\n",
              " 'lecun_uniform',\n",
              " 'ones',\n",
              " 'orthogonal',\n",
              " 'random_normal',\n",
              " 'random_uniform',\n",
              " 'serialize',\n",
              " 'truncated_normal',\n",
              " 'variance_scaling',\n",
              " 'zeros']"
            ]
          },
          "metadata": {},
          "execution_count": 2
        }
      ]
    },
    {
      "cell_type": "code",
      "source": [
        "keras.layers.Dense(10, activation=\"relu\", kernel_initializer=\"he_normal\")"
      ],
      "metadata": {
        "colab": {
          "base_uri": "https://localhost:8080/"
        },
        "id": "9Y8GgLFEaDlE",
        "outputId": "eb0f3755-03d7-42aa-f0eb-9e3d5487d5f4"
      },
      "execution_count": 3,
      "outputs": [
        {
          "output_type": "execute_result",
          "data": {
            "text/plain": [
              "<keras.src.layers.core.dense.Dense at 0x7e6b19304a60>"
            ]
          },
          "metadata": {},
          "execution_count": 3
        }
      ]
    },
    {
      "cell_type": "code",
      "source": [
        "init = keras.initializers.VarianceScaling(scale=2., mode=\"fan_avg\", distribution=\"uniform\")\n",
        "keras.layers.Dense(10, activation=\"relu\", kernel_initializer=init)"
      ],
      "metadata": {
        "colab": {
          "base_uri": "https://localhost:8080/"
        },
        "id": "0ZwcCW95aDnP",
        "outputId": "23afae7d-0156-4e6a-8691-7e2f388c3f6a"
      },
      "execution_count": 4,
      "outputs": [
        {
          "output_type": "execute_result",
          "data": {
            "text/plain": [
              "<keras.src.layers.core.dense.Dense at 0x7e6a900b4310>"
            ]
          },
          "metadata": {},
          "execution_count": 4
        }
      ]
    },
    {
      "cell_type": "markdown",
      "source": [
        "## 2.수렴하지 않는 활성화 함수"
      ],
      "metadata": {
        "id": "lexfKL1lZ3Zt"
      }
    },
    {
      "cell_type": "code",
      "source": [
        "(X_train_full, y_train_full), (X_test, y_test) = keras.datasets.fashion_mnist.load_data()\n",
        "X_train_full = X_train_full / 255.0\n",
        "X_test = X_test / 255.0\n",
        "X_valid, X_train = X_train_full[:5000], X_train_full[5000:]\n",
        "y_valid, y_train = y_train_full[:5000], y_train_full[5000:]"
      ],
      "metadata": {
        "id": "Bw-FnNPuecEy"
      },
      "execution_count": 5,
      "outputs": []
    },
    {
      "cell_type": "code",
      "source": [
        "z = np.linspace(-5, 5, 200)\n",
        "z"
      ],
      "metadata": {
        "colab": {
          "base_uri": "https://localhost:8080/"
        },
        "id": "_MBEUr8mbpjm",
        "outputId": "8dc48b3e-d9c8-4f1a-9a9f-71bc97357cad"
      },
      "execution_count": 6,
      "outputs": [
        {
          "output_type": "execute_result",
          "data": {
            "text/plain": [
              "array([-5.        , -4.94974874, -4.89949749, -4.84924623, -4.79899497,\n",
              "       -4.74874372, -4.69849246, -4.64824121, -4.59798995, -4.54773869,\n",
              "       -4.49748744, -4.44723618, -4.39698492, -4.34673367, -4.29648241,\n",
              "       -4.24623116, -4.1959799 , -4.14572864, -4.09547739, -4.04522613,\n",
              "       -3.99497487, -3.94472362, -3.89447236, -3.84422111, -3.79396985,\n",
              "       -3.74371859, -3.69346734, -3.64321608, -3.59296482, -3.54271357,\n",
              "       -3.49246231, -3.44221106, -3.3919598 , -3.34170854, -3.29145729,\n",
              "       -3.24120603, -3.19095477, -3.14070352, -3.09045226, -3.04020101,\n",
              "       -2.98994975, -2.93969849, -2.88944724, -2.83919598, -2.78894472,\n",
              "       -2.73869347, -2.68844221, -2.63819095, -2.5879397 , -2.53768844,\n",
              "       -2.48743719, -2.43718593, -2.38693467, -2.33668342, -2.28643216,\n",
              "       -2.2361809 , -2.18592965, -2.13567839, -2.08542714, -2.03517588,\n",
              "       -1.98492462, -1.93467337, -1.88442211, -1.83417085, -1.7839196 ,\n",
              "       -1.73366834, -1.68341709, -1.63316583, -1.58291457, -1.53266332,\n",
              "       -1.48241206, -1.4321608 , -1.38190955, -1.33165829, -1.28140704,\n",
              "       -1.23115578, -1.18090452, -1.13065327, -1.08040201, -1.03015075,\n",
              "       -0.9798995 , -0.92964824, -0.87939698, -0.82914573, -0.77889447,\n",
              "       -0.72864322, -0.67839196, -0.6281407 , -0.57788945, -0.52763819,\n",
              "       -0.47738693, -0.42713568, -0.37688442, -0.32663317, -0.27638191,\n",
              "       -0.22613065, -0.1758794 , -0.12562814, -0.07537688, -0.02512563,\n",
              "        0.02512563,  0.07537688,  0.12562814,  0.1758794 ,  0.22613065,\n",
              "        0.27638191,  0.32663317,  0.37688442,  0.42713568,  0.47738693,\n",
              "        0.52763819,  0.57788945,  0.6281407 ,  0.67839196,  0.72864322,\n",
              "        0.77889447,  0.82914573,  0.87939698,  0.92964824,  0.9798995 ,\n",
              "        1.03015075,  1.08040201,  1.13065327,  1.18090452,  1.23115578,\n",
              "        1.28140704,  1.33165829,  1.38190955,  1.4321608 ,  1.48241206,\n",
              "        1.53266332,  1.58291457,  1.63316583,  1.68341709,  1.73366834,\n",
              "        1.7839196 ,  1.83417085,  1.88442211,  1.93467337,  1.98492462,\n",
              "        2.03517588,  2.08542714,  2.13567839,  2.18592965,  2.2361809 ,\n",
              "        2.28643216,  2.33668342,  2.38693467,  2.43718593,  2.48743719,\n",
              "        2.53768844,  2.5879397 ,  2.63819095,  2.68844221,  2.73869347,\n",
              "        2.78894472,  2.83919598,  2.88944724,  2.93969849,  2.98994975,\n",
              "        3.04020101,  3.09045226,  3.14070352,  3.19095477,  3.24120603,\n",
              "        3.29145729,  3.34170854,  3.3919598 ,  3.44221106,  3.49246231,\n",
              "        3.54271357,  3.59296482,  3.64321608,  3.69346734,  3.74371859,\n",
              "        3.79396985,  3.84422111,  3.89447236,  3.94472362,  3.99497487,\n",
              "        4.04522613,  4.09547739,  4.14572864,  4.1959799 ,  4.24623116,\n",
              "        4.29648241,  4.34673367,  4.39698492,  4.44723618,  4.49748744,\n",
              "        4.54773869,  4.59798995,  4.64824121,  4.69849246,  4.74874372,\n",
              "        4.79899497,  4.84924623,  4.89949749,  4.94974874,  5.        ])"
            ]
          },
          "metadata": {},
          "execution_count": 6
        }
      ]
    },
    {
      "cell_type": "code",
      "source": [
        "# 로지스틱 시그모이드 함수\n",
        "def logit(z):\n",
        "    return 1 / (1 + np.exp(-z))\n",
        "\n",
        "plt.plot(z, logit(z), \"b-\", linewidth=2)\n",
        "plt.plot([-5, 5], [0, 0], 'k--')\n",
        "plt.plot([-5, 5], [1, 1], 'k--')\n",
        "plt.grid(True)\n",
        "props = dict(facecolor='black', shrink=0.1)\n",
        "plt.title(\"Sigmoid activation function\", fontsize=14)\n",
        "plt.axis([-5, 5, -0.2, 1.2])\n",
        "plt.show()"
      ],
      "metadata": {
        "colab": {
          "base_uri": "https://localhost:8080/",
          "height": 453
        },
        "id": "irrjeWWAY_PV",
        "outputId": "a7334ab6-8ae8-4391-a9a4-b37fd1c5f2e3"
      },
      "execution_count": 7,
      "outputs": [
        {
          "output_type": "display_data",
          "data": {
            "text/plain": [
              "<Figure size 640x480 with 1 Axes>"
            ],
            "image/png": "[encoded data removed]"
          },
          "metadata": {}
        }
      ]
    },
    {
      "cell_type": "code",
      "source": [
        "keras.backend.clear_session()\n",
        "tf.random.set_seed(42)\n",
        "np.random.seed(42)\n",
        "\n",
        "model = keras.models.Sequential([\n",
        "    keras.layers.Flatten(input_shape=[28, 28]),\n",
        "    keras.layers.Dense(300, activation=\"sigmoid\",\n",
        "                       kernel_initializer=tf.keras.initializers.RandomNormal(0.0, 1.0)),\n",
        "    keras.layers.Dense(100, activation=\"sigmoid\",\n",
        "                       kernel_initializer=tf.keras.initializers.RandomNormal(0.0, 1.0)),\n",
        "    keras.layers.Dense(10, activation=\"softmax\")\n",
        "])\n",
        "\n",
        "model.summary()"
      ],
      "metadata": {
        "colab": {
          "base_uri": "https://localhost:8080/"
        },
        "id": "QJtScu_Xc20g",
        "outputId": "dc55e771-a91b-468a-e419-7bbaf3d71ad3"
      },
      "execution_count": 8,
      "outputs": [
        {
          "output_type": "stream",
          "name": "stdout",
          "text": [
            "Model: \"sequential\"\n",
            "_________________________________________________________________\n",
            " Layer (type)                Output Shape              Param #   \n",
            "=================================================================\n",
            " flatten (Flatten)           (None, 784)               0         \n",
            "                                                                 \n",
            " dense (Dense)               (None, 300)               235500    \n",
            "                                                                 \n",
            " dense_1 (Dense)             (None, 100)               30100     \n",
            "                                                                 \n",
            " dense_2 (Dense)             (None, 10)                1010      \n",
            "                                                                 \n",
            "=================================================================\n",
            "Total params: 266610 (1.02 MB)\n",
            "Trainable params: 266610 (1.02 MB)\n",
            "Non-trainable params: 0 (0.00 Byte)\n",
            "_________________________________________________________________\n"
          ]
        }
      ]
    },
    {
      "cell_type": "code",
      "source": [
        "model.compile(loss=\"sparse_categorical_crossentropy\",\n",
        "              optimizer=keras.optimizers.SGD(learning_rate=1e-3),\n",
        "              metrics=[\"accuracy\"])\n",
        "\n",
        "history = model.fit(X_train, y_train, epochs=10, validation_data=(X_valid, y_valid))"
      ],
      "metadata": {
        "colab": {
          "base_uri": "https://localhost:8080/"
        },
        "id": "kZc0SQ0Qm33f",
        "outputId": "1e94cc25-0cc7-4bea-e9a7-9145c66f09ee"
      },
      "execution_count": 9,
      "outputs": [
        {
          "output_type": "stream",
          "name": "stdout",
          "text": [
            "Epoch 1/10\n",
            "1719/1719 [==============================] - 18s 9ms/step - loss: 2.2167 - accuracy: 0.1966 - val_loss: 2.0225 - val_accuracy: 0.3232\n",
            "Epoch 2/10\n",
            "1719/1719 [==============================] - 12s 7ms/step - loss: 1.8993 - accuracy: 0.4070 - val_loss: 1.7631 - val_accuracy: 0.4938\n",
            "Epoch 3/10\n",
            "1719/1719 [==============================] - 7s 4ms/step - loss: 1.6778 - accuracy: 0.5189 - val_loss: 1.5714 - val_accuracy: 0.5690\n",
            "Epoch 4/10\n",
            "1719/1719 [==============================] - 8s 5ms/step - loss: 1.5123 - accuracy: 0.5765 - val_loss: 1.4264 - val_accuracy: 0.6100\n",
            "Epoch 5/10\n",
            "1719/1719 [==============================] - 8s 4ms/step - loss: 1.3868 - accuracy: 0.6107 - val_loss: 1.3170 - val_accuracy: 0.6458\n",
            "Epoch 6/10\n",
            "1719/1719 [==============================] - 14s 8ms/step - loss: 1.2897 - accuracy: 0.6346 - val_loss: 1.2304 - val_accuracy: 0.6582\n",
            "Epoch 7/10\n",
            "1719/1719 [==============================] - 11s 6ms/step - loss: 1.2132 - accuracy: 0.6512 - val_loss: 1.1621 - val_accuracy: 0.6744\n",
            "Epoch 8/10\n",
            "1719/1719 [==============================] - 8s 5ms/step - loss: 1.1517 - accuracy: 0.6632 - val_loss: 1.1068 - val_accuracy: 0.6878\n",
            "Epoch 9/10\n",
            "1719/1719 [==============================] - 9s 5ms/step - loss: 1.1014 - accuracy: 0.6731 - val_loss: 1.0606 - val_accuracy: 0.6954\n",
            "Epoch 10/10\n",
            "1719/1719 [==============================] - 7s 4ms/step - loss: 1.0596 - accuracy: 0.6804 - val_loss: 1.0226 - val_accuracy: 0.7032\n"
          ]
        }
      ]
    },
    {
      "cell_type": "code",
      "source": [
        "# ReLU\n",
        "def relu(z):\n",
        "    return np.maximum(0, z)\n",
        "\n",
        "plt.plot(z, relu(z), \"b-\", linewidth=2)\n",
        "plt.plot([-5, 5], [0, 0], 'k-')\n",
        "plt.plot([0, 0], [-0.5, 4.2], 'k-')\n",
        "plt.grid(True)\n",
        "props = dict(facecolor='black', shrink=0.1)\n",
        "plt.title(\"ReLU activation function\", fontsize=14)\n",
        "plt.axis([-5, 5, -0.5, 4.2])\n",
        "plt.show()"
      ],
      "metadata": {
        "colab": {
          "base_uri": "https://localhost:8080/",
          "height": 453
        },
        "id": "18gUgP1DZmQl",
        "outputId": "137524d0-b5f5-4393-fde0-e5a4db454df6"
      },
      "execution_count": 10,
      "outputs": [
        {
          "output_type": "display_data",
          "data": {
            "text/plain": [
              "<Figure size 640x480 with 1 Axes>"
            ],
            "image/png": "[encoded data removed]"
          },
          "metadata": {}
        }
      ]
    },
    {
      "cell_type": "code",
      "source": [
        "keras.backend.clear_session()\n",
        "tf.random.set_seed(42)\n",
        "np.random.seed(42)\n",
        "\n",
        "model = keras.models.Sequential([\n",
        "    keras.layers.Flatten(input_shape=[28, 28]),\n",
        "    keras.layers.Dense(300, kernel_initializer=\"he_normal\"),\n",
        "    keras.layers.ReLU(),\n",
        "    keras.layers.Dense(100, kernel_initializer=\"he_normal\"),\n",
        "    keras.layers.ReLU(),\n",
        "    keras.layers.Dense(10, activation=\"softmax\")\n",
        "])\n",
        "\n",
        "model.summary()"
      ],
      "metadata": {
        "colab": {
          "base_uri": "https://localhost:8080/"
        },
        "id": "KyUcbVfLcwZ2",
        "outputId": "fedc628a-3dca-4573-9a88-8cd3ec063d36"
      },
      "execution_count": 11,
      "outputs": [
        {
          "output_type": "stream",
          "name": "stdout",
          "text": [
            "Model: \"sequential\"\n",
            "_________________________________________________________________\n",
            " Layer (type)                Output Shape              Param #   \n",
            "=================================================================\n",
            " flatten (Flatten)           (None, 784)               0         \n",
            "                                                                 \n",
            " dense (Dense)               (None, 300)               235500    \n",
            "                                                                 \n",
            " re_lu (ReLU)                (None, 300)               0         \n",
            "                                                                 \n",
            " dense_1 (Dense)             (None, 100)               30100     \n",
            "                                                                 \n",
            " re_lu_1 (ReLU)              (None, 100)               0         \n",
            "                                                                 \n",
            " dense_2 (Dense)             (None, 10)                1010      \n",
            "                                                                 \n",
            "=================================================================\n",
            "Total params: 266610 (1.02 MB)\n",
            "Trainable params: 266610 (1.02 MB)\n",
            "Non-trainable params: 0 (0.00 Byte)\n",
            "_________________________________________________________________\n"
          ]
        }
      ]
    },
    {
      "cell_type": "code",
      "source": [
        "model.compile(loss=\"sparse_categorical_crossentropy\",\n",
        "              optimizer=keras.optimizers.SGD(learning_rate=1e-3),\n",
        "              metrics=[\"accuracy\"])\n",
        "\n",
        "history = model.fit(X_train, y_train, epochs=10, validation_data=(X_valid, y_valid))"
      ],
      "metadata": {
        "colab": {
          "base_uri": "https://localhost:8080/"
        },
        "id": "n7xme0R6m8cM",
        "outputId": "409dd7e3-b518-429c-d3be-2b0fe13c4de4"
      },
      "execution_count": 12,
      "outputs": [
        {
          "output_type": "stream",
          "name": "stdout",
          "text": [
            "Epoch 1/10\n",
            "1719/1719 [==============================] - 9s 5ms/step - loss: 1.3165 - accuracy: 0.6034 - val_loss: 0.9007 - val_accuracy: 0.7084\n",
            "Epoch 2/10\n",
            "1719/1719 [==============================] - 7s 4ms/step - loss: 0.8074 - accuracy: 0.7310 - val_loss: 0.7215 - val_accuracy: 0.7662\n",
            "Epoch 3/10\n",
            "1719/1719 [==============================] - 9s 5ms/step - loss: 0.6900 - accuracy: 0.7705 - val_loss: 0.6515 - val_accuracy: 0.7876\n",
            "Epoch 4/10\n",
            "1719/1719 [==============================] - 9s 5ms/step - loss: 0.6276 - accuracy: 0.7934 - val_loss: 0.5951 - val_accuracy: 0.8026\n",
            "Epoch 5/10\n",
            "1719/1719 [==============================] - 7s 4ms/step - loss: 0.5866 - accuracy: 0.8061 - val_loss: 0.5605 - val_accuracy: 0.8176\n",
            "Epoch 6/10\n",
            "1719/1719 [==============================] - 9s 5ms/step - loss: 0.5572 - accuracy: 0.8143 - val_loss: 0.5366 - val_accuracy: 0.8234\n",
            "Epoch 7/10\n",
            "1719/1719 [==============================] - 8s 5ms/step - loss: 0.5351 - accuracy: 0.8200 - val_loss: 0.5160 - val_accuracy: 0.8298\n",
            "Epoch 8/10\n",
            "1719/1719 [==============================] - 7s 4ms/step - loss: 0.5181 - accuracy: 0.8243 - val_loss: 0.5082 - val_accuracy: 0.8310\n",
            "Epoch 9/10\n",
            "1719/1719 [==============================] - 8s 5ms/step - loss: 0.5042 - accuracy: 0.8278 - val_loss: 0.4894 - val_accuracy: 0.8412\n",
            "Epoch 10/10\n",
            "1719/1719 [==============================] - 7s 4ms/step - loss: 0.4923 - accuracy: 0.8321 - val_loss: 0.4802 - val_accuracy: 0.8408\n"
          ]
        }
      ]
    },
    {
      "cell_type": "code",
      "source": [
        "# Leaky ReLU\n",
        "def leaky_relu(z, alpha=0.01):\n",
        "    return np.maximum(alpha*z, z)\n",
        "\n",
        "plt.plot(z, leaky_relu(z, 0.05), \"b-\", linewidth=2)\n",
        "plt.plot([-5, 5], [0, 0], 'k-')\n",
        "plt.plot([0, 0], [-0.5, 4.2], 'k-')\n",
        "plt.grid(True)\n",
        "props = dict(facecolor='black', shrink=0.1)\n",
        "plt.annotate('Leak', xytext=(-3.5, 0.5), xy=(-5, -0.2), arrowprops=props, fontsize=14, ha=\"center\")\n",
        "plt.title(\"Leaky ReLU activation function\", fontsize=14)\n",
        "plt.axis([-5, 5, -0.5, 4.2])\n",
        "plt.show()"
      ],
      "metadata": {
        "colab": {
          "base_uri": "https://localhost:8080/",
          "height": 453
        },
        "id": "oDziBehcf9L-",
        "outputId": "71aabbb3-4ad4-44ff-9467-00bff9fb08a1"
      },
      "execution_count": 13,
      "outputs": [
        {
          "output_type": "display_data",
          "data": {
            "text/plain": [
              "<Figure size 640x480 with 1 Axes>"
            ],
            "image/png": "[encoded data removed]"
          },
          "metadata": {}
        }
      ]
    },
    {
      "cell_type": "code",
      "source": [
        "keras.backend.clear_session()\n",
        "tf.random.set_seed(42)\n",
        "np.random.seed(42)\n",
        "\n",
        "model = keras.models.Sequential([\n",
        "    keras.layers.Flatten(input_shape=[28, 28]),\n",
        "    keras.layers.Dense(300, kernel_initializer=\"he_normal\"),\n",
        "    keras.layers.LeakyReLU(0.01),\n",
        "    keras.layers.Dense(100, kernel_initializer=\"he_normal\"),\n",
        "    keras.layers.LeakyReLU(0.01),\n",
        "    keras.layers.Dense(10, activation=\"softmax\")\n",
        "])\n",
        "\n",
        "model.summary()"
      ],
      "metadata": {
        "colab": {
          "base_uri": "https://localhost:8080/"
        },
        "id": "gF6m96LSgFDL",
        "outputId": "f5bd4d2f-911f-4596-adaa-83d292dfe3f4"
      },
      "execution_count": 14,
      "outputs": [
        {
          "output_type": "stream",
          "name": "stdout",
          "text": [
            "Model: \"sequential\"\n",
            "_________________________________________________________________\n",
            " Layer (type)                Output Shape              Param #   \n",
            "=================================================================\n",
            " flatten (Flatten)           (None, 784)               0         \n",
            "                                                                 \n",
            " dense (Dense)               (None, 300)               235500    \n",
            "                                                                 \n",
            " leaky_re_lu (LeakyReLU)     (None, 300)               0         \n",
            "                                                                 \n",
            " dense_1 (Dense)             (None, 100)               30100     \n",
            "                                                                 \n",
            " leaky_re_lu_1 (LeakyReLU)   (None, 100)               0         \n",
            "                                                                 \n",
            " dense_2 (Dense)             (None, 10)                1010      \n",
            "                                                                 \n",
            "=================================================================\n",
            "Total params: 266610 (1.02 MB)\n",
            "Trainable params: 266610 (1.02 MB)\n",
            "Non-trainable params: 0 (0.00 Byte)\n",
            "_________________________________________________________________\n"
          ]
        }
      ]
    },
    {
      "cell_type": "code",
      "source": [
        "model.compile(loss=\"sparse_categorical_crossentropy\",\n",
        "              optimizer=keras.optimizers.SGD(learning_rate=1e-3),\n",
        "              metrics=[\"accuracy\"])\n",
        "\n",
        "history = model.fit(X_train, y_train, epochs=10, validation_data=(X_valid, y_valid))"
      ],
      "metadata": {
        "colab": {
          "base_uri": "https://localhost:8080/"
        },
        "id": "cpdZbo9hnFZu",
        "outputId": "0bf31dfa-ac06-4afd-aed9-5359a0548e83"
      },
      "execution_count": 15,
      "outputs": [
        {
          "output_type": "stream",
          "name": "stdout",
          "text": [
            "Epoch 1/10\n",
            "1719/1719 [==============================] - 8s 5ms/step - loss: 1.3366 - accuracy: 0.5921 - val_loss: 0.9090 - val_accuracy: 0.7030\n",
            "Epoch 2/10\n",
            "1719/1719 [==============================] - 8s 5ms/step - loss: 0.8132 - accuracy: 0.7314 - val_loss: 0.7227 - val_accuracy: 0.7660\n",
            "Epoch 3/10\n",
            "1719/1719 [==============================] - 11s 6ms/step - loss: 0.6900 - accuracy: 0.7752 - val_loss: 0.6500 - val_accuracy: 0.7918\n",
            "Epoch 4/10\n",
            "1719/1719 [==============================] - 7s 4ms/step - loss: 0.6259 - accuracy: 0.7957 - val_loss: 0.5910 - val_accuracy: 0.8160\n",
            "Epoch 5/10\n",
            "1719/1719 [==============================] - 8s 5ms/step - loss: 0.5849 - accuracy: 0.8084 - val_loss: 0.5572 - val_accuracy: 0.8244\n",
            "Epoch 6/10\n",
            "1719/1719 [==============================] - 7s 4ms/step - loss: 0.5558 - accuracy: 0.8159 - val_loss: 0.5332 - val_accuracy: 0.8318\n",
            "Epoch 7/10\n",
            "1719/1719 [==============================] - 8s 5ms/step - loss: 0.5340 - accuracy: 0.8207 - val_loss: 0.5128 - val_accuracy: 0.8380\n",
            "Epoch 8/10\n",
            "1719/1719 [==============================] - 7s 4ms/step - loss: 0.5171 - accuracy: 0.8265 - val_loss: 0.5050 - val_accuracy: 0.8346\n",
            "Epoch 9/10\n",
            "1719/1719 [==============================] - 7s 4ms/step - loss: 0.5037 - accuracy: 0.8290 - val_loss: 0.4868 - val_accuracy: 0.8432\n",
            "Epoch 10/10\n",
            "1719/1719 [==============================] - 8s 5ms/step - loss: 0.4920 - accuracy: 0.8317 - val_loss: 0.4786 - val_accuracy: 0.8476\n"
          ]
        }
      ]
    },
    {
      "cell_type": "code",
      "source": [
        "keras.backend.clear_session()\n",
        "tf.random.set_seed(42)\n",
        "np.random.seed(42)\n",
        "\n",
        "model = keras.models.Sequential([\n",
        "    keras.layers.Flatten(input_shape=[28, 28]),\n",
        "    keras.layers.Dense(300, kernel_initializer='he_normal'),\n",
        "    keras.layers.PReLU(),\n",
        "    keras.layers.Dense(100, kernel_initializer='he_normal'),\n",
        "    keras.layers.PReLU(),\n",
        "    keras.layers.Dense(10, activation='softmax')\n",
        "])\n",
        "\n",
        "model.summary()"
      ],
      "metadata": {
        "colab": {
          "base_uri": "https://localhost:8080/"
        },
        "id": "lVwP1Ckzgh_J",
        "outputId": "954af4fa-565a-4fe4-bdff-09fd98be98bc"
      },
      "execution_count": 16,
      "outputs": [
        {
          "output_type": "stream",
          "name": "stdout",
          "text": [
            "Model: \"sequential\"\n",
            "_________________________________________________________________\n",
            " Layer (type)                Output Shape              Param #   \n",
            "=================================================================\n",
            " flatten (Flatten)           (None, 784)               0         \n",
            "                                                                 \n",
            " dense (Dense)               (None, 300)               235500    \n",
            "                                                                 \n",
            " p_re_lu (PReLU)             (None, 300)               300       \n",
            "                                                                 \n",
            " dense_1 (Dense)             (None, 100)               30100     \n",
            "                                                                 \n",
            " p_re_lu_1 (PReLU)           (None, 100)               100       \n",
            "                                                                 \n",
            " dense_2 (Dense)             (None, 10)                1010      \n",
            "                                                                 \n",
            "=================================================================\n",
            "Total params: 267010 (1.02 MB)\n",
            "Trainable params: 267010 (1.02 MB)\n",
            "Non-trainable params: 0 (0.00 Byte)\n",
            "_________________________________________________________________\n"
          ]
        }
      ]
    },
    {
      "cell_type": "code",
      "source": [
        "model.compile(loss=\"sparse_categorical_crossentropy\",\n",
        "              optimizer=keras.optimizers.SGD(learning_rate=1e-3),\n",
        "              metrics=[\"accuracy\"])\n",
        "\n",
        "history = model.fit(X_train, y_train, epochs=10, validation_data=(X_valid, y_valid))"
      ],
      "metadata": {
        "colab": {
          "base_uri": "https://localhost:8080/"
        },
        "id": "ugqptyACnIg5",
        "outputId": "a22ccf47-1982-45f1-a97f-3be8b48a89ff"
      },
      "execution_count": 17,
      "outputs": [
        {
          "output_type": "stream",
          "name": "stdout",
          "text": [
            "Epoch 1/10\n",
            "1719/1719 [==============================] - 10s 5ms/step - loss: 1.4452 - accuracy: 0.5738 - val_loss: 0.9536 - val_accuracy: 0.7150\n",
            "Epoch 2/10\n",
            "1719/1719 [==============================] - 8s 4ms/step - loss: 0.8396 - accuracy: 0.7338 - val_loss: 0.7363 - val_accuracy: 0.7658\n",
            "Epoch 3/10\n",
            "1719/1719 [==============================] - 9s 5ms/step - loss: 0.7038 - accuracy: 0.7732 - val_loss: 0.6573 - val_accuracy: 0.7884\n",
            "Epoch 4/10\n",
            "1719/1719 [==============================] - 8s 5ms/step - loss: 0.6365 - accuracy: 0.7927 - val_loss: 0.5982 - val_accuracy: 0.8096\n",
            "Epoch 5/10\n",
            "1719/1719 [==============================] - 8s 5ms/step - loss: 0.5938 - accuracy: 0.8058 - val_loss: 0.5638 - val_accuracy: 0.8190\n",
            "Epoch 6/10\n",
            "1719/1719 [==============================] - 10s 6ms/step - loss: 0.5634 - accuracy: 0.8133 - val_loss: 0.5387 - val_accuracy: 0.8242\n",
            "Epoch 7/10\n",
            "1719/1719 [==============================] - 9s 5ms/step - loss: 0.5406 - accuracy: 0.8202 - val_loss: 0.5185 - val_accuracy: 0.8300\n",
            "Epoch 8/10\n",
            "1719/1719 [==============================] - 8s 5ms/step - loss: 0.5230 - accuracy: 0.8258 - val_loss: 0.5104 - val_accuracy: 0.8286\n",
            "Epoch 9/10\n",
            "1719/1719 [==============================] - 9s 5ms/step - loss: 0.5087 - accuracy: 0.8284 - val_loss: 0.4913 - val_accuracy: 0.8358\n",
            "Epoch 10/10\n",
            "1719/1719 [==============================] - 9s 5ms/step - loss: 0.4964 - accuracy: 0.8315 - val_loss: 0.4831 - val_accuracy: 0.8382\n"
          ]
        }
      ]
    },
    {
      "cell_type": "code",
      "source": [
        "# ELU\n",
        "def elu(z, alpha=1):\n",
        "    return np.where(z < 0, alpha * (np.exp(z) - 1), z)\n",
        "\n",
        "plt.plot(z, elu(z), \"b-\", linewidth=2)\n",
        "plt.plot([-5, 5], [0, 0], 'k-')\n",
        "plt.plot([-5, 5], [-1, -1], 'k--')\n",
        "plt.plot([0, 0], [-2.2, 3.2], 'k-')\n",
        "plt.grid(True)\n",
        "plt.title(r\"ELU activation function ($\\alpha=1$)\", fontsize=14)\n",
        "plt.axis([-5, 5, -2.2, 3.2])\n",
        "plt.show()"
      ],
      "metadata": {
        "colab": {
          "base_uri": "https://localhost:8080/",
          "height": 455
        },
        "id": "UuvrwVZgg1ZW",
        "outputId": "a716ca89-f370-4afa-ed76-74290bb9b742"
      },
      "execution_count": 18,
      "outputs": [
        {
          "output_type": "display_data",
          "data": {
            "text/plain": [
              "<Figure size 640x480 with 1 Axes>"
            ],
            "image/png": "[encoded data removed]"
          },
          "metadata": {}
        }
      ]
    },
    {
      "cell_type": "code",
      "source": [
        "keras.backend.clear_session()\n",
        "tf.random.set_seed(42)\n",
        "np.random.seed(42)\n",
        "\n",
        "model = keras.models.Sequential([\n",
        "    keras.layers.Flatten(input_shape=[28, 28]),\n",
        "    keras.layers.Dense(300, activation=\"elu\", kernel_initializer=\"he_normal\"),\n",
        "    keras.layers.Dense(100, activation=\"elu\", kernel_initializer=\"he_normal\"),\n",
        "    keras.layers.Dense(10, activation=\"softmax\")\n",
        "])\n",
        "\n",
        "model.summary()"
      ],
      "metadata": {
        "colab": {
          "base_uri": "https://localhost:8080/"
        },
        "id": "K5e4c_Uah007",
        "outputId": "fc109d7a-a8b1-4cda-f6fe-da3f0feac393"
      },
      "execution_count": 19,
      "outputs": [
        {
          "output_type": "stream",
          "name": "stdout",
          "text": [
            "Model: \"sequential\"\n",
            "_________________________________________________________________\n",
            " Layer (type)                Output Shape              Param #   \n",
            "=================================================================\n",
            " flatten (Flatten)           (None, 784)               0         \n",
            "                                                                 \n",
            " dense (Dense)               (None, 300)               235500    \n",
            "                                                                 \n",
            " dense_1 (Dense)             (None, 100)               30100     \n",
            "                                                                 \n",
            " dense_2 (Dense)             (None, 10)                1010      \n",
            "                                                                 \n",
            "=================================================================\n",
            "Total params: 266610 (1.02 MB)\n",
            "Trainable params: 266610 (1.02 MB)\n",
            "Non-trainable params: 0 (0.00 Byte)\n",
            "_________________________________________________________________\n"
          ]
        }
      ]
    },
    {
      "cell_type": "code",
      "source": [
        "model.compile(loss=\"sparse_categorical_crossentropy\",\n",
        "              optimizer=keras.optimizers.SGD(learning_rate=1e-3),\n",
        "              metrics=[\"accuracy\"])\n",
        "\n",
        "history = model.fit(X_train, y_train, epochs=10, validation_data=(X_valid, y_valid))"
      ],
      "metadata": {
        "colab": {
          "base_uri": "https://localhost:8080/"
        },
        "id": "gfizqN7emvQb",
        "outputId": "9e2aad8e-7976-4e65-95db-8ea296ee7df5"
      },
      "execution_count": 20,
      "outputs": [
        {
          "output_type": "stream",
          "name": "stdout",
          "text": [
            "Epoch 1/10\n",
            "1719/1719 [==============================] - 7s 4ms/step - loss: 1.1347 - accuracy: 0.6360 - val_loss: 0.7832 - val_accuracy: 0.7494\n",
            "Epoch 2/10\n",
            "1719/1719 [==============================] - 8s 5ms/step - loss: 0.7227 - accuracy: 0.7620 - val_loss: 0.6502 - val_accuracy: 0.7884\n",
            "Epoch 3/10\n",
            "1719/1719 [==============================] - 8s 5ms/step - loss: 0.6329 - accuracy: 0.7899 - val_loss: 0.5960 - val_accuracy: 0.7984\n",
            "Epoch 4/10\n",
            "1719/1719 [==============================] - 7s 4ms/step - loss: 0.5843 - accuracy: 0.8033 - val_loss: 0.5516 - val_accuracy: 0.8156\n",
            "Epoch 5/10\n",
            "1719/1719 [==============================] - 10s 6ms/step - loss: 0.5525 - accuracy: 0.8133 - val_loss: 0.5256 - val_accuracy: 0.8250\n",
            "Epoch 6/10\n",
            "1719/1719 [==============================] - 8s 4ms/step - loss: 0.5295 - accuracy: 0.8191 - val_loss: 0.5067 - val_accuracy: 0.8298\n",
            "Epoch 7/10\n",
            "1719/1719 [==============================] - 7s 4ms/step - loss: 0.5121 - accuracy: 0.8250 - val_loss: 0.4911 - val_accuracy: 0.8380\n",
            "Epoch 8/10\n",
            "1719/1719 [==============================] - 8s 5ms/step - loss: 0.4986 - accuracy: 0.8290 - val_loss: 0.4855 - val_accuracy: 0.8384\n",
            "Epoch 9/10\n",
            "1719/1719 [==============================] - 7s 4ms/step - loss: 0.4877 - accuracy: 0.8307 - val_loss: 0.4709 - val_accuracy: 0.8424\n",
            "Epoch 10/10\n",
            "1719/1719 [==============================] - 8s 5ms/step - loss: 0.4782 - accuracy: 0.8347 - val_loss: 0.4649 - val_accuracy: 0.8462\n"
          ]
        }
      ]
    },
    {
      "cell_type": "code",
      "source": [
        "# SELU\n",
        "from scipy.special import erfc\n",
        "\n",
        "alpha_0_1 = -np.sqrt(2 / np.pi) / (erfc(1/np.sqrt(2)) * np.exp(1/2) - 1)\n",
        "scale_0_1 = (1 - erfc(1 / np.sqrt(2)) * np.sqrt(np.e)) * np.sqrt(2 * np.pi) * (2 * erfc(np.sqrt(2))*np.e**2 + np.pi*erfc(1/np.sqrt(2))**2*np.e - 2*(2+np.pi)*erfc(1/np.sqrt(2))*np.sqrt(np.e)+np.pi+2)**(-1/2)"
      ],
      "metadata": {
        "id": "izHu-nbhiQMm"
      },
      "execution_count": 21,
      "outputs": []
    },
    {
      "cell_type": "code",
      "source": [
        "def selu(z, scale=scale_0_1, alpha=alpha_0_1):\n",
        "    return scale * elu(z, alpha)\n",
        "\n",
        "plt.plot(z, selu(z), \"b-\", linewidth=2)\n",
        "plt.plot([-5, 5], [0, 0], 'k-')\n",
        "plt.plot([-5, 5], [-1.758, -1.758], 'k--')\n",
        "plt.plot([0, 0], [-2.2, 3.2], 'k-')\n",
        "plt.grid(True)\n",
        "plt.title(\"SELU activation function\", fontsize=14)\n",
        "plt.axis([-5, 5, -2.2, 3.2])\n",
        "plt.show()"
      ],
      "metadata": {
        "colab": {
          "base_uri": "https://localhost:8080/",
          "height": 453
        },
        "id": "ZZXCQaSai4RG",
        "outputId": "36b9d94e-c21d-4f9a-8856-ffb0674b853c"
      },
      "execution_count": 22,
      "outputs": [
        {
          "output_type": "display_data",
          "data": {
            "text/plain": [
              "<Figure size 640x480 with 1 Axes>"
            ],
            "image/png": "[encoded data removed]"
          },
          "metadata": {}
        }
      ]
    },
    {
      "cell_type": "code",
      "source": [
        "means = X_train.mean(axis=0, keepdims=True)\n",
        "stds = X_train.std(axis=0, keepdims=True)\n",
        "X_train_scaled = (X_train - means) / stds\n",
        "X_valid_scaled = (X_valid - means) / stds"
      ],
      "metadata": {
        "id": "OToKf2o1jxCV"
      },
      "execution_count": 23,
      "outputs": []
    },
    {
      "cell_type": "code",
      "source": [
        "keras.backend.clear_session()\n",
        "tf.random.set_seed(42)\n",
        "np.random.seed(42)\n",
        "\n",
        "model = keras.models.Sequential()\n",
        "model.add(keras.layers.Flatten(input_shape=[28, 28]))\n",
        "model.add(keras.layers.Dense(300, activation=\"selu\", kernel_initializer=\"lecun_normal\"))\n",
        "for layer in range(100):\n",
        "  keras.layers.Dense(100, activation=\"selu\", kernel_initializer=\"lecun_normal\")\n",
        "model.add(keras.layers.Dense(10, activation=\"softmax\"))\n",
        "\n",
        "model.summary()"
      ],
      "metadata": {
        "colab": {
          "base_uri": "https://localhost:8080/"
        },
        "id": "cd_fi4QGi4xp",
        "outputId": "b3edc4a9-54dd-4dfa-d854-94621194f0fa"
      },
      "execution_count": 24,
      "outputs": [
        {
          "output_type": "stream",
          "name": "stdout",
          "text": [
            "Model: \"sequential\"\n",
            "_________________________________________________________________\n",
            " Layer (type)                Output Shape              Param #   \n",
            "=================================================================\n",
            " flatten (Flatten)           (None, 784)               0         \n",
            "                                                                 \n",
            " dense (Dense)               (None, 300)               235500    \n",
            "                                                                 \n",
            " dense_101 (Dense)           (None, 10)                3010      \n",
            "                                                                 \n",
            "=================================================================\n",
            "Total params: 238510 (931.68 KB)\n",
            "Trainable params: 238510 (931.68 KB)\n",
            "Non-trainable params: 0 (0.00 Byte)\n",
            "_________________________________________________________________\n"
          ]
        }
      ]
    },
    {
      "cell_type": "code",
      "source": [
        "model.compile(loss=\"sparse_categorical_crossentropy\",\n",
        "              optimizer=keras.optimizers.SGD(learning_rate=1e-3),\n",
        "              metrics=[\"accuracy\"])\n",
        "\n",
        "history = model.fit(X_train_scaled, y_train, epochs=10, validation_data=(X_valid_scaled, y_valid))"
      ],
      "metadata": {
        "colab": {
          "base_uri": "https://localhost:8080/"
        },
        "id": "u_GsQmSImpSB",
        "outputId": "0de56eb4-5836-4f4d-e55f-d06108304a38"
      },
      "execution_count": 25,
      "outputs": [
        {
          "output_type": "stream",
          "name": "stdout",
          "text": [
            "Epoch 1/10\n",
            "1719/1719 [==============================] - 8s 5ms/step - loss: 0.7482 - accuracy: 0.7450 - val_loss: 0.5477 - val_accuracy: 0.8166\n",
            "Epoch 2/10\n",
            "1719/1719 [==============================] - 6s 4ms/step - loss: 0.5220 - accuracy: 0.8186 - val_loss: 0.4844 - val_accuracy: 0.8366\n",
            "Epoch 3/10\n",
            "1719/1719 [==============================] - 8s 5ms/step - loss: 0.4794 - accuracy: 0.8336 - val_loss: 0.4640 - val_accuracy: 0.8436\n",
            "Epoch 4/10\n",
            "1719/1719 [==============================] - 7s 4ms/step - loss: 0.4560 - accuracy: 0.8413 - val_loss: 0.4463 - val_accuracy: 0.8492\n",
            "Epoch 5/10\n",
            "1719/1719 [==============================] - 7s 4ms/step - loss: 0.4402 - accuracy: 0.8481 - val_loss: 0.4346 - val_accuracy: 0.8546\n",
            "Epoch 6/10\n",
            "1719/1719 [==============================] - 7s 4ms/step - loss: 0.4281 - accuracy: 0.8525 - val_loss: 0.4269 - val_accuracy: 0.8574\n",
            "Epoch 7/10\n",
            "1719/1719 [==============================] - 6s 4ms/step - loss: 0.4187 - accuracy: 0.8554 - val_loss: 0.4193 - val_accuracy: 0.8578\n",
            "Epoch 8/10\n",
            "1719/1719 [==============================] - 8s 5ms/step - loss: 0.4107 - accuracy: 0.8588 - val_loss: 0.4185 - val_accuracy: 0.8564\n",
            "Epoch 9/10\n",
            "1719/1719 [==============================] - 6s 4ms/step - loss: 0.4037 - accuracy: 0.8610 - val_loss: 0.4101 - val_accuracy: 0.8598\n",
            "Epoch 10/10\n",
            "1719/1719 [==============================] - 10s 6ms/step - loss: 0.3974 - accuracy: 0.8637 - val_loss: 0.4074 - val_accuracy: 0.8598\n"
          ]
        }
      ]
    },
    {
      "cell_type": "code",
      "source": [
        "[activation for activation in dir(keras.activations) if not activation.startswith(\"_\")]"
      ],
      "metadata": {
        "colab": {
          "base_uri": "https://localhost:8080/"
        },
        "id": "79Zrxs9YkIPR",
        "outputId": "f1dfd662-85d9-46bf-8275-81d2ff7b7578"
      },
      "execution_count": 26,
      "outputs": [
        {
          "output_type": "execute_result",
          "data": {
            "text/plain": [
              "['deserialize',\n",
              " 'elu',\n",
              " 'exponential',\n",
              " 'gelu',\n",
              " 'get',\n",
              " 'hard_sigmoid',\n",
              " 'linear',\n",
              " 'mish',\n",
              " 'relu',\n",
              " 'selu',\n",
              " 'serialize',\n",
              " 'sigmoid',\n",
              " 'softmax',\n",
              " 'softplus',\n",
              " 'softsign',\n",
              " 'swish',\n",
              " 'tanh']"
            ]
          },
          "metadata": {},
          "execution_count": 26
        }
      ]
    },
    {
      "cell_type": "code",
      "source": [
        "[layer for layer in dir(keras.layers) if \"relu\" in layer.lower()]"
      ],
      "metadata": {
        "colab": {
          "base_uri": "https://localhost:8080/"
        },
        "id": "RT5-IsdykU4F",
        "outputId": "eb064a96-bff9-447f-9d76-b750d31e91b9"
      },
      "execution_count": 27,
      "outputs": [
        {
          "output_type": "execute_result",
          "data": {
            "text/plain": [
              "['LeakyReLU', 'PReLU', 'ReLU', 'ThresholdedReLU']"
            ]
          },
          "metadata": {},
          "execution_count": 27
        }
      ]
    },
    {
      "cell_type": "markdown",
      "source": [
        "## 3.배치 정규화"
      ],
      "metadata": {
        "id": "OTGnHGZ-mLv2"
      }
    },
    {
      "cell_type": "code",
      "source": [
        "model = keras.models.Sequential([\n",
        "    keras.layers.Flatten(input_shape=[28, 28]),\n",
        "    keras.layers.BatchNormalization(),\n",
        "    keras.layers.Dense(300, activation=\"relu\"),\n",
        "    keras.layers.BatchNormalization(),\n",
        "    keras.layers.Dense(100, activation=\"relu\"),\n",
        "    keras.layers.BatchNormalization(),\n",
        "    keras.layers.Dense(10, activation=\"softmax\")\n",
        "])\n",
        "\n",
        "model.summary()"
      ],
      "metadata": {
        "colab": {
          "base_uri": "https://localhost:8080/"
        },
        "id": "xwMcy7wSkkKW",
        "outputId": "9cfbe6aa-751d-4ca7-b0fc-d8c098e2f5f1"
      },
      "execution_count": 28,
      "outputs": [
        {
          "output_type": "stream",
          "name": "stdout",
          "text": [
            "Model: \"sequential_1\"\n",
            "_________________________________________________________________\n",
            " Layer (type)                Output Shape              Param #   \n",
            "=================================================================\n",
            " flatten_1 (Flatten)         (None, 784)               0         \n",
            "                                                                 \n",
            " batch_normalization (Batch  (None, 784)               3136      \n",
            " Normalization)                                                  \n",
            "                                                                 \n",
            " dense_102 (Dense)           (None, 300)               235500    \n",
            "                                                                 \n",
            " batch_normalization_1 (Bat  (None, 300)               1200      \n",
            " chNormalization)                                                \n",
            "                                                                 \n",
            " dense_103 (Dense)           (None, 100)               30100     \n",
            "                                                                 \n",
            " batch_normalization_2 (Bat  (None, 100)               400       \n",
            " chNormalization)                                                \n",
            "                                                                 \n",
            " dense_104 (Dense)           (None, 10)                1010      \n",
            "                                                                 \n",
            "=================================================================\n",
            "Total params: 271346 (1.04 MB)\n",
            "Trainable params: 268978 (1.03 MB)\n",
            "Non-trainable params: 2368 (9.25 KB)\n",
            "_________________________________________________________________\n"
          ]
        }
      ]
    },
    {
      "cell_type": "code",
      "source": [
        "model.compile(loss=\"sparse_categorical_crossentropy\",\n",
        "              optimizer=keras.optimizers.SGD(learning_rate=1e-3),\n",
        "              metrics=[\"accuracy\"])\n",
        "\n",
        "history = model.fit(X_train, y_train, epochs=10, validation_data=(X_valid, y_valid))"
      ],
      "metadata": {
        "colab": {
          "base_uri": "https://localhost:8080/"
        },
        "id": "Ts0jbVx7mext",
        "outputId": "d21f5c02-f955-4302-b015-1c736d621373"
      },
      "execution_count": 29,
      "outputs": [
        {
          "output_type": "stream",
          "name": "stdout",
          "text": [
            "Epoch 1/10\n",
            "1719/1719 [==============================] - 14s 7ms/step - loss: 0.8150 - accuracy: 0.7211 - val_loss: 0.5482 - val_accuracy: 0.8064\n",
            "Epoch 2/10\n",
            "1719/1719 [==============================] - 12s 7ms/step - loss: 0.5654 - accuracy: 0.8025 - val_loss: 0.4730 - val_accuracy: 0.8358\n",
            "Epoch 3/10\n",
            "1719/1719 [==============================] - 12s 7ms/step - loss: 0.5125 - accuracy: 0.8208 - val_loss: 0.4419 - val_accuracy: 0.8408\n",
            "Epoch 4/10\n",
            "1719/1719 [==============================] - 11s 7ms/step - loss: 0.4759 - accuracy: 0.8338 - val_loss: 0.4218 - val_accuracy: 0.8472\n",
            "Epoch 5/10\n",
            "1719/1719 [==============================] - 11s 7ms/step - loss: 0.4510 - accuracy: 0.8412 - val_loss: 0.4068 - val_accuracy: 0.8538\n",
            "Epoch 6/10\n",
            "1719/1719 [==============================] - 12s 7ms/step - loss: 0.4361 - accuracy: 0.8453 - val_loss: 0.3958 - val_accuracy: 0.8558\n",
            "Epoch 7/10\n",
            "1719/1719 [==============================] - 12s 7ms/step - loss: 0.4231 - accuracy: 0.8499 - val_loss: 0.3860 - val_accuracy: 0.8598\n",
            "Epoch 8/10\n",
            "1719/1719 [==============================] - 11s 6ms/step - loss: 0.4101 - accuracy: 0.8545 - val_loss: 0.3814 - val_accuracy: 0.8628\n",
            "Epoch 9/10\n",
            "1719/1719 [==============================] - 11s 7ms/step - loss: 0.4012 - accuracy: 0.8584 - val_loss: 0.3733 - val_accuracy: 0.8646\n",
            "Epoch 10/10\n",
            "1719/1719 [==============================] - 12s 7ms/step - loss: 0.3912 - accuracy: 0.8609 - val_loss: 0.3693 - val_accuracy: 0.8666\n"
          ]
        }
      ]
    },
    {
      "cell_type": "code",
      "source": [
        "model = keras.models.Sequential([\n",
        "    keras.layers.Flatten(input_shape=[28, 28]),\n",
        "    keras.layers.BatchNormalization(),\n",
        "    keras.layers.Dense(300, use_bias=False),\n",
        "    keras.layers.BatchNormalization(),\n",
        "    keras.layers.Activation(\"relu\"),\n",
        "    keras.layers.Dense(100, use_bias=False),\n",
        "    keras.layers.BatchNormalization(),\n",
        "    keras.layers.Activation(\"relu\"),\n",
        "    keras.layers.Dense(10, activation=\"softmax\")\n",
        "])\n",
        "\n",
        "model.summary()"
      ],
      "metadata": {
        "colab": {
          "base_uri": "https://localhost:8080/"
        },
        "id": "-WdLyL3cme7N",
        "outputId": "a60ab655-d4fc-481a-c9d8-ee32ab8a7961"
      },
      "execution_count": 30,
      "outputs": [
        {
          "output_type": "stream",
          "name": "stdout",
          "text": [
            "Model: \"sequential_2\"\n",
            "_________________________________________________________________\n",
            " Layer (type)                Output Shape              Param #   \n",
            "=================================================================\n",
            " flatten_2 (Flatten)         (None, 784)               0         \n",
            "                                                                 \n",
            " batch_normalization_3 (Bat  (None, 784)               3136      \n",
            " chNormalization)                                                \n",
            "                                                                 \n",
            " dense_105 (Dense)           (None, 300)               235200    \n",
            "                                                                 \n",
            " batch_normalization_4 (Bat  (None, 300)               1200      \n",
            " chNormalization)                                                \n",
            "                                                                 \n",
            " activation (Activation)     (None, 300)               0         \n",
            "                                                                 \n",
            " dense_106 (Dense)           (None, 100)               30000     \n",
            "                                                                 \n",
            " batch_normalization_5 (Bat  (None, 100)               400       \n",
            " chNormalization)                                                \n",
            "                                                                 \n",
            " activation_1 (Activation)   (None, 100)               0         \n",
            "                                                                 \n",
            " dense_107 (Dense)           (None, 10)                1010      \n",
            "                                                                 \n",
            "=================================================================\n",
            "Total params: 270946 (1.03 MB)\n",
            "Trainable params: 268578 (1.02 MB)\n",
            "Non-trainable params: 2368 (9.25 KB)\n",
            "_________________________________________________________________\n"
          ]
        }
      ]
    },
    {
      "cell_type": "code",
      "source": [
        "model.compile(loss=\"sparse_categorical_crossentropy\",\n",
        "              optimizer=keras.optimizers.SGD(learning_rate=1e-3),\n",
        "              metrics=[\"accuracy\"])\n",
        "\n",
        "history = model.fit(X_train, y_train, epochs=10, validation_data=(X_valid, y_valid))"
      ],
      "metadata": {
        "colab": {
          "base_uri": "https://localhost:8080/"
        },
        "id": "3eRgmgbAoaFm",
        "outputId": "d17624d4-6ebf-41a6-c132-22cd9666b419"
      },
      "execution_count": 31,
      "outputs": [
        {
          "output_type": "stream",
          "name": "stdout",
          "text": [
            "Epoch 1/10\n",
            "1719/1719 [==============================] - 13s 7ms/step - loss: 1.0015 - accuracy: 0.6863 - val_loss: 0.6560 - val_accuracy: 0.7912\n",
            "Epoch 2/10\n",
            "1719/1719 [==============================] - 12s 7ms/step - loss: 0.6609 - accuracy: 0.7850 - val_loss: 0.5426 - val_accuracy: 0.8194\n",
            "Epoch 3/10\n",
            "1719/1719 [==============================] - 12s 7ms/step - loss: 0.5830 - accuracy: 0.8068 - val_loss: 0.4929 - val_accuracy: 0.8328\n",
            "Epoch 4/10\n",
            "1719/1719 [==============================] - 12s 7ms/step - loss: 0.5344 - accuracy: 0.8199 - val_loss: 0.4610 - val_accuracy: 0.8418\n",
            "Epoch 5/10\n",
            "1719/1719 [==============================] - 11s 7ms/step - loss: 0.5031 - accuracy: 0.8282 - val_loss: 0.4394 - val_accuracy: 0.8494\n",
            "Epoch 6/10\n",
            "1719/1719 [==============================] - 11s 7ms/step - loss: 0.4813 - accuracy: 0.8341 - val_loss: 0.4232 - val_accuracy: 0.8534\n",
            "Epoch 7/10\n",
            "1719/1719 [==============================] - 12s 7ms/step - loss: 0.4656 - accuracy: 0.8395 - val_loss: 0.4107 - val_accuracy: 0.8566\n",
            "Epoch 8/10\n",
            "1719/1719 [==============================] - 11s 6ms/step - loss: 0.4524 - accuracy: 0.8448 - val_loss: 0.4014 - val_accuracy: 0.8618\n",
            "Epoch 9/10\n",
            "1719/1719 [==============================] - 11s 6ms/step - loss: 0.4399 - accuracy: 0.8478 - val_loss: 0.3924 - val_accuracy: 0.8636\n",
            "Epoch 10/10\n",
            "1719/1719 [==============================] - 11s 7ms/step - loss: 0.4270 - accuracy: 0.8514 - val_loss: 0.3850 - val_accuracy: 0.8638\n"
          ]
        }
      ]
    },
    {
      "cell_type": "markdown",
      "source": [
        "## 4.그레디언트 클리핑"
      ],
      "metadata": {
        "id": "f8LR2pIgopm_"
      }
    },
    {
      "cell_type": "code",
      "source": [
        "optimizer = keras.optimizers.SGD(clipvalue=1.0)\n",
        "model.compile(loss=\"mse\", optimizer=optimizer)"
      ],
      "metadata": {
        "id": "1cR4ZRsQoaHg"
      },
      "execution_count": 32,
      "outputs": []
    },
    {
      "cell_type": "code",
      "source": [
        "optimizer = keras.optimizers.SGD(clipnorm=1.0)\n",
        "model.compile(loss=\"mse\", optimizer=optimizer)"
      ],
      "metadata": {
        "id": "9bbYUnzjow5i"
      },
      "execution_count": 33,
      "outputs": []
    },
    {
      "cell_type": "markdown",
      "source": [
        "# 전이학습\n",
        "## 1.데이터 준비"
      ],
      "metadata": {
        "id": "TsdYVStnpSIS"
      }
    },
    {
      "cell_type": "code",
      "source": [
        "def split_dataset(X, y):\n",
        "    y_5_or_6 = (y == 5) | (y == 6)\n",
        "    y_A = y[~y_5_or_6]\n",
        "    y_A[y_A > 6] -= 2\n",
        "    y_B = (y[y_5_or_6] == 6).astype(np.float32)\n",
        "    return ((X[~y_5_or_6], y_A), (X[y_5_or_6], y_B))\n",
        "\n",
        "(X_train_A, y_train_A), (X_train_B, y_train_B) = split_dataset(X_train, y_train)\n",
        "(X_valid_A, y_valid_A), (X_valid_B, y_valid_B) = split_dataset(X_valid, y_valid)\n",
        "(X_test_A, y_test_A), (X_test_B, y_test_B) = split_dataset(X_test, y_test)\n",
        "X_train_B = X_train_B[:200]\n",
        "y_train_B = y_train_B[:200]"
      ],
      "metadata": {
        "id": "3fdt5Aedo0B9"
      },
      "execution_count": 34,
      "outputs": []
    },
    {
      "cell_type": "code",
      "source": [
        "X_train_A.shape, X_train_B.shape"
      ],
      "metadata": {
        "colab": {
          "base_uri": "https://localhost:8080/"
        },
        "id": "sGmfV9WepV1t",
        "outputId": "191cd296-649c-4f69-ab75-14fd0f971165"
      },
      "execution_count": 35,
      "outputs": [
        {
          "output_type": "execute_result",
          "data": {
            "text/plain": [
              "((43986, 28, 28), (200, 28, 28))"
            ]
          },
          "metadata": {},
          "execution_count": 35
        }
      ]
    },
    {
      "cell_type": "markdown",
      "source": [
        "## 2.작업 A를 수행하기 위한 모델 A 훈련"
      ],
      "metadata": {
        "id": "lfBq4N1kqL6A"
      }
    },
    {
      "cell_type": "code",
      "source": [
        "keras.backend.clear_session()\n",
        "tf.random.set_seed(42)\n",
        "np.random.seed(42)\n",
        "\n",
        "model_A = keras.models.Sequential()\n",
        "model_A.add(keras.layers.Flatten(input_shape=[28, 28]))\n",
        "for n_hidden in (300, 100, 50, 50, 50):\n",
        "    model_A.add(keras.layers.Dense(n_hidden, activation=\"selu\"))\n",
        "model_A.add(keras.layers.Dense(8, activation=\"softmax\"))\n",
        "\n",
        "model_A.summary()"
      ],
      "metadata": {
        "colab": {
          "base_uri": "https://localhost:8080/"
        },
        "id": "cPR_SiP3pV3j",
        "outputId": "1f8f4306-126d-4dd3-f08b-148c887428ca"
      },
      "execution_count": 36,
      "outputs": [
        {
          "output_type": "stream",
          "name": "stdout",
          "text": [
            "Model: \"sequential\"\n",
            "_________________________________________________________________\n",
            " Layer (type)                Output Shape              Param #   \n",
            "=================================================================\n",
            " flatten (Flatten)           (None, 784)               0         \n",
            "                                                                 \n",
            " dense (Dense)               (None, 300)               235500    \n",
            "                                                                 \n",
            " dense_1 (Dense)             (None, 100)               30100     \n",
            "                                                                 \n",
            " dense_2 (Dense)             (None, 50)                5050      \n",
            "                                                                 \n",
            " dense_3 (Dense)             (None, 50)                2550      \n",
            "                                                                 \n",
            " dense_4 (Dense)             (None, 50)                2550      \n",
            "                                                                 \n",
            " dense_5 (Dense)             (None, 8)                 408       \n",
            "                                                                 \n",
            "=================================================================\n",
            "Total params: 276158 (1.05 MB)\n",
            "Trainable params: 276158 (1.05 MB)\n",
            "Non-trainable params: 0 (0.00 Byte)\n",
            "_________________________________________________________________\n"
          ]
        }
      ]
    },
    {
      "cell_type": "code",
      "source": [
        "model_A.compile(loss=\"sparse_categorical_crossentropy\",\n",
        "                optimizer=keras.optimizers.SGD(learning_rate=1e-3),\n",
        "                metrics=[\"accuracy\"])\n",
        "\n",
        "history = model_A.fit(X_train_A, y_train_A, epochs=20, validation_data=(X_valid_A, y_valid_A))"
      ],
      "metadata": {
        "colab": {
          "base_uri": "https://localhost:8080/"
        },
        "id": "0ODwDv5Kppab",
        "outputId": "6f7edbe9-084e-4f0b-f39a-983485beee30"
      },
      "execution_count": 37,
      "outputs": [
        {
          "output_type": "stream",
          "name": "stdout",
          "text": [
            "Epoch 1/20\n",
            "1375/1375 [==============================] - 8s 6ms/step - loss: 0.5618 - accuracy: 0.8177 - val_loss: 0.3917 - val_accuracy: 0.8635\n",
            "Epoch 2/20\n",
            "1375/1375 [==============================] - 7s 5ms/step - loss: 0.3516 - accuracy: 0.8776 - val_loss: 0.3281 - val_accuracy: 0.8911\n",
            "Epoch 3/20\n",
            "1375/1375 [==============================] - 6s 5ms/step - loss: 0.3173 - accuracy: 0.8889 - val_loss: 0.3036 - val_accuracy: 0.8999\n",
            "Epoch 4/20\n",
            "1375/1375 [==============================] - 7s 5ms/step - loss: 0.2989 - accuracy: 0.8952 - val_loss: 0.2900 - val_accuracy: 0.9043\n",
            "Epoch 5/20\n",
            "1375/1375 [==============================] - 6s 5ms/step - loss: 0.2859 - accuracy: 0.9009 - val_loss: 0.2805 - val_accuracy: 0.9088\n",
            "Epoch 6/20\n",
            "1375/1375 [==============================] - 7s 5ms/step - loss: 0.2764 - accuracy: 0.9043 - val_loss: 0.2746 - val_accuracy: 0.9101\n",
            "Epoch 7/20\n",
            "1375/1375 [==============================] - 7s 5ms/step - loss: 0.2681 - accuracy: 0.9072 - val_loss: 0.2687 - val_accuracy: 0.9118\n",
            "Epoch 8/20\n",
            "1375/1375 [==============================] - 7s 5ms/step - loss: 0.2615 - accuracy: 0.9104 - val_loss: 0.2633 - val_accuracy: 0.9150\n",
            "Epoch 9/20\n",
            "1375/1375 [==============================] - 6s 5ms/step - loss: 0.2560 - accuracy: 0.9129 - val_loss: 0.2602 - val_accuracy: 0.9163\n",
            "Epoch 10/20\n",
            "1375/1375 [==============================] - 7s 5ms/step - loss: 0.2514 - accuracy: 0.9139 - val_loss: 0.2577 - val_accuracy: 0.9143\n",
            "Epoch 11/20\n",
            "1375/1375 [==============================] - 6s 4ms/step - loss: 0.2469 - accuracy: 0.9162 - val_loss: 0.2536 - val_accuracy: 0.9163\n",
            "Epoch 12/20\n",
            "1375/1375 [==============================] - 7s 5ms/step - loss: 0.2428 - accuracy: 0.9170 - val_loss: 0.2542 - val_accuracy: 0.9155\n",
            "Epoch 13/20\n",
            "1375/1375 [==============================] - 6s 5ms/step - loss: 0.2396 - accuracy: 0.9176 - val_loss: 0.2483 - val_accuracy: 0.9173\n",
            "Epoch 14/20\n",
            "1375/1375 [==============================] - 7s 5ms/step - loss: 0.2361 - accuracy: 0.9195 - val_loss: 0.2472 - val_accuracy: 0.9163\n",
            "Epoch 15/20\n",
            "1375/1375 [==============================] - 7s 5ms/step - loss: 0.2332 - accuracy: 0.9211 - val_loss: 0.2513 - val_accuracy: 0.9143\n",
            "Epoch 16/20\n",
            "1375/1375 [==============================] - 7s 5ms/step - loss: 0.2300 - accuracy: 0.9220 - val_loss: 0.2441 - val_accuracy: 0.9163\n",
            "Epoch 17/20\n",
            "1375/1375 [==============================] - 7s 5ms/step - loss: 0.2273 - accuracy: 0.9220 - val_loss: 0.2492 - val_accuracy: 0.9148\n",
            "Epoch 18/20\n",
            "1375/1375 [==============================] - 10s 7ms/step - loss: 0.2245 - accuracy: 0.9234 - val_loss: 0.2472 - val_accuracy: 0.9165\n",
            "Epoch 19/20\n",
            "1375/1375 [==============================] - 7s 5ms/step - loss: 0.2220 - accuracy: 0.9246 - val_loss: 0.2397 - val_accuracy: 0.9168\n",
            "Epoch 20/20\n",
            "1375/1375 [==============================] - 6s 4ms/step - loss: 0.2197 - accuracy: 0.9250 - val_loss: 0.2403 - val_accuracy: 0.9136\n"
          ]
        }
      ]
    },
    {
      "cell_type": "code",
      "source": [
        "model_A.save(\"my_model_A.h5\")"
      ],
      "metadata": {
        "colab": {
          "base_uri": "https://localhost:8080/"
        },
        "id": "BT64mxPappcX",
        "outputId": "eb1d478f-b5f5-4610-dc1c-77e5f787f067"
      },
      "execution_count": 38,
      "outputs": [
        {
          "output_type": "stream",
          "name": "stderr",
          "text": [
            "/usr/local/lib/python3.10/dist-packages/keras/src/engine/training.py:3000: UserWarning: You are saving your model as an HDF5 file via `model.save()`. This file format is considered legacy. We recommend using instead the native Keras format, e.g. `model.save('my_model.keras')`.\n",
            "  saving_api.save_model(\n"
          ]
        }
      ]
    },
    {
      "cell_type": "markdown",
      "source": [
        "## 3.작업 B를 수행하기 위한 모델 B 훈련"
      ],
      "metadata": {
        "id": "BdsobPfpqUPj"
      }
    },
    {
      "cell_type": "code",
      "source": [
        "keras.backend.clear_session()\n",
        "tf.random.set_seed(42)\n",
        "np.random.seed(42)\n",
        "\n",
        "model_B = keras.models.Sequential()\n",
        "model_B.add(keras.layers.Flatten(input_shape=[28, 28]))\n",
        "for n_hidden in (300, 100, 50, 50, 50):\n",
        "    model_B.add(keras.layers.Dense(n_hidden, activation=\"selu\"))\n",
        "model_B.add(keras.layers.Dense(1, activation=\"sigmoid\"))\n",
        "\n",
        "model_B.summary()"
      ],
      "metadata": {
        "colab": {
          "base_uri": "https://localhost:8080/"
        },
        "id": "rii0RlovpxUX",
        "outputId": "e8d17b89-b60a-4069-f86e-e54b1908dabd"
      },
      "execution_count": 39,
      "outputs": [
        {
          "output_type": "stream",
          "name": "stdout",
          "text": [
            "Model: \"sequential\"\n",
            "_________________________________________________________________\n",
            " Layer (type)                Output Shape              Param #   \n",
            "=================================================================\n",
            " flatten (Flatten)           (None, 784)               0         \n",
            "                                                                 \n",
            " dense (Dense)               (None, 300)               235500    \n",
            "                                                                 \n",
            " dense_1 (Dense)             (None, 100)               30100     \n",
            "                                                                 \n",
            " dense_2 (Dense)             (None, 50)                5050      \n",
            "                                                                 \n",
            " dense_3 (Dense)             (None, 50)                2550      \n",
            "                                                                 \n",
            " dense_4 (Dense)             (None, 50)                2550      \n",
            "                                                                 \n",
            " dense_5 (Dense)             (None, 1)                 51        \n",
            "                                                                 \n",
            "=================================================================\n",
            "Total params: 275801 (1.05 MB)\n",
            "Trainable params: 275801 (1.05 MB)\n",
            "Non-trainable params: 0 (0.00 Byte)\n",
            "_________________________________________________________________\n"
          ]
        }
      ]
    },
    {
      "cell_type": "code",
      "source": [
        "model_B.compile(loss=\"binary_crossentropy\",\n",
        "                optimizer=keras.optimizers.SGD(learning_rate=1e-3),\n",
        "                metrics=[\"accuracy\"])\n",
        "\n",
        "history = model_B.fit(X_train_B, y_train_B, epochs=20, validation_data=(X_valid_B, y_valid_B))"
      ],
      "metadata": {
        "colab": {
          "base_uri": "https://localhost:8080/"
        },
        "id": "61-5awCXpxYM",
        "outputId": "ae4e556c-b1cc-4358-9ff7-4c61ebd13f68"
      },
      "execution_count": 40,
      "outputs": [
        {
          "output_type": "stream",
          "name": "stdout",
          "text": [
            "Epoch 1/20\n",
            "7/7 [==============================] - 1s 51ms/step - loss: 0.9860 - accuracy: 0.2600 - val_loss: 0.7470 - val_accuracy: 0.5406\n",
            "Epoch 2/20\n",
            "7/7 [==============================] - 0s 19ms/step - loss: 0.6772 - accuracy: 0.5950 - val_loss: 0.5718 - val_accuracy: 0.6998\n",
            "Epoch 3/20\n",
            "7/7 [==============================] - 0s 33ms/step - loss: 0.5170 - accuracy: 0.7550 - val_loss: 0.4606 - val_accuracy: 0.8185\n",
            "Epoch 4/20\n",
            "7/7 [==============================] - 0s 31ms/step - loss: 0.4164 - accuracy: 0.8500 - val_loss: 0.3830 - val_accuracy: 0.8763\n",
            "Epoch 5/20\n",
            "7/7 [==============================] - 0s 19ms/step - loss: 0.3439 - accuracy: 0.9000 - val_loss: 0.3274 - val_accuracy: 0.9199\n",
            "Epoch 6/20\n",
            "7/7 [==============================] - 0s 20ms/step - loss: 0.2913 - accuracy: 0.9300 - val_loss: 0.2855 - val_accuracy: 0.9402\n",
            "Epoch 7/20\n",
            "7/7 [==============================] - 0s 19ms/step - loss: 0.2526 - accuracy: 0.9550 - val_loss: 0.2575 - val_accuracy: 0.9422\n",
            "Epoch 8/20\n",
            "7/7 [==============================] - 0s 19ms/step - loss: 0.2242 - accuracy: 0.9750 - val_loss: 0.2333 - val_accuracy: 0.9493\n",
            "Epoch 9/20\n",
            "7/7 [==============================] - 0s 20ms/step - loss: 0.2014 - accuracy: 0.9800 - val_loss: 0.2110 - val_accuracy: 0.9615\n",
            "Epoch 10/20\n",
            "7/7 [==============================] - 0s 21ms/step - loss: 0.1817 - accuracy: 0.9900 - val_loss: 0.1954 - val_accuracy: 0.9696\n",
            "Epoch 11/20\n",
            "7/7 [==============================] - 0s 32ms/step - loss: 0.1663 - accuracy: 0.9900 - val_loss: 0.1822 - val_accuracy: 0.9706\n",
            "Epoch 12/20\n",
            "7/7 [==============================] - 0s 32ms/step - loss: 0.1527 - accuracy: 0.9900 - val_loss: 0.1706 - val_accuracy: 0.9726\n",
            "Epoch 13/20\n",
            "7/7 [==============================] - 0s 32ms/step - loss: 0.1416 - accuracy: 0.9900 - val_loss: 0.1606 - val_accuracy: 0.9736\n",
            "Epoch 14/20\n",
            "7/7 [==============================] - 0s 33ms/step - loss: 0.1321 - accuracy: 0.9900 - val_loss: 0.1524 - val_accuracy: 0.9757\n",
            "Epoch 15/20\n",
            "7/7 [==============================] - 0s 32ms/step - loss: 0.1234 - accuracy: 0.9900 - val_loss: 0.1429 - val_accuracy: 0.9767\n",
            "Epoch 16/20\n",
            "7/7 [==============================] - 0s 32ms/step - loss: 0.1153 - accuracy: 0.9900 - val_loss: 0.1363 - val_accuracy: 0.9777\n",
            "Epoch 17/20\n",
            "7/7 [==============================] - 0s 20ms/step - loss: 0.1089 - accuracy: 0.9900 - val_loss: 0.1307 - val_accuracy: 0.9797\n",
            "Epoch 18/20\n",
            "7/7 [==============================] - 0s 19ms/step - loss: 0.1030 - accuracy: 0.9900 - val_loss: 0.1249 - val_accuracy: 0.9787\n",
            "Epoch 19/20\n",
            "7/7 [==============================] - 0s 19ms/step - loss: 0.0974 - accuracy: 0.9900 - val_loss: 0.1201 - val_accuracy: 0.9797\n",
            "Epoch 20/20\n",
            "7/7 [==============================] - 0s 21ms/step - loss: 0.0927 - accuracy: 0.9900 - val_loss: 0.1164 - val_accuracy: 0.9797\n"
          ]
        }
      ]
    },
    {
      "cell_type": "markdown",
      "source": [
        "## 4.전이학습 구현"
      ],
      "metadata": {
        "id": "KpT4q8Kkqc38"
      }
    },
    {
      "cell_type": "code",
      "source": [
        "model_A = keras.models.load_model(\"my_model_A.h5\")\n",
        "model_B_on_A = keras.models.Sequential(model_A.layers[:-1])\n",
        "model_B_on_A.add(keras.layers.Dense(1, activation=\"sigmoid\"))"
      ],
      "metadata": {
        "id": "Rgew9bFapxaW"
      },
      "execution_count": 41,
      "outputs": []
    },
    {
      "cell_type": "code",
      "source": [
        "model_A_clone = keras.models.clone_model(model_A)\n",
        "model_A_clone.set_weights(model_A.get_weights())\n",
        "model_B_on_A = keras.models.Sequential(model_A_clone.layers[:-1])\n",
        "model_B_on_A.add(keras.layers.Dense(1, activation=\"sigmoid\"))"
      ],
      "metadata": {
        "id": "Jw_dpN9zpxcy"
      },
      "execution_count": 42,
      "outputs": []
    },
    {
      "cell_type": "code",
      "source": [
        "for layer in model_B_on_A.layers[:-1]:\n",
        "    layer.trainable = False\n",
        "\n",
        "model_B_on_A.compile(loss=\"binary_crossentropy\",\n",
        "                     optimizer=keras.optimizers.SGD(learning_rate=1e-3),\n",
        "                     metrics=[\"accuracy\"])\n",
        "\n",
        "history = model_B_on_A.fit(X_train_B, y_train_B, epochs=4, validation_data=(X_valid_B, y_valid_B))"
      ],
      "metadata": {
        "colab": {
          "base_uri": "https://localhost:8080/"
        },
        "id": "DaoSplbvqDsr",
        "outputId": "343b8afe-dc40-4a62-f386-9cc975a24ebd"
      },
      "execution_count": 43,
      "outputs": [
        {
          "output_type": "stream",
          "name": "stdout",
          "text": [
            "Epoch 1/4\n",
            "7/7 [==============================] - 1s 59ms/step - loss: 1.5275 - accuracy: 0.2700 - val_loss: 1.4381 - val_accuracy: 0.2617\n",
            "Epoch 2/4\n",
            "7/7 [==============================] - 0s 22ms/step - loss: 1.4057 - accuracy: 0.2850 - val_loss: 1.3297 - val_accuracy: 0.2951\n",
            "Epoch 3/4\n",
            "7/7 [==============================] - 0s 19ms/step - loss: 1.2965 - accuracy: 0.3050 - val_loss: 1.2337 - val_accuracy: 0.3185\n",
            "Epoch 4/4\n",
            "7/7 [==============================] - 0s 17ms/step - loss: 1.2001 - accuracy: 0.3250 - val_loss: 1.1417 - val_accuracy: 0.3519\n"
          ]
        }
      ]
    },
    {
      "cell_type": "code",
      "source": [
        "for layer in model_B_on_A.layers[:-1]:\n",
        "    layer.trainable = True\n",
        "\n",
        "model_B_on_A.compile(loss=\"binary_crossentropy\",\n",
        "                     optimizer=keras.optimizers.SGD(learning_rate=1e-3),\n",
        "                     metrics=[\"accuracy\"])\n",
        "history = model_B_on_A.fit(X_train_B, y_train_B, epochs=16, validation_data=(X_valid_B, y_valid_B))"
      ],
      "metadata": {
        "colab": {
          "base_uri": "https://localhost:8080/"
        },
        "id": "ZPA8EdkeqDue",
        "outputId": "1194945b-e2f5-4e1d-a649-6a419ec05e11"
      },
      "execution_count": 44,
      "outputs": [
        {
          "output_type": "stream",
          "name": "stdout",
          "text": [
            "Epoch 1/16\n",
            "7/7 [==============================] - 1s 64ms/step - loss: 0.9151 - accuracy: 0.4600 - val_loss: 0.6305 - val_accuracy: 0.6643\n",
            "Epoch 2/16\n",
            "7/7 [==============================] - 0s 21ms/step - loss: 0.5342 - accuracy: 0.7500 - val_loss: 0.4280 - val_accuracy: 0.8103\n",
            "Epoch 3/16\n",
            "7/7 [==============================] - 0s 20ms/step - loss: 0.3698 - accuracy: 0.8650 - val_loss: 0.3245 - val_accuracy: 0.8925\n",
            "Epoch 4/16\n",
            "7/7 [==============================] - 0s 33ms/step - loss: 0.2834 - accuracy: 0.8950 - val_loss: 0.2603 - val_accuracy: 0.9239\n",
            "Epoch 5/16\n",
            "7/7 [==============================] - 0s 18ms/step - loss: 0.2269 - accuracy: 0.9350 - val_loss: 0.2136 - val_accuracy: 0.9503\n",
            "Epoch 6/16\n",
            "7/7 [==============================] - 0s 19ms/step - loss: 0.1852 - accuracy: 0.9450 - val_loss: 0.1851 - val_accuracy: 0.9625\n",
            "Epoch 7/16\n",
            "7/7 [==============================] - 0s 19ms/step - loss: 0.1592 - accuracy: 0.9550 - val_loss: 0.1642 - val_accuracy: 0.9716\n",
            "Epoch 8/16\n",
            "7/7 [==============================] - 0s 19ms/step - loss: 0.1398 - accuracy: 0.9750 - val_loss: 0.1447 - val_accuracy: 0.9767\n",
            "Epoch 9/16\n",
            "7/7 [==============================] - 0s 21ms/step - loss: 0.1210 - accuracy: 0.9800 - val_loss: 0.1303 - val_accuracy: 0.9848\n",
            "Epoch 10/16\n",
            "7/7 [==============================] - 0s 33ms/step - loss: 0.1079 - accuracy: 0.9800 - val_loss: 0.1203 - val_accuracy: 0.9858\n",
            "Epoch 11/16\n",
            "7/7 [==============================] - 0s 21ms/step - loss: 0.0983 - accuracy: 0.9850 - val_loss: 0.1116 - val_accuracy: 0.9858\n",
            "Epoch 12/16\n",
            "7/7 [==============================] - 0s 20ms/step - loss: 0.0898 - accuracy: 0.9800 - val_loss: 0.1046 - val_accuracy: 0.9888\n",
            "Epoch 13/16\n",
            "7/7 [==============================] - 0s 20ms/step - loss: 0.0830 - accuracy: 0.9900 - val_loss: 0.0984 - val_accuracy: 0.9909\n",
            "Epoch 14/16\n",
            "7/7 [==============================] - 0s 18ms/step - loss: 0.0771 - accuracy: 0.9850 - val_loss: 0.0929 - val_accuracy: 0.9909\n",
            "Epoch 15/16\n",
            "7/7 [==============================] - 0s 20ms/step - loss: 0.0715 - accuracy: 0.9900 - val_loss: 0.0879 - val_accuracy: 0.9909\n",
            "Epoch 16/16\n",
            "7/7 [==============================] - 0s 32ms/step - loss: 0.0671 - accuracy: 0.9950 - val_loss: 0.0836 - val_accuracy: 0.9909\n"
          ]
        }
      ]
    },
    {
      "cell_type": "code",
      "source": [
        "model_B.evaluate(X_test_B, y_test_B)"
      ],
      "metadata": {
        "colab": {
          "base_uri": "https://localhost:8080/"
        },
        "id": "4gAs2rD4qmbC",
        "outputId": "2ae5ff1a-8ead-49b1-8b92-c97c417d0ef2"
      },
      "execution_count": 45,
      "outputs": [
        {
          "output_type": "stream",
          "name": "stdout",
          "text": [
            "63/63 [==============================] - 0s 3ms/step - loss: 0.1149 - accuracy: 0.9775\n"
          ]
        },
        {
          "output_type": "execute_result",
          "data": {
            "text/plain": [
              "[0.11493173241615295, 0.9775000214576721]"
            ]
          },
          "metadata": {},
          "execution_count": 45
        }
      ]
    },
    {
      "cell_type": "code",
      "source": [
        "model_B_on_A.evaluate(X_test_B, y_test_B)"
      ],
      "metadata": {
        "colab": {
          "base_uri": "https://localhost:8080/"
        },
        "id": "GOEQLNxjqmc5",
        "outputId": "bf4d39b6-5ce6-4053-cc35-39b396524061"
      },
      "execution_count": 46,
      "outputs": [
        {
          "output_type": "stream",
          "name": "stdout",
          "text": [
            "63/63 [==============================] - 0s 3ms/step - loss: 0.0865 - accuracy: 0.9890\n"
          ]
        },
        {
          "output_type": "execute_result",
          "data": {
            "text/plain": [
              "[0.08647647500038147, 0.9890000224113464]"
            ]
          },
          "metadata": {},
          "execution_count": 46
        }
      ]
    },
    {
      "cell_type": "code",
      "source": [
        "(100 - 97.75) / (100 - 98.90)"
      ],
      "metadata": {
        "colab": {
          "base_uri": "https://localhost:8080/"
        },
        "id": "kZOP6HMEuubb",
        "outputId": "9107e409-4ffc-41b9-aacf-c2b94e24325d"
      },
      "execution_count": 47,
      "outputs": [
        {
          "output_type": "execute_result",
          "data": {
            "text/plain": [
              "2.045454545454556"
            ]
          },
          "metadata": {},
          "execution_count": 47
        }
      ]
    },
    {
      "cell_type": "code",
      "source": [],
      "metadata": {
        "id": "aDp8ZXFcu3h1"
      },
      "execution_count": null,
      "outputs": []
    }
  ]
}