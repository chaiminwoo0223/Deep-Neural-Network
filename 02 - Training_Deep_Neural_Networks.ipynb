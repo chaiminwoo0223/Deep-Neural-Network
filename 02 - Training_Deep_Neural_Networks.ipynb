{
  "nbformat": 4,
  "nbformat_minor": 0,
  "metadata": {
    "colab": {
      "provenance": [],
      "gpuType": "T4",
      "authorship_tag": "ABX9TyORhIj+E7ylE5nwPEJD4Mti",
      "include_colab_link": true
    },
    "kernelspec": {
      "name": "python3",
      "display_name": "Python 3"
    },
    "language_info": {
      "name": "python"
    },
    "accelerator": "GPU"
  },
  "cells": [
    {
      "cell_type": "markdown",
      "metadata": {
        "id": "view-in-github",
        "colab_type": "text"
      },
      "source": [
        "<a href=\"https://colab.research.google.com/github/chaiminwoo0223/Deep-Neural-Network/blob/main/02%20-%20Training_Deep_Neural_Networks.ipynb\" target=\"_parent\"><img src=\"https://colab.research.google.com/assets/colab-badge.svg\" alt=\"Open In Colab\"/></a>"
      ]
    },
    {
      "cell_type": "markdown",
      "source": [
        "# Import"
      ],
      "metadata": {
        "id": "5PeLu0M8Y683"
      }
    },
    {
      "cell_type": "code",
      "execution_count": 1,
      "metadata": {
        "id": "xfIw8mtwYyAo"
      },
      "outputs": [],
      "source": [
        "import numpy as np\n",
        "import pandas as pd\n",
        "import matplotlib.pyplot as plt\n",
        "import tensorflow as tf\n",
        "from tensorflow import keras\n",
        "\n",
        "%matplotlib inline"
      ]
    },
    {
      "cell_type": "markdown",
      "source": [
        "# 그레디언트 소실과 폭주\n",
        "## 1.글로럿과 He 초기화"
      ],
      "metadata": {
        "id": "uuq5bQaYZGSu"
      }
    },
    {
      "cell_type": "code",
      "source": [
        "[initializer for initializer in dir(keras.initializers) if not initializer.startswith(\"_\")]"
      ],
      "metadata": {
        "colab": {
          "base_uri": "https://localhost:8080/"
        },
        "id": "v37PI7qeaDi8",
        "outputId": "71e0407e-bc5d-4bdd-cbfe-1fdb72f833a2"
      },
      "execution_count": 2,
      "outputs": [
        {
          "output_type": "execute_result",
          "data": {
            "text/plain": [
              "['Constant',\n",
              " 'GlorotNormal',\n",
              " 'GlorotUniform',\n",
              " 'HeNormal',\n",
              " 'HeUniform',\n",
              " 'Identity',\n",
              " 'Initializer',\n",
              " 'LecunNormal',\n",
              " 'LecunUniform',\n",
              " 'Ones',\n",
              " 'Orthogonal',\n",
              " 'RandomNormal',\n",
              " 'RandomUniform',\n",
              " 'TruncatedNormal',\n",
              " 'VarianceScaling',\n",
              " 'Zeros',\n",
              " 'constant',\n",
              " 'deserialize',\n",
              " 'get',\n",
              " 'glorot_normal',\n",
              " 'glorot_uniform',\n",
              " 'he_normal',\n",
              " 'he_uniform',\n",
              " 'identity',\n",
              " 'lecun_normal',\n",
              " 'lecun_uniform',\n",
              " 'ones',\n",
              " 'orthogonal',\n",
              " 'random_normal',\n",
              " 'random_uniform',\n",
              " 'serialize',\n",
              " 'truncated_normal',\n",
              " 'variance_scaling',\n",
              " 'zeros']"
            ]
          },
          "metadata": {},
          "execution_count": 2
        }
      ]
    },
    {
      "cell_type": "code",
      "source": [
        "keras.layers.Dense(10, activation=\"relu\", kernel_initializer=\"he_normal\")"
      ],
      "metadata": {
        "colab": {
          "base_uri": "https://localhost:8080/"
        },
        "id": "9Y8GgLFEaDlE",
        "outputId": "4bf74ac1-bbaa-4d7c-9d3b-8cc31bc39722"
      },
      "execution_count": 3,
      "outputs": [
        {
          "output_type": "execute_result",
          "data": {
            "text/plain": [
              "<keras.src.layers.core.dense.Dense at 0x78b719e6c5e0>"
            ]
          },
          "metadata": {},
          "execution_count": 3
        }
      ]
    },
    {
      "cell_type": "code",
      "source": [
        "init = keras.initializers.VarianceScaling(scale=2., mode=\"fan_avg\", distribution=\"uniform\")\n",
        "keras.layers.Dense(10, activation=\"relu\", kernel_initializer=init)"
      ],
      "metadata": {
        "colab": {
          "base_uri": "https://localhost:8080/"
        },
        "id": "0ZwcCW95aDnP",
        "outputId": "cfafe2c5-7da5-4d4e-d656-4a1ff57edde5"
      },
      "execution_count": 4,
      "outputs": [
        {
          "output_type": "execute_result",
          "data": {
            "text/plain": [
              "<keras.src.layers.core.dense.Dense at 0x78b6980ce470>"
            ]
          },
          "metadata": {},
          "execution_count": 4
        }
      ]
    },
    {
      "cell_type": "markdown",
      "source": [
        "## 2.수렴하지 않는 활성화 함수"
      ],
      "metadata": {
        "id": "lexfKL1lZ3Zt"
      }
    },
    {
      "cell_type": "code",
      "source": [
        "(X_train_full, y_train_full), (X_test, y_test) = keras.datasets.fashion_mnist.load_data()\n",
        "X_train_full = X_train_full / 255.0\n",
        "X_test = X_test / 255.0\n",
        "X_valid, X_train = X_train_full[:5000], X_train_full[5000:]\n",
        "y_valid, y_train = y_train_full[:5000], y_train_full[5000:]"
      ],
      "metadata": {
        "id": "Bw-FnNPuecEy"
      },
      "execution_count": 5,
      "outputs": []
    },
    {
      "cell_type": "code",
      "source": [
        "z = np.linspace(-5, 5, 200)\n",
        "z"
      ],
      "metadata": {
        "colab": {
          "base_uri": "https://localhost:8080/"
        },
        "id": "_MBEUr8mbpjm",
        "outputId": "87d84a75-020e-4c24-f675-f3f5e010dc2c"
      },
      "execution_count": 6,
      "outputs": [
        {
          "output_type": "execute_result",
          "data": {
            "text/plain": [
              "array([-5.        , -4.94974874, -4.89949749, -4.84924623, -4.79899497,\n",
              "       -4.74874372, -4.69849246, -4.64824121, -4.59798995, -4.54773869,\n",
              "       -4.49748744, -4.44723618, -4.39698492, -4.34673367, -4.29648241,\n",
              "       -4.24623116, -4.1959799 , -4.14572864, -4.09547739, -4.04522613,\n",
              "       -3.99497487, -3.94472362, -3.89447236, -3.84422111, -3.79396985,\n",
              "       -3.74371859, -3.69346734, -3.64321608, -3.59296482, -3.54271357,\n",
              "       -3.49246231, -3.44221106, -3.3919598 , -3.34170854, -3.29145729,\n",
              "       -3.24120603, -3.19095477, -3.14070352, -3.09045226, -3.04020101,\n",
              "       -2.98994975, -2.93969849, -2.88944724, -2.83919598, -2.78894472,\n",
              "       -2.73869347, -2.68844221, -2.63819095, -2.5879397 , -2.53768844,\n",
              "       -2.48743719, -2.43718593, -2.38693467, -2.33668342, -2.28643216,\n",
              "       -2.2361809 , -2.18592965, -2.13567839, -2.08542714, -2.03517588,\n",
              "       -1.98492462, -1.93467337, -1.88442211, -1.83417085, -1.7839196 ,\n",
              "       -1.73366834, -1.68341709, -1.63316583, -1.58291457, -1.53266332,\n",
              "       -1.48241206, -1.4321608 , -1.38190955, -1.33165829, -1.28140704,\n",
              "       -1.23115578, -1.18090452, -1.13065327, -1.08040201, -1.03015075,\n",
              "       -0.9798995 , -0.92964824, -0.87939698, -0.82914573, -0.77889447,\n",
              "       -0.72864322, -0.67839196, -0.6281407 , -0.57788945, -0.52763819,\n",
              "       -0.47738693, -0.42713568, -0.37688442, -0.32663317, -0.27638191,\n",
              "       -0.22613065, -0.1758794 , -0.12562814, -0.07537688, -0.02512563,\n",
              "        0.02512563,  0.07537688,  0.12562814,  0.1758794 ,  0.22613065,\n",
              "        0.27638191,  0.32663317,  0.37688442,  0.42713568,  0.47738693,\n",
              "        0.52763819,  0.57788945,  0.6281407 ,  0.67839196,  0.72864322,\n",
              "        0.77889447,  0.82914573,  0.87939698,  0.92964824,  0.9798995 ,\n",
              "        1.03015075,  1.08040201,  1.13065327,  1.18090452,  1.23115578,\n",
              "        1.28140704,  1.33165829,  1.38190955,  1.4321608 ,  1.48241206,\n",
              "        1.53266332,  1.58291457,  1.63316583,  1.68341709,  1.73366834,\n",
              "        1.7839196 ,  1.83417085,  1.88442211,  1.93467337,  1.98492462,\n",
              "        2.03517588,  2.08542714,  2.13567839,  2.18592965,  2.2361809 ,\n",
              "        2.28643216,  2.33668342,  2.38693467,  2.43718593,  2.48743719,\n",
              "        2.53768844,  2.5879397 ,  2.63819095,  2.68844221,  2.73869347,\n",
              "        2.78894472,  2.83919598,  2.88944724,  2.93969849,  2.98994975,\n",
              "        3.04020101,  3.09045226,  3.14070352,  3.19095477,  3.24120603,\n",
              "        3.29145729,  3.34170854,  3.3919598 ,  3.44221106,  3.49246231,\n",
              "        3.54271357,  3.59296482,  3.64321608,  3.69346734,  3.74371859,\n",
              "        3.79396985,  3.84422111,  3.89447236,  3.94472362,  3.99497487,\n",
              "        4.04522613,  4.09547739,  4.14572864,  4.1959799 ,  4.24623116,\n",
              "        4.29648241,  4.34673367,  4.39698492,  4.44723618,  4.49748744,\n",
              "        4.54773869,  4.59798995,  4.64824121,  4.69849246,  4.74874372,\n",
              "        4.79899497,  4.84924623,  4.89949749,  4.94974874,  5.        ])"
            ]
          },
          "metadata": {},
          "execution_count": 6
        }
      ]
    },
    {
      "cell_type": "code",
      "source": [
        "# 로지스틱 시그모이드 함수\n",
        "def logit(z):\n",
        "    return 1 / (1 + np.exp(-z))\n",
        "\n",
        "plt.plot(z, logit(z), \"b-\", linewidth=2)\n",
        "plt.plot([-5, 5], [0, 0], 'k--')\n",
        "plt.plot([-5, 5], [1, 1], 'k--')\n",
        "plt.grid(True)\n",
        "props = dict(facecolor='black', shrink=0.1)\n",
        "plt.title(\"Sigmoid activation function\", fontsize=14)\n",
        "plt.axis([-5, 5, -0.2, 1.2])\n",
        "plt.show()"
      ],
      "metadata": {
        "colab": {
          "base_uri": "https://localhost:8080/",
          "height": 453
        },
        "id": "irrjeWWAY_PV",
        "outputId": "79df6468-2c4b-494b-adbf-3e13b8f54dca"
      },
      "execution_count": 7,
      "outputs": [
        {
          "output_type": "display_data",
          "data": {
            "text/plain": [
              "<Figure size 640x480 with 1 Axes>"
            ],
            "image/png": "[encoded data removed]"
          },
          "metadata": {}
        }
      ]
    },
    {
      "cell_type": "code",
      "source": [
        "keras.backend.clear_session()\n",
        "tf.random.set_seed(42)\n",
        "np.random.seed(42)\n",
        "\n",
        "model = keras.models.Sequential([\n",
        "    keras.layers.Flatten(input_shape=[28, 28]),\n",
        "    keras.layers.Dense(300, activation=\"sigmoid\",\n",
        "                       kernel_initializer=tf.keras.initializers.RandomNormal(0.0, 1.0)),\n",
        "    keras.layers.Dense(100, activation=\"sigmoid\",\n",
        "                       kernel_initializer=tf.keras.initializers.RandomNormal(0.0, 1.0)),\n",
        "    keras.layers.Dense(10, activation=\"softmax\")\n",
        "])\n",
        "model.summary()"
      ],
      "metadata": {
        "colab": {
          "base_uri": "https://localhost:8080/"
        },
        "id": "QJtScu_Xc20g",
        "outputId": "3f12146a-f557-48c6-a763-feb0a8398ca8"
      },
      "execution_count": 8,
      "outputs": [
        {
          "output_type": "stream",
          "name": "stdout",
          "text": [
            "Model: \"sequential\"\n",
            "_________________________________________________________________\n",
            " Layer (type)                Output Shape              Param #   \n",
            "=================================================================\n",
            " flatten (Flatten)           (None, 784)               0         \n",
            "                                                                 \n",
            " dense (Dense)               (None, 300)               235500    \n",
            "                                                                 \n",
            " dense_1 (Dense)             (None, 100)               30100     \n",
            "                                                                 \n",
            " dense_2 (Dense)             (None, 10)                1010      \n",
            "                                                                 \n",
            "=================================================================\n",
            "Total params: 266610 (1.02 MB)\n",
            "Trainable params: 266610 (1.02 MB)\n",
            "Non-trainable params: 0 (0.00 Byte)\n",
            "_________________________________________________________________\n"
          ]
        }
      ]
    },
    {
      "cell_type": "code",
      "source": [
        "model.compile(loss=\"sparse_categorical_crossentropy\",\n",
        "              optimizer=keras.optimizers.SGD(learning_rate=1e-3),\n",
        "              metrics=[\"accuracy\"])\n",
        "history = model.fit(X_train, y_train, epochs=10, validation_data=(X_valid, y_valid))"
      ],
      "metadata": {
        "colab": {
          "base_uri": "https://localhost:8080/"
        },
        "id": "kZc0SQ0Qm33f",
        "outputId": "76a6ff37-68e5-47f8-c49c-21ce0a65d456"
      },
      "execution_count": 9,
      "outputs": [
        {
          "output_type": "stream",
          "name": "stdout",
          "text": [
            "Epoch 1/10\n",
            "1719/1719 [==============================] - 14s 7ms/step - loss: 2.2343 - accuracy: 0.1647 - val_loss: 2.0819 - val_accuracy: 0.2594\n",
            "Epoch 2/10\n",
            "1719/1719 [==============================] - 16s 9ms/step - loss: 1.9642 - accuracy: 0.3480 - val_loss: 1.8565 - val_accuracy: 0.4148\n",
            "Epoch 3/10\n",
            "1719/1719 [==============================] - 16s 9ms/step - loss: 1.7686 - accuracy: 0.4585 - val_loss: 1.6817 - val_accuracy: 0.4918\n",
            "Epoch 4/10\n",
            "1719/1719 [==============================] - 12s 7ms/step - loss: 1.6142 - accuracy: 0.5219 - val_loss: 1.5416 - val_accuracy: 0.5418\n",
            "Epoch 5/10\n",
            "1719/1719 [==============================] - 8s 4ms/step - loss: 1.4902 - accuracy: 0.5612 - val_loss: 1.4304 - val_accuracy: 0.5858\n",
            "Epoch 6/10\n",
            "1719/1719 [==============================] - 6s 4ms/step - loss: 1.3894 - accuracy: 0.5907 - val_loss: 1.3379 - val_accuracy: 0.6104\n",
            "Epoch 7/10\n",
            "1719/1719 [==============================] - 7s 4ms/step - loss: 1.3065 - accuracy: 0.6127 - val_loss: 1.2623 - val_accuracy: 0.6304\n",
            "Epoch 8/10\n",
            "1719/1719 [==============================] - 6s 4ms/step - loss: 1.2378 - accuracy: 0.6307 - val_loss: 1.1994 - val_accuracy: 0.6456\n",
            "Epoch 9/10\n",
            "1719/1719 [==============================] - 7s 4ms/step - loss: 1.1802 - accuracy: 0.6457 - val_loss: 1.1457 - val_accuracy: 0.6606\n",
            "Epoch 10/10\n",
            "1719/1719 [==============================] - 7s 4ms/step - loss: 1.1313 - accuracy: 0.6563 - val_loss: 1.1006 - val_accuracy: 0.6724\n"
          ]
        }
      ]
    },
    {
      "cell_type": "code",
      "source": [
        "# ReLU\n",
        "def relu(z):\n",
        "    return np.maximum(0, z)\n",
        "\n",
        "plt.plot(z, relu(z), \"b-\", linewidth=2)\n",
        "plt.plot([-5, 5], [0, 0], 'k-')\n",
        "plt.plot([0, 0], [-0.5, 4.2], 'k-')\n",
        "plt.grid(True)\n",
        "props = dict(facecolor='black', shrink=0.1)\n",
        "plt.title(\"ReLU activation function\", fontsize=14)\n",
        "plt.axis([-5, 5, -0.5, 4.2])\n",
        "plt.show()"
      ],
      "metadata": {
        "colab": {
          "base_uri": "https://localhost:8080/",
          "height": 453
        },
        "id": "18gUgP1DZmQl",
        "outputId": "4123c4d1-cdca-4c21-f64c-fc7ac0fe8665"
      },
      "execution_count": 10,
      "outputs": [
        {
          "output_type": "display_data",
          "data": {
            "text/plain": [
              "<Figure size 640x480 with 1 Axes>"
            ],
            "image/png": "[encoded data removed]"
          },
          "metadata": {}
        }
      ]
    },
    {
      "cell_type": "code",
      "source": [
        "keras.backend.clear_session()\n",
        "tf.random.set_seed(42)\n",
        "np.random.seed(42)\n",
        "\n",
        "model = keras.models.Sequential([\n",
        "    keras.layers.Flatten(input_shape=[28, 28]),\n",
        "    keras.layers.Dense(300, kernel_initializer=\"he_normal\"),\n",
        "    keras.layers.ReLU(),\n",
        "    keras.layers.Dense(100, kernel_initializer=\"he_normal\"),\n",
        "    keras.layers.ReLU(),\n",
        "    keras.layers.Dense(10, activation=\"softmax\")\n",
        "])\n",
        "model.summary()"
      ],
      "metadata": {
        "colab": {
          "base_uri": "https://localhost:8080/"
        },
        "id": "KyUcbVfLcwZ2",
        "outputId": "42934225-c1ff-41d3-e8a5-849ac23b78a5"
      },
      "execution_count": 11,
      "outputs": [
        {
          "output_type": "stream",
          "name": "stdout",
          "text": [
            "Model: \"sequential\"\n",
            "_________________________________________________________________\n",
            " Layer (type)                Output Shape              Param #   \n",
            "=================================================================\n",
            " flatten (Flatten)           (None, 784)               0         \n",
            "                                                                 \n",
            " dense (Dense)               (None, 300)               235500    \n",
            "                                                                 \n",
            " re_lu (ReLU)                (None, 300)               0         \n",
            "                                                                 \n",
            " dense_1 (Dense)             (None, 100)               30100     \n",
            "                                                                 \n",
            " re_lu_1 (ReLU)              (None, 100)               0         \n",
            "                                                                 \n",
            " dense_2 (Dense)             (None, 10)                1010      \n",
            "                                                                 \n",
            "=================================================================\n",
            "Total params: 266610 (1.02 MB)\n",
            "Trainable params: 266610 (1.02 MB)\n",
            "Non-trainable params: 0 (0.00 Byte)\n",
            "_________________________________________________________________\n"
          ]
        }
      ]
    },
    {
      "cell_type": "code",
      "source": [
        "model.compile(loss=\"sparse_categorical_crossentropy\",\n",
        "              optimizer=keras.optimizers.SGD(learning_rate=1e-3),\n",
        "              metrics=[\"accuracy\"])\n",
        "history = model.fit(X_train, y_train, epochs=10, validation_data=(X_valid, y_valid))"
      ],
      "metadata": {
        "colab": {
          "base_uri": "https://localhost:8080/"
        },
        "id": "n7xme0R6m8cM",
        "outputId": "4966a29f-b451-4261-eac2-92900da44744"
      },
      "execution_count": 12,
      "outputs": [
        {
          "output_type": "stream",
          "name": "stdout",
          "text": [
            "Epoch 1/10\n",
            "1719/1719 [==============================] - 8s 4ms/step - loss: 1.2962 - accuracy: 0.6076 - val_loss: 0.8870 - val_accuracy: 0.7108\n",
            "Epoch 2/10\n",
            "1719/1719 [==============================] - 8s 5ms/step - loss: 0.7998 - accuracy: 0.7378 - val_loss: 0.7139 - val_accuracy: 0.7644\n",
            "Epoch 3/10\n",
            "1719/1719 [==============================] - 7s 4ms/step - loss: 0.6854 - accuracy: 0.7729 - val_loss: 0.6454 - val_accuracy: 0.7862\n",
            "Epoch 4/10\n",
            "1719/1719 [==============================] - 8s 4ms/step - loss: 0.6255 - accuracy: 0.7921 - val_loss: 0.5919 - val_accuracy: 0.8082\n",
            "Epoch 5/10\n",
            "1719/1719 [==============================] - 7s 4ms/step - loss: 0.5866 - accuracy: 0.8045 - val_loss: 0.5591 - val_accuracy: 0.8184\n",
            "Epoch 6/10\n",
            "1719/1719 [==============================] - 8s 4ms/step - loss: 0.5582 - accuracy: 0.8123 - val_loss: 0.5358 - val_accuracy: 0.8234\n",
            "Epoch 7/10\n",
            "1719/1719 [==============================] - 6s 4ms/step - loss: 0.5364 - accuracy: 0.8190 - val_loss: 0.5153 - val_accuracy: 0.8310\n",
            "Epoch 8/10\n",
            "1719/1719 [==============================] - 7s 4ms/step - loss: 0.5192 - accuracy: 0.8242 - val_loss: 0.5077 - val_accuracy: 0.8308\n",
            "Epoch 9/10\n",
            "1719/1719 [==============================] - 6s 4ms/step - loss: 0.5052 - accuracy: 0.8279 - val_loss: 0.4891 - val_accuracy: 0.8356\n",
            "Epoch 10/10\n",
            "1719/1719 [==============================] - 7s 4ms/step - loss: 0.4930 - accuracy: 0.8315 - val_loss: 0.4806 - val_accuracy: 0.8382\n"
          ]
        }
      ]
    },
    {
      "cell_type": "code",
      "source": [
        "# Leaky ReLU\n",
        "def leaky_relu(z, alpha=0.01):\n",
        "    return np.maximum(alpha*z, z)\n",
        "\n",
        "plt.plot(z, leaky_relu(z, 0.05), \"b-\", linewidth=2)\n",
        "plt.plot([-5, 5], [0, 0], 'k-')\n",
        "plt.plot([0, 0], [-0.5, 4.2], 'k-')\n",
        "plt.grid(True)\n",
        "props = dict(facecolor='black', shrink=0.1)\n",
        "plt.annotate('Leak', xytext=(-3.5, 0.5), xy=(-5, -0.2), arrowprops=props, fontsize=14, ha=\"center\")\n",
        "plt.title(\"Leaky ReLU activation function\", fontsize=14)\n",
        "plt.axis([-5, 5, -0.5, 4.2])\n",
        "plt.show()"
      ],
      "metadata": {
        "colab": {
          "base_uri": "https://localhost:8080/",
          "height": 0
        },
        "id": "oDziBehcf9L-",
        "outputId": "e5a971ba-6423-4d57-a3bf-ab155565437b"
      },
      "execution_count": 13,
      "outputs": [
        {
          "output_type": "display_data",
          "data": {
            "text/plain": [
              "<Figure size 640x480 with 1 Axes>"
            ],
            "image/png": "[encoded data removed]"
          },
          "metadata": {}
        }
      ]
    },
    {
      "cell_type": "code",
      "source": [
        "keras.backend.clear_session()\n",
        "tf.random.set_seed(42)\n",
        "np.random.seed(42)\n",
        "\n",
        "model = keras.models.Sequential([\n",
        "    keras.layers.Flatten(input_shape=[28, 28]),\n",
        "    keras.layers.Dense(300, kernel_initializer=\"he_normal\"),\n",
        "    keras.layers.LeakyReLU(0.01),\n",
        "    keras.layers.Dense(100, kernel_initializer=\"he_normal\"),\n",
        "    keras.layers.LeakyReLU(0.01),\n",
        "    keras.layers.Dense(10, activation=\"softmax\")\n",
        "])\n",
        "model.summary()"
      ],
      "metadata": {
        "colab": {
          "base_uri": "https://localhost:8080/"
        },
        "id": "gF6m96LSgFDL",
        "outputId": "9af4b91e-be90-4bb7-9d7e-f2d8ff26cae9"
      },
      "execution_count": 14,
      "outputs": [
        {
          "output_type": "stream",
          "name": "stdout",
          "text": [
            "Model: \"sequential\"\n",
            "_________________________________________________________________\n",
            " Layer (type)                Output Shape              Param #   \n",
            "=================================================================\n",
            " flatten (Flatten)           (None, 784)               0         \n",
            "                                                                 \n",
            " dense (Dense)               (None, 300)               235500    \n",
            "                                                                 \n",
            " leaky_re_lu (LeakyReLU)     (None, 300)               0         \n",
            "                                                                 \n",
            " dense_1 (Dense)             (None, 100)               30100     \n",
            "                                                                 \n",
            " leaky_re_lu_1 (LeakyReLU)   (None, 100)               0         \n",
            "                                                                 \n",
            " dense_2 (Dense)             (None, 10)                1010      \n",
            "                                                                 \n",
            "=================================================================\n",
            "Total params: 266610 (1.02 MB)\n",
            "Trainable params: 266610 (1.02 MB)\n",
            "Non-trainable params: 0 (0.00 Byte)\n",
            "_________________________________________________________________\n"
          ]
        }
      ]
    },
    {
      "cell_type": "code",
      "source": [
        "model.compile(loss=\"sparse_categorical_crossentropy\",\n",
        "              optimizer=keras.optimizers.SGD(learning_rate=1e-3),\n",
        "              metrics=[\"accuracy\"])\n",
        "history = model.fit(X_train, y_train, epochs=10, validation_data=(X_valid, y_valid))"
      ],
      "metadata": {
        "colab": {
          "base_uri": "https://localhost:8080/"
        },
        "id": "cpdZbo9hnFZu",
        "outputId": "d9c1cb09-3943-4a53-de7f-e38590c2812b"
      },
      "execution_count": 15,
      "outputs": [
        {
          "output_type": "stream",
          "name": "stdout",
          "text": [
            "Epoch 1/10\n",
            "1719/1719 [==============================] - 7s 4ms/step - loss: 1.3510 - accuracy: 0.5998 - val_loss: 0.9142 - val_accuracy: 0.7092\n",
            "Epoch 2/10\n",
            "1719/1719 [==============================] - 7s 4ms/step - loss: 0.8105 - accuracy: 0.7397 - val_loss: 0.7206 - val_accuracy: 0.7670\n",
            "Epoch 3/10\n",
            "1719/1719 [==============================] - 7s 4ms/step - loss: 0.6870 - accuracy: 0.7775 - val_loss: 0.6499 - val_accuracy: 0.7866\n",
            "Epoch 4/10\n",
            "1719/1719 [==============================] - 6s 4ms/step - loss: 0.6252 - accuracy: 0.7964 - val_loss: 0.5946 - val_accuracy: 0.8024\n",
            "Epoch 5/10\n",
            "1719/1719 [==============================] - 7s 4ms/step - loss: 0.5859 - accuracy: 0.8077 - val_loss: 0.5615 - val_accuracy: 0.8154\n",
            "Epoch 6/10\n",
            "1719/1719 [==============================] - 6s 4ms/step - loss: 0.5574 - accuracy: 0.8145 - val_loss: 0.5373 - val_accuracy: 0.8212\n",
            "Epoch 7/10\n",
            "1719/1719 [==============================] - 7s 4ms/step - loss: 0.5356 - accuracy: 0.8195 - val_loss: 0.5177 - val_accuracy: 0.8294\n",
            "Epoch 8/10\n",
            "1719/1719 [==============================] - 6s 3ms/step - loss: 0.5188 - accuracy: 0.8239 - val_loss: 0.5094 - val_accuracy: 0.8306\n",
            "Epoch 9/10\n",
            "1719/1719 [==============================] - 7s 4ms/step - loss: 0.5052 - accuracy: 0.8278 - val_loss: 0.4919 - val_accuracy: 0.8376\n",
            "Epoch 10/10\n",
            "1719/1719 [==============================] - 6s 4ms/step - loss: 0.4934 - accuracy: 0.8306 - val_loss: 0.4835 - val_accuracy: 0.8380\n"
          ]
        }
      ]
    },
    {
      "cell_type": "code",
      "source": [
        "keras.backend.clear_session()\n",
        "tf.random.set_seed(42)\n",
        "np.random.seed(42)\n",
        "\n",
        "model = keras.models.Sequential([\n",
        "    keras.layers.Flatten(input_shape=[28, 28]),\n",
        "    keras.layers.Dense(300, kernel_initializer='he_normal'),\n",
        "    keras.layers.PReLU(),\n",
        "    keras.layers.Dense(100, kernel_initializer='he_normal'),\n",
        "    keras.layers.PReLU(),\n",
        "    keras.layers.Dense(10, activation='softmax')\n",
        "])\n",
        "model.summary()"
      ],
      "metadata": {
        "colab": {
          "base_uri": "https://localhost:8080/"
        },
        "id": "lVwP1Ckzgh_J",
        "outputId": "c589ac74-8c4d-435c-8c3d-eeca80de5d37"
      },
      "execution_count": 16,
      "outputs": [
        {
          "output_type": "stream",
          "name": "stdout",
          "text": [
            "Model: \"sequential\"\n",
            "_________________________________________________________________\n",
            " Layer (type)                Output Shape              Param #   \n",
            "=================================================================\n",
            " flatten (Flatten)           (None, 784)               0         \n",
            "                                                                 \n",
            " dense (Dense)               (None, 300)               235500    \n",
            "                                                                 \n",
            " p_re_lu (PReLU)             (None, 300)               300       \n",
            "                                                                 \n",
            " dense_1 (Dense)             (None, 100)               30100     \n",
            "                                                                 \n",
            " p_re_lu_1 (PReLU)           (None, 100)               100       \n",
            "                                                                 \n",
            " dense_2 (Dense)             (None, 10)                1010      \n",
            "                                                                 \n",
            "=================================================================\n",
            "Total params: 267010 (1.02 MB)\n",
            "Trainable params: 267010 (1.02 MB)\n",
            "Non-trainable params: 0 (0.00 Byte)\n",
            "_________________________________________________________________\n"
          ]
        }
      ]
    },
    {
      "cell_type": "code",
      "source": [
        "model.compile(loss=\"sparse_categorical_crossentropy\",\n",
        "              optimizer=keras.optimizers.SGD(learning_rate=1e-3),\n",
        "              metrics=[\"accuracy\"])\n",
        "history = model.fit(X_train, y_train, epochs=10, validation_data=(X_valid, y_valid))"
      ],
      "metadata": {
        "colab": {
          "base_uri": "https://localhost:8080/"
        },
        "id": "ugqptyACnIg5",
        "outputId": "3e185fb3-6b76-488f-c02b-4d8b492da74d"
      },
      "execution_count": 17,
      "outputs": [
        {
          "output_type": "stream",
          "name": "stdout",
          "text": [
            "Epoch 1/10\n",
            "1719/1719 [==============================] - 8s 4ms/step - loss: 1.4142 - accuracy: 0.5987 - val_loss: 0.9379 - val_accuracy: 0.7298\n",
            "Epoch 2/10\n",
            "1719/1719 [==============================] - 8s 5ms/step - loss: 0.8288 - accuracy: 0.7481 - val_loss: 0.7270 - val_accuracy: 0.7770\n",
            "Epoch 3/10\n",
            "1719/1719 [==============================] - 7s 4ms/step - loss: 0.6944 - accuracy: 0.7793 - val_loss: 0.6505 - val_accuracy: 0.7944\n",
            "Epoch 4/10\n",
            "1719/1719 [==============================] - 8s 5ms/step - loss: 0.6288 - accuracy: 0.7959 - val_loss: 0.5934 - val_accuracy: 0.8102\n",
            "Epoch 5/10\n",
            "1719/1719 [==============================] - 7s 4ms/step - loss: 0.5878 - accuracy: 0.8069 - val_loss: 0.5583 - val_accuracy: 0.8192\n",
            "Epoch 6/10\n",
            "1719/1719 [==============================] - 8s 5ms/step - loss: 0.5588 - accuracy: 0.8131 - val_loss: 0.5347 - val_accuracy: 0.8250\n",
            "Epoch 7/10\n",
            "1719/1719 [==============================] - 7s 4ms/step - loss: 0.5370 - accuracy: 0.8188 - val_loss: 0.5149 - val_accuracy: 0.8306\n",
            "Epoch 8/10\n",
            "1719/1719 [==============================] - 8s 5ms/step - loss: 0.5202 - accuracy: 0.8235 - val_loss: 0.5067 - val_accuracy: 0.8298\n",
            "Epoch 9/10\n",
            "1719/1719 [==============================] - 7s 4ms/step - loss: 0.5064 - accuracy: 0.8267 - val_loss: 0.4893 - val_accuracy: 0.8372\n",
            "Epoch 10/10\n",
            "1719/1719 [==============================] - 8s 5ms/step - loss: 0.4943 - accuracy: 0.8311 - val_loss: 0.4801 - val_accuracy: 0.8402\n"
          ]
        }
      ]
    },
    {
      "cell_type": "code",
      "source": [
        "# ELU\n",
        "def elu(z, alpha=1):\n",
        "    return np.where(z < 0, alpha * (np.exp(z) - 1), z)\n",
        "\n",
        "plt.plot(z, elu(z), \"b-\", linewidth=2)\n",
        "plt.plot([-5, 5], [0, 0], 'k-')\n",
        "plt.plot([-5, 5], [-1, -1], 'k--')\n",
        "plt.plot([0, 0], [-2.2, 3.2], 'k-')\n",
        "plt.grid(True)\n",
        "plt.title(r\"ELU activation function ($\\alpha=1$)\", fontsize=14)\n",
        "plt.axis([-5, 5, -2.2, 3.2])\n",
        "plt.show()"
      ],
      "metadata": {
        "colab": {
          "base_uri": "https://localhost:8080/",
          "height": 0
        },
        "id": "UuvrwVZgg1ZW",
        "outputId": "e6c22fba-6fd7-4d53-9863-8ab03b7b05ac"
      },
      "execution_count": 18,
      "outputs": [
        {
          "output_type": "display_data",
          "data": {
            "text/plain": [
              "<Figure size 640x480 with 1 Axes>"
            ],
            "image/png": "[encoded data removed]"
          },
          "metadata": {}
        }
      ]
    },
    {
      "cell_type": "code",
      "source": [
        "keras.backend.clear_session()\n",
        "tf.random.set_seed(42)\n",
        "np.random.seed(42)\n",
        "\n",
        "model = keras.models.Sequential([\n",
        "    keras.layers.Flatten(input_shape=[28, 28]),\n",
        "    keras.layers.Dense(300, activation=\"elu\", kernel_initializer=\"he_normal\"),\n",
        "    keras.layers.Dense(100, activation=\"elu\", kernel_initializer=\"he_normal\"),\n",
        "    keras.layers.Dense(10, activation=\"softmax\")\n",
        "])\n",
        "model.summary()"
      ],
      "metadata": {
        "colab": {
          "base_uri": "https://localhost:8080/"
        },
        "id": "K5e4c_Uah007",
        "outputId": "df7569cf-47ad-4025-b9ab-dd32d2ffc1a6"
      },
      "execution_count": 19,
      "outputs": [
        {
          "output_type": "stream",
          "name": "stdout",
          "text": [
            "Model: \"sequential\"\n",
            "_________________________________________________________________\n",
            " Layer (type)                Output Shape              Param #   \n",
            "=================================================================\n",
            " flatten (Flatten)           (None, 784)               0         \n",
            "                                                                 \n",
            " dense (Dense)               (None, 300)               235500    \n",
            "                                                                 \n",
            " dense_1 (Dense)             (None, 100)               30100     \n",
            "                                                                 \n",
            " dense_2 (Dense)             (None, 10)                1010      \n",
            "                                                                 \n",
            "=================================================================\n",
            "Total params: 266610 (1.02 MB)\n",
            "Trainable params: 266610 (1.02 MB)\n",
            "Non-trainable params: 0 (0.00 Byte)\n",
            "_________________________________________________________________\n"
          ]
        }
      ]
    },
    {
      "cell_type": "code",
      "source": [
        "model.compile(loss=\"sparse_categorical_crossentropy\",\n",
        "              optimizer=keras.optimizers.SGD(learning_rate=1e-3),\n",
        "              metrics=[\"accuracy\"])\n",
        "history = model.fit(X_train, y_train, epochs=10, validation_data=(X_valid, y_valid))"
      ],
      "metadata": {
        "colab": {
          "base_uri": "https://localhost:8080/"
        },
        "id": "gfizqN7emvQb",
        "outputId": "bff3db67-7382-441c-ddc8-b628b0237b51"
      },
      "execution_count": 20,
      "outputs": [
        {
          "output_type": "stream",
          "name": "stdout",
          "text": [
            "Epoch 1/10\n",
            "1719/1719 [==============================] - 7s 4ms/step - loss: 1.1511 - accuracy: 0.6438 - val_loss: 0.7832 - val_accuracy: 0.7536\n",
            "Epoch 2/10\n",
            "1719/1719 [==============================] - 8s 5ms/step - loss: 0.7224 - accuracy: 0.7656 - val_loss: 0.6479 - val_accuracy: 0.7954\n",
            "Epoch 3/10\n",
            "1719/1719 [==============================] - 8s 5ms/step - loss: 0.6307 - accuracy: 0.7916 - val_loss: 0.5935 - val_accuracy: 0.8082\n",
            "Epoch 4/10\n",
            "1719/1719 [==============================] - 6s 4ms/step - loss: 0.5827 - accuracy: 0.8050 - val_loss: 0.5502 - val_accuracy: 0.8184\n",
            "Epoch 5/10\n",
            "1719/1719 [==============================] - 7s 4ms/step - loss: 0.5521 - accuracy: 0.8136 - val_loss: 0.5267 - val_accuracy: 0.8284\n",
            "Epoch 6/10\n",
            "1719/1719 [==============================] - 6s 4ms/step - loss: 0.5301 - accuracy: 0.8194 - val_loss: 0.5083 - val_accuracy: 0.8306\n",
            "Epoch 7/10\n",
            "1719/1719 [==============================] - 7s 4ms/step - loss: 0.5132 - accuracy: 0.8237 - val_loss: 0.4933 - val_accuracy: 0.8382\n",
            "Epoch 8/10\n",
            "1719/1719 [==============================] - 6s 4ms/step - loss: 0.5000 - accuracy: 0.8278 - val_loss: 0.4858 - val_accuracy: 0.8368\n",
            "Epoch 9/10\n",
            "1719/1719 [==============================] - 7s 4ms/step - loss: 0.4893 - accuracy: 0.8305 - val_loss: 0.4725 - val_accuracy: 0.8442\n",
            "Epoch 10/10\n",
            "1719/1719 [==============================] - 6s 4ms/step - loss: 0.4799 - accuracy: 0.8340 - val_loss: 0.4660 - val_accuracy: 0.8450\n"
          ]
        }
      ]
    },
    {
      "cell_type": "code",
      "source": [
        "# SELU\n",
        "from scipy.special import erfc\n",
        "\n",
        "alpha_0_1 = -np.sqrt(2 / np.pi) / (erfc(1/np.sqrt(2)) * np.exp(1/2) - 1)\n",
        "scale_0_1 = (1 - erfc(1 / np.sqrt(2)) * np.sqrt(np.e)) * np.sqrt(2 * np.pi) * (2 * erfc(np.sqrt(2))*np.e**2 + np.pi*erfc(1/np.sqrt(2))**2*np.e - 2*(2+np.pi)*erfc(1/np.sqrt(2))*np.sqrt(np.e)+np.pi+2)**(-1/2)"
      ],
      "metadata": {
        "id": "izHu-nbhiQMm"
      },
      "execution_count": 21,
      "outputs": []
    },
    {
      "cell_type": "code",
      "source": [
        "def selu(z, scale=scale_0_1, alpha=alpha_0_1):\n",
        "    return scale * elu(z, alpha)\n",
        "\n",
        "plt.plot(z, selu(z), \"b-\", linewidth=2)\n",
        "plt.plot([-5, 5], [0, 0], 'k-')\n",
        "plt.plot([-5, 5], [-1.758, -1.758], 'k--')\n",
        "plt.plot([0, 0], [-2.2, 3.2], 'k-')\n",
        "plt.grid(True)\n",
        "plt.title(\"SELU activation function\", fontsize=14)\n",
        "plt.axis([-5, 5, -2.2, 3.2])\n",
        "plt.show()"
      ],
      "metadata": {
        "colab": {
          "base_uri": "https://localhost:8080/",
          "height": 0
        },
        "id": "ZZXCQaSai4RG",
        "outputId": "752ea832-5eae-4b84-d253-8ee835581b0a"
      },
      "execution_count": 22,
      "outputs": [
        {
          "output_type": "display_data",
          "data": {
            "text/plain": [
              "<Figure size 640x480 with 1 Axes>"
            ],
            "image/png": "[encoded data removed]"
          },
          "metadata": {}
        }
      ]
    },
    {
      "cell_type": "code",
      "source": [
        "means = X_train.mean(axis=0, keepdims=True)\n",
        "stds = X_train.std(axis=0, keepdims=True)\n",
        "X_train_scaled = (X_train - means) / stds\n",
        "X_valid_scaled = (X_valid - means) / stds\n",
        "X_test_scaled = (X_test - means) / stds"
      ],
      "metadata": {
        "id": "OToKf2o1jxCV"
      },
      "execution_count": 23,
      "outputs": []
    },
    {
      "cell_type": "code",
      "source": [
        "keras.backend.clear_session()\n",
        "tf.random.set_seed(42)\n",
        "np.random.seed(42)\n",
        "\n",
        "model = keras.models.Sequential()\n",
        "model.add(keras.layers.Flatten(input_shape=[28, 28]))\n",
        "model.add(keras.layers.Dense(300, activation=\"selu\", kernel_initializer=\"lecun_normal\"))\n",
        "for layer in range(100):\n",
        "  keras.layers.Dense(100, activation=\"selu\", kernel_initializer=\"lecun_normal\")\n",
        "model.add(keras.layers.Dense(10, activation=\"softmax\"))\n",
        "model.summary()"
      ],
      "metadata": {
        "colab": {
          "base_uri": "https://localhost:8080/"
        },
        "id": "cd_fi4QGi4xp",
        "outputId": "7054d000-7d4c-4dff-aec6-d7a7eca1f63a"
      },
      "execution_count": 24,
      "outputs": [
        {
          "output_type": "stream",
          "name": "stdout",
          "text": [
            "Model: \"sequential\"\n",
            "_________________________________________________________________\n",
            " Layer (type)                Output Shape              Param #   \n",
            "=================================================================\n",
            " flatten (Flatten)           (None, 784)               0         \n",
            "                                                                 \n",
            " dense (Dense)               (None, 300)               235500    \n",
            "                                                                 \n",
            " dense_101 (Dense)           (None, 10)                3010      \n",
            "                                                                 \n",
            "=================================================================\n",
            "Total params: 238510 (931.68 KB)\n",
            "Trainable params: 238510 (931.68 KB)\n",
            "Non-trainable params: 0 (0.00 Byte)\n",
            "_________________________________________________________________\n"
          ]
        }
      ]
    },
    {
      "cell_type": "code",
      "source": [
        "model.compile(loss=\"sparse_categorical_crossentropy\",\n",
        "              optimizer=keras.optimizers.SGD(learning_rate=1e-3),\n",
        "              metrics=[\"accuracy\"])\n",
        "history = model.fit(X_train_scaled, y_train, epochs=10, validation_data=(X_valid_scaled, y_valid))"
      ],
      "metadata": {
        "colab": {
          "base_uri": "https://localhost:8080/"
        },
        "id": "u_GsQmSImpSB",
        "outputId": "a9d484be-cb0e-4c54-a5f2-795b3da4c058"
      },
      "execution_count": 25,
      "outputs": [
        {
          "output_type": "stream",
          "name": "stdout",
          "text": [
            "Epoch 1/10\n",
            "1719/1719 [==============================] - 8s 4ms/step - loss: 0.7394 - accuracy: 0.7499 - val_loss: 0.5425 - val_accuracy: 0.8146\n",
            "Epoch 2/10\n",
            "1719/1719 [==============================] - 6s 3ms/step - loss: 0.5200 - accuracy: 0.8207 - val_loss: 0.4844 - val_accuracy: 0.8352\n",
            "Epoch 3/10\n",
            "1719/1719 [==============================] - 7s 4ms/step - loss: 0.4796 - accuracy: 0.8344 - val_loss: 0.4631 - val_accuracy: 0.8420\n",
            "Epoch 4/10\n",
            "1719/1719 [==============================] - 6s 3ms/step - loss: 0.4570 - accuracy: 0.8422 - val_loss: 0.4452 - val_accuracy: 0.8478\n",
            "Epoch 5/10\n",
            "1719/1719 [==============================] - 7s 4ms/step - loss: 0.4414 - accuracy: 0.8477 - val_loss: 0.4346 - val_accuracy: 0.8526\n",
            "Epoch 6/10\n",
            "1719/1719 [==============================] - 6s 3ms/step - loss: 0.4294 - accuracy: 0.8519 - val_loss: 0.4276 - val_accuracy: 0.8558\n",
            "Epoch 7/10\n",
            "1719/1719 [==============================] - 6s 4ms/step - loss: 0.4200 - accuracy: 0.8553 - val_loss: 0.4197 - val_accuracy: 0.8596\n",
            "Epoch 8/10\n",
            "1719/1719 [==============================] - 6s 4ms/step - loss: 0.4120 - accuracy: 0.8576 - val_loss: 0.4190 - val_accuracy: 0.8570\n",
            "Epoch 9/10\n",
            "1719/1719 [==============================] - 6s 3ms/step - loss: 0.4051 - accuracy: 0.8601 - val_loss: 0.4114 - val_accuracy: 0.8606\n",
            "Epoch 10/10\n",
            "1719/1719 [==============================] - 7s 4ms/step - loss: 0.3987 - accuracy: 0.8625 - val_loss: 0.4085 - val_accuracy: 0.8604\n"
          ]
        }
      ]
    },
    {
      "cell_type": "code",
      "source": [
        "[activation for activation in dir(keras.activations) if not activation.startswith(\"_\")]"
      ],
      "metadata": {
        "colab": {
          "base_uri": "https://localhost:8080/"
        },
        "id": "79Zrxs9YkIPR",
        "outputId": "83e418ae-5e3a-4269-a48a-c78ac52dd744"
      },
      "execution_count": 26,
      "outputs": [
        {
          "output_type": "execute_result",
          "data": {
            "text/plain": [
              "['deserialize',\n",
              " 'elu',\n",
              " 'exponential',\n",
              " 'gelu',\n",
              " 'get',\n",
              " 'hard_sigmoid',\n",
              " 'linear',\n",
              " 'mish',\n",
              " 'relu',\n",
              " 'selu',\n",
              " 'serialize',\n",
              " 'sigmoid',\n",
              " 'softmax',\n",
              " 'softplus',\n",
              " 'softsign',\n",
              " 'swish',\n",
              " 'tanh']"
            ]
          },
          "metadata": {},
          "execution_count": 26
        }
      ]
    },
    {
      "cell_type": "code",
      "source": [
        "[layer for layer in dir(keras.layers) if \"relu\" in layer.lower()]"
      ],
      "metadata": {
        "colab": {
          "base_uri": "https://localhost:8080/"
        },
        "id": "RT5-IsdykU4F",
        "outputId": "4897df17-fac3-4269-81ef-14bb3a6b78c9"
      },
      "execution_count": 27,
      "outputs": [
        {
          "output_type": "execute_result",
          "data": {
            "text/plain": [
              "['LeakyReLU', 'PReLU', 'ReLU', 'ThresholdedReLU']"
            ]
          },
          "metadata": {},
          "execution_count": 27
        }
      ]
    },
    {
      "cell_type": "markdown",
      "source": [
        "## 3.배치 정규화"
      ],
      "metadata": {
        "id": "OTGnHGZ-mLv2"
      }
    },
    {
      "cell_type": "code",
      "source": [
        "model = keras.models.Sequential([\n",
        "    keras.layers.Flatten(input_shape=[28, 28]),\n",
        "    keras.layers.BatchNormalization(),\n",
        "    keras.layers.Dense(300, activation=\"relu\"),\n",
        "    keras.layers.BatchNormalization(),\n",
        "    keras.layers.Dense(100, activation=\"relu\"),\n",
        "    keras.layers.BatchNormalization(),\n",
        "    keras.layers.Dense(10, activation=\"softmax\")\n",
        "])\n",
        "model.summary()"
      ],
      "metadata": {
        "colab": {
          "base_uri": "https://localhost:8080/"
        },
        "id": "xwMcy7wSkkKW",
        "outputId": "5b61d89d-d468-46c6-80ff-973bcd2a9ad5"
      },
      "execution_count": 28,
      "outputs": [
        {
          "output_type": "stream",
          "name": "stdout",
          "text": [
            "Model: \"sequential_1\"\n",
            "_________________________________________________________________\n",
            " Layer (type)                Output Shape              Param #   \n",
            "=================================================================\n",
            " flatten_1 (Flatten)         (None, 784)               0         \n",
            "                                                                 \n",
            " batch_normalization (Batch  (None, 784)               3136      \n",
            " Normalization)                                                  \n",
            "                                                                 \n",
            " dense_102 (Dense)           (None, 300)               235500    \n",
            "                                                                 \n",
            " batch_normalization_1 (Bat  (None, 300)               1200      \n",
            " chNormalization)                                                \n",
            "                                                                 \n",
            " dense_103 (Dense)           (None, 100)               30100     \n",
            "                                                                 \n",
            " batch_normalization_2 (Bat  (None, 100)               400       \n",
            " chNormalization)                                                \n",
            "                                                                 \n",
            " dense_104 (Dense)           (None, 10)                1010      \n",
            "                                                                 \n",
            "=================================================================\n",
            "Total params: 271346 (1.04 MB)\n",
            "Trainable params: 268978 (1.03 MB)\n",
            "Non-trainable params: 2368 (9.25 KB)\n",
            "_________________________________________________________________\n"
          ]
        }
      ]
    },
    {
      "cell_type": "code",
      "source": [
        "model.compile(loss=\"sparse_categorical_crossentropy\",\n",
        "              optimizer=keras.optimizers.SGD(learning_rate=1e-3),\n",
        "              metrics=[\"accuracy\"])\n",
        "history = model.fit(X_train, y_train, epochs=10, validation_data=(X_valid, y_valid))"
      ],
      "metadata": {
        "colab": {
          "base_uri": "https://localhost:8080/"
        },
        "id": "Ts0jbVx7mext",
        "outputId": "ad0bfe07-8f44-4676-db2f-02d693b2ef29"
      },
      "execution_count": 29,
      "outputs": [
        {
          "output_type": "stream",
          "name": "stdout",
          "text": [
            "Epoch 1/10\n",
            "1719/1719 [==============================] - 13s 6ms/step - loss: 0.8379 - accuracy: 0.7167 - val_loss: 0.5580 - val_accuracy: 0.8132\n",
            "Epoch 2/10\n",
            "1719/1719 [==============================] - 10s 6ms/step - loss: 0.5737 - accuracy: 0.7994 - val_loss: 0.4802 - val_accuracy: 0.8348\n",
            "Epoch 3/10\n",
            "1719/1719 [==============================] - 10s 6ms/step - loss: 0.5208 - accuracy: 0.8168 - val_loss: 0.4454 - val_accuracy: 0.8442\n",
            "Epoch 4/10\n",
            "1719/1719 [==============================] - 11s 6ms/step - loss: 0.4833 - accuracy: 0.8306 - val_loss: 0.4238 - val_accuracy: 0.8506\n",
            "Epoch 5/10\n",
            "1719/1719 [==============================] - 11s 6ms/step - loss: 0.4560 - accuracy: 0.8392 - val_loss: 0.4092 - val_accuracy: 0.8572\n",
            "Epoch 6/10\n",
            "1719/1719 [==============================] - 10s 6ms/step - loss: 0.4411 - accuracy: 0.8438 - val_loss: 0.3973 - val_accuracy: 0.8608\n",
            "Epoch 7/10\n",
            "1719/1719 [==============================] - 11s 6ms/step - loss: 0.4281 - accuracy: 0.8471 - val_loss: 0.3872 - val_accuracy: 0.8620\n",
            "Epoch 8/10\n",
            "1719/1719 [==============================] - 11s 6ms/step - loss: 0.4169 - accuracy: 0.8521 - val_loss: 0.3819 - val_accuracy: 0.8670\n",
            "Epoch 9/10\n",
            "1719/1719 [==============================] - 11s 7ms/step - loss: 0.4038 - accuracy: 0.8574 - val_loss: 0.3735 - val_accuracy: 0.8678\n",
            "Epoch 10/10\n",
            "1719/1719 [==============================] - 10s 6ms/step - loss: 0.3937 - accuracy: 0.8606 - val_loss: 0.3667 - val_accuracy: 0.8726\n"
          ]
        }
      ]
    },
    {
      "cell_type": "code",
      "source": [
        "model = keras.models.Sequential([\n",
        "    keras.layers.Flatten(input_shape=[28, 28]),\n",
        "    keras.layers.BatchNormalization(),\n",
        "    keras.layers.Dense(300, use_bias=False),\n",
        "    keras.layers.BatchNormalization(),\n",
        "    keras.layers.Activation(\"relu\"),\n",
        "    keras.layers.Dense(100, use_bias=False),\n",
        "    keras.layers.BatchNormalization(),\n",
        "    keras.layers.Activation(\"relu\"),\n",
        "    keras.layers.Dense(10, activation=\"softmax\")\n",
        "])\n",
        "model.summary()"
      ],
      "metadata": {
        "colab": {
          "base_uri": "https://localhost:8080/"
        },
        "id": "-WdLyL3cme7N",
        "outputId": "23fd716f-96b0-4d68-d4eb-f980cbb118fe"
      },
      "execution_count": 30,
      "outputs": [
        {
          "output_type": "stream",
          "name": "stdout",
          "text": [
            "Model: \"sequential_2\"\n",
            "_________________________________________________________________\n",
            " Layer (type)                Output Shape              Param #   \n",
            "=================================================================\n",
            " flatten_2 (Flatten)         (None, 784)               0         \n",
            "                                                                 \n",
            " batch_normalization_3 (Bat  (None, 784)               3136      \n",
            " chNormalization)                                                \n",
            "                                                                 \n",
            " dense_105 (Dense)           (None, 300)               235200    \n",
            "                                                                 \n",
            " batch_normalization_4 (Bat  (None, 300)               1200      \n",
            " chNormalization)                                                \n",
            "                                                                 \n",
            " activation (Activation)     (None, 300)               0         \n",
            "                                                                 \n",
            " dense_106 (Dense)           (None, 100)               30000     \n",
            "                                                                 \n",
            " batch_normalization_5 (Bat  (None, 100)               400       \n",
            " chNormalization)                                                \n",
            "                                                                 \n",
            " activation_1 (Activation)   (None, 100)               0         \n",
            "                                                                 \n",
            " dense_107 (Dense)           (None, 10)                1010      \n",
            "                                                                 \n",
            "=================================================================\n",
            "Total params: 270946 (1.03 MB)\n",
            "Trainable params: 268578 (1.02 MB)\n",
            "Non-trainable params: 2368 (9.25 KB)\n",
            "_________________________________________________________________\n"
          ]
        }
      ]
    },
    {
      "cell_type": "code",
      "source": [
        "model.compile(loss=\"sparse_categorical_crossentropy\",\n",
        "              optimizer=keras.optimizers.SGD(learning_rate=1e-3),\n",
        "              metrics=[\"accuracy\"])\n",
        "history = model.fit(X_train, y_train, epochs=10, validation_data=(X_valid, y_valid))"
      ],
      "metadata": {
        "colab": {
          "base_uri": "https://localhost:8080/"
        },
        "id": "3eRgmgbAoaFm",
        "outputId": "57c3322e-a6c3-4ebd-8554-4ef51d84e649"
      },
      "execution_count": 31,
      "outputs": [
        {
          "output_type": "stream",
          "name": "stdout",
          "text": [
            "Epoch 1/10\n",
            "1719/1719 [==============================] - 11s 6ms/step - loss: 1.0440 - accuracy: 0.6725 - val_loss: 0.6708 - val_accuracy: 0.7910\n",
            "Epoch 2/10\n",
            "1719/1719 [==============================] - 11s 6ms/step - loss: 0.6748 - accuracy: 0.7812 - val_loss: 0.5532 - val_accuracy: 0.8200\n",
            "Epoch 3/10\n",
            "1719/1719 [==============================] - 11s 6ms/step - loss: 0.5939 - accuracy: 0.8044 - val_loss: 0.4987 - val_accuracy: 0.8378\n",
            "Epoch 4/10\n",
            "1719/1719 [==============================] - 10s 6ms/step - loss: 0.5420 - accuracy: 0.8187 - val_loss: 0.4668 - val_accuracy: 0.8448\n",
            "Epoch 5/10\n",
            "1719/1719 [==============================] - 12s 7ms/step - loss: 0.5100 - accuracy: 0.8264 - val_loss: 0.4440 - val_accuracy: 0.8528\n",
            "Epoch 6/10\n",
            "1719/1719 [==============================] - 11s 6ms/step - loss: 0.4882 - accuracy: 0.8323 - val_loss: 0.4265 - val_accuracy: 0.8568\n",
            "Epoch 7/10\n",
            "1719/1719 [==============================] - 10s 6ms/step - loss: 0.4702 - accuracy: 0.8379 - val_loss: 0.4136 - val_accuracy: 0.8590\n",
            "Epoch 8/10\n",
            "1719/1719 [==============================] - 9s 5ms/step - loss: 0.4563 - accuracy: 0.8423 - val_loss: 0.4045 - val_accuracy: 0.8628\n",
            "Epoch 9/10\n",
            "1719/1719 [==============================] - 10s 6ms/step - loss: 0.4443 - accuracy: 0.8464 - val_loss: 0.3953 - val_accuracy: 0.8630\n",
            "Epoch 10/10\n",
            "1719/1719 [==============================] - 10s 6ms/step - loss: 0.4315 - accuracy: 0.8511 - val_loss: 0.3869 - val_accuracy: 0.8638\n"
          ]
        }
      ]
    },
    {
      "cell_type": "markdown",
      "source": [
        "## 4.그레디언트 클리핑"
      ],
      "metadata": {
        "id": "f8LR2pIgopm_"
      }
    },
    {
      "cell_type": "code",
      "source": [
        "optimizer = keras.optimizers.SGD(clipvalue=1.0)\n",
        "model.compile(loss=\"mse\", optimizer=optimizer)"
      ],
      "metadata": {
        "id": "1cR4ZRsQoaHg"
      },
      "execution_count": 32,
      "outputs": []
    },
    {
      "cell_type": "code",
      "source": [
        "optimizer = keras.optimizers.SGD(clipnorm=1.0)\n",
        "model.compile(loss=\"mse\", optimizer=optimizer)"
      ],
      "metadata": {
        "id": "9bbYUnzjow5i"
      },
      "execution_count": 33,
      "outputs": []
    },
    {
      "cell_type": "markdown",
      "source": [
        "# 전이학습\n",
        "## 1.데이터 준비"
      ],
      "metadata": {
        "id": "wJK3NJc-qdAC"
      }
    },
    {
      "cell_type": "code",
      "source": [
        "def split_dataset(X, y):\n",
        "    y_5_or_6 = (y == 5) | (y == 6)\n",
        "    y_A = y[~y_5_or_6]\n",
        "    y_A[y_A > 6] -= 2\n",
        "    y_B = (y[y_5_or_6] == 6).astype(np.float32)\n",
        "    return ((X[~y_5_or_6], y_A), (X[y_5_or_6], y_B))\n",
        "\n",
        "(X_train_A, y_train_A), (X_train_B, y_train_B) = split_dataset(X_train, y_train)\n",
        "(X_valid_A, y_valid_A), (X_valid_B, y_valid_B) = split_dataset(X_valid, y_valid)\n",
        "(X_test_A, y_test_A), (X_test_B, y_test_B) = split_dataset(X_test, y_test)\n",
        "X_train_B = X_train_B[:200]\n",
        "y_train_B = y_train_B[:200]"
      ],
      "metadata": {
        "id": "FdSAPHNZl-sl"
      },
      "execution_count": 34,
      "outputs": []
    },
    {
      "cell_type": "code",
      "source": [
        "X_train_A.shape, X_train_B.shape"
      ],
      "metadata": {
        "colab": {
          "base_uri": "https://localhost:8080/"
        },
        "id": "aYPDWNy_qfwD",
        "outputId": "ba9a4075-3cdc-435a-a951-d64b45a33865"
      },
      "execution_count": 35,
      "outputs": [
        {
          "output_type": "execute_result",
          "data": {
            "text/plain": [
              "((43986, 28, 28), (200, 28, 28))"
            ]
          },
          "metadata": {},
          "execution_count": 35
        }
      ]
    },
    {
      "cell_type": "markdown",
      "source": [
        "## 2.작업 A를 수행하기 위한 모델 A 훈련"
      ],
      "metadata": {
        "id": "BeEOS66JqiXh"
      }
    },
    {
      "cell_type": "code",
      "source": [
        "keras.backend.clear_session()\n",
        "tf.random.set_seed(42)\n",
        "np.random.seed(42)\n",
        "\n",
        "model_A = keras.models.Sequential()\n",
        "model_A.add(keras.layers.Flatten(input_shape=[28, 28]))\n",
        "for n_hidden in (300, 100, 50, 50, 50):\n",
        "    model_A.add(keras.layers.Dense(n_hidden, activation=\"selu\"))\n",
        "model_A.add(keras.layers.Dense(8, activation=\"softmax\"))\n",
        "model_A.summary()"
      ],
      "metadata": {
        "colab": {
          "base_uri": "https://localhost:8080/"
        },
        "id": "wb_cEt7BqfyY",
        "outputId": "556f3b77-3966-4515-ae34-c1d0451d4400"
      },
      "execution_count": 36,
      "outputs": [
        {
          "output_type": "stream",
          "name": "stdout",
          "text": [
            "Model: \"sequential\"\n",
            "_________________________________________________________________\n",
            " Layer (type)                Output Shape              Param #   \n",
            "=================================================================\n",
            " flatten (Flatten)           (None, 784)               0         \n",
            "                                                                 \n",
            " dense (Dense)               (None, 300)               235500    \n",
            "                                                                 \n",
            " dense_1 (Dense)             (None, 100)               30100     \n",
            "                                                                 \n",
            " dense_2 (Dense)             (None, 50)                5050      \n",
            "                                                                 \n",
            " dense_3 (Dense)             (None, 50)                2550      \n",
            "                                                                 \n",
            " dense_4 (Dense)             (None, 50)                2550      \n",
            "                                                                 \n",
            " dense_5 (Dense)             (None, 8)                 408       \n",
            "                                                                 \n",
            "=================================================================\n",
            "Total params: 276158 (1.05 MB)\n",
            "Trainable params: 276158 (1.05 MB)\n",
            "Non-trainable params: 0 (0.00 Byte)\n",
            "_________________________________________________________________\n"
          ]
        }
      ]
    },
    {
      "cell_type": "code",
      "source": [
        "model_A.compile(loss=\"sparse_categorical_crossentropy\",\n",
        "                optimizer=keras.optimizers.SGD(learning_rate=1e-3),\n",
        "                metrics=[\"accuracy\"])\n",
        "history = model_A.fit(X_train_A, y_train_A, epochs=20, validation_data=(X_valid_A, y_valid_A))"
      ],
      "metadata": {
        "colab": {
          "base_uri": "https://localhost:8080/"
        },
        "id": "vYSWuBgCqf0t",
        "outputId": "49fbec1a-b897-46b9-9a16-d1a0d65a594e"
      },
      "execution_count": 37,
      "outputs": [
        {
          "output_type": "stream",
          "name": "stdout",
          "text": [
            "Epoch 1/20\n",
            "1375/1375 [==============================] - 7s 4ms/step - loss: 0.5707 - accuracy: 0.8114 - val_loss: 0.3748 - val_accuracy: 0.8620\n",
            "Epoch 2/20\n",
            "1375/1375 [==============================] - 7s 5ms/step - loss: 0.3467 - accuracy: 0.8789 - val_loss: 0.3169 - val_accuracy: 0.8864\n",
            "Epoch 3/20\n",
            "1375/1375 [==============================] - 6s 4ms/step - loss: 0.3122 - accuracy: 0.8909 - val_loss: 0.2917 - val_accuracy: 0.8946\n",
            "Epoch 4/20\n",
            "1375/1375 [==============================] - 7s 5ms/step - loss: 0.2939 - accuracy: 0.8979 - val_loss: 0.2797 - val_accuracy: 0.8991\n",
            "Epoch 5/20\n",
            "1375/1375 [==============================] - 6s 4ms/step - loss: 0.2817 - accuracy: 0.9033 - val_loss: 0.2712 - val_accuracy: 0.9048\n",
            "Epoch 6/20\n",
            "1375/1375 [==============================] - 7s 5ms/step - loss: 0.2726 - accuracy: 0.9062 - val_loss: 0.2692 - val_accuracy: 0.9068\n",
            "Epoch 7/20\n",
            "1375/1375 [==============================] - 6s 5ms/step - loss: 0.2652 - accuracy: 0.9091 - val_loss: 0.2627 - val_accuracy: 0.9076\n",
            "Epoch 8/20\n",
            "1375/1375 [==============================] - 6s 4ms/step - loss: 0.2589 - accuracy: 0.9122 - val_loss: 0.2580 - val_accuracy: 0.9103\n",
            "Epoch 9/20\n",
            "1375/1375 [==============================] - 7s 5ms/step - loss: 0.2540 - accuracy: 0.9132 - val_loss: 0.2518 - val_accuracy: 0.9143\n",
            "Epoch 10/20\n",
            "1375/1375 [==============================] - 6s 4ms/step - loss: 0.2495 - accuracy: 0.9147 - val_loss: 0.2508 - val_accuracy: 0.9143\n",
            "Epoch 11/20\n",
            "1375/1375 [==============================] - 7s 5ms/step - loss: 0.2452 - accuracy: 0.9167 - val_loss: 0.2464 - val_accuracy: 0.9145\n",
            "Epoch 12/20\n",
            "1375/1375 [==============================] - 6s 4ms/step - loss: 0.2415 - accuracy: 0.9180 - val_loss: 0.2445 - val_accuracy: 0.9145\n",
            "Epoch 13/20\n",
            "1375/1375 [==============================] - 7s 5ms/step - loss: 0.2382 - accuracy: 0.9184 - val_loss: 0.2414 - val_accuracy: 0.9143\n",
            "Epoch 14/20\n",
            "1375/1375 [==============================] - 6s 4ms/step - loss: 0.2348 - accuracy: 0.9200 - val_loss: 0.2395 - val_accuracy: 0.9155\n",
            "Epoch 15/20\n",
            "1375/1375 [==============================] - 7s 5ms/step - loss: 0.2320 - accuracy: 0.9208 - val_loss: 0.2415 - val_accuracy: 0.9143\n",
            "Epoch 16/20\n",
            "1375/1375 [==============================] - 6s 5ms/step - loss: 0.2291 - accuracy: 0.9218 - val_loss: 0.2369 - val_accuracy: 0.9205\n",
            "Epoch 17/20\n",
            "1375/1375 [==============================] - 6s 4ms/step - loss: 0.2266 - accuracy: 0.9230 - val_loss: 0.2396 - val_accuracy: 0.9165\n",
            "Epoch 18/20\n",
            "1375/1375 [==============================] - 7s 5ms/step - loss: 0.2237 - accuracy: 0.9237 - val_loss: 0.2430 - val_accuracy: 0.9118\n",
            "Epoch 19/20\n",
            "1375/1375 [==============================] - 6s 4ms/step - loss: 0.2212 - accuracy: 0.9250 - val_loss: 0.2334 - val_accuracy: 0.9160\n",
            "Epoch 20/20\n",
            "1375/1375 [==============================] - 7s 5ms/step - loss: 0.2190 - accuracy: 0.9252 - val_loss: 0.2360 - val_accuracy: 0.9165\n"
          ]
        }
      ]
    },
    {
      "cell_type": "code",
      "source": [
        "model_A.save(\"my_model_A.h5\")"
      ],
      "metadata": {
        "colab": {
          "base_uri": "https://localhost:8080/"
        },
        "id": "jb2BSnw9qf2y",
        "outputId": "c776364c-6d4a-4c0e-8936-63d594176bcc"
      },
      "execution_count": 38,
      "outputs": [
        {
          "output_type": "stream",
          "name": "stderr",
          "text": [
            "/usr/local/lib/python3.10/dist-packages/keras/src/engine/training.py:3079: UserWarning: You are saving your model as an HDF5 file via `model.save()`. This file format is considered legacy. We recommend using instead the native Keras format, e.g. `model.save('my_model.keras')`.\n",
            "  saving_api.save_model(\n"
          ]
        }
      ]
    },
    {
      "cell_type": "markdown",
      "source": [
        "## 3.작업 B를 수행하기 위한 모델 B 훈련"
      ],
      "metadata": {
        "id": "aPe6_O7qqtGw"
      }
    },
    {
      "cell_type": "code",
      "source": [
        "keras.backend.clear_session()\n",
        "tf.random.set_seed(42)\n",
        "np.random.seed(42)\n",
        "\n",
        "model_B = keras.models.Sequential()\n",
        "model_B.add(keras.layers.Flatten(input_shape=[28, 28]))\n",
        "for n_hidden in (300, 100, 50, 50, 50):\n",
        "    model_B.add(keras.layers.Dense(n_hidden, activation=\"selu\"))\n",
        "model_B.add(keras.layers.Dense(1, activation=\"sigmoid\"))\n",
        "model_B.summary()"
      ],
      "metadata": {
        "colab": {
          "base_uri": "https://localhost:8080/"
        },
        "id": "OIcMYkFcqq__",
        "outputId": "1973ad70-08de-4058-c840-d13e0d1ff145"
      },
      "execution_count": 39,
      "outputs": [
        {
          "output_type": "stream",
          "name": "stdout",
          "text": [
            "Model: \"sequential\"\n",
            "_________________________________________________________________\n",
            " Layer (type)                Output Shape              Param #   \n",
            "=================================================================\n",
            " flatten (Flatten)           (None, 784)               0         \n",
            "                                                                 \n",
            " dense (Dense)               (None, 300)               235500    \n",
            "                                                                 \n",
            " dense_1 (Dense)             (None, 100)               30100     \n",
            "                                                                 \n",
            " dense_2 (Dense)             (None, 50)                5050      \n",
            "                                                                 \n",
            " dense_3 (Dense)             (None, 50)                2550      \n",
            "                                                                 \n",
            " dense_4 (Dense)             (None, 50)                2550      \n",
            "                                                                 \n",
            " dense_5 (Dense)             (None, 1)                 51        \n",
            "                                                                 \n",
            "=================================================================\n",
            "Total params: 275801 (1.05 MB)\n",
            "Trainable params: 275801 (1.05 MB)\n",
            "Non-trainable params: 0 (0.00 Byte)\n",
            "_________________________________________________________________\n"
          ]
        }
      ]
    },
    {
      "cell_type": "code",
      "source": [
        "model_B.compile(loss=\"binary_crossentropy\",\n",
        "                optimizer=keras.optimizers.SGD(learning_rate=1e-3),\n",
        "                metrics=[\"accuracy\"])\n",
        "history = model_B.fit(X_train_B, y_train_B, epochs=20, validation_data=(X_valid_B, y_valid_B))"
      ],
      "metadata": {
        "colab": {
          "base_uri": "https://localhost:8080/"
        },
        "id": "zNIXb0PWqrCh",
        "outputId": "f345addc-6eda-4d7b-89b5-4fb8532f8d12"
      },
      "execution_count": 40,
      "outputs": [
        {
          "output_type": "stream",
          "name": "stdout",
          "text": [
            "Epoch 1/20\n",
            "7/7 [==============================] - 2s 46ms/step - loss: 0.3640 - accuracy: 0.8650 - val_loss: 0.3397 - val_accuracy: 0.8854\n",
            "Epoch 2/20\n",
            "7/7 [==============================] - 0s 33ms/step - loss: 0.2907 - accuracy: 0.9250 - val_loss: 0.2845 - val_accuracy: 0.9219\n",
            "Epoch 3/20\n",
            "7/7 [==============================] - 0s 32ms/step - loss: 0.2408 - accuracy: 0.9250 - val_loss: 0.2460 - val_accuracy: 0.9361\n",
            "Epoch 4/20\n",
            "7/7 [==============================] - 0s 32ms/step - loss: 0.2059 - accuracy: 0.9400 - val_loss: 0.2187 - val_accuracy: 0.9462\n",
            "Epoch 5/20\n",
            "7/7 [==============================] - 0s 18ms/step - loss: 0.1796 - accuracy: 0.9600 - val_loss: 0.1986 - val_accuracy: 0.9564\n",
            "Epoch 6/20\n",
            "7/7 [==============================] - 0s 20ms/step - loss: 0.1599 - accuracy: 0.9700 - val_loss: 0.1831 - val_accuracy: 0.9594\n",
            "Epoch 7/20\n",
            "7/7 [==============================] - 0s 21ms/step - loss: 0.1450 - accuracy: 0.9750 - val_loss: 0.1718 - val_accuracy: 0.9594\n",
            "Epoch 8/20\n",
            "7/7 [==============================] - 0s 20ms/step - loss: 0.1327 - accuracy: 0.9850 - val_loss: 0.1605 - val_accuracy: 0.9635\n",
            "Epoch 9/20\n",
            "7/7 [==============================] - 0s 20ms/step - loss: 0.1220 - accuracy: 0.9850 - val_loss: 0.1494 - val_accuracy: 0.9686\n",
            "Epoch 10/20\n",
            "7/7 [==============================] - 0s 19ms/step - loss: 0.1119 - accuracy: 0.9950 - val_loss: 0.1410 - val_accuracy: 0.9706\n",
            "Epoch 11/20\n",
            "7/7 [==============================] - 0s 20ms/step - loss: 0.1038 - accuracy: 0.9950 - val_loss: 0.1340 - val_accuracy: 0.9716\n",
            "Epoch 12/20\n",
            "7/7 [==============================] - 0s 32ms/step - loss: 0.0963 - accuracy: 0.9950 - val_loss: 0.1283 - val_accuracy: 0.9716\n",
            "Epoch 13/20\n",
            "7/7 [==============================] - 0s 19ms/step - loss: 0.0905 - accuracy: 0.9950 - val_loss: 0.1228 - val_accuracy: 0.9716\n",
            "Epoch 14/20\n",
            "7/7 [==============================] - 0s 32ms/step - loss: 0.0853 - accuracy: 0.9950 - val_loss: 0.1175 - val_accuracy: 0.9726\n",
            "Epoch 15/20\n",
            "7/7 [==============================] - 0s 20ms/step - loss: 0.0801 - accuracy: 0.9950 - val_loss: 0.1128 - val_accuracy: 0.9726\n",
            "Epoch 16/20\n",
            "7/7 [==============================] - 0s 19ms/step - loss: 0.0759 - accuracy: 0.9950 - val_loss: 0.1092 - val_accuracy: 0.9736\n",
            "Epoch 17/20\n",
            "7/7 [==============================] - 0s 19ms/step - loss: 0.0723 - accuracy: 0.9950 - val_loss: 0.1059 - val_accuracy: 0.9736\n",
            "Epoch 18/20\n",
            "7/7 [==============================] - 0s 19ms/step - loss: 0.0690 - accuracy: 0.9950 - val_loss: 0.1027 - val_accuracy: 0.9736\n",
            "Epoch 19/20\n",
            "7/7 [==============================] - 0s 20ms/step - loss: 0.0658 - accuracy: 0.9950 - val_loss: 0.0998 - val_accuracy: 0.9757\n",
            "Epoch 20/20\n",
            "7/7 [==============================] - 0s 31ms/step - loss: 0.0629 - accuracy: 0.9950 - val_loss: 0.0974 - val_accuracy: 0.9757\n"
          ]
        }
      ]
    },
    {
      "cell_type": "markdown",
      "source": [
        "## 4.전이학습 구현"
      ],
      "metadata": {
        "id": "KoKJhkbPq2Sd"
      }
    },
    {
      "cell_type": "code",
      "source": [
        "model_A = keras.models.load_model(\"my_model_A.h5\")\n",
        "model_B_on_A = keras.models.Sequential(model_A.layers[:-1])\n",
        "model_B_on_A.add(keras.layers.Dense(1, activation=\"sigmoid\"))"
      ],
      "metadata": {
        "id": "9If_bt7GqrFH"
      },
      "execution_count": 41,
      "outputs": []
    },
    {
      "cell_type": "code",
      "source": [
        "model_A_clone = keras.models.clone_model(model_A)\n",
        "model_A_clone.set_weights(model_A.get_weights())\n",
        "model_B_on_A = keras.models.Sequential(model_A_clone.layers[:-1])\n",
        "model_B_on_A.add(keras.layers.Dense(1, activation=\"sigmoid\"))"
      ],
      "metadata": {
        "id": "2e49Fh_Kq4rk"
      },
      "execution_count": 42,
      "outputs": []
    },
    {
      "cell_type": "code",
      "source": [
        "for layer in model_B_on_A.layers[:-1]:\n",
        "    layer.trainable = False\n",
        "\n",
        "model_B_on_A.compile(loss=\"binary_crossentropy\",\n",
        "                     optimizer=keras.optimizers.SGD(learning_rate=1e-3),\n",
        "                     metrics=[\"accuracy\"])\n",
        "history = model_B_on_A.fit(X_train_B, y_train_B, epochs=4, validation_data=(X_valid_B, y_valid_B))"
      ],
      "metadata": {
        "colab": {
          "base_uri": "https://localhost:8080/"
        },
        "id": "h0VGpOF7q4t4",
        "outputId": "b73547a4-a71c-467c-9977-02ce1f1f0b44"
      },
      "execution_count": 43,
      "outputs": [
        {
          "output_type": "stream",
          "name": "stdout",
          "text": [
            "Epoch 1/4\n",
            "7/7 [==============================] - 1s 56ms/step - loss: 0.9280 - accuracy: 0.4900 - val_loss: 0.8940 - val_accuracy: 0.5081\n",
            "Epoch 2/4\n",
            "7/7 [==============================] - 0s 19ms/step - loss: 0.8550 - accuracy: 0.5300 - val_loss: 0.8302 - val_accuracy: 0.5345\n",
            "Epoch 3/4\n",
            "7/7 [==============================] - 0s 19ms/step - loss: 0.7915 - accuracy: 0.5500 - val_loss: 0.7736 - val_accuracy: 0.5568\n",
            "Epoch 4/4\n",
            "7/7 [==============================] - 0s 19ms/step - loss: 0.7352 - accuracy: 0.5750 - val_loss: 0.7183 - val_accuracy: 0.5842\n"
          ]
        }
      ]
    },
    {
      "cell_type": "code",
      "source": [
        "for layer in model_B_on_A.layers[:-1]:\n",
        "    layer.trainable = True\n",
        "\n",
        "model_B_on_A.compile(loss=\"binary_crossentropy\",\n",
        "                     optimizer=keras.optimizers.SGD(learning_rate=1e-3),\n",
        "                     metrics=[\"accuracy\"])\n",
        "history = model_B_on_A.fit(X_train_B, y_train_B, epochs=16, validation_data=(X_valid_B, y_valid_B))"
      ],
      "metadata": {
        "colab": {
          "base_uri": "https://localhost:8080/"
        },
        "id": "OYPp8V0hq4wO",
        "outputId": "84fbf3f4-bada-46ce-97b6-76692333bdb2"
      },
      "execution_count": 44,
      "outputs": [
        {
          "output_type": "stream",
          "name": "stdout",
          "text": [
            "Epoch 1/16\n",
            "7/7 [==============================] - 2s 80ms/step - loss: 0.5331 - accuracy: 0.7000 - val_loss: 0.3792 - val_accuracy: 0.8469\n",
            "Epoch 2/16\n",
            "7/7 [==============================] - 0s 35ms/step - loss: 0.3173 - accuracy: 0.9150 - val_loss: 0.2863 - val_accuracy: 0.9087\n",
            "Epoch 3/16\n",
            "7/7 [==============================] - 0s 36ms/step - loss: 0.2403 - accuracy: 0.9500 - val_loss: 0.2337 - val_accuracy: 0.9351\n",
            "Epoch 4/16\n",
            "7/7 [==============================] - 0s 36ms/step - loss: 0.1951 - accuracy: 0.9750 - val_loss: 0.1974 - val_accuracy: 0.9503\n",
            "Epoch 5/16\n",
            "7/7 [==============================] - 0s 27ms/step - loss: 0.1631 - accuracy: 0.9750 - val_loss: 0.1718 - val_accuracy: 0.9584\n",
            "Epoch 6/16\n",
            "7/7 [==============================] - 0s 35ms/step - loss: 0.1393 - accuracy: 0.9750 - val_loss: 0.1524 - val_accuracy: 0.9635\n",
            "Epoch 7/16\n",
            "7/7 [==============================] - 0s 28ms/step - loss: 0.1215 - accuracy: 0.9800 - val_loss: 0.1367 - val_accuracy: 0.9675\n",
            "Epoch 8/16\n",
            "7/7 [==============================] - 0s 35ms/step - loss: 0.1070 - accuracy: 0.9800 - val_loss: 0.1248 - val_accuracy: 0.9767\n",
            "Epoch 9/16\n",
            "7/7 [==============================] - 0s 27ms/step - loss: 0.0957 - accuracy: 0.9900 - val_loss: 0.1151 - val_accuracy: 0.9817\n",
            "Epoch 10/16\n",
            "7/7 [==============================] - 0s 29ms/step - loss: 0.0867 - accuracy: 0.9900 - val_loss: 0.1075 - val_accuracy: 0.9828\n",
            "Epoch 11/16\n",
            "7/7 [==============================] - 0s 27ms/step - loss: 0.0798 - accuracy: 0.9950 - val_loss: 0.1004 - val_accuracy: 0.9838\n",
            "Epoch 12/16\n",
            "7/7 [==============================] - 0s 35ms/step - loss: 0.0734 - accuracy: 0.9950 - val_loss: 0.0950 - val_accuracy: 0.9838\n",
            "Epoch 13/16\n",
            "7/7 [==============================] - 0s 35ms/step - loss: 0.0684 - accuracy: 1.0000 - val_loss: 0.0899 - val_accuracy: 0.9838\n",
            "Epoch 14/16\n",
            "7/7 [==============================] - 0s 34ms/step - loss: 0.0634 - accuracy: 1.0000 - val_loss: 0.0856 - val_accuracy: 0.9838\n",
            "Epoch 15/16\n",
            "7/7 [==============================] - 0s 36ms/step - loss: 0.0595 - accuracy: 1.0000 - val_loss: 0.0819 - val_accuracy: 0.9838\n",
            "Epoch 16/16\n",
            "7/7 [==============================] - 0s 21ms/step - loss: 0.0562 - accuracy: 1.0000 - val_loss: 0.0785 - val_accuracy: 0.9848\n"
          ]
        }
      ]
    },
    {
      "cell_type": "code",
      "source": [
        "model_B.evaluate(X_test_B, y_test_B)"
      ],
      "metadata": {
        "colab": {
          "base_uri": "https://localhost:8080/"
        },
        "id": "i7teu2JarANW",
        "outputId": "6667a000-93f4-4121-c984-30bf5672a50e"
      },
      "execution_count": 45,
      "outputs": [
        {
          "output_type": "stream",
          "name": "stdout",
          "text": [
            "63/63 [==============================] - 0s 3ms/step - loss: 0.0875 - accuracy: 0.9855\n"
          ]
        },
        {
          "output_type": "execute_result",
          "data": {
            "text/plain": [
              "[0.08754409849643707, 0.9854999780654907]"
            ]
          },
          "metadata": {},
          "execution_count": 45
        }
      ]
    },
    {
      "cell_type": "code",
      "source": [
        "model_B_on_A.evaluate(X_test_B, y_test_B)"
      ],
      "metadata": {
        "colab": {
          "base_uri": "https://localhost:8080/"
        },
        "id": "nAEib3psrAP5",
        "outputId": "ded5807a-e06c-4e73-c9c9-18d08e9b6e5c"
      },
      "execution_count": 46,
      "outputs": [
        {
          "output_type": "stream",
          "name": "stdout",
          "text": [
            "63/63 [==============================] - 0s 3ms/step - loss: 0.0821 - accuracy: 0.9870\n"
          ]
        },
        {
          "output_type": "execute_result",
          "data": {
            "text/plain": [
              "[0.08211410790681839, 0.9869999885559082]"
            ]
          },
          "metadata": {},
          "execution_count": 46
        }
      ]
    },
    {
      "cell_type": "code",
      "source": [
        "(100 - 97.75) / (100 - 98.90)"
      ],
      "metadata": {
        "colab": {
          "base_uri": "https://localhost:8080/"
        },
        "id": "8rym1eEVrASg",
        "outputId": "31b94514-8d41-48bc-ee67-75c6275831ab"
      },
      "execution_count": 47,
      "outputs": [
        {
          "output_type": "execute_result",
          "data": {
            "text/plain": [
              "2.045454545454556"
            ]
          },
          "metadata": {},
          "execution_count": 47
        }
      ]
    },
    {
      "cell_type": "markdown",
      "source": [
        "# 고속 옵티마이저\n",
        "## 1.모멘텀 최적화"
      ],
      "metadata": {
        "id": "cxB50gcu21AE"
      }
    },
    {
      "cell_type": "code",
      "source": [
        "optimizer = keras.optimizers.SGD(learning_rate=0.001, momentum=0.9)"
      ],
      "metadata": {
        "id": "RvjgBQ6vrFB7"
      },
      "execution_count": 48,
      "outputs": []
    },
    {
      "cell_type": "markdown",
      "source": [
        "## 2.네스테로프 가속 경사"
      ],
      "metadata": {
        "id": "00ERi3hm39NW"
      }
    },
    {
      "cell_type": "code",
      "source": [
        "optimizer = keras.optimizers.SGD(learning_rate=0.001, momentum=0.9, nesterov=True)"
      ],
      "metadata": {
        "id": "Lzv9QEFR3HR4"
      },
      "execution_count": 49,
      "outputs": []
    },
    {
      "cell_type": "markdown",
      "source": [
        "## 3.AdaGrad"
      ],
      "metadata": {
        "id": "dWDDWJoW5lhr"
      }
    },
    {
      "cell_type": "code",
      "source": [
        "optimizer = keras.optimizers.Adagrad(learning_rate=0.001)"
      ],
      "metadata": {
        "id": "Ui8JjAPC4Imj"
      },
      "execution_count": 50,
      "outputs": []
    },
    {
      "cell_type": "markdown",
      "source": [
        "## 4.RMSProp"
      ],
      "metadata": {
        "id": "2okDFbO95sMR"
      }
    },
    {
      "cell_type": "code",
      "source": [
        "optimizer = keras.optimizers.RMSprop(learning_rate=0.001, rho=0.9)"
      ],
      "metadata": {
        "id": "Oj6tNjOE5ptt"
      },
      "execution_count": 51,
      "outputs": []
    },
    {
      "cell_type": "markdown",
      "source": [
        "## 5.Adam"
      ],
      "metadata": {
        "id": "PbQPnJ8r63oM"
      }
    },
    {
      "cell_type": "code",
      "source": [
        "optimizer = keras.optimizers.Adam(learning_rate=0.001, beta_1=0.9, beta_2=0.999)"
      ],
      "metadata": {
        "id": "VC46s8835yob"
      },
      "execution_count": 52,
      "outputs": []
    },
    {
      "cell_type": "markdown",
      "source": [
        "## 6.AdaMax"
      ],
      "metadata": {
        "id": "EGGTejMD8Ev1"
      }
    },
    {
      "cell_type": "code",
      "source": [
        "optimizer = keras.optimizers.Adamax(learning_rate=0.001, beta_1=0.9, beta_2=0.999)"
      ],
      "metadata": {
        "id": "oFoyXCYB7Fni"
      },
      "execution_count": 53,
      "outputs": []
    },
    {
      "cell_type": "markdown",
      "source": [
        "## 7.Nadam"
      ],
      "metadata": {
        "id": "zSSby5cR8LvM"
      }
    },
    {
      "cell_type": "code",
      "source": [
        "optimizer = keras.optimizers.Nadam(learning_rate=0.001, beta_1=0.9, beta_2=0.999)"
      ],
      "metadata": {
        "id": "1qkTvEOs8KjF"
      },
      "execution_count": 54,
      "outputs": []
    },
    {
      "cell_type": "markdown",
      "source": [
        "# 학습률 스케줄링\n",
        "## 1.지수 기반 스케줄링"
      ],
      "metadata": {
        "id": "LtSLf3ow9WGY"
      }
    },
    {
      "cell_type": "code",
      "source": [
        "def exponential_decay_fn(epoch):\n",
        "    return 0.01 * 0.1**(epoch / 20)"
      ],
      "metadata": {
        "id": "4S1EZANb8RHi"
      },
      "execution_count": 55,
      "outputs": []
    },
    {
      "cell_type": "code",
      "source": [
        "def exponential_decay(lr0, s):\n",
        "    def exponential_decay_fn(epoch):\n",
        "        return lr0 * 0.1**(epoch / s)\n",
        "    return exponential_decay_fn\n",
        "\n",
        "exponential_decay_fn = exponential_decay(lr0=0.01, s=20)"
      ],
      "metadata": {
        "id": "F2XgC-DhBBh1"
      },
      "execution_count": 56,
      "outputs": []
    },
    {
      "cell_type": "code",
      "source": [
        "model = keras.models.Sequential([\n",
        "    keras.layers.Flatten(input_shape=[28, 28]),\n",
        "    keras.layers.Dense(300, activation=\"selu\", kernel_initializer=\"lecun_normal\"),\n",
        "    keras.layers.Dense(100, activation=\"selu\", kernel_initializer=\"lecun_normal\"),\n",
        "    keras.layers.Dense(10, activation=\"softmax\")\n",
        "])\n",
        "model.compile(loss=\"sparse_categorical_crossentropy\", optimizer=\"nadam\", metrics=[\"accuracy\"])\n",
        "n_epochs = 25\n",
        "lr_scheduler = keras.callbacks.LearningRateScheduler(exponential_decay_fn)\n",
        "history = model.fit(X_train_scaled, y_train, epochs=n_epochs,\n",
        "                    validation_data=(X_valid_scaled, y_valid),\n",
        "                    callbacks=[lr_scheduler])"
      ],
      "metadata": {
        "colab": {
          "base_uri": "https://localhost:8080/"
        },
        "id": "lI2Dvy-_BBfv",
        "outputId": "793e712d-3c34-4adc-e897-4de6c6598470"
      },
      "execution_count": 57,
      "outputs": [
        {
          "output_type": "stream",
          "name": "stdout",
          "text": [
            "Epoch 1/25\n",
            "1719/1719 [==============================] - 9s 4ms/step - loss: 0.7274 - accuracy: 0.7849 - val_loss: 0.6689 - val_accuracy: 0.8130 - lr: 0.0100\n",
            "Epoch 2/25\n",
            "1719/1719 [==============================] - 8s 4ms/step - loss: 0.6846 - accuracy: 0.7957 - val_loss: 0.9084 - val_accuracy: 0.7128 - lr: 0.0089\n",
            "Epoch 3/25\n",
            "1719/1719 [==============================] - 7s 4ms/step - loss: 0.7133 - accuracy: 0.7997 - val_loss: 0.8052 - val_accuracy: 0.8152 - lr: 0.0079\n",
            "Epoch 4/25\n",
            "1719/1719 [==============================] - 8s 4ms/step - loss: 0.6151 - accuracy: 0.8261 - val_loss: 0.5764 - val_accuracy: 0.8276 - lr: 0.0071\n",
            "Epoch 5/25\n",
            "1719/1719 [==============================] - 8s 5ms/step - loss: 0.5527 - accuracy: 0.8411 - val_loss: 0.5908 - val_accuracy: 0.8532 - lr: 0.0063\n",
            "Epoch 6/25\n",
            "1719/1719 [==============================] - 9s 5ms/step - loss: 0.5010 - accuracy: 0.8544 - val_loss: 0.5820 - val_accuracy: 0.8560 - lr: 0.0056\n",
            "Epoch 7/25\n",
            "1719/1719 [==============================] - 8s 5ms/step - loss: 0.4906 - accuracy: 0.8594 - val_loss: 0.5342 - val_accuracy: 0.8488 - lr: 0.0050\n",
            "Epoch 8/25\n",
            "1719/1719 [==============================] - 7s 4ms/step - loss: 0.4299 - accuracy: 0.8725 - val_loss: 0.6251 - val_accuracy: 0.8438 - lr: 0.0045\n",
            "Epoch 9/25\n",
            "1719/1719 [==============================] - 8s 5ms/step - loss: 0.4116 - accuracy: 0.8764 - val_loss: 0.4782 - val_accuracy: 0.8764 - lr: 0.0040\n",
            "Epoch 10/25\n",
            "1719/1719 [==============================] - 7s 4ms/step - loss: 0.3684 - accuracy: 0.8870 - val_loss: 0.4810 - val_accuracy: 0.8754 - lr: 0.0035\n",
            "Epoch 11/25\n",
            "1719/1719 [==============================] - 8s 5ms/step - loss: 0.3416 - accuracy: 0.8934 - val_loss: 0.4325 - val_accuracy: 0.8810 - lr: 0.0032\n",
            "Epoch 12/25\n",
            "1719/1719 [==============================] - 7s 4ms/step - loss: 0.3239 - accuracy: 0.8989 - val_loss: 0.5005 - val_accuracy: 0.8708 - lr: 0.0028\n",
            "Epoch 13/25\n",
            "1719/1719 [==============================] - 8s 5ms/step - loss: 0.2950 - accuracy: 0.9058 - val_loss: 0.4858 - val_accuracy: 0.8738 - lr: 0.0025\n",
            "Epoch 14/25\n",
            "1719/1719 [==============================] - 7s 4ms/step - loss: 0.2676 - accuracy: 0.9144 - val_loss: 0.4731 - val_accuracy: 0.8760 - lr: 0.0022\n",
            "Epoch 15/25\n",
            "1719/1719 [==============================] - 8s 4ms/step - loss: 0.2541 - accuracy: 0.9189 - val_loss: 0.4482 - val_accuracy: 0.8864 - lr: 0.0020\n",
            "Epoch 16/25\n",
            "1719/1719 [==============================] - 7s 4ms/step - loss: 0.2306 - accuracy: 0.9255 - val_loss: 0.4881 - val_accuracy: 0.8892 - lr: 0.0018\n",
            "Epoch 17/25\n",
            "1719/1719 [==============================] - 8s 5ms/step - loss: 0.2195 - accuracy: 0.9291 - val_loss: 0.5298 - val_accuracy: 0.8880 - lr: 0.0016\n",
            "Epoch 18/25\n",
            "1719/1719 [==============================] - 7s 4ms/step - loss: 0.2010 - accuracy: 0.9354 - val_loss: 0.4925 - val_accuracy: 0.8858 - lr: 0.0014\n",
            "Epoch 19/25\n",
            "1719/1719 [==============================] - 8s 5ms/step - loss: 0.1843 - accuracy: 0.9421 - val_loss: 0.5072 - val_accuracy: 0.8908 - lr: 0.0013\n",
            "Epoch 20/25\n",
            "1719/1719 [==============================] - 7s 4ms/step - loss: 0.1690 - accuracy: 0.9455 - val_loss: 0.5734 - val_accuracy: 0.8850 - lr: 0.0011\n",
            "Epoch 21/25\n",
            "1719/1719 [==============================] - 8s 5ms/step - loss: 0.1609 - accuracy: 0.9498 - val_loss: 0.5853 - val_accuracy: 0.8836 - lr: 0.0010\n",
            "Epoch 22/25\n",
            "1719/1719 [==============================] - 7s 4ms/step - loss: 0.1510 - accuracy: 0.9536 - val_loss: 0.5706 - val_accuracy: 0.8904 - lr: 8.9125e-04\n",
            "Epoch 23/25\n",
            "1719/1719 [==============================] - 8s 5ms/step - loss: 0.1359 - accuracy: 0.9582 - val_loss: 0.5949 - val_accuracy: 0.8860 - lr: 7.9433e-04\n",
            "Epoch 24/25\n",
            "1719/1719 [==============================] - 7s 4ms/step - loss: 0.1270 - accuracy: 0.9618 - val_loss: 0.6416 - val_accuracy: 0.8910 - lr: 7.0795e-04\n",
            "Epoch 25/25\n",
            "1719/1719 [==============================] - 8s 5ms/step - loss: 0.1188 - accuracy: 0.9648 - val_loss: 0.6164 - val_accuracy: 0.8902 - lr: 6.3096e-04\n"
          ]
        }
      ]
    },
    {
      "cell_type": "code",
      "source": [
        "plt.plot(history.epoch, history.history[\"lr\"], \"o-\")\n",
        "plt.axis([0, n_epochs - 1, 0, 0.011])\n",
        "plt.xlabel(\"Epoch\")\n",
        "plt.ylabel(\"Learning Rate\")\n",
        "plt.title(\"Exponential Scheduling\", fontsize=14)\n",
        "plt.grid(True)\n",
        "plt.show()"
      ],
      "metadata": {
        "colab": {
          "base_uri": "https://localhost:8080/",
          "height": 0
        },
        "id": "YYvIo2_kBBbU",
        "outputId": "56acd262-1cd9-4295-d5f8-ea8c83989674"
      },
      "execution_count": 58,
      "outputs": [
        {
          "output_type": "display_data",
          "data": {
            "text/plain": [
              "<Figure size 640x480 with 1 Axes>"
            ],
            "image/png": "[encoded data removed]"
          },
          "metadata": {}
        }
      ]
    },
    {
      "cell_type": "markdown",
      "source": [
        "## 2.구간별 고정 스케줄링"
      ],
      "metadata": {
        "id": "NbSanmFtCmAS"
      }
    },
    {
      "cell_type": "code",
      "source": [
        "def piecewise_constant_fn(epoch):\n",
        "    if epoch < 5:\n",
        "        return 0.01\n",
        "    elif epoch < 15:\n",
        "        return 0.005\n",
        "    else:\n",
        "        return 0.001"
      ],
      "metadata": {
        "id": "4sTlWIftBBY-"
      },
      "execution_count": 59,
      "outputs": []
    },
    {
      "cell_type": "code",
      "source": [
        "def piecewise_constant(boundaries, values):\n",
        "    boundaries = np.array([0] + boundaries)\n",
        "    values = np.array(values)\n",
        "    def piecewise_constant_fn(epoch):\n",
        "        return values[np.argmax(boundaries > epoch) - 1]\n",
        "    return piecewise_constant_fn\n",
        "\n",
        "piecewise_constant_fn = piecewise_constant([5, 15], [0.01, 0.005, 0.001])"
      ],
      "metadata": {
        "id": "6ASDqkrsBBV1"
      },
      "execution_count": 60,
      "outputs": []
    },
    {
      "cell_type": "code",
      "source": [
        "model = keras.models.Sequential([\n",
        "    keras.layers.Flatten(input_shape=[28, 28]),\n",
        "    keras.layers.Dense(300, activation=\"selu\", kernel_initializer=\"lecun_normal\"),\n",
        "    keras.layers.Dense(100, activation=\"selu\", kernel_initializer=\"lecun_normal\"),\n",
        "    keras.layers.Dense(10, activation=\"softmax\")\n",
        "])\n",
        "model.compile(loss=\"sparse_categorical_crossentropy\", optimizer=\"nadam\", metrics=[\"accuracy\"])\n",
        "n_epochs = 25\n",
        "lr_scheduler = keras.callbacks.LearningRateScheduler(piecewise_constant_fn)\n",
        "history = model.fit(X_train_scaled, y_train, epochs=n_epochs,\n",
        "                    validation_data=(X_valid_scaled, y_valid),\n",
        "                    callbacks=[lr_scheduler])"
      ],
      "metadata": {
        "colab": {
          "base_uri": "https://localhost:8080/"
        },
        "id": "udd4xw7NBBTz",
        "outputId": "93bc872f-0287-4d20-d84d-bc926ea905b8"
      },
      "execution_count": 61,
      "outputs": [
        {
          "output_type": "stream",
          "name": "stdout",
          "text": [
            "Epoch 1/25\n",
            "1719/1719 [==============================] - 10s 5ms/step - loss: 0.7424 - accuracy: 0.7782 - val_loss: 0.6905 - val_accuracy: 0.8110 - lr: 0.0100\n",
            "Epoch 2/25\n",
            "1719/1719 [==============================] - 7s 4ms/step - loss: 0.7741 - accuracy: 0.7695 - val_loss: 0.7125 - val_accuracy: 0.7714 - lr: 0.0100\n",
            "Epoch 3/25\n",
            "1719/1719 [==============================] - 8s 4ms/step - loss: 0.9987 - accuracy: 0.6804 - val_loss: 1.0377 - val_accuracy: 0.6548 - lr: 0.0100\n",
            "Epoch 4/25\n",
            "1719/1719 [==============================] - 7s 4ms/step - loss: 1.0716 - accuracy: 0.6553 - val_loss: 1.1248 - val_accuracy: 0.5818 - lr: 0.0100\n",
            "Epoch 5/25\n",
            "1719/1719 [==============================] - 8s 5ms/step - loss: 1.1247 - accuracy: 0.5962 - val_loss: 1.0093 - val_accuracy: 0.5750 - lr: 0.0100\n",
            "Epoch 6/25\n",
            "1719/1719 [==============================] - 7s 4ms/step - loss: 0.9106 - accuracy: 0.6436 - val_loss: 0.8656 - val_accuracy: 0.6698 - lr: 0.0050\n",
            "Epoch 7/25\n",
            "1719/1719 [==============================] - 8s 5ms/step - loss: 0.8642 - accuracy: 0.6649 - val_loss: 0.8554 - val_accuracy: 0.6456 - lr: 0.0050\n",
            "Epoch 8/25\n",
            "1719/1719 [==============================] - 7s 4ms/step - loss: 0.8937 - accuracy: 0.6658 - val_loss: 0.9487 - val_accuracy: 0.6722 - lr: 0.0050\n",
            "Epoch 9/25\n",
            "1719/1719 [==============================] - 8s 5ms/step - loss: 0.8636 - accuracy: 0.6702 - val_loss: 0.9018 - val_accuracy: 0.6828 - lr: 0.0050\n",
            "Epoch 10/25\n",
            "1719/1719 [==============================] - 7s 4ms/step - loss: 0.8338 - accuracy: 0.6732 - val_loss: 0.9592 - val_accuracy: 0.6528 - lr: 0.0050\n",
            "Epoch 11/25\n",
            "1719/1719 [==============================] - 7s 4ms/step - loss: 0.8198 - accuracy: 0.6791 - val_loss: 0.9566 - val_accuracy: 0.6428 - lr: 0.0050\n",
            "Epoch 12/25\n",
            "1719/1719 [==============================] - 7s 4ms/step - loss: 0.8383 - accuracy: 0.6792 - val_loss: 0.9506 - val_accuracy: 0.6456 - lr: 0.0050\n",
            "Epoch 13/25\n",
            "1719/1719 [==============================] - 7s 4ms/step - loss: 0.8227 - accuracy: 0.6804 - val_loss: 0.9242 - val_accuracy: 0.6780 - lr: 0.0050\n",
            "Epoch 14/25\n",
            "1719/1719 [==============================] - 7s 4ms/step - loss: 0.7982 - accuracy: 0.6844 - val_loss: 0.9106 - val_accuracy: 0.6858 - lr: 0.0050\n",
            "Epoch 15/25\n",
            "1719/1719 [==============================] - 7s 4ms/step - loss: 0.7341 - accuracy: 0.7460 - val_loss: 0.8001 - val_accuracy: 0.7446 - lr: 0.0050\n",
            "Epoch 16/25\n",
            "1719/1719 [==============================] - 7s 4ms/step - loss: 0.5111 - accuracy: 0.8060 - val_loss: 0.6420 - val_accuracy: 0.8186 - lr: 0.0010\n",
            "Epoch 17/25\n",
            "1719/1719 [==============================] - 7s 4ms/step - loss: 0.4438 - accuracy: 0.8559 - val_loss: 0.5903 - val_accuracy: 0.8304 - lr: 0.0010\n",
            "Epoch 18/25\n",
            "1719/1719 [==============================] - 7s 4ms/step - loss: 0.3855 - accuracy: 0.8821 - val_loss: 0.5392 - val_accuracy: 0.8650 - lr: 0.0010\n",
            "Epoch 19/25\n",
            "1719/1719 [==============================] - 7s 4ms/step - loss: 0.3568 - accuracy: 0.8912 - val_loss: 0.5428 - val_accuracy: 0.8674 - lr: 0.0010\n",
            "Epoch 20/25\n",
            "1719/1719 [==============================] - 9s 5ms/step - loss: 0.3405 - accuracy: 0.8971 - val_loss: 0.5195 - val_accuracy: 0.8738 - lr: 0.0010\n",
            "Epoch 21/25\n",
            "1719/1719 [==============================] - 8s 5ms/step - loss: 0.3237 - accuracy: 0.8991 - val_loss: 0.5361 - val_accuracy: 0.8672 - lr: 0.0010\n",
            "Epoch 22/25\n",
            "1719/1719 [==============================] - 8s 4ms/step - loss: 0.3122 - accuracy: 0.9035 - val_loss: 0.5553 - val_accuracy: 0.8750 - lr: 0.0010\n",
            "Epoch 23/25\n",
            "1719/1719 [==============================] - 7s 4ms/step - loss: 0.2997 - accuracy: 0.9068 - val_loss: 0.6134 - val_accuracy: 0.8680 - lr: 0.0010\n",
            "Epoch 24/25\n",
            "1719/1719 [==============================] - 8s 4ms/step - loss: 0.2891 - accuracy: 0.9102 - val_loss: 0.5611 - val_accuracy: 0.8728 - lr: 0.0010\n",
            "Epoch 25/25\n",
            "1719/1719 [==============================] - 7s 4ms/step - loss: 0.2792 - accuracy: 0.9134 - val_loss: 0.5438 - val_accuracy: 0.8734 - lr: 0.0010\n"
          ]
        }
      ]
    },
    {
      "cell_type": "code",
      "source": [
        "plt.plot(history.epoch, [piecewise_constant_fn(epoch) for epoch in history.epoch], \"o-\")\n",
        "plt.axis([0, n_epochs - 1, 0, 0.011])\n",
        "plt.xlabel(\"Epoch\")\n",
        "plt.ylabel(\"Learning Rate\")\n",
        "plt.title(\"Piecewise Constant Scheduling\", fontsize=14)\n",
        "plt.grid(True)\n",
        "plt.show()"
      ],
      "metadata": {
        "colab": {
          "base_uri": "https://localhost:8080/",
          "height": 0
        },
        "id": "AlyGee7oC9IN",
        "outputId": "b45e93dc-f714-4464-9293-1b3b0889f726"
      },
      "execution_count": 62,
      "outputs": [
        {
          "output_type": "display_data",
          "data": {
            "text/plain": [
              "<Figure size 640x480 with 1 Axes>"
            ],
            "image/png": "[encoded data removed]"
          },
          "metadata": {}
        }
      ]
    },
    {
      "cell_type": "markdown",
      "source": [
        "## 3.성능 기반 스케줄링"
      ],
      "metadata": {
        "id": "0rS8rpJOEJPE"
      }
    },
    {
      "cell_type": "code",
      "source": [
        "tf.random.set_seed(42)\n",
        "np.random.seed(42)"
      ],
      "metadata": {
        "id": "_TKT4NQZDAuu"
      },
      "execution_count": 63,
      "outputs": []
    },
    {
      "cell_type": "code",
      "source": [
        "model = keras.models.Sequential([\n",
        "    keras.layers.Flatten(input_shape=[28, 28]),\n",
        "    keras.layers.Dense(300, activation=\"selu\", kernel_initializer=\"lecun_normal\"),\n",
        "    keras.layers.Dense(100, activation=\"selu\", kernel_initializer=\"lecun_normal\"),\n",
        "    keras.layers.Dense(10, activation=\"softmax\")\n",
        "])\n",
        "optimizer = keras.optimizers.SGD(learning_rate=0.02, momentum=0.9)\n",
        "model.compile(loss=\"sparse_categorical_crossentropy\", optimizer=optimizer, metrics=[\"accuracy\"])\n",
        "n_epochs = 25\n",
        "lr_scheduler = keras.callbacks.ReduceLROnPlateau(factor=0.5, patience=5)\n",
        "history = model.fit(X_train_scaled, y_train, epochs=n_epochs,\n",
        "                    validation_data=(X_valid_scaled, y_valid),\n",
        "                    callbacks=[lr_scheduler])"
      ],
      "metadata": {
        "colab": {
          "base_uri": "https://localhost:8080/"
        },
        "id": "s61ugrNEEPMP",
        "outputId": "a0df8a31-19e5-42ba-8ce2-50f46630b6af"
      },
      "execution_count": 64,
      "outputs": [
        {
          "output_type": "stream",
          "name": "stdout",
          "text": [
            "Epoch 1/25\n",
            "1719/1719 [==============================] - 7s 4ms/step - loss: 0.5933 - accuracy: 0.8075 - val_loss: 0.5115 - val_accuracy: 0.8426 - lr: 0.0200\n",
            "Epoch 2/25\n",
            "1719/1719 [==============================] - 7s 4ms/step - loss: 0.4954 - accuracy: 0.8395 - val_loss: 0.6205 - val_accuracy: 0.8338 - lr: 0.0200\n",
            "Epoch 3/25\n",
            "1719/1719 [==============================] - 6s 3ms/step - loss: 0.5063 - accuracy: 0.8431 - val_loss: 0.4487 - val_accuracy: 0.8540 - lr: 0.0200\n",
            "Epoch 4/25\n",
            "1719/1719 [==============================] - 7s 4ms/step - loss: 0.5241 - accuracy: 0.8437 - val_loss: 0.5031 - val_accuracy: 0.8530 - lr: 0.0200\n",
            "Epoch 5/25\n",
            "1719/1719 [==============================] - 6s 4ms/step - loss: 0.5164 - accuracy: 0.8498 - val_loss: 0.5474 - val_accuracy: 0.8292 - lr: 0.0200\n",
            "Epoch 6/25\n",
            "1719/1719 [==============================] - 6s 4ms/step - loss: 0.5146 - accuracy: 0.8530 - val_loss: 0.5714 - val_accuracy: 0.8536 - lr: 0.0200\n",
            "Epoch 7/25\n",
            "1719/1719 [==============================] - 7s 4ms/step - loss: 0.5152 - accuracy: 0.8557 - val_loss: 0.6248 - val_accuracy: 0.8490 - lr: 0.0200\n",
            "Epoch 8/25\n",
            "1719/1719 [==============================] - 6s 4ms/step - loss: 0.5330 - accuracy: 0.8540 - val_loss: 0.7897 - val_accuracy: 0.8090 - lr: 0.0200\n",
            "Epoch 9/25\n",
            "1719/1719 [==============================] - 7s 4ms/step - loss: 0.3072 - accuracy: 0.8938 - val_loss: 0.3998 - val_accuracy: 0.8794 - lr: 0.0100\n",
            "Epoch 10/25\n",
            "1719/1719 [==============================] - 6s 3ms/step - loss: 0.2570 - accuracy: 0.9080 - val_loss: 0.3942 - val_accuracy: 0.8862 - lr: 0.0100\n",
            "Epoch 11/25\n",
            "1719/1719 [==============================] - 7s 4ms/step - loss: 0.2363 - accuracy: 0.9137 - val_loss: 0.4071 - val_accuracy: 0.8840 - lr: 0.0100\n",
            "Epoch 12/25\n",
            "1719/1719 [==============================] - 6s 4ms/step - loss: 0.2224 - accuracy: 0.9186 - val_loss: 0.4732 - val_accuracy: 0.8708 - lr: 0.0100\n",
            "Epoch 13/25\n",
            "1719/1719 [==============================] - 7s 4ms/step - loss: 0.2073 - accuracy: 0.9236 - val_loss: 0.4310 - val_accuracy: 0.8860 - lr: 0.0100\n",
            "Epoch 14/25\n",
            "1719/1719 [==============================] - 6s 4ms/step - loss: 0.1912 - accuracy: 0.9278 - val_loss: 0.4530 - val_accuracy: 0.8810 - lr: 0.0100\n",
            "Epoch 15/25\n",
            "1719/1719 [==============================] - 7s 4ms/step - loss: 0.1929 - accuracy: 0.9282 - val_loss: 0.4325 - val_accuracy: 0.8870 - lr: 0.0100\n",
            "Epoch 16/25\n",
            "1719/1719 [==============================] - 6s 3ms/step - loss: 0.1307 - accuracy: 0.9497 - val_loss: 0.4300 - val_accuracy: 0.8944 - lr: 0.0050\n",
            "Epoch 17/25\n",
            "1719/1719 [==============================] - 7s 4ms/step - loss: 0.1172 - accuracy: 0.9546 - val_loss: 0.4498 - val_accuracy: 0.8942 - lr: 0.0050\n",
            "Epoch 18/25\n",
            "1719/1719 [==============================] - 6s 4ms/step - loss: 0.1080 - accuracy: 0.9574 - val_loss: 0.4677 - val_accuracy: 0.8882 - lr: 0.0050\n",
            "Epoch 19/25\n",
            "1719/1719 [==============================] - 7s 4ms/step - loss: 0.1028 - accuracy: 0.9601 - val_loss: 0.4947 - val_accuracy: 0.8926 - lr: 0.0050\n",
            "Epoch 20/25\n",
            "1719/1719 [==============================] - 6s 3ms/step - loss: 0.0960 - accuracy: 0.9620 - val_loss: 0.4881 - val_accuracy: 0.8950 - lr: 0.0050\n",
            "Epoch 21/25\n",
            "1719/1719 [==============================] - 7s 4ms/step - loss: 0.0751 - accuracy: 0.9715 - val_loss: 0.4901 - val_accuracy: 0.8938 - lr: 0.0025\n",
            "Epoch 22/25\n",
            "1719/1719 [==============================] - 6s 4ms/step - loss: 0.0696 - accuracy: 0.9735 - val_loss: 0.5041 - val_accuracy: 0.8948 - lr: 0.0025\n",
            "Epoch 23/25\n",
            "1719/1719 [==============================] - 6s 4ms/step - loss: 0.0656 - accuracy: 0.9752 - val_loss: 0.5093 - val_accuracy: 0.8948 - lr: 0.0025\n",
            "Epoch 24/25\n",
            "1719/1719 [==============================] - 7s 4ms/step - loss: 0.0620 - accuracy: 0.9765 - val_loss: 0.5273 - val_accuracy: 0.8948 - lr: 0.0025\n",
            "Epoch 25/25\n",
            "1719/1719 [==============================] - 6s 3ms/step - loss: 0.0598 - accuracy: 0.9779 - val_loss: 0.5349 - val_accuracy: 0.8918 - lr: 0.0025\n"
          ]
        }
      ]
    },
    {
      "cell_type": "code",
      "source": [
        "plt.plot(history.epoch, history.history[\"lr\"], \"o-\")\n",
        "plt.xlabel(\"Epoch\")\n",
        "plt.ylabel(\"Learning Rate\")\n",
        "plt.title(\"Reduce LR on Plateau\", fontsize=14)\n",
        "plt.grid(True)\n",
        "plt.show()"
      ],
      "metadata": {
        "colab": {
          "base_uri": "https://localhost:8080/",
          "height": 0
        },
        "id": "2_uORTu3EgpB",
        "outputId": "5f0b24ea-e178-45e5-cf4d-c84f286b62ea"
      },
      "execution_count": 65,
      "outputs": [
        {
          "output_type": "display_data",
          "data": {
            "text/plain": [
              "<Figure size 640x480 with 1 Axes>"
            ],
            "image/png": "[encoded data removed]"
          },
          "metadata": {}
        }
      ]
    },
    {
      "cell_type": "markdown",
      "source": [
        "# 규제를 사용해 과대적합 피하기\n",
        "## 1.$\\ell_1$과 $\\ell_2$ 규제"
      ],
      "metadata": {
        "id": "9N1u7NEmFw6M"
      }
    },
    {
      "cell_type": "code",
      "source": [
        "layer = keras.layers.Dense(100, activation=\"elu\",\n",
        "                           kernel_initializer=\"he_normal\",\n",
        "                           kernel_regularizer=keras.regularizers.l2(0.01))"
      ],
      "metadata": {
        "id": "qgzXKxPTFOZv"
      },
      "execution_count": 66,
      "outputs": []
    },
    {
      "cell_type": "code",
      "source": [
        "model = keras.models.Sequential([\n",
        "    keras.layers.Flatten(input_shape=[28, 28]),\n",
        "    keras.layers.Dense(300, activation=\"elu\",\n",
        "                       kernel_initializer=\"he_normal\",\n",
        "                       kernel_regularizer=keras.regularizers.l2(0.01)),\n",
        "    keras.layers.Dense(100, activation=\"elu\",\n",
        "                       kernel_initializer=\"he_normal\",\n",
        "                       kernel_regularizer=keras.regularizers.l2(0.01)),\n",
        "    keras.layers.Dense(10, activation=\"softmax\",\n",
        "                       kernel_regularizer=keras.regularizers.l2(0.01))\n",
        "])\n",
        "model.compile(loss=\"sparse_categorical_crossentropy\", optimizer=\"nadam\", metrics=[\"accuracy\"])\n",
        "n_epochs = 2\n",
        "history = model.fit(X_train_scaled, y_train, epochs=n_epochs, validation_data=(X_valid_scaled, y_valid))"
      ],
      "metadata": {
        "colab": {
          "base_uri": "https://localhost:8080/"
        },
        "id": "jCDoS4C4G-wm",
        "outputId": "42126a7e-304a-4442-8c4e-d58dd2a922fb"
      },
      "execution_count": 67,
      "outputs": [
        {
          "output_type": "stream",
          "name": "stdout",
          "text": [
            "Epoch 1/2\n",
            "1719/1719 [==============================] - 8s 4ms/step - loss: 1.5724 - accuracy: 0.8126 - val_loss: 0.7049 - val_accuracy: 0.8386\n",
            "Epoch 2/2\n",
            "1719/1719 [==============================] - 8s 5ms/step - loss: 0.7186 - accuracy: 0.8281 - val_loss: 0.6935 - val_accuracy: 0.8360\n"
          ]
        }
      ]
    },
    {
      "cell_type": "code",
      "source": [
        "from functools import partial\n",
        "\n",
        "RegularizedDense = partial(keras.layers.Dense,\n",
        "                           activation=\"elu\",\n",
        "                           kernel_initializer=\"he_normal\",\n",
        "                           kernel_regularizer=keras.regularizers.l2(0.01))"
      ],
      "metadata": {
        "id": "TnmzspApHMox"
      },
      "execution_count": 68,
      "outputs": []
    },
    {
      "cell_type": "code",
      "source": [
        "model = keras.models.Sequential([\n",
        "    keras.layers.Flatten(input_shape=[28, 28]),\n",
        "    RegularizedDense(300),\n",
        "    RegularizedDense(100),\n",
        "    RegularizedDense(10, activation=\"softmax\")\n",
        "])\n",
        "model.compile(loss=\"sparse_categorical_crossentropy\", optimizer=\"nadam\", metrics=[\"accuracy\"])\n",
        "n_epochs = 2\n",
        "history = model.fit(X_train_scaled, y_train, epochs=n_epochs, validation_data=(X_valid_scaled, y_valid))"
      ],
      "metadata": {
        "colab": {
          "base_uri": "https://localhost:8080/"
        },
        "id": "ZeIpADGfH9m0",
        "outputId": "9be45255-0af4-4a4e-9559-82289cba8f5e"
      },
      "execution_count": 69,
      "outputs": [
        {
          "output_type": "stream",
          "name": "stdout",
          "text": [
            "Epoch 1/2\n",
            "1719/1719 [==============================] - 9s 5ms/step - loss: 1.6222 - accuracy: 0.8132 - val_loss: 0.7119 - val_accuracy: 0.8358\n",
            "Epoch 2/2\n",
            "1719/1719 [==============================] - 7s 4ms/step - loss: 0.7239 - accuracy: 0.8263 - val_loss: 0.6942 - val_accuracy: 0.8316\n"
          ]
        }
      ]
    },
    {
      "cell_type": "markdown",
      "source": [
        "## 2.드롭아웃"
      ],
      "metadata": {
        "id": "tWHlfoDbJwm6"
      }
    },
    {
      "cell_type": "code",
      "source": [
        "model = keras.models.Sequential([\n",
        "    keras.layers.Flatten(input_shape=[28, 28]),\n",
        "    keras.layers.Dropout(rate=0.2),\n",
        "    keras.layers.Dense(300, activation=\"elu\", kernel_initializer=\"he_normal\"),\n",
        "    keras.layers.Dropout(rate=0.2),\n",
        "    keras.layers.Dense(100, activation=\"elu\", kernel_initializer=\"he_normal\"),\n",
        "    keras.layers.Dropout(rate=0.2),\n",
        "    keras.layers.Dense(10, activation=\"softmax\")\n",
        "])\n",
        "model.compile(loss=\"sparse_categorical_crossentropy\", optimizer=\"nadam\", metrics=[\"accuracy\"])\n",
        "n_epochs = 2\n",
        "history = model.fit(X_train_scaled, y_train, epochs=n_epochs, validation_data=(X_valid_scaled, y_valid))"
      ],
      "metadata": {
        "colab": {
          "base_uri": "https://localhost:8080/"
        },
        "id": "vFRik1rDH6Gl",
        "outputId": "a07bce03-1f55-4781-dbec-11aa709556e4"
      },
      "execution_count": 70,
      "outputs": [
        {
          "output_type": "stream",
          "name": "stdout",
          "text": [
            "Epoch 1/2\n",
            "1719/1719 [==============================] - 12s 5ms/step - loss: 0.5678 - accuracy: 0.8059 - val_loss: 0.3628 - val_accuracy: 0.8694\n",
            "Epoch 2/2\n",
            "1719/1719 [==============================] - 8s 5ms/step - loss: 0.4232 - accuracy: 0.8454 - val_loss: 0.3448 - val_accuracy: 0.8694\n"
          ]
        }
      ]
    },
    {
      "cell_type": "markdown",
      "source": [
        "## 3.알파 드롭아웃"
      ],
      "metadata": {
        "id": "ZyNEQUtbLZEy"
      }
    },
    {
      "cell_type": "code",
      "source": [
        "tf.random.set_seed(42)\n",
        "np.random.seed(42)"
      ],
      "metadata": {
        "id": "dMTKCYKGIWxi"
      },
      "execution_count": 71,
      "outputs": []
    },
    {
      "cell_type": "code",
      "source": [
        "model = keras.models.Sequential([\n",
        "    keras.layers.Flatten(input_shape=[28, 28]),\n",
        "    keras.layers.AlphaDropout(rate=0.2),\n",
        "    keras.layers.Dense(300, activation=\"selu\", kernel_initializer=\"lecun_normal\"),\n",
        "    keras.layers.AlphaDropout(rate=0.2),\n",
        "    keras.layers.Dense(100, activation=\"selu\", kernel_initializer=\"lecun_normal\"),\n",
        "    keras.layers.AlphaDropout(rate=0.2),\n",
        "    keras.layers.Dense(10, activation=\"softmax\")\n",
        "])\n",
        "optimizer = keras.optimizers.SGD(learning_rate=0.01, momentum=0.9, nesterov=True)\n",
        "model.compile(loss=\"sparse_categorical_crossentropy\", optimizer=optimizer, metrics=[\"accuracy\"])\n",
        "n_epochs = 20\n",
        "history = model.fit(X_train_scaled, y_train, epochs=n_epochs, validation_data=(X_valid_scaled, y_valid))"
      ],
      "metadata": {
        "colab": {
          "base_uri": "https://localhost:8080/"
        },
        "id": "r-DWw6yPH6I8",
        "outputId": "d414d775-81c4-4fd8-dabc-72091464ff73"
      },
      "execution_count": 72,
      "outputs": [
        {
          "output_type": "stream",
          "name": "stdout",
          "text": [
            "Epoch 1/20\n",
            "1719/1719 [==============================] - 8s 4ms/step - loss: 0.6619 - accuracy: 0.7606 - val_loss: 0.5736 - val_accuracy: 0.8452\n",
            "Epoch 2/20\n",
            "1719/1719 [==============================] - 6s 4ms/step - loss: 0.5563 - accuracy: 0.7951 - val_loss: 0.5696 - val_accuracy: 0.8436\n",
            "Epoch 3/20\n",
            "1719/1719 [==============================] - 8s 5ms/step - loss: 0.5220 - accuracy: 0.8069 - val_loss: 0.5127 - val_accuracy: 0.8534\n",
            "Epoch 4/20\n",
            "1719/1719 [==============================] - 6s 4ms/step - loss: 0.5054 - accuracy: 0.8126 - val_loss: 0.4616 - val_accuracy: 0.8654\n",
            "Epoch 5/20\n",
            "1719/1719 [==============================] - 7s 4ms/step - loss: 0.4924 - accuracy: 0.8182 - val_loss: 0.4466 - val_accuracy: 0.8664\n",
            "Epoch 6/20\n",
            "1719/1719 [==============================] - 6s 4ms/step - loss: 0.4817 - accuracy: 0.8221 - val_loss: 0.4730 - val_accuracy: 0.8600\n",
            "Epoch 7/20\n",
            "1719/1719 [==============================] - 8s 4ms/step - loss: 0.4695 - accuracy: 0.8249 - val_loss: 0.4576 - val_accuracy: 0.8606\n",
            "Epoch 8/20\n",
            "1719/1719 [==============================] - 6s 4ms/step - loss: 0.4689 - accuracy: 0.8254 - val_loss: 0.4549 - val_accuracy: 0.8628\n",
            "Epoch 9/20\n",
            "1719/1719 [==============================] - 7s 4ms/step - loss: 0.4576 - accuracy: 0.8297 - val_loss: 0.4391 - val_accuracy: 0.8680\n",
            "Epoch 10/20\n",
            "1719/1719 [==============================] - 6s 4ms/step - loss: 0.4525 - accuracy: 0.8313 - val_loss: 0.4328 - val_accuracy: 0.8632\n",
            "Epoch 11/20\n",
            "1719/1719 [==============================] - 7s 4ms/step - loss: 0.4476 - accuracy: 0.8333 - val_loss: 0.4148 - val_accuracy: 0.8724\n",
            "Epoch 12/20\n",
            "1719/1719 [==============================] - 6s 4ms/step - loss: 0.4432 - accuracy: 0.8339 - val_loss: 0.5255 - val_accuracy: 0.8554\n",
            "Epoch 13/20\n",
            "1719/1719 [==============================] - 7s 4ms/step - loss: 0.4409 - accuracy: 0.8358 - val_loss: 0.4185 - val_accuracy: 0.8774\n",
            "Epoch 14/20\n",
            "1719/1719 [==============================] - 6s 4ms/step - loss: 0.4372 - accuracy: 0.8384 - val_loss: 0.4556 - val_accuracy: 0.8616\n",
            "Epoch 15/20\n",
            "1719/1719 [==============================] - 7s 4ms/step - loss: 0.4351 - accuracy: 0.8376 - val_loss: 0.4190 - val_accuracy: 0.8720\n",
            "Epoch 16/20\n",
            "1719/1719 [==============================] - 6s 4ms/step - loss: 0.4282 - accuracy: 0.8408 - val_loss: 0.4143 - val_accuracy: 0.8762\n",
            "Epoch 17/20\n",
            "1719/1719 [==============================] - 8s 4ms/step - loss: 0.4281 - accuracy: 0.8406 - val_loss: 0.5104 - val_accuracy: 0.8632\n",
            "Epoch 18/20\n",
            "1719/1719 [==============================] - 6s 4ms/step - loss: 0.4249 - accuracy: 0.8419 - val_loss: 0.4713 - val_accuracy: 0.8776\n",
            "Epoch 19/20\n",
            "1719/1719 [==============================] - 7s 4ms/step - loss: 0.4223 - accuracy: 0.8431 - val_loss: 0.4637 - val_accuracy: 0.8728\n",
            "Epoch 20/20\n",
            "1719/1719 [==============================] - 6s 4ms/step - loss: 0.4175 - accuracy: 0.8456 - val_loss: 0.4081 - val_accuracy: 0.8696\n"
          ]
        }
      ]
    },
    {
      "cell_type": "markdown",
      "source": [
        "## 4.MC 드롭아웃"
      ],
      "metadata": {
        "id": "MkMGN1kMLwFt"
      }
    },
    {
      "cell_type": "code",
      "source": [
        "tf.random.set_seed(42)\n",
        "np.random.seed(42)"
      ],
      "metadata": {
        "id": "7SVEHTebLg_V"
      },
      "execution_count": 73,
      "outputs": []
    },
    {
      "cell_type": "code",
      "source": [
        "y_probas = np.stack([model(X_test_scaled, training=True) for sample in range(100)])\n",
        "y_proba = y_probas.mean(axis=0)\n",
        "y_std = y_probas.std(axis=0)"
      ],
      "metadata": {
        "id": "YMYtvvhwLhBX"
      },
      "execution_count": 74,
      "outputs": []
    },
    {
      "cell_type": "code",
      "source": [
        "np.round(model.predict(X_test_scaled[:1]), 2)"
      ],
      "metadata": {
        "colab": {
          "base_uri": "https://localhost:8080/"
        },
        "id": "9o0Nz8mNLhEN",
        "outputId": "ce59aed7-d02e-401a-9f01-ea1fee4779ea"
      },
      "execution_count": 75,
      "outputs": [
        {
          "output_type": "stream",
          "name": "stdout",
          "text": [
            "1/1 [==============================] - 0s 75ms/step\n"
          ]
        },
        {
          "output_type": "execute_result",
          "data": {
            "text/plain": [
              "array([[0.  , 0.  , 0.  , 0.  , 0.  , 0.  , 0.  , 0.01, 0.  , 0.99]],\n",
              "      dtype=float32)"
            ]
          },
          "metadata": {},
          "execution_count": 75
        }
      ]
    },
    {
      "cell_type": "code",
      "source": [
        "np.round(y_probas[:, :1], 2)"
      ],
      "metadata": {
        "colab": {
          "base_uri": "https://localhost:8080/"
        },
        "id": "FgNuRUSaODcf",
        "outputId": "9637d67b-986e-4a4a-d2dd-2d82e528253d"
      },
      "execution_count": 76,
      "outputs": [
        {
          "output_type": "execute_result",
          "data": {
            "text/plain": [
              "array([[[0.  , 0.  , 0.  , 0.  , 0.  , 0.06, 0.  , 0.08, 0.  , 0.86]],\n",
              "\n",
              "       [[0.  , 0.  , 0.  , 0.  , 0.  , 0.01, 0.  , 0.05, 0.  , 0.94]],\n",
              "\n",
              "       [[0.  , 0.  , 0.  , 0.  , 0.  , 0.13, 0.  , 0.02, 0.  , 0.85]],\n",
              "\n",
              "       [[0.  , 0.  , 0.  , 0.  , 0.  , 0.04, 0.  , 0.45, 0.  , 0.51]],\n",
              "\n",
              "       [[0.  , 0.  , 0.  , 0.  , 0.  , 0.12, 0.  , 0.6 , 0.  , 0.28]],\n",
              "\n",
              "       [[0.  , 0.  , 0.  , 0.  , 0.  , 0.15, 0.  , 0.47, 0.  , 0.38]],\n",
              "\n",
              "       [[0.  , 0.  , 0.  , 0.  , 0.  , 0.03, 0.  , 0.02, 0.  , 0.95]],\n",
              "\n",
              "       [[0.  , 0.  , 0.  , 0.  , 0.  , 0.32, 0.  , 0.23, 0.  , 0.45]],\n",
              "\n",
              "       [[0.  , 0.  , 0.  , 0.  , 0.  , 0.01, 0.  , 0.14, 0.  , 0.85]],\n",
              "\n",
              "       [[0.  , 0.  , 0.  , 0.  , 0.  , 0.  , 0.  , 0.07, 0.  , 0.93]],\n",
              "\n",
              "       [[0.  , 0.  , 0.  , 0.  , 0.  , 0.01, 0.  , 0.05, 0.  , 0.95]],\n",
              "\n",
              "       [[0.  , 0.  , 0.  , 0.  , 0.  , 0.07, 0.  , 0.39, 0.  , 0.54]],\n",
              "\n",
              "       [[0.  , 0.  , 0.  , 0.  , 0.  , 0.02, 0.  , 0.03, 0.  , 0.95]],\n",
              "\n",
              "       [[0.  , 0.  , 0.  , 0.  , 0.  , 0.01, 0.  , 0.4 , 0.  , 0.59]],\n",
              "\n",
              "       [[0.  , 0.  , 0.  , 0.  , 0.  , 0.01, 0.  , 0.01, 0.  , 0.98]],\n",
              "\n",
              "       [[0.  , 0.  , 0.  , 0.  , 0.  , 0.01, 0.  , 0.28, 0.  , 0.72]],\n",
              "\n",
              "       [[0.  , 0.  , 0.  , 0.  , 0.  , 0.46, 0.  , 0.03, 0.  , 0.51]],\n",
              "\n",
              "       [[0.  , 0.  , 0.  , 0.  , 0.  , 0.  , 0.  , 0.06, 0.  , 0.94]],\n",
              "\n",
              "       [[0.  , 0.  , 0.  , 0.  , 0.  , 0.63, 0.  , 0.08, 0.  , 0.3 ]],\n",
              "\n",
              "       [[0.  , 0.  , 0.  , 0.  , 0.  , 0.08, 0.  , 0.34, 0.  , 0.57]],\n",
              "\n",
              "       [[0.  , 0.  , 0.  , 0.  , 0.  , 0.38, 0.  , 0.2 , 0.  , 0.43]],\n",
              "\n",
              "       [[0.  , 0.  , 0.  , 0.  , 0.  , 0.06, 0.  , 0.5 , 0.  , 0.44]],\n",
              "\n",
              "       [[0.  , 0.  , 0.  , 0.  , 0.  , 0.25, 0.  , 0.07, 0.  , 0.68]],\n",
              "\n",
              "       [[0.  , 0.  , 0.  , 0.  , 0.  , 0.06, 0.  , 0.16, 0.  , 0.78]],\n",
              "\n",
              "       [[0.  , 0.  , 0.  , 0.  , 0.  , 0.06, 0.  , 0.1 , 0.  , 0.84]],\n",
              "\n",
              "       [[0.  , 0.  , 0.  , 0.  , 0.  , 0.01, 0.  , 0.21, 0.  , 0.78]],\n",
              "\n",
              "       [[0.  , 0.  , 0.  , 0.  , 0.  , 0.1 , 0.  , 0.19, 0.  , 0.71]],\n",
              "\n",
              "       [[0.  , 0.  , 0.  , 0.  , 0.  , 0.02, 0.  , 0.31, 0.  , 0.67]],\n",
              "\n",
              "       [[0.  , 0.  , 0.  , 0.  , 0.  , 0.  , 0.  , 0.06, 0.  , 0.94]],\n",
              "\n",
              "       [[0.  , 0.  , 0.  , 0.  , 0.  , 0.47, 0.  , 0.15, 0.  , 0.38]],\n",
              "\n",
              "       [[0.  , 0.  , 0.  , 0.  , 0.  , 0.01, 0.  , 0.28, 0.  , 0.71]],\n",
              "\n",
              "       [[0.  , 0.  , 0.  , 0.  , 0.  , 0.02, 0.  , 0.82, 0.  , 0.16]],\n",
              "\n",
              "       [[0.  , 0.  , 0.  , 0.  , 0.  , 0.01, 0.  , 0.09, 0.  , 0.9 ]],\n",
              "\n",
              "       [[0.  , 0.  , 0.  , 0.  , 0.  , 0.02, 0.  , 0.4 , 0.  , 0.58]],\n",
              "\n",
              "       [[0.  , 0.  , 0.  , 0.  , 0.  , 0.02, 0.  , 0.03, 0.  , 0.95]],\n",
              "\n",
              "       [[0.  , 0.  , 0.  , 0.  , 0.  , 0.08, 0.  , 0.6 , 0.  , 0.32]],\n",
              "\n",
              "       [[0.  , 0.  , 0.  , 0.  , 0.  , 0.02, 0.  , 0.07, 0.  , 0.91]],\n",
              "\n",
              "       [[0.  , 0.  , 0.  , 0.  , 0.  , 0.  , 0.  , 0.05, 0.  , 0.95]],\n",
              "\n",
              "       [[0.  , 0.  , 0.  , 0.  , 0.  , 0.01, 0.  , 0.  , 0.  , 0.98]],\n",
              "\n",
              "       [[0.  , 0.  , 0.  , 0.  , 0.  , 0.  , 0.  , 0.01, 0.  , 0.99]],\n",
              "\n",
              "       [[0.  , 0.  , 0.  , 0.  , 0.  , 0.03, 0.  , 0.1 , 0.  , 0.87]],\n",
              "\n",
              "       [[0.  , 0.  , 0.  , 0.  , 0.  , 0.27, 0.  , 0.06, 0.  , 0.67]],\n",
              "\n",
              "       [[0.  , 0.  , 0.  , 0.  , 0.  , 0.03, 0.  , 0.62, 0.  , 0.34]],\n",
              "\n",
              "       [[0.  , 0.  , 0.  , 0.  , 0.  , 0.  , 0.  , 0.14, 0.  , 0.85]],\n",
              "\n",
              "       [[0.  , 0.  , 0.  , 0.  , 0.  , 0.1 , 0.  , 0.24, 0.  , 0.66]],\n",
              "\n",
              "       [[0.  , 0.  , 0.  , 0.  , 0.  , 0.01, 0.  , 0.04, 0.  , 0.94]],\n",
              "\n",
              "       [[0.  , 0.  , 0.  , 0.  , 0.  , 0.16, 0.  , 0.08, 0.  , 0.76]],\n",
              "\n",
              "       [[0.  , 0.  , 0.  , 0.  , 0.  , 0.01, 0.  , 0.42, 0.  , 0.57]],\n",
              "\n",
              "       [[0.  , 0.  , 0.  , 0.  , 0.  , 0.04, 0.  , 0.87, 0.  , 0.09]],\n",
              "\n",
              "       [[0.  , 0.  , 0.  , 0.  , 0.  , 0.13, 0.  , 0.06, 0.  , 0.81]],\n",
              "\n",
              "       [[0.  , 0.  , 0.  , 0.  , 0.  , 0.61, 0.  , 0.05, 0.  , 0.34]],\n",
              "\n",
              "       [[0.  , 0.  , 0.  , 0.  , 0.  , 0.05, 0.  , 0.87, 0.  , 0.08]],\n",
              "\n",
              "       [[0.  , 0.  , 0.  , 0.  , 0.  , 0.01, 0.  , 0.21, 0.  , 0.77]],\n",
              "\n",
              "       [[0.  , 0.  , 0.  , 0.  , 0.  , 0.01, 0.  , 0.07, 0.  , 0.93]],\n",
              "\n",
              "       [[0.  , 0.  , 0.  , 0.  , 0.  , 0.03, 0.  , 0.71, 0.  , 0.26]],\n",
              "\n",
              "       [[0.  , 0.  , 0.  , 0.  , 0.  , 0.  , 0.  , 0.11, 0.  , 0.89]],\n",
              "\n",
              "       [[0.  , 0.  , 0.  , 0.  , 0.  , 0.02, 0.  , 0.17, 0.  , 0.82]],\n",
              "\n",
              "       [[0.  , 0.  , 0.  , 0.  , 0.  , 0.  , 0.  , 0.  , 0.  , 1.  ]],\n",
              "\n",
              "       [[0.  , 0.  , 0.  , 0.  , 0.  , 0.03, 0.  , 0.76, 0.  , 0.2 ]],\n",
              "\n",
              "       [[0.  , 0.  , 0.  , 0.  , 0.  , 0.  , 0.  , 0.09, 0.  , 0.9 ]],\n",
              "\n",
              "       [[0.  , 0.  , 0.  , 0.  , 0.  , 0.  , 0.  , 0.08, 0.  , 0.92]],\n",
              "\n",
              "       [[0.  , 0.  , 0.  , 0.  , 0.  , 0.02, 0.  , 0.49, 0.  , 0.49]],\n",
              "\n",
              "       [[0.  , 0.  , 0.  , 0.  , 0.  , 0.  , 0.  , 0.68, 0.  , 0.32]],\n",
              "\n",
              "       [[0.  , 0.  , 0.  , 0.  , 0.  , 0.11, 0.  , 0.13, 0.  , 0.76]],\n",
              "\n",
              "       [[0.  , 0.  , 0.  , 0.  , 0.  , 0.02, 0.  , 0.01, 0.  , 0.98]],\n",
              "\n",
              "       [[0.  , 0.  , 0.  , 0.  , 0.  , 0.01, 0.  , 0.55, 0.  , 0.45]],\n",
              "\n",
              "       [[0.  , 0.  , 0.  , 0.  , 0.  , 0.  , 0.  , 0.14, 0.  , 0.86]],\n",
              "\n",
              "       [[0.  , 0.  , 0.  , 0.  , 0.  , 0.14, 0.  , 0.39, 0.  , 0.47]],\n",
              "\n",
              "       [[0.  , 0.  , 0.  , 0.  , 0.  , 0.06, 0.  , 0.33, 0.  , 0.61]],\n",
              "\n",
              "       [[0.  , 0.  , 0.  , 0.  , 0.  , 0.01, 0.  , 0.06, 0.  , 0.93]],\n",
              "\n",
              "       [[0.  , 0.  , 0.  , 0.  , 0.  , 0.07, 0.  , 0.36, 0.  , 0.57]],\n",
              "\n",
              "       [[0.  , 0.  , 0.  , 0.  , 0.  , 0.  , 0.  , 0.02, 0.  , 0.97]],\n",
              "\n",
              "       [[0.  , 0.  , 0.  , 0.  , 0.  , 0.01, 0.  , 0.17, 0.  , 0.81]],\n",
              "\n",
              "       [[0.  , 0.  , 0.  , 0.  , 0.  , 0.13, 0.  , 0.01, 0.  , 0.86]],\n",
              "\n",
              "       [[0.  , 0.  , 0.  , 0.  , 0.  , 0.  , 0.  , 0.1 , 0.  , 0.9 ]],\n",
              "\n",
              "       [[0.  , 0.  , 0.  , 0.  , 0.  , 0.  , 0.  , 0.08, 0.  , 0.92]],\n",
              "\n",
              "       [[0.  , 0.  , 0.  , 0.  , 0.  , 0.02, 0.  , 0.82, 0.  , 0.16]],\n",
              "\n",
              "       [[0.  , 0.  , 0.  , 0.  , 0.  , 0.11, 0.  , 0.32, 0.  , 0.57]],\n",
              "\n",
              "       [[0.  , 0.  , 0.  , 0.  , 0.  , 0.04, 0.  , 0.39, 0.  , 0.58]],\n",
              "\n",
              "       [[0.  , 0.  , 0.  , 0.  , 0.  , 0.  , 0.  , 0.18, 0.  , 0.82]],\n",
              "\n",
              "       [[0.  , 0.  , 0.  , 0.  , 0.  , 0.02, 0.  , 0.08, 0.  , 0.91]],\n",
              "\n",
              "       [[0.  , 0.  , 0.  , 0.  , 0.  , 0.  , 0.  , 0.4 , 0.  , 0.6 ]],\n",
              "\n",
              "       [[0.  , 0.  , 0.  , 0.  , 0.  , 0.01, 0.  , 0.04, 0.  , 0.96]],\n",
              "\n",
              "       [[0.  , 0.  , 0.  , 0.  , 0.  , 0.07, 0.  , 0.71, 0.  , 0.22]],\n",
              "\n",
              "       [[0.  , 0.  , 0.  , 0.  , 0.  , 0.14, 0.  , 0.07, 0.  , 0.79]],\n",
              "\n",
              "       [[0.  , 0.  , 0.  , 0.  , 0.  , 0.32, 0.  , 0.18, 0.  , 0.5 ]],\n",
              "\n",
              "       [[0.  , 0.  , 0.  , 0.  , 0.  , 0.  , 0.  , 0.54, 0.  , 0.46]],\n",
              "\n",
              "       [[0.  , 0.  , 0.  , 0.  , 0.  , 0.29, 0.  , 0.24, 0.  , 0.47]],\n",
              "\n",
              "       [[0.  , 0.  , 0.  , 0.  , 0.  , 0.01, 0.  , 0.13, 0.  , 0.87]],\n",
              "\n",
              "       [[0.  , 0.  , 0.  , 0.  , 0.  , 0.01, 0.  , 0.81, 0.  , 0.18]],\n",
              "\n",
              "       [[0.  , 0.  , 0.  , 0.  , 0.  , 0.05, 0.  , 0.12, 0.  , 0.83]],\n",
              "\n",
              "       [[0.  , 0.  , 0.  , 0.  , 0.  , 0.23, 0.  , 0.02, 0.  , 0.75]],\n",
              "\n",
              "       [[0.  , 0.  , 0.  , 0.  , 0.  , 0.04, 0.  , 0.39, 0.  , 0.57]],\n",
              "\n",
              "       [[0.  , 0.  , 0.  , 0.  , 0.  , 0.48, 0.  , 0.05, 0.  , 0.47]],\n",
              "\n",
              "       [[0.  , 0.  , 0.  , 0.  , 0.  , 0.3 , 0.  , 0.1 , 0.  , 0.6 ]],\n",
              "\n",
              "       [[0.  , 0.  , 0.  , 0.  , 0.  , 0.  , 0.  , 0.1 , 0.  , 0.89]],\n",
              "\n",
              "       [[0.  , 0.  , 0.  , 0.  , 0.  , 0.  , 0.  , 0.68, 0.  , 0.32]],\n",
              "\n",
              "       [[0.  , 0.  , 0.  , 0.  , 0.  , 0.35, 0.  , 0.18, 0.  , 0.47]],\n",
              "\n",
              "       [[0.  , 0.  , 0.  , 0.  , 0.  , 0.04, 0.  , 0.6 , 0.  , 0.36]],\n",
              "\n",
              "       [[0.  , 0.  , 0.  , 0.  , 0.  , 0.  , 0.  , 0.74, 0.  , 0.26]]],\n",
              "      dtype=float32)"
            ]
          },
          "metadata": {},
          "execution_count": 76
        }
      ]
    },
    {
      "cell_type": "code",
      "source": [
        "np.round(y_proba[:1], 2)"
      ],
      "metadata": {
        "colab": {
          "base_uri": "https://localhost:8080/"
        },
        "id": "lLxVGPmOOHUj",
        "outputId": "c2199aa7-fc78-41a5-f76a-5d2e2f3f9f1a"
      },
      "execution_count": 77,
      "outputs": [
        {
          "output_type": "execute_result",
          "data": {
            "text/plain": [
              "array([[0.  , 0.  , 0.  , 0.  , 0.  , 0.08, 0.  , 0.25, 0.  , 0.66]],\n",
              "      dtype=float32)"
            ]
          },
          "metadata": {},
          "execution_count": 77
        }
      ]
    },
    {
      "cell_type": "code",
      "source": [
        "y_std = y_probas.std(axis=0)\n",
        "np.round(y_std[:1], 2)"
      ],
      "metadata": {
        "colab": {
          "base_uri": "https://localhost:8080/"
        },
        "id": "UnhINt6XOPUb",
        "outputId": "e4dbec5b-11bd-4610-eed4-28737267c95f"
      },
      "execution_count": 78,
      "outputs": [
        {
          "output_type": "execute_result",
          "data": {
            "text/plain": [
              "array([[0.  , 0.  , 0.  , 0.  , 0.  , 0.13, 0.  , 0.24, 0.  , 0.26]],\n",
              "      dtype=float32)"
            ]
          },
          "metadata": {},
          "execution_count": 78
        }
      ]
    },
    {
      "cell_type": "code",
      "source": [
        "y_pred = np.argmax(y_proba, axis=1)\n",
        "y_pred"
      ],
      "metadata": {
        "colab": {
          "base_uri": "https://localhost:8080/"
        },
        "id": "y2Je_L4lORpV",
        "outputId": "ccc8c186-d1e6-4a11-a07e-cd1584408498"
      },
      "execution_count": 79,
      "outputs": [
        {
          "output_type": "execute_result",
          "data": {
            "text/plain": [
              "array([9, 2, 1, ..., 8, 1, 5])"
            ]
          },
          "metadata": {},
          "execution_count": 79
        }
      ]
    },
    {
      "cell_type": "code",
      "source": [
        "accuracy = np.sum(y_pred == y_test) / len(y_test)\n",
        "accuracy"
      ],
      "metadata": {
        "colab": {
          "base_uri": "https://localhost:8080/"
        },
        "id": "g08XxtgrOUGV",
        "outputId": "b4745bd6-8aa2-48b6-e939-38459e070b88"
      },
      "execution_count": 80,
      "outputs": [
        {
          "output_type": "execute_result",
          "data": {
            "text/plain": [
              "0.8583"
            ]
          },
          "metadata": {},
          "execution_count": 80
        }
      ]
    },
    {
      "cell_type": "code",
      "source": [
        "class MCDropout(keras.layers.Dropout):\n",
        "    def call(self, inputs):\n",
        "        return super().call(inputs, training=True)\n",
        "\n",
        "class MCAlphaDropout(keras.layers.AlphaDropout):\n",
        "    def call(self, inputs):\n",
        "        return super().call(inputs, training=True)"
      ],
      "metadata": {
        "id": "rKwpDZTgOYOH"
      },
      "execution_count": 81,
      "outputs": []
    },
    {
      "cell_type": "code",
      "source": [
        "mc_model = keras.models.Sequential([\n",
        "    MCAlphaDropout(layer.rate) if isinstance(layer, keras.layers.AlphaDropout) else layer for layer in model.layers\n",
        "])\n",
        "mc_model.summary()"
      ],
      "metadata": {
        "colab": {
          "base_uri": "https://localhost:8080/"
        },
        "id": "uvT_3DxbOdDT",
        "outputId": "fe188c47-8127-4505-871b-61b0ddf861ab"
      },
      "execution_count": 82,
      "outputs": [
        {
          "output_type": "stream",
          "name": "stdout",
          "text": [
            "Model: \"sequential_10\"\n",
            "_________________________________________________________________\n",
            " Layer (type)                Output Shape              Param #   \n",
            "=================================================================\n",
            " flatten_7 (Flatten)         (None, 784)               0         \n",
            "                                                                 \n",
            " mc_alpha_dropout (MCAlphaD  (None, 784)               0         \n",
            " ropout)                                                         \n",
            "                                                                 \n",
            " dense_27 (Dense)            (None, 300)               235500    \n",
            "                                                                 \n",
            " mc_alpha_dropout_1 (MCAlph  (None, 300)               0         \n",
            " aDropout)                                                       \n",
            "                                                                 \n",
            " dense_28 (Dense)            (None, 100)               30100     \n",
            "                                                                 \n",
            " mc_alpha_dropout_2 (MCAlph  (None, 100)               0         \n",
            " aDropout)                                                       \n",
            "                                                                 \n",
            " dense_29 (Dense)            (None, 10)                1010      \n",
            "                                                                 \n",
            "=================================================================\n",
            "Total params: 266610 (1.02 MB)\n",
            "Trainable params: 266610 (1.02 MB)\n",
            "Non-trainable params: 0 (0.00 Byte)\n",
            "_________________________________________________________________\n"
          ]
        }
      ]
    },
    {
      "cell_type": "code",
      "source": [
        "optimizer = keras.optimizers.SGD(learning_rate=0.01, momentum=0.9, nesterov=True)\n",
        "mc_model.compile(loss=\"sparse_categorical_crossentropy\", optimizer=optimizer, metrics=[\"accuracy\"])"
      ],
      "metadata": {
        "id": "plr48AmUOtRE"
      },
      "execution_count": 83,
      "outputs": []
    },
    {
      "cell_type": "code",
      "source": [
        "mc_model.set_weights(model.get_weights())"
      ],
      "metadata": {
        "id": "Gz0wDS_2Ou0_"
      },
      "execution_count": 84,
      "outputs": []
    },
    {
      "cell_type": "code",
      "source": [
        "np.round(np.mean([mc_model.predict(X_test_scaled[:1]) for sample in range(100)], axis=0), 2)"
      ],
      "metadata": {
        "colab": {
          "base_uri": "https://localhost:8080/"
        },
        "id": "CXKdpkuEOxMC",
        "outputId": "12819e72-c95f-4919-e31b-463ea8793006"
      },
      "execution_count": 85,
      "outputs": [
        {
          "output_type": "stream",
          "name": "stdout",
          "text": [
            "1/1 [==============================] - 0s 108ms/step\n",
            "1/1 [==============================] - 0s 19ms/step\n",
            "1/1 [==============================] - 0s 17ms/step\n",
            "1/1 [==============================] - 0s 16ms/step\n",
            "1/1 [==============================] - 0s 19ms/step\n",
            "1/1 [==============================] - 0s 22ms/step\n",
            "1/1 [==============================] - 0s 17ms/step\n",
            "1/1 [==============================] - 0s 18ms/step\n",
            "1/1 [==============================] - 0s 17ms/step\n",
            "1/1 [==============================] - 0s 17ms/step\n",
            "1/1 [==============================] - 0s 16ms/step\n",
            "1/1 [==============================] - 0s 17ms/step\n",
            "1/1 [==============================] - 0s 18ms/step\n",
            "1/1 [==============================] - 0s 24ms/step\n",
            "1/1 [==============================] - 0s 17ms/step\n",
            "1/1 [==============================] - 0s 18ms/step\n",
            "1/1 [==============================] - 0s 18ms/step\n",
            "1/1 [==============================] - 0s 19ms/step\n",
            "1/1 [==============================] - 0s 16ms/step\n",
            "1/1 [==============================] - 0s 19ms/step\n",
            "1/1 [==============================] - 0s 19ms/step\n",
            "1/1 [==============================] - 0s 18ms/step\n",
            "1/1 [==============================] - 0s 21ms/step\n",
            "1/1 [==============================] - 0s 19ms/step\n",
            "1/1 [==============================] - 0s 20ms/step\n",
            "1/1 [==============================] - 0s 24ms/step\n",
            "1/1 [==============================] - 0s 17ms/step\n",
            "1/1 [==============================] - 0s 19ms/step\n",
            "1/1 [==============================] - 0s 20ms/step\n",
            "1/1 [==============================] - 0s 16ms/step\n",
            "1/1 [==============================] - 0s 16ms/step\n",
            "1/1 [==============================] - 0s 17ms/step\n",
            "1/1 [==============================] - 0s 16ms/step\n",
            "1/1 [==============================] - 0s 19ms/step\n",
            "1/1 [==============================] - 0s 18ms/step\n",
            "1/1 [==============================] - 0s 16ms/step\n",
            "1/1 [==============================] - 0s 18ms/step\n",
            "1/1 [==============================] - 0s 19ms/step\n",
            "1/1 [==============================] - 0s 17ms/step\n",
            "1/1 [==============================] - 0s 17ms/step\n",
            "1/1 [==============================] - 0s 19ms/step\n",
            "1/1 [==============================] - 0s 17ms/step\n",
            "1/1 [==============================] - 0s 17ms/step\n",
            "1/1 [==============================] - 0s 24ms/step\n",
            "1/1 [==============================] - 0s 17ms/step\n",
            "1/1 [==============================] - 0s 19ms/step\n",
            "1/1 [==============================] - 0s 16ms/step\n",
            "1/1 [==============================] - 0s 19ms/step\n",
            "1/1 [==============================] - 0s 27ms/step\n",
            "1/1 [==============================] - 0s 28ms/step\n",
            "1/1 [==============================] - 0s 29ms/step\n",
            "1/1 [==============================] - 0s 27ms/step\n",
            "1/1 [==============================] - 0s 46ms/step\n",
            "1/1 [==============================] - 0s 32ms/step\n",
            "1/1 [==============================] - 0s 31ms/step\n",
            "1/1 [==============================] - 0s 26ms/step\n",
            "1/1 [==============================] - 0s 30ms/step\n",
            "1/1 [==============================] - 0s 24ms/step\n",
            "1/1 [==============================] - 0s 24ms/step\n",
            "1/1 [==============================] - 0s 28ms/step\n",
            "1/1 [==============================] - 0s 28ms/step\n",
            "1/1 [==============================] - 0s 35ms/step\n",
            "1/1 [==============================] - 0s 29ms/step\n",
            "1/1 [==============================] - 0s 27ms/step\n",
            "1/1 [==============================] - 0s 24ms/step\n",
            "1/1 [==============================] - 0s 29ms/step\n",
            "1/1 [==============================] - 0s 28ms/step\n",
            "1/1 [==============================] - 0s 29ms/step\n",
            "1/1 [==============================] - 0s 26ms/step\n",
            "1/1 [==============================] - 0s 23ms/step\n",
            "1/1 [==============================] - 0s 25ms/step\n",
            "1/1 [==============================] - 0s 23ms/step\n",
            "1/1 [==============================] - 0s 29ms/step\n",
            "1/1 [==============================] - 0s 27ms/step\n",
            "1/1 [==============================] - 0s 27ms/step\n",
            "1/1 [==============================] - 0s 26ms/step\n",
            "1/1 [==============================] - 0s 26ms/step\n",
            "1/1 [==============================] - 0s 26ms/step\n",
            "1/1 [==============================] - 0s 27ms/step\n",
            "1/1 [==============================] - 0s 28ms/step\n",
            "1/1 [==============================] - 0s 24ms/step\n",
            "1/1 [==============================] - 0s 24ms/step\n",
            "1/1 [==============================] - 0s 25ms/step\n",
            "1/1 [==============================] - 0s 25ms/step\n",
            "1/1 [==============================] - 0s 24ms/step\n",
            "1/1 [==============================] - 0s 23ms/step\n",
            "1/1 [==============================] - 0s 23ms/step\n",
            "1/1 [==============================] - 0s 27ms/step\n",
            "1/1 [==============================] - 0s 26ms/step\n",
            "1/1 [==============================] - 0s 29ms/step\n",
            "1/1 [==============================] - 0s 27ms/step\n",
            "1/1 [==============================] - 0s 23ms/step\n",
            "1/1 [==============================] - 0s 26ms/step\n",
            "1/1 [==============================] - 0s 24ms/step\n",
            "1/1 [==============================] - 0s 26ms/step\n",
            "1/1 [==============================] - 0s 31ms/step\n",
            "1/1 [==============================] - 0s 17ms/step\n",
            "1/1 [==============================] - 0s 18ms/step\n",
            "1/1 [==============================] - 0s 18ms/step\n",
            "1/1 [==============================] - 0s 16ms/step\n"
          ]
        },
        {
          "output_type": "execute_result",
          "data": {
            "text/plain": [
              "array([[0.  , 0.  , 0.  , 0.  , 0.  , 0.07, 0.  , 0.27, 0.  , 0.66]],\n",
              "      dtype=float32)"
            ]
          },
          "metadata": {},
          "execution_count": 85
        }
      ]
    },
    {
      "cell_type": "markdown",
      "source": [
        "## 5.맥스 노름"
      ],
      "metadata": {
        "id": "-To51_a7Pg9m"
      }
    },
    {
      "cell_type": "code",
      "source": [
        "layer = keras.layers.Dense(100, activation=\"selu\", kernel_initializer=\"lecun_normal\",\n",
        "                           kernel_constraint=keras.constraints.max_norm(1.))"
      ],
      "metadata": {
        "id": "mpPdNHEDUTJi"
      },
      "execution_count": 86,
      "outputs": []
    },
    {
      "cell_type": "code",
      "source": [
        "MaxNormDense = partial(keras.layers.Dense,\n",
        "                       activation=\"selu\", kernel_initializer=\"lecun_normal\",\n",
        "                       kernel_constraint=keras.constraints.max_norm(1.))"
      ],
      "metadata": {
        "id": "ldDz61YWQ17R"
      },
      "execution_count": 87,
      "outputs": []
    },
    {
      "cell_type": "code",
      "source": [
        "model = keras.models.Sequential([\n",
        "    keras.layers.Flatten(input_shape=[28, 28]),\n",
        "    MaxNormDense(300),\n",
        "    MaxNormDense(100),\n",
        "    keras.layers.Dense(10, activation=\"softmax\")\n",
        "])\n",
        "model.compile(loss=\"sparse_categorical_crossentropy\", optimizer=\"nadam\", metrics=[\"accuracy\"])\n",
        "n_epochs = 2\n",
        "history = model.fit(X_train_scaled, y_train, epochs=n_epochs, validation_data=(X_valid_scaled, y_valid))"
      ],
      "metadata": {
        "colab": {
          "base_uri": "https://localhost:8080/"
        },
        "id": "INFIDjZHRCkL",
        "outputId": "5d21e49e-eb45-4fb7-b932-e74f68fdf64c"
      },
      "execution_count": 88,
      "outputs": [
        {
          "output_type": "stream",
          "name": "stdout",
          "text": [
            "Epoch 1/2\n",
            "1719/1719 [==============================] - 11s 5ms/step - loss: 0.4709 - accuracy: 0.8354 - val_loss: 0.3663 - val_accuracy: 0.8664\n",
            "Epoch 2/2\n",
            "1719/1719 [==============================] - 7s 4ms/step - loss: 0.3566 - accuracy: 0.8705 - val_loss: 0.3973 - val_accuracy: 0.8588\n"
          ]
        }
      ]
    },
    {
      "cell_type": "code",
      "source": [],
      "metadata": {
        "id": "25oF-UPYR4jM"
      },
      "execution_count": 88,
      "outputs": []
    }
  ]
}