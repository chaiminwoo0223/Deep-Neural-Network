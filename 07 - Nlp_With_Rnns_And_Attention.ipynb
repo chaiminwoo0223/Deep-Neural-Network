{
  "cells": [
    {
      "cell_type": "markdown",
      "metadata": {
        "id": "view-in-github",
        "colab_type": "text"
      },
      "source": [
        "<a href=\"https://colab.research.google.com/github/chaiminwoo0223/Deep-Neural-Network/blob/main/07%20-%20Nlp_With_Rnns_And_Attention.ipynb\" target=\"_parent\"><img src=\"https://colab.research.google.com/assets/colab-badge.svg\" alt=\"Open In Colab\"/></a>"
      ]
    },
    {
      "cell_type": "markdown",
      "metadata": {
        "id": "LTnUVO505K3U"
      },
      "source": [
        "# Import"
      ]
    },
    {
      "cell_type": "code",
      "execution_count": 1,
      "metadata": {
        "colab": {
          "base_uri": "https://localhost:8080/"
        },
        "id": "00XiC4iWdVhG",
        "outputId": "4a67e03e-031c-477d-a551-56af2f84c160"
      },
      "outputs": [
        {
          "output_type": "stream",
          "name": "stdout",
          "text": [
            "Requirement already satisfied: tensorflow_addons in /usr/local/lib/python3.10/dist-packages (0.23.0)\n",
            "Requirement already satisfied: packaging in /usr/local/lib/python3.10/dist-packages (from tensorflow_addons) (23.2)\n",
            "Requirement already satisfied: typeguard<3.0.0,>=2.7 in /usr/local/lib/python3.10/dist-packages (from tensorflow_addons) (2.13.3)\n"
          ]
        }
      ],
      "source": [
        "!pip install tensorflow_addons"
      ]
    },
    {
      "cell_type": "code",
      "execution_count": 2,
      "metadata": {
        "colab": {
          "base_uri": "https://localhost:8080/"
        },
        "id": "414l29zx5C4J",
        "outputId": "3169891a-b0e4-405a-de03-ae2cff95c957"
      },
      "outputs": [
        {
          "output_type": "stream",
          "name": "stderr",
          "text": [
            "/usr/local/lib/python3.10/dist-packages/tensorflow_addons/utils/tfa_eol_msg.py:23: UserWarning: \n",
            "\n",
            "TensorFlow Addons (TFA) has ended development and introduction of new features.\n",
            "TFA has entered a minimal maintenance and release mode until a planned end of life in May 2024.\n",
            "Please modify downstream libraries to take dependencies from other repositories in our TensorFlow community (e.g. Keras, Keras-CV, and Keras-NLP). \n",
            "\n",
            "For more information see: https://github.com/tensorflow/addons/issues/2807 \n",
            "\n",
            "  warnings.warn(\n"
          ]
        }
      ],
      "source": [
        "from collections import Counter\n",
        "from tensorflow import keras\n",
        "import tensorflow as tf\n",
        "import tensorflow_datasets as tfds\n",
        "import tensorflow_hub as hub\n",
        "import tensorflow_addons as tfa\n",
        "import numpy as np\n",
        "import matplotlib as mpl\n",
        "import matplotlib.pyplot as plt\n",
        "\n",
        "%matplotlib inline"
      ]
    },
    {
      "cell_type": "markdown",
      "metadata": {
        "id": "s1FBknD75P-5"
      },
      "source": [
        "# Char-RNN\n",
        "## 1.훈련 데이터셋 만들기"
      ]
    },
    {
      "cell_type": "code",
      "execution_count": 3,
      "metadata": {
        "id": "4TGaZR2p5nJd"
      },
      "outputs": [],
      "source": [
        "shakespeare_url = \"https://raw.githubusercontent.com/karpathy/char-rnn/master/data/tinyshakespeare/input.txt\"\n",
        "filepath = keras.utils.get_file(\"shakespeare.txt\", shakespeare_url)\n",
        "with open(filepath) as f:\n",
        "    shakespeare_text = f.read()"
      ]
    },
    {
      "cell_type": "code",
      "execution_count": 4,
      "metadata": {
        "colab": {
          "base_uri": "https://localhost:8080/"
        },
        "id": "cbaHhNxK5nLf",
        "outputId": "5c291628-8bcc-499a-ff67-40e8d4a8f5ec"
      },
      "outputs": [
        {
          "output_type": "stream",
          "name": "stdout",
          "text": [
            "First Citizen:\n",
            "Before we proceed any further, hear me speak.\n",
            "\n",
            "All:\n",
            "Speak, speak.\n",
            "\n",
            "First Citizen:\n",
            "You are all resolved rather to die than to famish?\n",
            "\n"
          ]
        }
      ],
      "source": [
        "print(shakespeare_text[:148])"
      ]
    },
    {
      "cell_type": "code",
      "execution_count": 5,
      "metadata": {
        "colab": {
          "base_uri": "https://localhost:8080/",
          "height": 36
        },
        "id": "GLuLqSW55nPa",
        "outputId": "84929695-188f-4af9-caa3-fc3af5be50db"
      },
      "outputs": [
        {
          "output_type": "execute_result",
          "data": {
            "text/plain": [
              "\"\\n !$&',-.3:;?abcdefghijklmnopqrstuvwxyz\""
            ],
            "application/vnd.google.colaboratory.intrinsic+json": {
              "type": "string"
            }
          },
          "metadata": {},
          "execution_count": 5
        }
      ],
      "source": [
        "\"\".join(sorted(set(shakespeare_text.lower())))"
      ]
    },
    {
      "cell_type": "code",
      "execution_count": 6,
      "metadata": {
        "colab": {
          "base_uri": "https://localhost:8080/"
        },
        "id": "sOvvWNYD5nSC",
        "outputId": "af90ef5c-1a6b-47ab-df62-fa2ec941489b"
      },
      "outputs": [
        {
          "output_type": "execute_result",
          "data": {
            "text/plain": [
              "[[20, 6, 9, 8, 3]]"
            ]
          },
          "metadata": {},
          "execution_count": 6
        }
      ],
      "source": [
        "tokenizer = keras.preprocessing.text.Tokenizer(char_level=True)\n",
        "tokenizer.fit_on_texts(shakespeare_text)\n",
        "tokenizer.texts_to_sequences([\"First\"])"
      ]
    },
    {
      "cell_type": "code",
      "execution_count": 7,
      "metadata": {
        "colab": {
          "base_uri": "https://localhost:8080/"
        },
        "id": "zW7LYxzy6Bsa",
        "outputId": "776c9aa6-a213-4e32-951a-04b73e6c3928"
      },
      "outputs": [
        {
          "output_type": "execute_result",
          "data": {
            "text/plain": [
              "['f i r s t']"
            ]
          },
          "metadata": {},
          "execution_count": 7
        }
      ],
      "source": [
        "tokenizer.sequences_to_texts([[20, 6, 9, 8, 3]])"
      ]
    },
    {
      "cell_type": "code",
      "execution_count": 8,
      "metadata": {
        "id": "MYCFme1u6MqT"
      },
      "outputs": [],
      "source": [
        "max_id = len(tokenizer.word_index)      # 고유한 문자 개수\n",
        "dataset_size = tokenizer.document_count # 전체 문자 개수"
      ]
    },
    {
      "cell_type": "code",
      "execution_count": 9,
      "metadata": {
        "id": "r2KtmuBZ6Qa4"
      },
      "outputs": [],
      "source": [
        "[encoded] = np.array(tokenizer.texts_to_sequences([shakespeare_text])) - 1\n",
        "train_size = dataset_size * 90 // 100\n",
        "dataset = tf.data.Dataset.from_tensor_slices(encoded[:train_size])"
      ]
    },
    {
      "cell_type": "markdown",
      "metadata": {
        "id": "wya2I2_H7Cwr"
      },
      "source": [
        "## 2.순차 데이터를 윈도 여러 개로 나누기"
      ]
    },
    {
      "cell_type": "code",
      "execution_count": 10,
      "metadata": {
        "id": "h6X3f5Vk6b6b"
      },
      "outputs": [],
      "source": [
        "n_steps = 100\n",
        "window_length = n_steps + 1 # 타깃 = 한 글자 앞선 입력\n",
        "dataset = dataset.window(window_length, shift=1, drop_remainder=True)"
      ]
    },
    {
      "cell_type": "code",
      "execution_count": 11,
      "metadata": {
        "id": "A-_r5AEM6oJk"
      },
      "outputs": [],
      "source": [
        "dataset = dataset.flat_map(lambda window: window.batch(window_length))"
      ]
    },
    {
      "cell_type": "code",
      "execution_count": 12,
      "metadata": {
        "id": "zG33hFju7MZL"
      },
      "outputs": [],
      "source": [
        "tf.random.set_seed(42)\n",
        "\n",
        "batch_size = 32\n",
        "dataset = dataset.shuffle(10000).batch(batch_size)\n",
        "dataset = dataset.map(lambda windows: (windows[:, :-1], windows[:, 1:]))\n",
        "dataset = dataset.map(lambda X_batch, Y_batch: (tf.one_hot(X_batch, depth=max_id), Y_batch))\n",
        "dataset = dataset.prefetch(1)"
      ]
    },
    {
      "cell_type": "code",
      "execution_count": 13,
      "metadata": {
        "colab": {
          "base_uri": "https://localhost:8080/"
        },
        "id": "m3pQClUq7joo",
        "outputId": "6aa392c9-f549-488c-c205-e8cfe0c82f86"
      },
      "outputs": [
        {
          "output_type": "stream",
          "name": "stdout",
          "text": [
            "(32, 100, 39) (32, 100)\n"
          ]
        }
      ],
      "source": [
        "for X_batch, Y_batch in dataset.take(1):\n",
        "    print(X_batch.shape, Y_batch.shape)"
      ]
    },
    {
      "cell_type": "markdown",
      "metadata": {
        "id": "MmBigtUA76ly"
      },
      "source": [
        "## 3.모델 만들고 훈련하기"
      ]
    },
    {
      "cell_type": "code",
      "execution_count": 14,
      "metadata": {
        "colab": {
          "base_uri": "https://localhost:8080/"
        },
        "id": "zaULPprv7xl5",
        "outputId": "b7e536bb-ef3b-4971-9138-eca66a229178"
      },
      "outputs": [
        {
          "output_type": "stream",
          "name": "stdout",
          "text": [
            "Epoch 1/10\n",
            "31368/31368 [==============================] - 412s 13ms/step - loss: 1.6226\n",
            "Epoch 2/10\n",
            "31368/31368 [==============================] - 398s 13ms/step - loss: 1.5355\n",
            "Epoch 3/10\n",
            "31368/31368 [==============================] - 424s 13ms/step - loss: 1.5135\n",
            "Epoch 4/10\n",
            "31368/31368 [==============================] - 402s 13ms/step - loss: 1.5015\n",
            "Epoch 5/10\n",
            "31368/31368 [==============================] - 403s 13ms/step - loss: 1.4940\n",
            "Epoch 6/10\n",
            "31368/31368 [==============================] - 416s 13ms/step - loss: 1.4885\n",
            "Epoch 7/10\n",
            "31368/31368 [==============================] - 401s 13ms/step - loss: 1.4849\n",
            "Epoch 8/10\n",
            "31368/31368 [==============================] - 400s 13ms/step - loss: 1.4821\n",
            "Epoch 9/10\n",
            "31368/31368 [==============================] - 402s 13ms/step - loss: 1.4803\n",
            "Epoch 10/10\n",
            "31368/31368 [==============================] - 401s 13ms/step - loss: 1.4778\n"
          ]
        }
      ],
      "source": [
        "model = keras.models.Sequential([\n",
        "    keras.layers.GRU(128, return_sequences=True, input_shape=[None, max_id], dropout=0.2),\n",
        "    keras.layers.GRU(128, return_sequences=True, dropout=0.2),\n",
        "    keras.layers.TimeDistributed(keras.layers.Dense(max_id, activation=\"softmax\"))\n",
        "])\n",
        "model.compile(loss=\"sparse_categorical_crossentropy\", optimizer=\"adam\")\n",
        "history = model.fit(dataset, epochs=10)"
      ]
    },
    {
      "cell_type": "markdown",
      "metadata": {
        "id": "UXbhoI4-8j9X"
      },
      "source": [
        "## 4.모델로 텍스트 생성하기"
      ]
    },
    {
      "cell_type": "code",
      "execution_count": 15,
      "metadata": {
        "id": "MiH8DcVz8e5C"
      },
      "outputs": [],
      "source": [
        "def preprocess(texts):\n",
        "    X = np.array(tokenizer.texts_to_sequences(texts)) - 1\n",
        "    return tf.one_hot(X, max_id)"
      ]
    },
    {
      "cell_type": "code",
      "execution_count": 16,
      "metadata": {
        "id": "6_afv9iV8mdi",
        "colab": {
          "base_uri": "https://localhost:8080/",
          "height": 36
        },
        "outputId": "4514aa9b-1969-421a-8468-11ed2001a594"
      },
      "outputs": [
        {
          "output_type": "execute_result",
          "data": {
            "text/plain": [
              "'u'"
            ],
            "application/vnd.google.colaboratory.intrinsic+json": {
              "type": "string"
            }
          },
          "metadata": {},
          "execution_count": 16
        }
      ],
      "source": [
        "X_new = preprocess([\"How are yo\"])\n",
        "Y_pred = np.argmax(model(X_new), axis=-1)\n",
        "tokenizer.sequences_to_texts(Y_pred + 1)[0][-1] # 첫번째 문장, 마지막 글자"
      ]
    },
    {
      "cell_type": "markdown",
      "metadata": {
        "id": "WqkpHGhn83Ua"
      },
      "source": [
        "## 5.가짜 셰익스피어 텍스트를 생성하기"
      ]
    },
    {
      "cell_type": "code",
      "execution_count": 17,
      "metadata": {
        "id": "oKr4oRvC8z_d"
      },
      "outputs": [],
      "source": [
        "def next_char(text, temperature=1):\n",
        "    X_new = preprocess([text])\n",
        "    y_proba = model(X_new)[0, -1:, :]\n",
        "    rescaled_logits = tf.math.log(y_proba) / temperature\n",
        "    char_id = tf.random.categorical(rescaled_logits, num_samples=1) + 1\n",
        "    return tokenizer.sequences_to_texts(char_id.numpy())[0]"
      ]
    },
    {
      "cell_type": "code",
      "execution_count": 18,
      "metadata": {
        "id": "4_WnCev29Hnt",
        "colab": {
          "base_uri": "https://localhost:8080/",
          "height": 36
        },
        "outputId": "442c1d96-c519-42f2-e6f5-610bffd55391"
      },
      "outputs": [
        {
          "output_type": "execute_result",
          "data": {
            "text/plain": [
              "'u'"
            ],
            "application/vnd.google.colaboratory.intrinsic+json": {
              "type": "string"
            }
          },
          "metadata": {},
          "execution_count": 18
        }
      ],
      "source": [
        "next_char(\"How are yo\", temperature=1)"
      ]
    },
    {
      "cell_type": "code",
      "execution_count": 19,
      "metadata": {
        "id": "yDNc6Zj99PSZ"
      },
      "outputs": [],
      "source": [
        "def complete_text(text, n_chars=50, temperature=1):\n",
        "    for _ in range(n_chars):\n",
        "        text += next_char(text, temperature)\n",
        "    return text"
      ]
    },
    {
      "cell_type": "code",
      "execution_count": 20,
      "metadata": {
        "id": "sJf9jqDT9RR-",
        "colab": {
          "base_uri": "https://localhost:8080/"
        },
        "outputId": "819408fd-ba6c-4cbe-dc02-55e7de895912"
      },
      "outputs": [
        {
          "output_type": "stream",
          "name": "stdout",
          "text": [
            "t the stoes to any man to her and please your mande\n"
          ]
        }
      ],
      "source": [
        "print(complete_text(\"t\", temperature=0.2))"
      ]
    },
    {
      "cell_type": "code",
      "execution_count": 21,
      "metadata": {
        "id": "myUhaBmp9T6v",
        "colab": {
          "base_uri": "https://localhost:8080/"
        },
        "outputId": "10fc54bf-49ec-4cac-d877-a404acb97a4b"
      },
      "outputs": [
        {
          "output_type": "stream",
          "name": "stdout",
          "text": [
            "the basd-bearten countryman.\n",
            "\n",
            "hortensio:\n",
            "in pearype\n"
          ]
        }
      ],
      "source": [
        "print(complete_text(\"t\", temperature=1))"
      ]
    },
    {
      "cell_type": "code",
      "execution_count": 22,
      "metadata": {
        "id": "1CT5nRMY9WOI",
        "colab": {
          "base_uri": "https://localhost:8080/"
        },
        "outputId": "a9b2cd0c-9690-4dbf-c78e-1fa84cd69c83"
      },
      "outputs": [
        {
          "output_type": "stream",
          "name": "stdout",
          "text": [
            "tolomevily\n",
            "wren? maze: yel 'pare her bursli-faeema'\n"
          ]
        }
      ],
      "source": [
        "print(complete_text(\"t\", temperature=2))"
      ]
    },
    {
      "cell_type": "markdown",
      "metadata": {
        "id": "-bT2raPf9nJV"
      },
      "source": [
        "## 6.상태가 있는 RNN"
      ]
    },
    {
      "cell_type": "code",
      "execution_count": 23,
      "metadata": {
        "id": "94iqPUXN_aiw"
      },
      "outputs": [],
      "source": [
        "class ResetStatesCallback(keras.callbacks.Callback):\n",
        "    def on_epoch_begin(self, epoch, logs):\n",
        "        self.model.reset_states()"
      ]
    },
    {
      "cell_type": "code",
      "execution_count": 24,
      "metadata": {
        "id": "sKhDhnbA92XD"
      },
      "outputs": [],
      "source": [
        "tf.random.set_seed(42)\n",
        "\n",
        "batch_size = 32\n",
        "encoded_parts = np.array_split(encoded[:train_size], batch_size)\n",
        "datasets = []\n",
        "for encoded_part in encoded_parts:\n",
        "    dataset = tf.data.Dataset.from_tensor_slices(encoded_part)\n",
        "    dataset = dataset.window(window_length, shift=n_steps, drop_remainder=True)\n",
        "    dataset = dataset.flat_map(lambda window: window.batch(window_length))\n",
        "    datasets.append(dataset)\n",
        "dataset = tf.data.Dataset.zip(tuple(datasets)).map(lambda *windows: tf.stack(windows))\n",
        "dataset = dataset.map(lambda windows: (windows[:, :-1], windows[:, 1:]))\n",
        "dataset = dataset.map(lambda X_batch, Y_batch: (tf.one_hot(X_batch, depth=max_id), Y_batch))\n",
        "dataset = dataset.prefetch(1)"
      ]
    },
    {
      "cell_type": "code",
      "execution_count": 25,
      "metadata": {
        "id": "MUX13xKL-ej7",
        "colab": {
          "base_uri": "https://localhost:8080/"
        },
        "outputId": "5bc09d23-810e-48d1-8a4f-a03106043d03"
      },
      "outputs": [
        {
          "output_type": "stream",
          "name": "stdout",
          "text": [
            "Epoch 1/50\n",
            "313/313 [==============================] - 8s 17ms/step - loss: 2.6290\n",
            "Epoch 2/50\n",
            "313/313 [==============================] - 5s 15ms/step - loss: 2.2446\n",
            "Epoch 3/50\n",
            "313/313 [==============================] - 5s 17ms/step - loss: 2.1144\n",
            "Epoch 4/50\n",
            "313/313 [==============================] - 5s 17ms/step - loss: 2.0363\n",
            "Epoch 5/50\n",
            "313/313 [==============================] - 5s 14ms/step - loss: 1.9843\n",
            "Epoch 6/50\n",
            "313/313 [==============================] - 4s 14ms/step - loss: 1.9463\n",
            "Epoch 7/50\n",
            "313/313 [==============================] - 5s 17ms/step - loss: 1.9181\n",
            "Epoch 8/50\n",
            "313/313 [==============================] - 4s 14ms/step - loss: 1.8960\n",
            "Epoch 9/50\n",
            "313/313 [==============================] - 5s 17ms/step - loss: 1.8780\n",
            "Epoch 10/50\n",
            "313/313 [==============================] - 5s 17ms/step - loss: 1.8618\n",
            "Epoch 11/50\n",
            "313/313 [==============================] - 5s 16ms/step - loss: 1.8495\n",
            "Epoch 12/50\n",
            "313/313 [==============================] - 5s 17ms/step - loss: 1.8381\n",
            "Epoch 13/50\n",
            "313/313 [==============================] - 4s 14ms/step - loss: 1.8290\n",
            "Epoch 14/50\n",
            "313/313 [==============================] - 5s 17ms/step - loss: 1.8187\n",
            "Epoch 15/50\n",
            "313/313 [==============================] - 4s 14ms/step - loss: 1.8121\n",
            "Epoch 16/50\n",
            "313/313 [==============================] - 5s 17ms/step - loss: 1.8047\n",
            "Epoch 17/50\n",
            "313/313 [==============================] - 4s 14ms/step - loss: 1.7970\n",
            "Epoch 18/50\n",
            "313/313 [==============================] - 5s 17ms/step - loss: 1.7932\n",
            "Epoch 19/50\n",
            "313/313 [==============================] - 5s 17ms/step - loss: 1.7868\n",
            "Epoch 20/50\n",
            "313/313 [==============================] - 5s 16ms/step - loss: 1.7832\n",
            "Epoch 21/50\n",
            "313/313 [==============================] - 5s 17ms/step - loss: 1.7795\n",
            "Epoch 22/50\n",
            "313/313 [==============================] - 5s 14ms/step - loss: 1.7736\n",
            "Epoch 23/50\n",
            "313/313 [==============================] - 5s 17ms/step - loss: 1.7687\n",
            "Epoch 24/50\n",
            "313/313 [==============================] - 5s 15ms/step - loss: 1.7657\n",
            "Epoch 25/50\n",
            "313/313 [==============================] - 5s 17ms/step - loss: 1.7630\n",
            "Epoch 26/50\n",
            "313/313 [==============================] - 5s 16ms/step - loss: 1.7581\n",
            "Epoch 27/50\n",
            "313/313 [==============================] - 5s 16ms/step - loss: 1.7570\n",
            "Epoch 28/50\n",
            "313/313 [==============================] - 5s 17ms/step - loss: 1.7525\n",
            "Epoch 29/50\n",
            "313/313 [==============================] - 5s 17ms/step - loss: 1.7513\n",
            "Epoch 30/50\n",
            "313/313 [==============================] - 5s 15ms/step - loss: 1.7476\n",
            "Epoch 31/50\n",
            "313/313 [==============================] - 5s 17ms/step - loss: 1.7430\n",
            "Epoch 32/50\n",
            "313/313 [==============================] - 5s 14ms/step - loss: 1.7429\n",
            "Epoch 33/50\n",
            "313/313 [==============================] - 5s 17ms/step - loss: 1.7390\n",
            "Epoch 34/50\n",
            "313/313 [==============================] - 5s 17ms/step - loss: 1.7398\n",
            "Epoch 35/50\n",
            "313/313 [==============================] - 5s 16ms/step - loss: 1.7346\n",
            "Epoch 36/50\n",
            "313/313 [==============================] - 5s 17ms/step - loss: 1.7333\n",
            "Epoch 37/50\n",
            "313/313 [==============================] - 4s 14ms/step - loss: 1.7295\n",
            "Epoch 38/50\n",
            "313/313 [==============================] - 5s 17ms/step - loss: 1.7320\n",
            "Epoch 39/50\n",
            "313/313 [==============================] - 5s 17ms/step - loss: 1.7277\n",
            "Epoch 40/50\n",
            "313/313 [==============================] - 4s 14ms/step - loss: 1.7251\n",
            "Epoch 41/50\n",
            "313/313 [==============================] - 5s 15ms/step - loss: 1.7242\n",
            "Epoch 42/50\n",
            "313/313 [==============================] - 5s 16ms/step - loss: 1.7232\n",
            "Epoch 43/50\n",
            "313/313 [==============================] - 4s 14ms/step - loss: 1.7211\n",
            "Epoch 44/50\n",
            "313/313 [==============================] - 5s 17ms/step - loss: 1.7206\n",
            "Epoch 45/50\n",
            "313/313 [==============================] - 6s 18ms/step - loss: 1.7178\n",
            "Epoch 46/50\n",
            "313/313 [==============================] - 6s 19ms/step - loss: 1.7145\n",
            "Epoch 47/50\n",
            "313/313 [==============================] - 5s 17ms/step - loss: 1.7160\n",
            "Epoch 48/50\n",
            "313/313 [==============================] - 5s 15ms/step - loss: 1.7130\n",
            "Epoch 49/50\n",
            "313/313 [==============================] - 5s 17ms/step - loss: 1.7149\n",
            "Epoch 50/50\n",
            "313/313 [==============================] - 6s 18ms/step - loss: 1.7120\n"
          ]
        }
      ],
      "source": [
        "model = keras.models.Sequential([\n",
        "    keras.layers.GRU(128, return_sequences=True, stateful=True, dropout=0.2, batch_input_shape=[batch_size, None, max_id]),\n",
        "    keras.layers.GRU(128, return_sequences=True, stateful=True, dropout=0.2),\n",
        "    keras.layers.TimeDistributed(keras.layers.Dense(max_id, activation=\"softmax\"))\n",
        "])\n",
        "model.compile(loss=\"sparse_categorical_crossentropy\", optimizer=\"adam\")\n",
        "history = model.fit(dataset, epochs=50, callbacks=[ResetStatesCallback()])"
      ]
    },
    {
      "cell_type": "markdown",
      "metadata": {
        "id": "efZrkdUvAMSB"
      },
      "source": [
        "# 감성 분석"
      ]
    },
    {
      "cell_type": "code",
      "execution_count": 26,
      "metadata": {
        "id": "hvCeru78_tv4",
        "colab": {
          "base_uri": "https://localhost:8080/"
        },
        "outputId": "611631c0-a728-4634-86bd-310717d7469a"
      },
      "outputs": [
        {
          "output_type": "execute_result",
          "data": {
            "text/plain": [
              "[1, 14, 22, 16, 43, 530, 973, 1622, 1385, 65]"
            ]
          },
          "metadata": {},
          "execution_count": 26
        }
      ],
      "source": [
        "(X_train, y_train), (X_test, y_test) = keras.datasets.imdb.load_data()\n",
        "X_train[0][:10]"
      ]
    },
    {
      "cell_type": "code",
      "execution_count": 27,
      "metadata": {
        "id": "wX5fHeFzAboT",
        "colab": {
          "base_uri": "https://localhost:8080/",
          "height": 36
        },
        "outputId": "31f5afa4-63c1-499f-ad62-d56f3c0fdcc7"
      },
      "outputs": [
        {
          "output_type": "execute_result",
          "data": {
            "text/plain": [
              "'<sos> this film was just brilliant casting location scenery story'"
            ],
            "application/vnd.google.colaboratory.intrinsic+json": {
              "type": "string"
            }
          },
          "metadata": {},
          "execution_count": 27
        }
      ],
      "source": [
        "word_index = keras.datasets.imdb.get_word_index()\n",
        "id_to_word = {id_ + 3: word for word, id_ in word_index.items()}\n",
        "for id_, token in enumerate((\"<pad>\", \"<sos>\", \"<unk>\")):\n",
        "    id_to_word[id_] = token\n",
        "\" \".join([id_to_word[id_] for id_ in X_train[0][:10]])"
      ]
    },
    {
      "cell_type": "code",
      "execution_count": 28,
      "metadata": {
        "id": "avFIBL96AeCP"
      },
      "outputs": [],
      "source": [
        "datasets, info = tfds.load(\"imdb_reviews\", as_supervised=True, with_info=True)"
      ]
    },
    {
      "cell_type": "code",
      "execution_count": 29,
      "metadata": {
        "id": "C7qaKQU2BObC",
        "colab": {
          "base_uri": "https://localhost:8080/"
        },
        "outputId": "24f775a6-ed6c-4cb9-eb02-5695d06c0fd2"
      },
      "outputs": [
        {
          "output_type": "execute_result",
          "data": {
            "text/plain": [
              "dict_keys(['train', 'test', 'unsupervised'])"
            ]
          },
          "metadata": {},
          "execution_count": 29
        }
      ],
      "source": [
        "datasets.keys()"
      ]
    },
    {
      "cell_type": "code",
      "execution_count": 30,
      "metadata": {
        "id": "8oTgr9jMA5Sd",
        "colab": {
          "base_uri": "https://localhost:8080/"
        },
        "outputId": "680b29b3-e736-40d4-b1fe-4a5d3b9ae1e0"
      },
      "outputs": [
        {
          "output_type": "stream",
          "name": "stdout",
          "text": [
            "Review: This was an absolutely terrible movie. Don't be lured in by Christopher Walken or Michael Ironside. Both are great actors, but this must simply be their worst role in history. Even their great acting  ...\n",
            "Label: 0 = Negative\n",
            "\n",
            "Review: I have been known to fall asleep during films, but this is usually due to a combination of things including, really tired, being warm and comfortable on the sette and having just eaten a lot. However  ...\n",
            "Label: 0 = Negative\n",
            "\n"
          ]
        }
      ],
      "source": [
        "for X_batch, y_batch in datasets[\"train\"].batch(2).take(1):\n",
        "    for review, label in zip(X_batch.numpy(), y_batch.numpy()):\n",
        "        print(\"Review:\", review.decode(\"utf-8\")[:200], \"...\")\n",
        "        print(\"Label:\", label, \"= Positive\" if label else \"= Negative\")\n",
        "        print()"
      ]
    },
    {
      "cell_type": "code",
      "execution_count": 31,
      "metadata": {
        "id": "8S9tWuXWA5UQ"
      },
      "outputs": [],
      "source": [
        "def preprocess(X_batch, y_batch):\n",
        "    X_batch = tf.strings.substr(X_batch, 0, 300)\n",
        "    X_batch = tf.strings.regex_replace(X_batch, rb\"<br\\s*/?>\", b\" \")\n",
        "    X_batch = tf.strings.regex_replace(X_batch, b\"[^a-zA-Z']\", b\" \")\n",
        "    X_batch = tf.strings.split(X_batch)\n",
        "    return X_batch.to_tensor(default_value=b\"<pad>\"), y_batch"
      ]
    },
    {
      "cell_type": "code",
      "execution_count": 32,
      "metadata": {
        "id": "3FHJWQJHBdQ7",
        "colab": {
          "base_uri": "https://localhost:8080/"
        },
        "outputId": "156e6f8f-aa67-42c4-b0c5-aa988805fc4b"
      },
      "outputs": [
        {
          "output_type": "execute_result",
          "data": {
            "text/plain": [
              "(<tf.Tensor: shape=(2, 53), dtype=string, numpy=\n",
              " array([[b'This', b'was', b'an', b'absolutely', b'terrible', b'movie',\n",
              "         b\"Don't\", b'be', b'lured', b'in', b'by', b'Christopher',\n",
              "         b'Walken', b'or', b'Michael', b'Ironside', b'Both', b'are',\n",
              "         b'great', b'actors', b'but', b'this', b'must', b'simply', b'be',\n",
              "         b'their', b'worst', b'role', b'in', b'history', b'Even',\n",
              "         b'their', b'great', b'acting', b'could', b'not', b'redeem',\n",
              "         b'this', b\"movie's\", b'ridiculous', b'storyline', b'This',\n",
              "         b'movie', b'is', b'an', b'early', b'nineties', b'US',\n",
              "         b'propaganda', b'pi', b'<pad>', b'<pad>', b'<pad>'],\n",
              "        [b'I', b'have', b'been', b'known', b'to', b'fall', b'asleep',\n",
              "         b'during', b'films', b'but', b'this', b'is', b'usually', b'due',\n",
              "         b'to', b'a', b'combination', b'of', b'things', b'including',\n",
              "         b'really', b'tired', b'being', b'warm', b'and', b'comfortable',\n",
              "         b'on', b'the', b'sette', b'and', b'having', b'just', b'eaten',\n",
              "         b'a', b'lot', b'However', b'on', b'this', b'occasion', b'I',\n",
              "         b'fell', b'asleep', b'because', b'the', b'film', b'was',\n",
              "         b'rubbish', b'The', b'plot', b'development', b'was', b'constant',\n",
              "         b'Cons']], dtype=object)>,\n",
              " <tf.Tensor: shape=(2,), dtype=int64, numpy=array([0, 0])>)"
            ]
          },
          "metadata": {},
          "execution_count": 32
        }
      ],
      "source": [
        "preprocess(X_batch, y_batch)"
      ]
    },
    {
      "cell_type": "code",
      "execution_count": 33,
      "metadata": {
        "id": "Uvjk6PAlBe01"
      },
      "outputs": [],
      "source": [
        "vocabulary = Counter()\n",
        "for X_batch, y_batch in datasets[\"train\"].batch(32).map(preprocess):\n",
        "    for review in X_batch:\n",
        "        vocabulary.update(list(review.numpy()))"
      ]
    },
    {
      "cell_type": "code",
      "execution_count": 34,
      "metadata": {
        "id": "hwoTjhefB6Vp",
        "colab": {
          "base_uri": "https://localhost:8080/"
        },
        "outputId": "f5f1ac05-1977-4a65-b723-9c115bfab0fb"
      },
      "outputs": [
        {
          "output_type": "execute_result",
          "data": {
            "text/plain": [
              "[(b'<pad>', 214309), (b'the', 61137), (b'a', 38564)]"
            ]
          },
          "metadata": {},
          "execution_count": 34
        }
      ],
      "source": [
        "vocabulary.most_common()[:3]"
      ]
    },
    {
      "cell_type": "code",
      "execution_count": 35,
      "metadata": {
        "id": "jo7x4hJaB6ms",
        "colab": {
          "base_uri": "https://localhost:8080/"
        },
        "outputId": "1b27511f-4f23-475a-bcd4-3a2817402a00"
      },
      "outputs": [
        {
          "output_type": "execute_result",
          "data": {
            "text/plain": [
              "53893"
            ]
          },
          "metadata": {},
          "execution_count": 35
        }
      ],
      "source": [
        "len(vocabulary)"
      ]
    },
    {
      "cell_type": "code",
      "execution_count": 36,
      "metadata": {
        "id": "OSsURoF6B9rn"
      },
      "outputs": [],
      "source": [
        "vocab_size = 10000\n",
        "truncated_vocabulary = [\n",
        "    word for word, count in vocabulary.most_common()[:vocab_size]]"
      ]
    },
    {
      "cell_type": "code",
      "execution_count": 37,
      "metadata": {
        "id": "Gy5JjEvNB_pB",
        "colab": {
          "base_uri": "https://localhost:8080/"
        },
        "outputId": "29996f17-0a70-4917-9919-25477c7a1e5b"
      },
      "outputs": [
        {
          "output_type": "stream",
          "name": "stdout",
          "text": [
            "22\n",
            "12\n",
            "11\n",
            "10000\n"
          ]
        }
      ],
      "source": [
        "word_to_id = {word: index for index, word in enumerate(truncated_vocabulary)}\n",
        "for word in b\"This movie was faaaaaantastic\".split():\n",
        "    print(word_to_id.get(word) or vocab_size)"
      ]
    },
    {
      "cell_type": "code",
      "execution_count": 38,
      "metadata": {
        "id": "C2QwEu5WCCyX",
        "colab": {
          "base_uri": "https://localhost:8080/"
        },
        "outputId": "f73b0dd9-79d9-47e7-9015-698fe43c8718"
      },
      "outputs": [
        {
          "output_type": "execute_result",
          "data": {
            "text/plain": [
              "<tf.Tensor: shape=(1, 4), dtype=int64, numpy=array([[   22,    12,    11, 10053]])>"
            ]
          },
          "metadata": {},
          "execution_count": 38
        }
      ],
      "source": [
        "words = tf.constant(truncated_vocabulary)\n",
        "word_ids = tf.range(len(truncated_vocabulary), dtype=tf.int64)\n",
        "vocab_init = tf.lookup.KeyValueTensorInitializer(words, word_ids)\n",
        "num_oov_buckets = 1000\n",
        "table = tf.lookup.StaticVocabularyTable(vocab_init, num_oov_buckets)\n",
        "table.lookup(tf.constant([b\"This movie was faaaaaantastic\".split()]))"
      ]
    },
    {
      "cell_type": "code",
      "execution_count": 39,
      "metadata": {
        "id": "V7Gef6TvCE9u"
      },
      "outputs": [],
      "source": [
        "def encode_words(X_batch, y_batch):\n",
        "    return table.lookup(X_batch), y_batch"
      ]
    },
    {
      "cell_type": "code",
      "execution_count": 40,
      "metadata": {
        "id": "83OBPW-BCUXF",
        "colab": {
          "base_uri": "https://localhost:8080/"
        },
        "outputId": "12aec4fb-4cf7-457e-bd7a-b44277cc28fa"
      },
      "outputs": [
        {
          "output_type": "stream",
          "name": "stdout",
          "text": [
            "tf.Tensor(\n",
            "[[  22   11   28 ...    0    0    0]\n",
            " [   6   21   70 ...    0    0    0]\n",
            " [4099 6881    1 ...    0    0    0]\n",
            " ...\n",
            " [  22   12  118 ...  331 1047    0]\n",
            " [1757 4101  451 ...    0    0    0]\n",
            " [3365 4392    6 ...    0    0    0]], shape=(32, 60), dtype=int64)\n",
            "tf.Tensor([0 0 0 1 1 1 0 0 0 0 0 1 1 0 1 0 1 1 1 0 1 1 1 1 1 0 0 0 1 0 0 0], shape=(32,), dtype=int64)\n"
          ]
        }
      ],
      "source": [
        "train_set = datasets[\"train\"].batch(32).map(preprocess)\n",
        "train_set = train_set.map(encode_words).prefetch(1)\n",
        "for X_batch, y_batch in train_set.take(1):\n",
        "    print(X_batch)\n",
        "    print(y_batch)"
      ]
    },
    {
      "cell_type": "code",
      "execution_count": 41,
      "metadata": {
        "id": "j-L_qJncCUZY",
        "colab": {
          "base_uri": "https://localhost:8080/"
        },
        "outputId": "287d7882-973e-4815-e79d-83bfc6d40c3e"
      },
      "outputs": [
        {
          "output_type": "stream",
          "name": "stdout",
          "text": [
            "Epoch 1/5\n",
            "782/782 [==============================] - 24s 25ms/step - loss: 0.6274 - accuracy: 0.6124\n",
            "Epoch 2/5\n",
            "782/782 [==============================] - 7s 10ms/step - loss: 0.3901 - accuracy: 0.8270\n",
            "Epoch 3/5\n",
            "782/782 [==============================] - 8s 10ms/step - loss: 0.2359 - accuracy: 0.9088\n",
            "Epoch 4/5\n",
            "782/782 [==============================] - 8s 10ms/step - loss: 0.1467 - accuracy: 0.9471\n",
            "Epoch 5/5\n",
            "782/782 [==============================] - 7s 9ms/step - loss: 0.1168 - accuracy: 0.9583\n"
          ]
        }
      ],
      "source": [
        "embed_size = 128\n",
        "model = keras.models.Sequential([\n",
        "    keras.layers.Embedding(vocab_size + num_oov_buckets, embed_size, input_shape=[None]),\n",
        "    keras.layers.GRU(128, return_sequences=True),\n",
        "    keras.layers.GRU(128),\n",
        "    keras.layers.Dense(1, activation=\"sigmoid\")\n",
        "])\n",
        "model.compile(loss=\"binary_crossentropy\", optimizer=\"adam\", metrics=[\"accuracy\"])\n",
        "history = model.fit(train_set, epochs=5)"
      ]
    },
    {
      "cell_type": "markdown",
      "metadata": {
        "id": "9_5jxcqgDVh4"
      },
      "source": [
        "## 1.마스킹"
      ]
    },
    {
      "cell_type": "code",
      "execution_count": 42,
      "metadata": {
        "id": "0GbpCFt7DTy9",
        "colab": {
          "base_uri": "https://localhost:8080/"
        },
        "outputId": "0bd5d5c9-c85f-4b75-856b-63e7361c10ad"
      },
      "outputs": [
        {
          "output_type": "stream",
          "name": "stdout",
          "text": [
            "Epoch 1/5\n",
            "782/782 [==============================] - 31s 30ms/step - loss: 0.5368 - accuracy: 0.7195\n",
            "Epoch 2/5\n",
            "782/782 [==============================] - 11s 15ms/step - loss: 0.3426 - accuracy: 0.8577\n",
            "Epoch 3/5\n",
            "782/782 [==============================] - 11s 15ms/step - loss: 0.1822 - accuracy: 0.9337\n",
            "Epoch 4/5\n",
            "782/782 [==============================] - 11s 14ms/step - loss: 0.1254 - accuracy: 0.9538\n",
            "Epoch 5/5\n",
            "782/782 [==============================] - 12s 15ms/step - loss: 0.1098 - accuracy: 0.9595\n"
          ]
        }
      ],
      "source": [
        "embed_size = 128\n",
        "model = keras.models.Sequential([\n",
        "    keras.layers.Embedding(vocab_size + num_oov_buckets, embed_size, mask_zero=True, input_shape=[None]),\n",
        "    keras.layers.GRU(128, return_sequences=True),\n",
        "    keras.layers.GRU(128),\n",
        "    keras.layers.Dense(1, activation=\"sigmoid\")\n",
        "])\n",
        "model.compile(loss=\"binary_crossentropy\", optimizer=\"adam\", metrics=[\"accuracy\"])\n",
        "history = model.fit(train_set, epochs=5)"
      ]
    },
    {
      "cell_type": "code",
      "execution_count": 43,
      "metadata": {
        "id": "j86SMuL4DT-9",
        "colab": {
          "base_uri": "https://localhost:8080/"
        },
        "outputId": "abc2e2d4-1418-4669-8399-1f1630d055a2"
      },
      "outputs": [
        {
          "output_type": "stream",
          "name": "stdout",
          "text": [
            "Epoch 1/5\n",
            "782/782 [==============================] - 30s 30ms/step - loss: 0.5564 - accuracy: 0.7069\n",
            "Epoch 2/5\n",
            "782/782 [==============================] - 12s 15ms/step - loss: 0.3898 - accuracy: 0.8300\n",
            "Epoch 3/5\n",
            "782/782 [==============================] - 12s 15ms/step - loss: 0.2528 - accuracy: 0.9034\n",
            "Epoch 4/5\n",
            "782/782 [==============================] - 12s 15ms/step - loss: 0.1597 - accuracy: 0.9436\n",
            "Epoch 5/5\n",
            "782/782 [==============================] - 12s 15ms/step - loss: 0.1239 - accuracy: 0.9573\n"
          ]
        }
      ],
      "source": [
        "K = keras.backend\n",
        "embed_size = 128\n",
        "inputs = keras.layers.Input(shape=[None])\n",
        "mask = keras.layers.Lambda(lambda inputs: K.not_equal(inputs, 0))(inputs)\n",
        "z = keras.layers.Embedding(vocab_size + num_oov_buckets, embed_size)(inputs)\n",
        "z = keras.layers.GRU(128, return_sequences=True)(z, mask=mask)\n",
        "z = keras.layers.GRU(128)(z, mask=mask)\n",
        "outputs = keras.layers.Dense(1, activation=\"sigmoid\")(z)\n",
        "model = keras.models.Model(inputs=[inputs], outputs=[outputs])\n",
        "model.compile(loss=\"binary_crossentropy\", optimizer=\"adam\", metrics=[\"accuracy\"])\n",
        "history = model.fit(train_set, epochs=5)"
      ]
    },
    {
      "cell_type": "markdown",
      "metadata": {
        "id": "Q8sAPS8QENap"
      },
      "source": [
        "## 2.사전 훈련된 임베딩 재사용하기"
      ]
    },
    {
      "cell_type": "code",
      "execution_count": 44,
      "metadata": {
        "id": "9eMKHlmLDUEG"
      },
      "outputs": [],
      "source": [
        "model = keras.Sequential([\n",
        "    hub.KerasLayer(\"https://tfhub.dev/google/tf2-preview/nnlm-en-dim50/1\",\n",
        "                   dtype=tf.string, input_shape=[], output_shape=[50]),\n",
        "    keras.layers.Dense(128, activation=\"relu\"),\n",
        "    keras.layers.Dense(1, activation=\"sigmoid\")\n",
        "])\n",
        "model.compile(loss=\"binary_crossentropy\", optimizer=\"adam\", metrics=[\"accuracy\"])"
      ]
    },
    {
      "cell_type": "code",
      "execution_count": 45,
      "metadata": {
        "id": "tF3m0uY_EyyT",
        "colab": {
          "base_uri": "https://localhost:8080/"
        },
        "outputId": "ee7a3a7a-346a-482c-cc15-a15615de9727"
      },
      "outputs": [
        {
          "output_type": "stream",
          "name": "stdout",
          "text": [
            "Epoch 1/5\n",
            "782/782 [==============================] - 6s 7ms/step - loss: 0.5468 - accuracy: 0.7277\n",
            "Epoch 2/5\n",
            "782/782 [==============================] - 4s 5ms/step - loss: 0.5147 - accuracy: 0.7487\n",
            "Epoch 3/5\n",
            "782/782 [==============================] - 5s 6ms/step - loss: 0.5091 - accuracy: 0.7520\n",
            "Epoch 4/5\n",
            "782/782 [==============================] - 4s 5ms/step - loss: 0.5052 - accuracy: 0.7533\n",
            "Epoch 5/5\n",
            "782/782 [==============================] - 4s 5ms/step - loss: 0.5022 - accuracy: 0.7554\n"
          ]
        }
      ],
      "source": [
        "datasets, info = tfds.load(\"imdb_reviews\", as_supervised=True, with_info=True)\n",
        "train_size = info.splits[\"train\"].num_examples\n",
        "batch_size = 32\n",
        "train_set = datasets[\"train\"].batch(batch_size).prefetch(1)\n",
        "history = model.fit(train_set, epochs=5)"
      ]
    },
    {
      "cell_type": "markdown",
      "metadata": {
        "id": "lChCs2VaFyCL"
      },
      "source": [
        "# 자동 번역"
      ]
    },
    {
      "cell_type": "code",
      "execution_count": 46,
      "metadata": {
        "id": "afcpeDJmFo3e"
      },
      "outputs": [],
      "source": [
        "vocab_size = 100\n",
        "embed_size = 10\n",
        "encoder_inputs = keras.layers.Input(shape=[None], dtype=np.int32)\n",
        "decoder_inputs = keras.layers.Input(shape=[None], dtype=np.int32)\n",
        "sequence_lengths = keras.layers.Input(shape=[], dtype=np.int32)\n",
        "embeddings = keras.layers.Embedding(vocab_size, embed_size)\n",
        "encoder_embeddings = embeddings(encoder_inputs)\n",
        "decoder_embeddings = embeddings(decoder_inputs)\n",
        "encoder = keras.layers.LSTM(512, return_state=True)\n",
        "encoder_outputs, state_h, state_c = encoder(encoder_embeddings)\n",
        "encoder_state = [state_h, state_c]\n",
        "sampler = tfa.seq2seq.sampler.TrainingSampler()\n",
        "decoder_cell = keras.layers.LSTMCell(512)\n",
        "output_layer = keras.layers.Dense(vocab_size)\n",
        "decoder = tfa.seq2seq.basic_decoder.BasicDecoder(decoder_cell, sampler, output_layer=output_layer)\n",
        "final_outputs, final_state, final_sequence_lengths = decoder(\n",
        "    decoder_embeddings, initial_state=encoder_state,\n",
        "    sequence_length=sequence_lengths)\n",
        "Y_proba = tf.nn.softmax(final_outputs.rnn_output)"
      ]
    },
    {
      "cell_type": "code",
      "execution_count": 47,
      "metadata": {
        "id": "6YH0CDYdGx_R"
      },
      "outputs": [],
      "source": [
        "model = keras.models.Model(\n",
        "    inputs=[encoder_inputs, decoder_inputs, sequence_lengths],\n",
        "    outputs=[Y_proba]\n",
        ")\n",
        "model.compile(loss=\"sparse_categorical_crossentropy\", optimizer=\"adam\")"
      ]
    },
    {
      "cell_type": "code",
      "execution_count": 48,
      "metadata": {
        "id": "g8LljyDfG1UE",
        "colab": {
          "base_uri": "https://localhost:8080/"
        },
        "outputId": "6081fed5-bc94-41db-df54-441980925fae"
      },
      "outputs": [
        {
          "output_type": "stream",
          "name": "stdout",
          "text": [
            "Epoch 1/2\n",
            "32/32 [==============================] - 7s 43ms/step - loss: 4.6054\n",
            "Epoch 2/2\n",
            "32/32 [==============================] - 2s 62ms/step - loss: 4.6035\n"
          ]
        }
      ],
      "source": [
        "X = np.random.randint(100, size=10*1000).reshape(1000, 10)\n",
        "Y = np.random.randint(100, size=15*1000).reshape(1000, 15)\n",
        "X_decoder = np.c_[np.zeros((1000, 1)), Y[:, :-1]]\n",
        "seq_lengths = np.full([1000], 15)\n",
        "history = model.fit([X, X_decoder, seq_lengths], Y, epochs=2)"
      ]
    },
    {
      "cell_type": "markdown",
      "metadata": {
        "id": "INQ1O1O9G6V4"
      },
      "source": [
        "## 1.양방향 RNN"
      ]
    },
    {
      "cell_type": "code",
      "execution_count": 49,
      "metadata": {
        "id": "ACbkSDiiG2GO",
        "colab": {
          "base_uri": "https://localhost:8080/"
        },
        "outputId": "76091031-18e0-47c8-c199-0286d8bd1a02"
      },
      "outputs": [
        {
          "output_type": "stream",
          "name": "stdout",
          "text": [
            "Model: \"sequential_5\"\n",
            "_________________________________________________________________\n",
            " Layer (type)                Output Shape              Param #   \n",
            "=================================================================\n",
            " gru_10 (GRU)                (None, None, 10)          660       \n",
            "                                                                 \n",
            " bidirectional (Bidirection  (None, None, 20)          1320      \n",
            " al)                                                             \n",
            "                                                                 \n",
            "=================================================================\n",
            "Total params: 1980 (7.73 KB)\n",
            "Trainable params: 1980 (7.73 KB)\n",
            "Non-trainable params: 0 (0.00 Byte)\n",
            "_________________________________________________________________\n"
          ]
        }
      ],
      "source": [
        "model = keras.models.Sequential([\n",
        "    keras.layers.GRU(10, return_sequences=True, input_shape=[None, 10]),\n",
        "    keras.layers.Bidirectional(keras.layers.GRU(10, return_sequences=True))\n",
        "])\n",
        "model.summary()"
      ]
    },
    {
      "cell_type": "markdown",
      "metadata": {
        "id": "TRkpUityHAF1"
      },
      "source": [
        "## 2.위치 인코딩"
      ]
    },
    {
      "cell_type": "code",
      "execution_count": 50,
      "metadata": {
        "id": "8eHIXqZvG_SU"
      },
      "outputs": [],
      "source": [
        "class PositionalEncoding(keras.layers.Layer):\n",
        "    def __init__(self, max_steps, max_dims, dtype=tf.float32, **kwargs):\n",
        "        super().__init__(dtype=dtype, **kwargs)\n",
        "        if max_dims % 2 == 1: max_dims += 1 # max_dims must be even\n",
        "        p, i = np.meshgrid(np.arange(max_steps), np.arange(max_dims // 2))\n",
        "        pos_emb = np.empty((1, max_steps, max_dims))\n",
        "        pos_emb[0, :, ::2] = np.sin(p / 10000**(2 * i / max_dims)).T\n",
        "        pos_emb[0, :, 1::2] = np.cos(p / 10000**(2 * i / max_dims)).T\n",
        "        self.positional_embedding = tf.constant(pos_emb.astype(self.dtype))\n",
        "\n",
        "    def call(self, inputs):\n",
        "        shape = tf.shape(inputs)\n",
        "        return inputs + self.positional_embedding[:, :shape[-2], :shape[-1]]"
      ]
    },
    {
      "cell_type": "code",
      "execution_count": 51,
      "metadata": {
        "id": "eCQQnw4XHGAA"
      },
      "outputs": [],
      "source": [
        "max_steps = 201\n",
        "max_dims = 512\n",
        "pos_emb = PositionalEncoding(max_steps, max_dims)\n",
        "PE = pos_emb(np.zeros((1, max_steps, max_dims), np.float32))[0].numpy()"
      ]
    },
    {
      "cell_type": "code",
      "execution_count": 52,
      "metadata": {
        "id": "X9PXRaNJHUoa",
        "colab": {
          "base_uri": "https://localhost:8080/",
          "height": 476
        },
        "outputId": "dd261139-4052-4966-a92b-90a7670e4dd1"
      },
      "outputs": [
        {
          "output_type": "display_data",
          "data": {
            "text/plain": [
              "<Figure size 900x500 with 2 Axes>"
            ],
            "image/png": "[encoded data removed]"
          },
          "metadata": {}
        }
      ],
      "source": [
        "i1, i2, crop_i = 100, 101, 150\n",
        "p1, p2, p3 = 22, 60, 35\n",
        "fig, (ax1, ax2) = plt.subplots(nrows=2, ncols=1, sharex=True, figsize=(9, 5))\n",
        "ax1.plot([p1, p1], [-1, 1], \"k--\", label=\"$p = {}$\".format(p1))\n",
        "ax1.plot([p2, p2], [-1, 1], \"k--\", label=\"$p = {}$\".format(p2), alpha=0.5)\n",
        "ax1.plot(p3, PE[p3, i1], \"bx\", label=\"$p = {}$\".format(p3))\n",
        "ax1.plot(PE[:,i1], \"b-\", label=\"$i = {}$\".format(i1))\n",
        "ax1.plot(PE[:,i2], \"r-\", label=\"$i = {}$\".format(i2))\n",
        "ax1.plot([p1, p2], [PE[p1, i1], PE[p2, i1]], \"bo\")\n",
        "ax1.plot([p1, p2], [PE[p1, i2], PE[p2, i2]], \"ro\")\n",
        "ax1.legend(loc=\"center right\", fontsize=14, framealpha=0.95)\n",
        "ax1.set_ylabel(\"$P_{(p,i)}$\", rotation=0, fontsize=16)\n",
        "ax1.grid(True, alpha=0.3)\n",
        "ax1.hlines(0, 0, max_steps - 1, color=\"k\", linewidth=1, alpha=0.3)\n",
        "ax1.axis([0, max_steps - 1, -1, 1])\n",
        "ax2.imshow(PE.T[:crop_i], cmap=\"gray\", interpolation=\"bilinear\", aspect=\"auto\")\n",
        "ax2.hlines(i1, 0, max_steps - 1, color=\"b\")\n",
        "cheat = 2\n",
        "ax2.hlines(i2+cheat, 0, max_steps - 1, color=\"r\")\n",
        "ax2.plot([p1, p1], [0, crop_i], \"k--\")\n",
        "ax2.plot([p2, p2], [0, crop_i], \"k--\", alpha=0.5)\n",
        "ax2.plot([p1, p2], [i2+cheat, i2+cheat], \"ro\")\n",
        "ax2.plot([p1, p2], [i1, i1], \"bo\")\n",
        "ax2.axis([0, max_steps - 1, 0, crop_i])\n",
        "ax2.set_xlabel(\"$p$\", fontsize=16)\n",
        "ax2.set_ylabel(\"$i$\", rotation=0, fontsize=16)\n",
        "plt.show()"
      ]
    },
    {
      "cell_type": "code",
      "execution_count": 53,
      "metadata": {
        "id": "otNet38uHUq9"
      },
      "outputs": [],
      "source": [
        "embed_size = 512\n",
        "max_steps = 500\n",
        "vocab_size = 10000\n",
        "encoder_inputs = keras.layers.Input(shape=[None], dtype=np.int32)\n",
        "decoder_inputs = keras.layers.Input(shape=[None], dtype=np.int32)\n",
        "embeddings = keras.layers.Embedding(vocab_size, embed_size)\n",
        "encoder_embeddings = embeddings(encoder_inputs)\n",
        "decoder_embeddings = embeddings(decoder_inputs)\n",
        "positional_encoding = PositionalEncoding(max_steps, max_dims=embed_size)\n",
        "encoder_in = positional_encoding(encoder_embeddings)\n",
        "decoder_in = positional_encoding(decoder_embeddings)"
      ]
    },
    {
      "cell_type": "markdown",
      "metadata": {
        "id": "3n4BRcVQKNJ8"
      },
      "source": [
        "## 3.멀티-헤드 어텐션"
      ]
    },
    {
      "cell_type": "code",
      "execution_count": 54,
      "metadata": {
        "id": "UvlauzYoJted",
        "colab": {
          "base_uri": "https://localhost:8080/"
        },
        "outputId": "89157abd-8323-4505-b5c6-aed1512277c7"
      },
      "outputs": [
        {
          "output_type": "stream",
          "name": "stderr",
          "text": [
            "WARNING:absl:`causal` argument is deprecated. Please use `use_causal_mask` in call() method to specify causal masking.\n",
            "WARNING:absl:`causal` argument is deprecated. Please use `use_causal_mask` in call() method to specify causal masking.\n",
            "WARNING:absl:`causal` argument is deprecated. Please use `use_causal_mask` in call() method to specify causal masking.\n",
            "WARNING:absl:`causal` argument is deprecated. Please use `use_causal_mask` in call() method to specify causal masking.\n",
            "WARNING:absl:`causal` argument is deprecated. Please use `use_causal_mask` in call() method to specify causal masking.\n",
            "WARNING:absl:`causal` argument is deprecated. Please use `use_causal_mask` in call() method to specify causal masking.\n"
          ]
        }
      ],
      "source": [
        "Z = encoder_in\n",
        "for N in range(6):\n",
        "    Z = keras.layers.Attention(use_scale=True)([Z, Z])\n",
        "\n",
        "encoder_outputs = Z\n",
        "Z = decoder_in\n",
        "for N in range(6):\n",
        "    Z = keras.layers.Attention(use_scale=True, causal=True)([Z, Z])\n",
        "    Z = keras.layers.Attention(use_scale=True)([Z, encoder_outputs])\n",
        "\n",
        "outputs = keras.layers.TimeDistributed(keras.layers.Dense(vocab_size, activation=\"softmax\"))(Z)"
      ]
    },
    {
      "cell_type": "code",
      "execution_count": 55,
      "metadata": {
        "id": "1teaJi9OK1au"
      },
      "outputs": [],
      "source": [
        "K = keras.backend"
      ]
    },
    {
      "cell_type": "code",
      "execution_count": 56,
      "metadata": {
        "id": "0Fa1sPdfKXq3"
      },
      "outputs": [],
      "source": [
        "class MultiHeadAttention(keras.layers.Layer):\n",
        "    def __init__(self, n_heads, causal=False, use_scale=False, **kwargs):\n",
        "        self.n_heads = n_heads\n",
        "        self.causal = causal\n",
        "        self.use_scale = use_scale\n",
        "        super().__init__(**kwargs)\n",
        "    def build(self, batch_input_shape):\n",
        "        self.dims = batch_input_shape[0][-1]\n",
        "        self.q_dims, self.v_dims, self.k_dims = [self.dims // self.n_heads] * 3\n",
        "        self.q_linear = keras.layers.Conv1D(self.n_heads * self.q_dims, kernel_size=1, use_bias=False)\n",
        "        self.v_linear = keras.layers.Conv1D(self.n_heads * self.v_dims, kernel_size=1, use_bias=False)\n",
        "        self.k_linear = keras.layers.Conv1D(self.n_heads * self.k_dims, kernel_size=1, use_bias=False)\n",
        "        self.attention = keras.layers.Attention(causal=self.causal, use_scale=self.use_scale)\n",
        "        self.out_linear = keras.layers.Conv1D(self.dims, kernel_size=1, use_bias=False)\n",
        "        super().build(batch_input_shape)\n",
        "\n",
        "    def _multi_head_linear(self, inputs, linear):\n",
        "        shape = K.concatenate([K.shape(inputs)[:-1], [self.n_heads, -1]])\n",
        "        projected = K.reshape(linear(inputs), shape)\n",
        "        perm = K.permute_dimensions(projected, [0, 2, 1, 3])\n",
        "        return K.reshape(perm, [shape[0] * self.n_heads, shape[1], -1])\n",
        "\n",
        "    def call(self, inputs):\n",
        "        q = inputs[0]\n",
        "        v = inputs[1]\n",
        "        k = inputs[2] if len(inputs) > 2 else v\n",
        "        shape = K.shape(q)\n",
        "        q_proj = self._multi_head_linear(q, self.q_linear)\n",
        "        v_proj = self._multi_head_linear(v, self.v_linear)\n",
        "        k_proj = self._multi_head_linear(k, self.k_linear)\n",
        "        multi_attended = self.attention([q_proj, v_proj, k_proj])\n",
        "        shape_attended = K.shape(multi_attended)\n",
        "        reshaped_attended = K.reshape(multi_attended, [shape[0], self.n_heads, shape_attended[1], shape_attended[2]])\n",
        "        perm = K.permute_dimensions(reshaped_attended, [0, 2, 1, 3])\n",
        "        concat = K.reshape(perm, [shape[0], shape_attended[1], -1])\n",
        "        return self.out_linear(concat)"
      ]
    },
    {
      "cell_type": "code",
      "execution_count": 57,
      "metadata": {
        "id": "Xsysy8a_K4GU",
        "colab": {
          "base_uri": "https://localhost:8080/"
        },
        "outputId": "af634268-d97a-40e9-dbc5-273610871dfa"
      },
      "outputs": [
        {
          "output_type": "stream",
          "name": "stderr",
          "text": [
            "WARNING:absl:`causal` argument is deprecated. Please use `use_causal_mask` in call() method to specify causal masking.\n"
          ]
        },
        {
          "output_type": "execute_result",
          "data": {
            "text/plain": [
              "TensorShape([2, 50, 512])"
            ]
          },
          "metadata": {},
          "execution_count": 57
        }
      ],
      "source": [
        "Q = np.random.rand(2, 50, 512)\n",
        "V = np.random.rand(2, 80, 512)\n",
        "multi_attn = MultiHeadAttention(8)\n",
        "multi_attn([Q, V]).shape"
      ]
    },
    {
      "cell_type": "code",
      "execution_count": 57,
      "metadata": {
        "id": "1IO2n1yqK-KD"
      },
      "outputs": [],
      "source": []
    }
  ],
  "metadata": {
    "accelerator": "GPU",
    "colab": {
      "provenance": [],
      "collapsed_sections": [
        "LTnUVO505K3U",
        "wya2I2_H7Cwr",
        "MmBigtUA76ly"
      ],
      "gpuType": "T4",
      "authorship_tag": "ABX9TyO4qLe4zyoVoZcBnO+Bd43X",
      "include_colab_link": true
    },
    "kernelspec": {
      "display_name": "Python 3",
      "name": "python3"
    },
    "language_info": {
      "name": "python"
    }
  },
  "nbformat": 4,
  "nbformat_minor": 0
}