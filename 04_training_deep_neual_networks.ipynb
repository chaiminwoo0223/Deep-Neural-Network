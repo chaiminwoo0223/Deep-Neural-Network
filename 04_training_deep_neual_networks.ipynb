{
  "nbformat": 4,
  "nbformat_minor": 0,
  "metadata": {
    "colab": {
      "provenance": [],
      "gpuType": "T4",
      "authorship_tag": "ABX9TyPcHUC0fPyMXRnCoiPopQGd",
      "include_colab_link": true
    },
    "kernelspec": {
      "name": "python3",
      "display_name": "Python 3"
    },
    "language_info": {
      "name": "python"
    },
    "accelerator": "GPU"
  },
  "cells": [
    {
      "cell_type": "markdown",
      "metadata": {
        "id": "view-in-github",
        "colab_type": "text"
      },
      "source": [
        "<a href=\"https://colab.research.google.com/github/chaiminwoo0223/Deep-Neural-Network/blob/main/04_training_deep_neual_networks.ipynb\" target=\"_parent\"><img src=\"https://colab.research.google.com/assets/colab-badge.svg\" alt=\"Open In Colab\"/></a>"
      ]
    },
    {
      "cell_type": "markdown",
      "source": [
        "# Import"
      ],
      "metadata": {
        "id": "5PeLu0M8Y683"
      }
    },
    {
      "cell_type": "code",
      "execution_count": 1,
      "metadata": {
        "id": "xfIw8mtwYyAo"
      },
      "outputs": [],
      "source": [
        "import numpy as np\n",
        "import pandas as pd\n",
        "import matplotlib.pyplot as plt\n",
        "import tensorflow as tf\n",
        "from tensorflow import keras\n",
        "\n",
        "%matplotlib inline"
      ]
    },
    {
      "cell_type": "markdown",
      "source": [
        "# 그레디언트 소실과 폭주\n",
        "## 1.글로럿과 He 초기화"
      ],
      "metadata": {
        "id": "uuq5bQaYZGSu"
      }
    },
    {
      "cell_type": "code",
      "source": [
        "[initializer for initializer in dir(keras.initializers) if not initializer.startswith(\"_\")]"
      ],
      "metadata": {
        "colab": {
          "base_uri": "https://localhost:8080/",
          "height": 0
        },
        "id": "v37PI7qeaDi8",
        "outputId": "de46d242-11fb-42ea-9a99-3a15f4855604"
      },
      "execution_count": 2,
      "outputs": [
        {
          "output_type": "execute_result",
          "data": {
            "text/plain": [
              "['Constant',\n",
              " 'GlorotNormal',\n",
              " 'GlorotUniform',\n",
              " 'HeNormal',\n",
              " 'HeUniform',\n",
              " 'Identity',\n",
              " 'Initializer',\n",
              " 'LecunNormal',\n",
              " 'LecunUniform',\n",
              " 'Ones',\n",
              " 'Orthogonal',\n",
              " 'RandomNormal',\n",
              " 'RandomUniform',\n",
              " 'TruncatedNormal',\n",
              " 'VarianceScaling',\n",
              " 'Zeros',\n",
              " 'constant',\n",
              " 'deserialize',\n",
              " 'get',\n",
              " 'glorot_normal',\n",
              " 'glorot_uniform',\n",
              " 'he_normal',\n",
              " 'he_uniform',\n",
              " 'identity',\n",
              " 'lecun_normal',\n",
              " 'lecun_uniform',\n",
              " 'ones',\n",
              " 'orthogonal',\n",
              " 'random_normal',\n",
              " 'random_uniform',\n",
              " 'serialize',\n",
              " 'truncated_normal',\n",
              " 'variance_scaling',\n",
              " 'zeros']"
            ]
          },
          "metadata": {},
          "execution_count": 2
        }
      ]
    },
    {
      "cell_type": "code",
      "source": [
        "keras.layers.Dense(10, activation=\"relu\", kernel_initializer=\"he_normal\")"
      ],
      "metadata": {
        "colab": {
          "base_uri": "https://localhost:8080/",
          "height": 0
        },
        "id": "9Y8GgLFEaDlE",
        "outputId": "678ebc27-7902-435a-fdcc-299094e5052a"
      },
      "execution_count": 3,
      "outputs": [
        {
          "output_type": "execute_result",
          "data": {
            "text/plain": [
              "<keras.src.layers.core.dense.Dense at 0x7ca8ab26c310>"
            ]
          },
          "metadata": {},
          "execution_count": 3
        }
      ]
    },
    {
      "cell_type": "code",
      "source": [
        "init = keras.initializers.VarianceScaling(scale=2., mode=\"fan_avg\", distribution=\"uniform\")\n",
        "keras.layers.Dense(10, activation=\"relu\", kernel_initializer=init)"
      ],
      "metadata": {
        "colab": {
          "base_uri": "https://localhost:8080/",
          "height": 0
        },
        "id": "0ZwcCW95aDnP",
        "outputId": "775940d7-0cdc-49a4-ee91-22c5fda825f7"
      },
      "execution_count": 4,
      "outputs": [
        {
          "output_type": "execute_result",
          "data": {
            "text/plain": [
              "<keras.src.layers.core.dense.Dense at 0x7ca8ab26e0e0>"
            ]
          },
          "metadata": {},
          "execution_count": 4
        }
      ]
    },
    {
      "cell_type": "markdown",
      "source": [
        "## 2.수렴하지 않는 활성화 함수"
      ],
      "metadata": {
        "id": "lexfKL1lZ3Zt"
      }
    },
    {
      "cell_type": "code",
      "source": [
        "(X_train_full, y_train_full), (X_test, y_test) = keras.datasets.fashion_mnist.load_data()\n",
        "X_train_full = X_train_full / 255.0\n",
        "X_test = X_test / 255.0\n",
        "X_valid, X_train = X_train_full[:5000], X_train_full[5000:]\n",
        "y_valid, y_train = y_train_full[:5000], y_train_full[5000:]"
      ],
      "metadata": {
        "id": "Bw-FnNPuecEy"
      },
      "execution_count": 5,
      "outputs": []
    },
    {
      "cell_type": "code",
      "source": [
        "z = np.linspace(-5, 5, 200)\n",
        "z"
      ],
      "metadata": {
        "colab": {
          "base_uri": "https://localhost:8080/",
          "height": 0
        },
        "id": "_MBEUr8mbpjm",
        "outputId": "6c951169-1e1c-4c85-d5a0-3c5de2c86f99"
      },
      "execution_count": 6,
      "outputs": [
        {
          "output_type": "execute_result",
          "data": {
            "text/plain": [
              "array([-5.        , -4.94974874, -4.89949749, -4.84924623, -4.79899497,\n",
              "       -4.74874372, -4.69849246, -4.64824121, -4.59798995, -4.54773869,\n",
              "       -4.49748744, -4.44723618, -4.39698492, -4.34673367, -4.29648241,\n",
              "       -4.24623116, -4.1959799 , -4.14572864, -4.09547739, -4.04522613,\n",
              "       -3.99497487, -3.94472362, -3.89447236, -3.84422111, -3.79396985,\n",
              "       -3.74371859, -3.69346734, -3.64321608, -3.59296482, -3.54271357,\n",
              "       -3.49246231, -3.44221106, -3.3919598 , -3.34170854, -3.29145729,\n",
              "       -3.24120603, -3.19095477, -3.14070352, -3.09045226, -3.04020101,\n",
              "       -2.98994975, -2.93969849, -2.88944724, -2.83919598, -2.78894472,\n",
              "       -2.73869347, -2.68844221, -2.63819095, -2.5879397 , -2.53768844,\n",
              "       -2.48743719, -2.43718593, -2.38693467, -2.33668342, -2.28643216,\n",
              "       -2.2361809 , -2.18592965, -2.13567839, -2.08542714, -2.03517588,\n",
              "       -1.98492462, -1.93467337, -1.88442211, -1.83417085, -1.7839196 ,\n",
              "       -1.73366834, -1.68341709, -1.63316583, -1.58291457, -1.53266332,\n",
              "       -1.48241206, -1.4321608 , -1.38190955, -1.33165829, -1.28140704,\n",
              "       -1.23115578, -1.18090452, -1.13065327, -1.08040201, -1.03015075,\n",
              "       -0.9798995 , -0.92964824, -0.87939698, -0.82914573, -0.77889447,\n",
              "       -0.72864322, -0.67839196, -0.6281407 , -0.57788945, -0.52763819,\n",
              "       -0.47738693, -0.42713568, -0.37688442, -0.32663317, -0.27638191,\n",
              "       -0.22613065, -0.1758794 , -0.12562814, -0.07537688, -0.02512563,\n",
              "        0.02512563,  0.07537688,  0.12562814,  0.1758794 ,  0.22613065,\n",
              "        0.27638191,  0.32663317,  0.37688442,  0.42713568,  0.47738693,\n",
              "        0.52763819,  0.57788945,  0.6281407 ,  0.67839196,  0.72864322,\n",
              "        0.77889447,  0.82914573,  0.87939698,  0.92964824,  0.9798995 ,\n",
              "        1.03015075,  1.08040201,  1.13065327,  1.18090452,  1.23115578,\n",
              "        1.28140704,  1.33165829,  1.38190955,  1.4321608 ,  1.48241206,\n",
              "        1.53266332,  1.58291457,  1.63316583,  1.68341709,  1.73366834,\n",
              "        1.7839196 ,  1.83417085,  1.88442211,  1.93467337,  1.98492462,\n",
              "        2.03517588,  2.08542714,  2.13567839,  2.18592965,  2.2361809 ,\n",
              "        2.28643216,  2.33668342,  2.38693467,  2.43718593,  2.48743719,\n",
              "        2.53768844,  2.5879397 ,  2.63819095,  2.68844221,  2.73869347,\n",
              "        2.78894472,  2.83919598,  2.88944724,  2.93969849,  2.98994975,\n",
              "        3.04020101,  3.09045226,  3.14070352,  3.19095477,  3.24120603,\n",
              "        3.29145729,  3.34170854,  3.3919598 ,  3.44221106,  3.49246231,\n",
              "        3.54271357,  3.59296482,  3.64321608,  3.69346734,  3.74371859,\n",
              "        3.79396985,  3.84422111,  3.89447236,  3.94472362,  3.99497487,\n",
              "        4.04522613,  4.09547739,  4.14572864,  4.1959799 ,  4.24623116,\n",
              "        4.29648241,  4.34673367,  4.39698492,  4.44723618,  4.49748744,\n",
              "        4.54773869,  4.59798995,  4.64824121,  4.69849246,  4.74874372,\n",
              "        4.79899497,  4.84924623,  4.89949749,  4.94974874,  5.        ])"
            ]
          },
          "metadata": {},
          "execution_count": 6
        }
      ]
    },
    {
      "cell_type": "code",
      "source": [
        "# 로지스틱 시그모이드 함수\n",
        "def logit(z):\n",
        "    return 1 / (1 + np.exp(-z))\n",
        "\n",
        "plt.plot(z, logit(z), \"b-\", linewidth=2)\n",
        "plt.plot([-5, 5], [0, 0], 'k--')\n",
        "plt.plot([-5, 5], [1, 1], 'k--')\n",
        "plt.grid(True)\n",
        "props = dict(facecolor='black', shrink=0.1)\n",
        "plt.title(\"Sigmoid activation function\", fontsize=14)\n",
        "plt.axis([-5, 5, -0.2, 1.2])\n",
        "plt.show()"
      ],
      "metadata": {
        "colab": {
          "base_uri": "https://localhost:8080/",
          "height": 453
        },
        "id": "irrjeWWAY_PV",
        "outputId": "06c4e338-9840-4218-f779-7bbc980d6515"
      },
      "execution_count": 7,
      "outputs": [
        {
          "output_type": "display_data",
          "data": {
            "text/plain": [
              "<Figure size 640x480 with 1 Axes>"
            ],
            "image/png": "[encoded data removed]"
          },
          "metadata": {}
        }
      ]
    },
    {
      "cell_type": "code",
      "source": [
        "keras.backend.clear_session()\n",
        "tf.random.set_seed(42)\n",
        "np.random.seed(42)\n",
        "\n",
        "model = keras.models.Sequential([\n",
        "    keras.layers.Flatten(input_shape=[28, 28]),\n",
        "    keras.layers.Dense(300, activation=\"sigmoid\",\n",
        "                       kernel_initializer=tf.keras.initializers.RandomNormal(0.0, 1.0)),\n",
        "    keras.layers.Dense(100, activation=\"sigmoid\",\n",
        "                       kernel_initializer=tf.keras.initializers.RandomNormal(0.0, 1.0)),\n",
        "    keras.layers.Dense(10, activation=\"softmax\")\n",
        "])\n",
        "\n",
        "model.summary()"
      ],
      "metadata": {
        "colab": {
          "base_uri": "https://localhost:8080/",
          "height": 0
        },
        "id": "QJtScu_Xc20g",
        "outputId": "4fed79ee-9eff-4e7a-f681-94393452d0dc"
      },
      "execution_count": 8,
      "outputs": [
        {
          "output_type": "stream",
          "name": "stdout",
          "text": [
            "Model: \"sequential\"\n",
            "_________________________________________________________________\n",
            " Layer (type)                Output Shape              Param #   \n",
            "=================================================================\n",
            " flatten (Flatten)           (None, 784)               0         \n",
            "                                                                 \n",
            " dense (Dense)               (None, 300)               235500    \n",
            "                                                                 \n",
            " dense_1 (Dense)             (None, 100)               30100     \n",
            "                                                                 \n",
            " dense_2 (Dense)             (None, 10)                1010      \n",
            "                                                                 \n",
            "=================================================================\n",
            "Total params: 266610 (1.02 MB)\n",
            "Trainable params: 266610 (1.02 MB)\n",
            "Non-trainable params: 0 (0.00 Byte)\n",
            "_________________________________________________________________\n"
          ]
        }
      ]
    },
    {
      "cell_type": "code",
      "source": [
        "model.compile(loss=\"sparse_categorical_crossentropy\",\n",
        "              optimizer=keras.optimizers.SGD(learning_rate=1e-3),\n",
        "              metrics=[\"accuracy\"])\n",
        "\n",
        "history = model.fit(X_train, y_train, epochs=10, validation_data=(X_valid, y_valid))"
      ],
      "metadata": {
        "colab": {
          "base_uri": "https://localhost:8080/",
          "height": 0
        },
        "id": "kZc0SQ0Qm33f",
        "outputId": "39e4682e-2117-4f2f-f010-5b6ec33eff97"
      },
      "execution_count": 9,
      "outputs": [
        {
          "output_type": "stream",
          "name": "stdout",
          "text": [
            "Epoch 1/10\n",
            "1719/1719 [==============================] - 14s 7ms/step - loss: 2.2211 - accuracy: 0.1868 - val_loss: 2.0432 - val_accuracy: 0.2840\n",
            "Epoch 2/10\n",
            "1719/1719 [==============================] - 12s 7ms/step - loss: 1.9283 - accuracy: 0.3682 - val_loss: 1.8091 - val_accuracy: 0.4578\n",
            "Epoch 3/10\n",
            "1719/1719 [==============================] - 7s 4ms/step - loss: 1.7239 - accuracy: 0.4979 - val_loss: 1.6259 - val_accuracy: 0.5524\n",
            "Epoch 4/10\n",
            "1719/1719 [==============================] - 6s 4ms/step - loss: 1.5625 - accuracy: 0.5701 - val_loss: 1.4814 - val_accuracy: 0.6010\n",
            "Epoch 5/10\n",
            "1719/1719 [==============================] - 6s 4ms/step - loss: 1.4348 - accuracy: 0.6093 - val_loss: 1.3685 - val_accuracy: 0.6326\n",
            "Epoch 6/10\n",
            "1719/1719 [==============================] - 7s 4ms/step - loss: 1.3331 - accuracy: 0.6330 - val_loss: 1.2780 - val_accuracy: 0.6468\n",
            "Epoch 7/10\n",
            "1719/1719 [==============================] - 6s 3ms/step - loss: 1.2514 - accuracy: 0.6489 - val_loss: 1.2055 - val_accuracy: 0.6576\n",
            "Epoch 8/10\n",
            "1719/1719 [==============================] - 9s 5ms/step - loss: 1.1854 - accuracy: 0.6605 - val_loss: 1.1466 - val_accuracy: 0.6678\n",
            "Epoch 9/10\n",
            "1719/1719 [==============================] - 7s 4ms/step - loss: 1.1312 - accuracy: 0.6695 - val_loss: 1.0977 - val_accuracy: 0.6760\n",
            "Epoch 10/10\n",
            "1719/1719 [==============================] - 7s 4ms/step - loss: 1.0862 - accuracy: 0.6766 - val_loss: 1.0572 - val_accuracy: 0.6856\n"
          ]
        }
      ]
    },
    {
      "cell_type": "code",
      "source": [
        "# ReLU\n",
        "def relu(z):\n",
        "    return np.maximum(0, z)\n",
        "\n",
        "plt.plot(z, relu(z), \"b-\", linewidth=2)\n",
        "plt.plot([-5, 5], [0, 0], 'k-')\n",
        "plt.plot([0, 0], [-0.5, 4.2], 'k-')\n",
        "plt.grid(True)\n",
        "props = dict(facecolor='black', shrink=0.1)\n",
        "plt.title(\"ReLU activation function\", fontsize=14)\n",
        "plt.axis([-5, 5, -0.5, 4.2])\n",
        "plt.show()"
      ],
      "metadata": {
        "colab": {
          "base_uri": "https://localhost:8080/",
          "height": 453
        },
        "id": "18gUgP1DZmQl",
        "outputId": "ede8a8d8-f42c-4346-d314-2ebc5c45aaa6"
      },
      "execution_count": 10,
      "outputs": [
        {
          "output_type": "display_data",
          "data": {
            "text/plain": [
              "<Figure size 640x480 with 1 Axes>"
            ],
            "image/png": "[encoded data removed]"
          },
          "metadata": {}
        }
      ]
    },
    {
      "cell_type": "code",
      "source": [
        "keras.backend.clear_session()\n",
        "tf.random.set_seed(42)\n",
        "np.random.seed(42)\n",
        "\n",
        "model = keras.models.Sequential([\n",
        "    keras.layers.Flatten(input_shape=[28, 28]),\n",
        "    keras.layers.Dense(300, kernel_initializer=\"he_normal\"),\n",
        "    keras.layers.ReLU(),\n",
        "    keras.layers.Dense(100, kernel_initializer=\"he_normal\"),\n",
        "    keras.layers.ReLU(),\n",
        "    keras.layers.Dense(10, activation=\"softmax\")\n",
        "])\n",
        "\n",
        "model.summary()"
      ],
      "metadata": {
        "colab": {
          "base_uri": "https://localhost:8080/",
          "height": 0
        },
        "id": "KyUcbVfLcwZ2",
        "outputId": "b4f4f0b2-1e26-4a5c-8b5d-b61bf38b79b5"
      },
      "execution_count": 11,
      "outputs": [
        {
          "output_type": "stream",
          "name": "stdout",
          "text": [
            "Model: \"sequential\"\n",
            "_________________________________________________________________\n",
            " Layer (type)                Output Shape              Param #   \n",
            "=================================================================\n",
            " flatten (Flatten)           (None, 784)               0         \n",
            "                                                                 \n",
            " dense (Dense)               (None, 300)               235500    \n",
            "                                                                 \n",
            " re_lu (ReLU)                (None, 300)               0         \n",
            "                                                                 \n",
            " dense_1 (Dense)             (None, 100)               30100     \n",
            "                                                                 \n",
            " re_lu_1 (ReLU)              (None, 100)               0         \n",
            "                                                                 \n",
            " dense_2 (Dense)             (None, 10)                1010      \n",
            "                                                                 \n",
            "=================================================================\n",
            "Total params: 266610 (1.02 MB)\n",
            "Trainable params: 266610 (1.02 MB)\n",
            "Non-trainable params: 0 (0.00 Byte)\n",
            "_________________________________________________________________\n"
          ]
        }
      ]
    },
    {
      "cell_type": "code",
      "source": [
        "model.compile(loss=\"sparse_categorical_crossentropy\",\n",
        "              optimizer=keras.optimizers.SGD(learning_rate=1e-3),\n",
        "              metrics=[\"accuracy\"])\n",
        "\n",
        "history = model.fit(X_train, y_train, epochs=10, validation_data=(X_valid, y_valid))"
      ],
      "metadata": {
        "colab": {
          "base_uri": "https://localhost:8080/",
          "height": 0
        },
        "id": "n7xme0R6m8cM",
        "outputId": "db1a5025-44bd-438d-e810-58326d9df40c"
      },
      "execution_count": 12,
      "outputs": [
        {
          "output_type": "stream",
          "name": "stdout",
          "text": [
            "Epoch 1/10\n",
            "1719/1719 [==============================] - 7s 4ms/step - loss: 1.3651 - accuracy: 0.5960 - val_loss: 0.9132 - val_accuracy: 0.7100\n",
            "Epoch 2/10\n",
            "1719/1719 [==============================] - 7s 4ms/step - loss: 0.8138 - accuracy: 0.7355 - val_loss: 0.7229 - val_accuracy: 0.7636\n",
            "Epoch 3/10\n",
            "1719/1719 [==============================] - 6s 3ms/step - loss: 0.6913 - accuracy: 0.7739 - val_loss: 0.6499 - val_accuracy: 0.7868\n",
            "Epoch 4/10\n",
            "1719/1719 [==============================] - 7s 4ms/step - loss: 0.6272 - accuracy: 0.7951 - val_loss: 0.5937 - val_accuracy: 0.8042\n",
            "Epoch 5/10\n",
            "1719/1719 [==============================] - 7s 4ms/step - loss: 0.5855 - accuracy: 0.8080 - val_loss: 0.5594 - val_accuracy: 0.8182\n",
            "Epoch 6/10\n",
            "1719/1719 [==============================] - 7s 4ms/step - loss: 0.5557 - accuracy: 0.8155 - val_loss: 0.5351 - val_accuracy: 0.8240\n",
            "Epoch 7/10\n",
            "1719/1719 [==============================] - 6s 4ms/step - loss: 0.5334 - accuracy: 0.8216 - val_loss: 0.5150 - val_accuracy: 0.8288\n",
            "Epoch 8/10\n",
            "1719/1719 [==============================] - 6s 3ms/step - loss: 0.5163 - accuracy: 0.8266 - val_loss: 0.5059 - val_accuracy: 0.8290\n",
            "Epoch 9/10\n",
            "1719/1719 [==============================] - 7s 4ms/step - loss: 0.5026 - accuracy: 0.8296 - val_loss: 0.4889 - val_accuracy: 0.8362\n",
            "Epoch 10/10\n",
            "1719/1719 [==============================] - 6s 4ms/step - loss: 0.4908 - accuracy: 0.8326 - val_loss: 0.4813 - val_accuracy: 0.8400\n"
          ]
        }
      ]
    },
    {
      "cell_type": "code",
      "source": [
        "# Leaky ReLU\n",
        "def leaky_relu(z, alpha=0.01):\n",
        "    return np.maximum(alpha*z, z)\n",
        "\n",
        "plt.plot(z, leaky_relu(z, 0.05), \"b-\", linewidth=2)\n",
        "plt.plot([-5, 5], [0, 0], 'k-')\n",
        "plt.plot([0, 0], [-0.5, 4.2], 'k-')\n",
        "plt.grid(True)\n",
        "props = dict(facecolor='black', shrink=0.1)\n",
        "plt.annotate('Leak', xytext=(-3.5, 0.5), xy=(-5, -0.2), arrowprops=props, fontsize=14, ha=\"center\")\n",
        "plt.title(\"Leaky ReLU activation function\", fontsize=14)\n",
        "plt.axis([-5, 5, -0.5, 4.2])\n",
        "plt.show()"
      ],
      "metadata": {
        "colab": {
          "base_uri": "https://localhost:8080/",
          "height": 453
        },
        "id": "oDziBehcf9L-",
        "outputId": "ec243d29-60b0-42c1-de80-af5acb638fb2"
      },
      "execution_count": 13,
      "outputs": [
        {
          "output_type": "display_data",
          "data": {
            "text/plain": [
              "<Figure size 640x480 with 1 Axes>"
            ],
            "image/png": "[encoded data removed]"
          },
          "metadata": {}
        }
      ]
    },
    {
      "cell_type": "code",
      "source": [
        "keras.backend.clear_session()\n",
        "tf.random.set_seed(42)\n",
        "np.random.seed(42)\n",
        "\n",
        "model = keras.models.Sequential([\n",
        "    keras.layers.Flatten(input_shape=[28, 28]),\n",
        "    keras.layers.Dense(300, kernel_initializer=\"he_normal\"),\n",
        "    keras.layers.LeakyReLU(0.01),\n",
        "    keras.layers.Dense(100, kernel_initializer=\"he_normal\"),\n",
        "    keras.layers.LeakyReLU(0.01),\n",
        "    keras.layers.Dense(10, activation=\"softmax\")\n",
        "])\n",
        "\n",
        "model.summary()"
      ],
      "metadata": {
        "colab": {
          "base_uri": "https://localhost:8080/",
          "height": 0
        },
        "id": "gF6m96LSgFDL",
        "outputId": "7882ddae-598c-4d6a-90d4-e772dd613d71"
      },
      "execution_count": 14,
      "outputs": [
        {
          "output_type": "stream",
          "name": "stdout",
          "text": [
            "Model: \"sequential\"\n",
            "_________________________________________________________________\n",
            " Layer (type)                Output Shape              Param #   \n",
            "=================================================================\n",
            " flatten (Flatten)           (None, 784)               0         \n",
            "                                                                 \n",
            " dense (Dense)               (None, 300)               235500    \n",
            "                                                                 \n",
            " leaky_re_lu (LeakyReLU)     (None, 300)               0         \n",
            "                                                                 \n",
            " dense_1 (Dense)             (None, 100)               30100     \n",
            "                                                                 \n",
            " leaky_re_lu_1 (LeakyReLU)   (None, 100)               0         \n",
            "                                                                 \n",
            " dense_2 (Dense)             (None, 10)                1010      \n",
            "                                                                 \n",
            "=================================================================\n",
            "Total params: 266610 (1.02 MB)\n",
            "Trainable params: 266610 (1.02 MB)\n",
            "Non-trainable params: 0 (0.00 Byte)\n",
            "_________________________________________________________________\n"
          ]
        }
      ]
    },
    {
      "cell_type": "code",
      "source": [
        "model.compile(loss=\"sparse_categorical_crossentropy\",\n",
        "              optimizer=keras.optimizers.SGD(learning_rate=1e-3),\n",
        "              metrics=[\"accuracy\"])\n",
        "\n",
        "history = model.fit(X_train, y_train, epochs=10, validation_data=(X_valid, y_valid))"
      ],
      "metadata": {
        "colab": {
          "base_uri": "https://localhost:8080/",
          "height": 0
        },
        "id": "cpdZbo9hnFZu",
        "outputId": "96732d0e-fa14-4e50-84d1-3a0cc2e6bc71"
      },
      "execution_count": 15,
      "outputs": [
        {
          "output_type": "stream",
          "name": "stdout",
          "text": [
            "Epoch 1/10\n",
            "1719/1719 [==============================] - 7s 4ms/step - loss: 1.3140 - accuracy: 0.6055 - val_loss: 0.9073 - val_accuracy: 0.7092\n",
            "Epoch 2/10\n",
            "1719/1719 [==============================] - 6s 3ms/step - loss: 0.8225 - accuracy: 0.7283 - val_loss: 0.7364 - val_accuracy: 0.7532\n",
            "Epoch 3/10\n",
            "1719/1719 [==============================] - 7s 4ms/step - loss: 0.7095 - accuracy: 0.7646 - val_loss: 0.6658 - val_accuracy: 0.7802\n",
            "Epoch 4/10\n",
            "1719/1719 [==============================] - 6s 3ms/step - loss: 0.6467 - accuracy: 0.7865 - val_loss: 0.6091 - val_accuracy: 0.8038\n",
            "Epoch 5/10\n",
            "1719/1719 [==============================] - 7s 4ms/step - loss: 0.6038 - accuracy: 0.8013 - val_loss: 0.5726 - val_accuracy: 0.8156\n",
            "Epoch 6/10\n",
            "1719/1719 [==============================] - 6s 3ms/step - loss: 0.5717 - accuracy: 0.8111 - val_loss: 0.5446 - val_accuracy: 0.8226\n",
            "Epoch 7/10\n",
            "1719/1719 [==============================] - 6s 4ms/step - loss: 0.5471 - accuracy: 0.8179 - val_loss: 0.5229 - val_accuracy: 0.8290\n",
            "Epoch 8/10\n",
            "1719/1719 [==============================] - 6s 3ms/step - loss: 0.5282 - accuracy: 0.8227 - val_loss: 0.5125 - val_accuracy: 0.8322\n",
            "Epoch 9/10\n",
            "1719/1719 [==============================] - 6s 4ms/step - loss: 0.5130 - accuracy: 0.8269 - val_loss: 0.4937 - val_accuracy: 0.8376\n",
            "Epoch 10/10\n",
            "1719/1719 [==============================] - 7s 4ms/step - loss: 0.5001 - accuracy: 0.8306 - val_loss: 0.4841 - val_accuracy: 0.8408\n"
          ]
        }
      ]
    },
    {
      "cell_type": "code",
      "source": [
        "keras.backend.clear_session()\n",
        "tf.random.set_seed(42)\n",
        "np.random.seed(42)\n",
        "\n",
        "model = keras.models.Sequential([\n",
        "    keras.layers.Flatten(input_shape=[28, 28]),\n",
        "    keras.layers.Dense(300, kernel_initializer='he_normal'),\n",
        "    keras.layers.PReLU(),\n",
        "    keras.layers.Dense(100, kernel_initializer='he_normal'),\n",
        "    keras.layers.PReLU(),\n",
        "    keras.layers.Dense(10, activation='softmax')\n",
        "])\n",
        "\n",
        "model.summary()"
      ],
      "metadata": {
        "colab": {
          "base_uri": "https://localhost:8080/",
          "height": 0
        },
        "id": "lVwP1Ckzgh_J",
        "outputId": "0d7fcf4e-34d2-4d48-e42b-6737c8182bf0"
      },
      "execution_count": 16,
      "outputs": [
        {
          "output_type": "stream",
          "name": "stdout",
          "text": [
            "Model: \"sequential\"\n",
            "_________________________________________________________________\n",
            " Layer (type)                Output Shape              Param #   \n",
            "=================================================================\n",
            " flatten (Flatten)           (None, 784)               0         \n",
            "                                                                 \n",
            " dense (Dense)               (None, 300)               235500    \n",
            "                                                                 \n",
            " p_re_lu (PReLU)             (None, 300)               300       \n",
            "                                                                 \n",
            " dense_1 (Dense)             (None, 100)               30100     \n",
            "                                                                 \n",
            " p_re_lu_1 (PReLU)           (None, 100)               100       \n",
            "                                                                 \n",
            " dense_2 (Dense)             (None, 10)                1010      \n",
            "                                                                 \n",
            "=================================================================\n",
            "Total params: 267010 (1.02 MB)\n",
            "Trainable params: 267010 (1.02 MB)\n",
            "Non-trainable params: 0 (0.00 Byte)\n",
            "_________________________________________________________________\n"
          ]
        }
      ]
    },
    {
      "cell_type": "code",
      "source": [
        "model.compile(loss=\"sparse_categorical_crossentropy\",\n",
        "              optimizer=keras.optimizers.SGD(learning_rate=1e-3),\n",
        "              metrics=[\"accuracy\"])\n",
        "\n",
        "history = model.fit(X_train, y_train, epochs=10, validation_data=(X_valid, y_valid))"
      ],
      "metadata": {
        "colab": {
          "base_uri": "https://localhost:8080/",
          "height": 0
        },
        "id": "ugqptyACnIg5",
        "outputId": "10b50cec-1fce-4a32-efb5-ceb64a222f2f"
      },
      "execution_count": 17,
      "outputs": [
        {
          "output_type": "stream",
          "name": "stdout",
          "text": [
            "Epoch 1/10\n",
            "1719/1719 [==============================] - 8s 4ms/step - loss: 1.3369 - accuracy: 0.5940 - val_loss: 0.8974 - val_accuracy: 0.7138\n",
            "Epoch 2/10\n",
            "1719/1719 [==============================] - 7s 4ms/step - loss: 0.8047 - accuracy: 0.7409 - val_loss: 0.7088 - val_accuracy: 0.7770\n",
            "Epoch 3/10\n",
            "1719/1719 [==============================] - 8s 4ms/step - loss: 0.6824 - accuracy: 0.7807 - val_loss: 0.6393 - val_accuracy: 0.7970\n",
            "Epoch 4/10\n",
            "1719/1719 [==============================] - 7s 4ms/step - loss: 0.6198 - accuracy: 0.7990 - val_loss: 0.5845 - val_accuracy: 0.8114\n",
            "Epoch 5/10\n",
            "1719/1719 [==============================] - 8s 4ms/step - loss: 0.5806 - accuracy: 0.8091 - val_loss: 0.5519 - val_accuracy: 0.8232\n",
            "Epoch 6/10\n",
            "1719/1719 [==============================] - 7s 4ms/step - loss: 0.5526 - accuracy: 0.8165 - val_loss: 0.5293 - val_accuracy: 0.8274\n",
            "Epoch 7/10\n",
            "1719/1719 [==============================] - 8s 4ms/step - loss: 0.5314 - accuracy: 0.8229 - val_loss: 0.5095 - val_accuracy: 0.8348\n",
            "Epoch 8/10\n",
            "1719/1719 [==============================] - 6s 4ms/step - loss: 0.5150 - accuracy: 0.8260 - val_loss: 0.5045 - val_accuracy: 0.8356\n",
            "Epoch 9/10\n",
            "1719/1719 [==============================] - 8s 5ms/step - loss: 0.5018 - accuracy: 0.8301 - val_loss: 0.4838 - val_accuracy: 0.8396\n",
            "Epoch 10/10\n",
            "1719/1719 [==============================] - 7s 4ms/step - loss: 0.4903 - accuracy: 0.8328 - val_loss: 0.4761 - val_accuracy: 0.8416\n"
          ]
        }
      ]
    },
    {
      "cell_type": "code",
      "source": [
        "# ELU\n",
        "def elu(z, alpha=1):\n",
        "    return np.where(z < 0, alpha * (np.exp(z) - 1), z)\n",
        "\n",
        "plt.plot(z, elu(z), \"b-\", linewidth=2)\n",
        "plt.plot([-5, 5], [0, 0], 'k-')\n",
        "plt.plot([-5, 5], [-1, -1], 'k--')\n",
        "plt.plot([0, 0], [-2.2, 3.2], 'k-')\n",
        "plt.grid(True)\n",
        "plt.title(r\"ELU activation function ($\\alpha=1$)\", fontsize=14)\n",
        "plt.axis([-5, 5, -2.2, 3.2])\n",
        "plt.show()"
      ],
      "metadata": {
        "colab": {
          "base_uri": "https://localhost:8080/",
          "height": 455
        },
        "id": "UuvrwVZgg1ZW",
        "outputId": "edcee2b9-1023-44f4-b98e-561e198ff0aa"
      },
      "execution_count": 18,
      "outputs": [
        {
          "output_type": "display_data",
          "data": {
            "text/plain": [
              "<Figure size 640x480 with 1 Axes>"
            ],
            "image/png": "[encoded data removed]"
          },
          "metadata": {}
        }
      ]
    },
    {
      "cell_type": "code",
      "source": [
        "keras.backend.clear_session()\n",
        "tf.random.set_seed(42)\n",
        "np.random.seed(42)\n",
        "\n",
        "model = keras.models.Sequential([\n",
        "    keras.layers.Flatten(input_shape=[28, 28]),\n",
        "    keras.layers.Dense(300, activation=\"elu\", kernel_initializer=\"he_normal\"),\n",
        "    keras.layers.Dense(100, activation=\"elu\", kernel_initializer=\"he_normal\"),\n",
        "    keras.layers.Dense(10, activation=\"softmax\")\n",
        "])\n",
        "\n",
        "model.summary()"
      ],
      "metadata": {
        "colab": {
          "base_uri": "https://localhost:8080/",
          "height": 0
        },
        "id": "K5e4c_Uah007",
        "outputId": "5a59d65b-18c8-40b7-f055-3969f1b3d780"
      },
      "execution_count": 19,
      "outputs": [
        {
          "output_type": "stream",
          "name": "stdout",
          "text": [
            "Model: \"sequential\"\n",
            "_________________________________________________________________\n",
            " Layer (type)                Output Shape              Param #   \n",
            "=================================================================\n",
            " flatten (Flatten)           (None, 784)               0         \n",
            "                                                                 \n",
            " dense (Dense)               (None, 300)               235500    \n",
            "                                                                 \n",
            " dense_1 (Dense)             (None, 100)               30100     \n",
            "                                                                 \n",
            " dense_2 (Dense)             (None, 10)                1010      \n",
            "                                                                 \n",
            "=================================================================\n",
            "Total params: 266610 (1.02 MB)\n",
            "Trainable params: 266610 (1.02 MB)\n",
            "Non-trainable params: 0 (0.00 Byte)\n",
            "_________________________________________________________________\n"
          ]
        }
      ]
    },
    {
      "cell_type": "code",
      "source": [
        "model.compile(loss=\"sparse_categorical_crossentropy\",\n",
        "              optimizer=keras.optimizers.SGD(learning_rate=1e-3),\n",
        "              metrics=[\"accuracy\"])\n",
        "\n",
        "history = model.fit(X_train, y_train, epochs=10, validation_data=(X_valid, y_valid))"
      ],
      "metadata": {
        "colab": {
          "base_uri": "https://localhost:8080/",
          "height": 0
        },
        "id": "gfizqN7emvQb",
        "outputId": "52c192d0-7596-4f91-abc1-7ce9f9f72024"
      },
      "execution_count": 20,
      "outputs": [
        {
          "output_type": "stream",
          "name": "stdout",
          "text": [
            "Epoch 1/10\n",
            "1719/1719 [==============================] - 8s 4ms/step - loss: 1.1491 - accuracy: 0.6370 - val_loss: 0.7884 - val_accuracy: 0.7538\n",
            "Epoch 2/10\n",
            "1719/1719 [==============================] - 6s 3ms/step - loss: 0.7202 - accuracy: 0.7660 - val_loss: 0.6510 - val_accuracy: 0.7870\n",
            "Epoch 3/10\n",
            "1719/1719 [==============================] - 7s 4ms/step - loss: 0.6292 - accuracy: 0.7924 - val_loss: 0.5965 - val_accuracy: 0.8046\n",
            "Epoch 4/10\n",
            "1719/1719 [==============================] - 9s 5ms/step - loss: 0.5815 - accuracy: 0.8055 - val_loss: 0.5531 - val_accuracy: 0.8184\n",
            "Epoch 5/10\n",
            "1719/1719 [==============================] - 6s 3ms/step - loss: 0.5508 - accuracy: 0.8149 - val_loss: 0.5285 - val_accuracy: 0.8264\n",
            "Epoch 6/10\n",
            "1719/1719 [==============================] - 7s 4ms/step - loss: 0.5287 - accuracy: 0.8191 - val_loss: 0.5102 - val_accuracy: 0.8306\n",
            "Epoch 7/10\n",
            "1719/1719 [==============================] - 6s 4ms/step - loss: 0.5119 - accuracy: 0.8249 - val_loss: 0.4948 - val_accuracy: 0.8328\n",
            "Epoch 8/10\n",
            "1719/1719 [==============================] - 7s 4ms/step - loss: 0.4989 - accuracy: 0.8279 - val_loss: 0.4889 - val_accuracy: 0.8348\n",
            "Epoch 9/10\n",
            "1719/1719 [==============================] - 6s 3ms/step - loss: 0.4882 - accuracy: 0.8308 - val_loss: 0.4744 - val_accuracy: 0.8406\n",
            "Epoch 10/10\n",
            "1719/1719 [==============================] - 7s 4ms/step - loss: 0.4790 - accuracy: 0.8340 - val_loss: 0.4686 - val_accuracy: 0.8422\n"
          ]
        }
      ]
    },
    {
      "cell_type": "code",
      "source": [
        "# SELU\n",
        "from scipy.special import erfc\n",
        "\n",
        "alpha_0_1 = -np.sqrt(2 / np.pi) / (erfc(1/np.sqrt(2)) * np.exp(1/2) - 1)\n",
        "scale_0_1 = (1 - erfc(1 / np.sqrt(2)) * np.sqrt(np.e)) * np.sqrt(2 * np.pi) * (2 * erfc(np.sqrt(2))*np.e**2 + np.pi*erfc(1/np.sqrt(2))**2*np.e - 2*(2+np.pi)*erfc(1/np.sqrt(2))*np.sqrt(np.e)+np.pi+2)**(-1/2)"
      ],
      "metadata": {
        "id": "izHu-nbhiQMm"
      },
      "execution_count": 21,
      "outputs": []
    },
    {
      "cell_type": "code",
      "source": [
        "def selu(z, scale=scale_0_1, alpha=alpha_0_1):\n",
        "    return scale * elu(z, alpha)\n",
        "\n",
        "plt.plot(z, selu(z), \"b-\", linewidth=2)\n",
        "plt.plot([-5, 5], [0, 0], 'k-')\n",
        "plt.plot([-5, 5], [-1.758, -1.758], 'k--')\n",
        "plt.plot([0, 0], [-2.2, 3.2], 'k-')\n",
        "plt.grid(True)\n",
        "plt.title(\"SELU activation function\", fontsize=14)\n",
        "plt.axis([-5, 5, -2.2, 3.2])\n",
        "plt.show()"
      ],
      "metadata": {
        "colab": {
          "base_uri": "https://localhost:8080/",
          "height": 453
        },
        "id": "ZZXCQaSai4RG",
        "outputId": "c120569b-6d30-4750-f64b-de5208286e7a"
      },
      "execution_count": 22,
      "outputs": [
        {
          "output_type": "display_data",
          "data": {
            "text/plain": [
              "<Figure size 640x480 with 1 Axes>"
            ],
            "image/png": "[encoded data removed]"
          },
          "metadata": {}
        }
      ]
    },
    {
      "cell_type": "code",
      "source": [
        "means = X_train.mean(axis=0, keepdims=True)\n",
        "stds = X_train.std(axis=0, keepdims=True)\n",
        "X_train_scaled = (X_train - means) / stds\n",
        "X_valid_scaled = (X_valid - means) / stds"
      ],
      "metadata": {
        "id": "OToKf2o1jxCV"
      },
      "execution_count": 23,
      "outputs": []
    },
    {
      "cell_type": "code",
      "source": [
        "keras.backend.clear_session()\n",
        "tf.random.set_seed(42)\n",
        "np.random.seed(42)\n",
        "\n",
        "model = keras.models.Sequential()\n",
        "model.add(keras.layers.Flatten(input_shape=[28, 28]))\n",
        "model.add(keras.layers.Dense(300, activation=\"selu\", kernel_initializer=\"lecun_normal\"))\n",
        "for layer in range(100):\n",
        "  keras.layers.Dense(100, activation=\"selu\", kernel_initializer=\"lecun_normal\")\n",
        "model.add(keras.layers.Dense(10, activation=\"softmax\"))\n",
        "\n",
        "model.summary()"
      ],
      "metadata": {
        "colab": {
          "base_uri": "https://localhost:8080/",
          "height": 0
        },
        "id": "cd_fi4QGi4xp",
        "outputId": "b808e636-ecdf-4d61-b353-273c24b35a25"
      },
      "execution_count": 24,
      "outputs": [
        {
          "output_type": "stream",
          "name": "stdout",
          "text": [
            "Model: \"sequential\"\n",
            "_________________________________________________________________\n",
            " Layer (type)                Output Shape              Param #   \n",
            "=================================================================\n",
            " flatten (Flatten)           (None, 784)               0         \n",
            "                                                                 \n",
            " dense (Dense)               (None, 300)               235500    \n",
            "                                                                 \n",
            " dense_101 (Dense)           (None, 10)                3010      \n",
            "                                                                 \n",
            "=================================================================\n",
            "Total params: 238510 (931.68 KB)\n",
            "Trainable params: 238510 (931.68 KB)\n",
            "Non-trainable params: 0 (0.00 Byte)\n",
            "_________________________________________________________________\n"
          ]
        }
      ]
    },
    {
      "cell_type": "code",
      "source": [
        "model.compile(loss=\"sparse_categorical_crossentropy\",\n",
        "              optimizer=keras.optimizers.SGD(learning_rate=1e-3),\n",
        "              metrics=[\"accuracy\"])\n",
        "\n",
        "history = model.fit(X_train_scaled, y_train, epochs=10, validation_data=(X_valid_scaled, y_valid))"
      ],
      "metadata": {
        "colab": {
          "base_uri": "https://localhost:8080/",
          "height": 0
        },
        "id": "u_GsQmSImpSB",
        "outputId": "0a4ddd2a-5a26-4906-ff90-9150a4a0ec53"
      },
      "execution_count": 25,
      "outputs": [
        {
          "output_type": "stream",
          "name": "stdout",
          "text": [
            "Epoch 1/10\n",
            "1719/1719 [==============================] - 6s 3ms/step - loss: 0.7319 - accuracy: 0.7478 - val_loss: 0.5607 - val_accuracy: 0.8114\n",
            "Epoch 2/10\n",
            "1719/1719 [==============================] - 6s 4ms/step - loss: 0.5247 - accuracy: 0.8179 - val_loss: 0.5004 - val_accuracy: 0.8312\n",
            "Epoch 3/10\n",
            "1719/1719 [==============================] - 5s 3ms/step - loss: 0.4824 - accuracy: 0.8330 - val_loss: 0.4766 - val_accuracy: 0.8384\n",
            "Epoch 4/10\n",
            "1719/1719 [==============================] - 6s 4ms/step - loss: 0.4586 - accuracy: 0.8421 - val_loss: 0.4586 - val_accuracy: 0.8456\n",
            "Epoch 5/10\n",
            "1719/1719 [==============================] - 5s 3ms/step - loss: 0.4425 - accuracy: 0.8472 - val_loss: 0.4473 - val_accuracy: 0.8496\n",
            "Epoch 6/10\n",
            "1719/1719 [==============================] - 6s 3ms/step - loss: 0.4299 - accuracy: 0.8525 - val_loss: 0.4399 - val_accuracy: 0.8516\n",
            "Epoch 7/10\n",
            "1719/1719 [==============================] - 6s 4ms/step - loss: 0.4202 - accuracy: 0.8552 - val_loss: 0.4313 - val_accuracy: 0.8550\n",
            "Epoch 8/10\n",
            "1719/1719 [==============================] - 5s 3ms/step - loss: 0.4121 - accuracy: 0.8580 - val_loss: 0.4297 - val_accuracy: 0.8554\n",
            "Epoch 9/10\n",
            "1719/1719 [==============================] - 6s 4ms/step - loss: 0.4050 - accuracy: 0.8600 - val_loss: 0.4223 - val_accuracy: 0.8598\n",
            "Epoch 10/10\n",
            "1719/1719 [==============================] - 5s 3ms/step - loss: 0.3987 - accuracy: 0.8625 - val_loss: 0.4190 - val_accuracy: 0.8578\n"
          ]
        }
      ]
    },
    {
      "cell_type": "code",
      "source": [
        "[activation for activation in dir(keras.activations) if not activation.startswith(\"_\")]"
      ],
      "metadata": {
        "colab": {
          "base_uri": "https://localhost:8080/",
          "height": 0
        },
        "id": "79Zrxs9YkIPR",
        "outputId": "8450ec76-b590-417a-85d6-3c55bfc2c970"
      },
      "execution_count": 26,
      "outputs": [
        {
          "output_type": "execute_result",
          "data": {
            "text/plain": [
              "['deserialize',\n",
              " 'elu',\n",
              " 'exponential',\n",
              " 'gelu',\n",
              " 'get',\n",
              " 'hard_sigmoid',\n",
              " 'linear',\n",
              " 'mish',\n",
              " 'relu',\n",
              " 'selu',\n",
              " 'serialize',\n",
              " 'sigmoid',\n",
              " 'softmax',\n",
              " 'softplus',\n",
              " 'softsign',\n",
              " 'swish',\n",
              " 'tanh']"
            ]
          },
          "metadata": {},
          "execution_count": 26
        }
      ]
    },
    {
      "cell_type": "code",
      "source": [
        "[layer for layer in dir(keras.layers) if \"relu\" in layer.lower()]"
      ],
      "metadata": {
        "colab": {
          "base_uri": "https://localhost:8080/",
          "height": 0
        },
        "id": "RT5-IsdykU4F",
        "outputId": "ee5ba994-fca5-4043-aa9f-92a2385f775a"
      },
      "execution_count": 27,
      "outputs": [
        {
          "output_type": "execute_result",
          "data": {
            "text/plain": [
              "['LeakyReLU', 'PReLU', 'ReLU', 'ThresholdedReLU']"
            ]
          },
          "metadata": {},
          "execution_count": 27
        }
      ]
    },
    {
      "cell_type": "markdown",
      "source": [
        "## 3.배치 정규화"
      ],
      "metadata": {
        "id": "OTGnHGZ-mLv2"
      }
    },
    {
      "cell_type": "code",
      "source": [
        "model = keras.models.Sequential([\n",
        "    keras.layers.Flatten(input_shape=[28, 28]),\n",
        "    keras.layers.BatchNormalization(),\n",
        "    keras.layers.Dense(300, activation=\"relu\"),\n",
        "    keras.layers.BatchNormalization(),\n",
        "    keras.layers.Dense(100, activation=\"relu\"),\n",
        "    keras.layers.BatchNormalization(),\n",
        "    keras.layers.Dense(10, activation=\"softmax\")\n",
        "])\n",
        "\n",
        "model.summary()"
      ],
      "metadata": {
        "colab": {
          "base_uri": "https://localhost:8080/",
          "height": 0
        },
        "id": "xwMcy7wSkkKW",
        "outputId": "fb747dc9-488e-4202-8118-54cd7cfd7c3e"
      },
      "execution_count": 28,
      "outputs": [
        {
          "output_type": "stream",
          "name": "stdout",
          "text": [
            "Model: \"sequential_1\"\n",
            "_________________________________________________________________\n",
            " Layer (type)                Output Shape              Param #   \n",
            "=================================================================\n",
            " flatten_1 (Flatten)         (None, 784)               0         \n",
            "                                                                 \n",
            " batch_normalization (Batch  (None, 784)               3136      \n",
            " Normalization)                                                  \n",
            "                                                                 \n",
            " dense_102 (Dense)           (None, 300)               235500    \n",
            "                                                                 \n",
            " batch_normalization_1 (Bat  (None, 300)               1200      \n",
            " chNormalization)                                                \n",
            "                                                                 \n",
            " dense_103 (Dense)           (None, 100)               30100     \n",
            "                                                                 \n",
            " batch_normalization_2 (Bat  (None, 100)               400       \n",
            " chNormalization)                                                \n",
            "                                                                 \n",
            " dense_104 (Dense)           (None, 10)                1010      \n",
            "                                                                 \n",
            "=================================================================\n",
            "Total params: 271346 (1.04 MB)\n",
            "Trainable params: 268978 (1.03 MB)\n",
            "Non-trainable params: 2368 (9.25 KB)\n",
            "_________________________________________________________________\n"
          ]
        }
      ]
    },
    {
      "cell_type": "code",
      "source": [
        "model.compile(loss=\"sparse_categorical_crossentropy\",\n",
        "              optimizer=keras.optimizers.SGD(learning_rate=1e-3),\n",
        "              metrics=[\"accuracy\"])\n",
        "\n",
        "history = model.fit(X_train, y_train, epochs=10, validation_data=(X_valid, y_valid))"
      ],
      "metadata": {
        "colab": {
          "base_uri": "https://localhost:8080/",
          "height": 0
        },
        "id": "Ts0jbVx7mext",
        "outputId": "be240540-573c-4606-802b-d0b734ff09e1"
      },
      "execution_count": 29,
      "outputs": [
        {
          "output_type": "stream",
          "name": "stdout",
          "text": [
            "Epoch 1/10\n",
            "1719/1719 [==============================] - 12s 6ms/step - loss: 0.8455 - accuracy: 0.7211 - val_loss: 0.5551 - val_accuracy: 0.8130\n",
            "Epoch 2/10\n",
            "1719/1719 [==============================] - 10s 6ms/step - loss: 0.5712 - accuracy: 0.8048 - val_loss: 0.4740 - val_accuracy: 0.8428\n",
            "Epoch 3/10\n",
            "1719/1719 [==============================] - 9s 5ms/step - loss: 0.5147 - accuracy: 0.8222 - val_loss: 0.4396 - val_accuracy: 0.8518\n",
            "Epoch 4/10\n",
            "1719/1719 [==============================] - 10s 6ms/step - loss: 0.4775 - accuracy: 0.8336 - val_loss: 0.4179 - val_accuracy: 0.8560\n",
            "Epoch 5/10\n",
            "1719/1719 [==============================] - 10s 6ms/step - loss: 0.4518 - accuracy: 0.8436 - val_loss: 0.4030 - val_accuracy: 0.8602\n",
            "Epoch 6/10\n",
            "1719/1719 [==============================] - 9s 5ms/step - loss: 0.4345 - accuracy: 0.8483 - val_loss: 0.3911 - val_accuracy: 0.8606\n",
            "Epoch 7/10\n",
            "1719/1719 [==============================] - 10s 6ms/step - loss: 0.4231 - accuracy: 0.8511 - val_loss: 0.3810 - val_accuracy: 0.8668\n",
            "Epoch 8/10\n",
            "1719/1719 [==============================] - 10s 6ms/step - loss: 0.4114 - accuracy: 0.8544 - val_loss: 0.3757 - val_accuracy: 0.8666\n",
            "Epoch 9/10\n",
            "1719/1719 [==============================] - 10s 6ms/step - loss: 0.3990 - accuracy: 0.8587 - val_loss: 0.3675 - val_accuracy: 0.8682\n",
            "Epoch 10/10\n",
            "1719/1719 [==============================] - 10s 6ms/step - loss: 0.3883 - accuracy: 0.8625 - val_loss: 0.3628 - val_accuracy: 0.8702\n"
          ]
        }
      ]
    },
    {
      "cell_type": "code",
      "source": [
        "model = keras.models.Sequential([\n",
        "    keras.layers.Flatten(input_shape=[28, 28]),\n",
        "    keras.layers.BatchNormalization(),\n",
        "    keras.layers.Dense(300, use_bias=False),\n",
        "    keras.layers.BatchNormalization(),\n",
        "    keras.layers.Activation(\"relu\"),\n",
        "    keras.layers.Dense(100, use_bias=False),\n",
        "    keras.layers.BatchNormalization(),\n",
        "    keras.layers.Activation(\"relu\"),\n",
        "    keras.layers.Dense(10, activation=\"softmax\")\n",
        "])\n",
        "\n",
        "model.summary()"
      ],
      "metadata": {
        "colab": {
          "base_uri": "https://localhost:8080/",
          "height": 0
        },
        "id": "-WdLyL3cme7N",
        "outputId": "3984098e-1b64-484a-a0a0-b32af06feb18"
      },
      "execution_count": 30,
      "outputs": [
        {
          "output_type": "stream",
          "name": "stdout",
          "text": [
            "Model: \"sequential_2\"\n",
            "_________________________________________________________________\n",
            " Layer (type)                Output Shape              Param #   \n",
            "=================================================================\n",
            " flatten_2 (Flatten)         (None, 784)               0         \n",
            "                                                                 \n",
            " batch_normalization_3 (Bat  (None, 784)               3136      \n",
            " chNormalization)                                                \n",
            "                                                                 \n",
            " dense_105 (Dense)           (None, 300)               235200    \n",
            "                                                                 \n",
            " batch_normalization_4 (Bat  (None, 300)               1200      \n",
            " chNormalization)                                                \n",
            "                                                                 \n",
            " activation (Activation)     (None, 300)               0         \n",
            "                                                                 \n",
            " dense_106 (Dense)           (None, 100)               30000     \n",
            "                                                                 \n",
            " batch_normalization_5 (Bat  (None, 100)               400       \n",
            " chNormalization)                                                \n",
            "                                                                 \n",
            " activation_1 (Activation)   (None, 100)               0         \n",
            "                                                                 \n",
            " dense_107 (Dense)           (None, 10)                1010      \n",
            "                                                                 \n",
            "=================================================================\n",
            "Total params: 270946 (1.03 MB)\n",
            "Trainable params: 268578 (1.02 MB)\n",
            "Non-trainable params: 2368 (9.25 KB)\n",
            "_________________________________________________________________\n"
          ]
        }
      ]
    },
    {
      "cell_type": "code",
      "source": [
        "model.compile(loss=\"sparse_categorical_crossentropy\",\n",
        "              optimizer=keras.optimizers.SGD(learning_rate=1e-3),\n",
        "              metrics=[\"accuracy\"])\n",
        "\n",
        "history = model.fit(X_train, y_train, epochs=10, validation_data=(X_valid, y_valid))"
      ],
      "metadata": {
        "colab": {
          "base_uri": "https://localhost:8080/",
          "height": 0
        },
        "id": "3eRgmgbAoaFm",
        "outputId": "66ad87d5-cbf9-47e3-a1b1-3c2b577c53cf"
      },
      "execution_count": 31,
      "outputs": [
        {
          "output_type": "stream",
          "name": "stdout",
          "text": [
            "Epoch 1/10\n",
            "1719/1719 [==============================] - 11s 6ms/step - loss: 1.0218 - accuracy: 0.6738 - val_loss: 0.6575 - val_accuracy: 0.7946\n",
            "Epoch 2/10\n",
            "1719/1719 [==============================] - 9s 5ms/step - loss: 0.6662 - accuracy: 0.7822 - val_loss: 0.5456 - val_accuracy: 0.8224\n",
            "Epoch 3/10\n",
            "1719/1719 [==============================] - 10s 6ms/step - loss: 0.5899 - accuracy: 0.8008 - val_loss: 0.4933 - val_accuracy: 0.8376\n",
            "Epoch 4/10\n",
            "1719/1719 [==============================] - 10s 6ms/step - loss: 0.5397 - accuracy: 0.8155 - val_loss: 0.4611 - val_accuracy: 0.8466\n",
            "Epoch 5/10\n",
            "1719/1719 [==============================] - 9s 5ms/step - loss: 0.5070 - accuracy: 0.8264 - val_loss: 0.4399 - val_accuracy: 0.8534\n",
            "Epoch 6/10\n",
            "1719/1719 [==============================] - 9s 5ms/step - loss: 0.4877 - accuracy: 0.8295 - val_loss: 0.4221 - val_accuracy: 0.8572\n",
            "Epoch 7/10\n",
            "1719/1719 [==============================] - 10s 6ms/step - loss: 0.4697 - accuracy: 0.8379 - val_loss: 0.4086 - val_accuracy: 0.8608\n",
            "Epoch 8/10\n",
            "1719/1719 [==============================] - 8s 5ms/step - loss: 0.4562 - accuracy: 0.8418 - val_loss: 0.3984 - val_accuracy: 0.8618\n",
            "Epoch 9/10\n",
            "1719/1719 [==============================] - 10s 6ms/step - loss: 0.4440 - accuracy: 0.8457 - val_loss: 0.3902 - val_accuracy: 0.8636\n",
            "Epoch 10/10\n",
            "1719/1719 [==============================] - 9s 5ms/step - loss: 0.4311 - accuracy: 0.8485 - val_loss: 0.3822 - val_accuracy: 0.8666\n"
          ]
        }
      ]
    },
    {
      "cell_type": "markdown",
      "source": [
        "## 4.그레디언트 클리핑"
      ],
      "metadata": {
        "id": "f8LR2pIgopm_"
      }
    },
    {
      "cell_type": "code",
      "source": [
        "optimizer = keras.optimizers.SGD(clipvalue=1.0)\n",
        "model.compile(loss=\"mse\", optimizer=optimizer)"
      ],
      "metadata": {
        "id": "1cR4ZRsQoaHg"
      },
      "execution_count": 32,
      "outputs": []
    },
    {
      "cell_type": "code",
      "source": [
        "optimizer = keras.optimizers.SGD(clipnorm=1.0)\n",
        "model.compile(loss=\"mse\", optimizer=optimizer)"
      ],
      "metadata": {
        "id": "9bbYUnzjow5i"
      },
      "execution_count": 33,
      "outputs": []
    },
    {
      "cell_type": "markdown",
      "source": [
        "# 전이학습\n",
        "## 1.데이터 준비"
      ],
      "metadata": {
        "id": "wJK3NJc-qdAC"
      }
    },
    {
      "cell_type": "code",
      "source": [
        "def split_dataset(X, y):\n",
        "    y_5_or_6 = (y == 5) | (y == 6)\n",
        "    y_A = y[~y_5_or_6]\n",
        "    y_A[y_A > 6] -= 2\n",
        "    y_B = (y[y_5_or_6] == 6).astype(np.float32)\n",
        "    return ((X[~y_5_or_6], y_A), (X[y_5_or_6], y_B))\n",
        "\n",
        "(X_train_A, y_train_A), (X_train_B, y_train_B) = split_dataset(X_train, y_train)\n",
        "(X_valid_A, y_valid_A), (X_valid_B, y_valid_B) = split_dataset(X_valid, y_valid)\n",
        "(X_test_A, y_test_A), (X_test_B, y_test_B) = split_dataset(X_test, y_test)\n",
        "X_train_B = X_train_B[:200]\n",
        "y_train_B = y_train_B[:200]"
      ],
      "metadata": {
        "id": "FdSAPHNZl-sl"
      },
      "execution_count": 34,
      "outputs": []
    },
    {
      "cell_type": "code",
      "source": [
        "X_train_A.shape, X_train_B.shape"
      ],
      "metadata": {
        "colab": {
          "base_uri": "https://localhost:8080/",
          "height": 0
        },
        "id": "aYPDWNy_qfwD",
        "outputId": "099b4cf7-6166-4e70-9753-4f52946ef54b"
      },
      "execution_count": 35,
      "outputs": [
        {
          "output_type": "execute_result",
          "data": {
            "text/plain": [
              "((43986, 28, 28), (200, 28, 28))"
            ]
          },
          "metadata": {},
          "execution_count": 35
        }
      ]
    },
    {
      "cell_type": "markdown",
      "source": [
        "## 2.작업 A를 수행하기 위한 모델 A 훈련"
      ],
      "metadata": {
        "id": "BeEOS66JqiXh"
      }
    },
    {
      "cell_type": "code",
      "source": [
        "keras.backend.clear_session()\n",
        "tf.random.set_seed(42)\n",
        "np.random.seed(42)\n",
        "\n",
        "model_A = keras.models.Sequential()\n",
        "model_A.add(keras.layers.Flatten(input_shape=[28, 28]))\n",
        "for n_hidden in (300, 100, 50, 50, 50):\n",
        "    model_A.add(keras.layers.Dense(n_hidden, activation=\"selu\"))\n",
        "model_A.add(keras.layers.Dense(8, activation=\"softmax\"))\n",
        "\n",
        "model_A.summary()"
      ],
      "metadata": {
        "colab": {
          "base_uri": "https://localhost:8080/",
          "height": 0
        },
        "id": "wb_cEt7BqfyY",
        "outputId": "f95a02ed-e860-420c-dfa5-a71c22b1a64f"
      },
      "execution_count": 36,
      "outputs": [
        {
          "output_type": "stream",
          "name": "stdout",
          "text": [
            "Model: \"sequential\"\n",
            "_________________________________________________________________\n",
            " Layer (type)                Output Shape              Param #   \n",
            "=================================================================\n",
            " flatten (Flatten)           (None, 784)               0         \n",
            "                                                                 \n",
            " dense (Dense)               (None, 300)               235500    \n",
            "                                                                 \n",
            " dense_1 (Dense)             (None, 100)               30100     \n",
            "                                                                 \n",
            " dense_2 (Dense)             (None, 50)                5050      \n",
            "                                                                 \n",
            " dense_3 (Dense)             (None, 50)                2550      \n",
            "                                                                 \n",
            " dense_4 (Dense)             (None, 50)                2550      \n",
            "                                                                 \n",
            " dense_5 (Dense)             (None, 8)                 408       \n",
            "                                                                 \n",
            "=================================================================\n",
            "Total params: 276158 (1.05 MB)\n",
            "Trainable params: 276158 (1.05 MB)\n",
            "Non-trainable params: 0 (0.00 Byte)\n",
            "_________________________________________________________________\n"
          ]
        }
      ]
    },
    {
      "cell_type": "code",
      "source": [
        "model_A.compile(loss=\"sparse_categorical_crossentropy\",\n",
        "                optimizer=keras.optimizers.SGD(learning_rate=1e-3),\n",
        "                metrics=[\"accuracy\"])\n",
        "\n",
        "history = model_A.fit(X_train_A, y_train_A, epochs=20, validation_data=(X_valid_A, y_valid_A))"
      ],
      "metadata": {
        "colab": {
          "base_uri": "https://localhost:8080/",
          "height": 0
        },
        "id": "vYSWuBgCqf0t",
        "outputId": "4a9c772c-9528-44d2-91b8-0e5058aa215a"
      },
      "execution_count": 37,
      "outputs": [
        {
          "output_type": "stream",
          "name": "stdout",
          "text": [
            "Epoch 1/20\n",
            "1375/1375 [==============================] - 7s 4ms/step - loss: 0.5801 - accuracy: 0.8065 - val_loss: 0.3884 - val_accuracy: 0.8662\n",
            "Epoch 2/20\n",
            "1375/1375 [==============================] - 6s 4ms/step - loss: 0.3545 - accuracy: 0.8764 - val_loss: 0.3268 - val_accuracy: 0.8857\n",
            "Epoch 3/20\n",
            "1375/1375 [==============================] - 6s 4ms/step - loss: 0.3167 - accuracy: 0.8891 - val_loss: 0.2975 - val_accuracy: 0.8989\n",
            "Epoch 4/20\n",
            "1375/1375 [==============================] - 5s 4ms/step - loss: 0.2970 - accuracy: 0.8965 - val_loss: 0.2855 - val_accuracy: 0.9068\n",
            "Epoch 5/20\n",
            "1375/1375 [==============================] - 7s 5ms/step - loss: 0.2835 - accuracy: 0.9024 - val_loss: 0.2757 - val_accuracy: 0.9108\n",
            "Epoch 6/20\n",
            "1375/1375 [==============================] - 5s 4ms/step - loss: 0.2738 - accuracy: 0.9061 - val_loss: 0.2717 - val_accuracy: 0.9071\n",
            "Epoch 7/20\n",
            "1375/1375 [==============================] - 7s 5ms/step - loss: 0.2659 - accuracy: 0.9100 - val_loss: 0.2694 - val_accuracy: 0.9083\n",
            "Epoch 8/20\n",
            "1375/1375 [==============================] - 5s 4ms/step - loss: 0.2594 - accuracy: 0.9116 - val_loss: 0.2589 - val_accuracy: 0.9141\n",
            "Epoch 9/20\n",
            "1375/1375 [==============================] - 6s 4ms/step - loss: 0.2541 - accuracy: 0.9143 - val_loss: 0.2557 - val_accuracy: 0.9155\n",
            "Epoch 10/20\n",
            "1375/1375 [==============================] - 6s 5ms/step - loss: 0.2493 - accuracy: 0.9155 - val_loss: 0.2559 - val_accuracy: 0.9158\n",
            "Epoch 11/20\n",
            "1375/1375 [==============================] - 5s 4ms/step - loss: 0.2449 - accuracy: 0.9167 - val_loss: 0.2481 - val_accuracy: 0.9178\n",
            "Epoch 12/20\n",
            "1375/1375 [==============================] - 6s 5ms/step - loss: 0.2408 - accuracy: 0.9186 - val_loss: 0.2473 - val_accuracy: 0.9155\n",
            "Epoch 13/20\n",
            "1375/1375 [==============================] - 5s 4ms/step - loss: 0.2375 - accuracy: 0.9198 - val_loss: 0.2433 - val_accuracy: 0.9185\n",
            "Epoch 14/20\n",
            "1375/1375 [==============================] - 7s 5ms/step - loss: 0.2340 - accuracy: 0.9204 - val_loss: 0.2420 - val_accuracy: 0.9190\n",
            "Epoch 15/20\n",
            "1375/1375 [==============================] - 6s 5ms/step - loss: 0.2312 - accuracy: 0.9217 - val_loss: 0.2498 - val_accuracy: 0.9160\n",
            "Epoch 16/20\n",
            "1375/1375 [==============================] - 9s 6ms/step - loss: 0.2283 - accuracy: 0.9233 - val_loss: 0.2393 - val_accuracy: 0.9168\n",
            "Epoch 17/20\n",
            "1375/1375 [==============================] - 7s 5ms/step - loss: 0.2257 - accuracy: 0.9235 - val_loss: 0.2482 - val_accuracy: 0.9153\n",
            "Epoch 18/20\n",
            "1375/1375 [==============================] - 6s 5ms/step - loss: 0.2228 - accuracy: 0.9245 - val_loss: 0.2443 - val_accuracy: 0.9148\n",
            "Epoch 19/20\n",
            "1375/1375 [==============================] - 7s 5ms/step - loss: 0.2205 - accuracy: 0.9261 - val_loss: 0.2354 - val_accuracy: 0.9178\n",
            "Epoch 20/20\n",
            "1375/1375 [==============================] - 6s 4ms/step - loss: 0.2182 - accuracy: 0.9262 - val_loss: 0.2337 - val_accuracy: 0.9188\n"
          ]
        }
      ]
    },
    {
      "cell_type": "code",
      "source": [
        "model_A.save(\"my_model_A.h5\")"
      ],
      "metadata": {
        "colab": {
          "base_uri": "https://localhost:8080/",
          "height": 0
        },
        "id": "jb2BSnw9qf2y",
        "outputId": "8f112fe2-d411-492e-e4c0-6982bd330968"
      },
      "execution_count": 38,
      "outputs": [
        {
          "output_type": "stream",
          "name": "stderr",
          "text": [
            "/usr/local/lib/python3.10/dist-packages/keras/src/engine/training.py:3079: UserWarning: You are saving your model as an HDF5 file via `model.save()`. This file format is considered legacy. We recommend using instead the native Keras format, e.g. `model.save('my_model.keras')`.\n",
            "  saving_api.save_model(\n"
          ]
        }
      ]
    },
    {
      "cell_type": "markdown",
      "source": [
        "## 3.작업 B를 수행하기 위한 모델 B 훈련"
      ],
      "metadata": {
        "id": "aPe6_O7qqtGw"
      }
    },
    {
      "cell_type": "code",
      "source": [
        "keras.backend.clear_session()\n",
        "tf.random.set_seed(42)\n",
        "np.random.seed(42)\n",
        "\n",
        "model_B = keras.models.Sequential()\n",
        "model_B.add(keras.layers.Flatten(input_shape=[28, 28]))\n",
        "for n_hidden in (300, 100, 50, 50, 50):\n",
        "    model_B.add(keras.layers.Dense(n_hidden, activation=\"selu\"))\n",
        "model_B.add(keras.layers.Dense(1, activation=\"sigmoid\"))\n",
        "\n",
        "model_B.summary()"
      ],
      "metadata": {
        "colab": {
          "base_uri": "https://localhost:8080/",
          "height": 0
        },
        "id": "OIcMYkFcqq__",
        "outputId": "03cc0f4a-12a3-4526-ab67-bae471d538e1"
      },
      "execution_count": 39,
      "outputs": [
        {
          "output_type": "stream",
          "name": "stdout",
          "text": [
            "Model: \"sequential\"\n",
            "_________________________________________________________________\n",
            " Layer (type)                Output Shape              Param #   \n",
            "=================================================================\n",
            " flatten (Flatten)           (None, 784)               0         \n",
            "                                                                 \n",
            " dense (Dense)               (None, 300)               235500    \n",
            "                                                                 \n",
            " dense_1 (Dense)             (None, 100)               30100     \n",
            "                                                                 \n",
            " dense_2 (Dense)             (None, 50)                5050      \n",
            "                                                                 \n",
            " dense_3 (Dense)             (None, 50)                2550      \n",
            "                                                                 \n",
            " dense_4 (Dense)             (None, 50)                2550      \n",
            "                                                                 \n",
            " dense_5 (Dense)             (None, 1)                 51        \n",
            "                                                                 \n",
            "=================================================================\n",
            "Total params: 275801 (1.05 MB)\n",
            "Trainable params: 275801 (1.05 MB)\n",
            "Non-trainable params: 0 (0.00 Byte)\n",
            "_________________________________________________________________\n"
          ]
        }
      ]
    },
    {
      "cell_type": "code",
      "source": [
        "model_B.compile(loss=\"binary_crossentropy\",\n",
        "                optimizer=keras.optimizers.SGD(learning_rate=1e-3),\n",
        "                metrics=[\"accuracy\"])\n",
        "\n",
        "history = model_B.fit(X_train_B, y_train_B, epochs=20, validation_data=(X_valid_B, y_valid_B))"
      ],
      "metadata": {
        "colab": {
          "base_uri": "https://localhost:8080/",
          "height": 0
        },
        "id": "zNIXb0PWqrCh",
        "outputId": "0f7ead3e-296a-482e-9868-b61eac6734e4"
      },
      "execution_count": 40,
      "outputs": [
        {
          "output_type": "stream",
          "name": "stdout",
          "text": [
            "Epoch 1/20\n",
            "7/7 [==============================] - 2s 69ms/step - loss: 0.8598 - accuracy: 0.5000 - val_loss: 0.5709 - val_accuracy: 0.7059\n",
            "Epoch 2/20\n",
            "7/7 [==============================] - 0s 28ms/step - loss: 0.4964 - accuracy: 0.7900 - val_loss: 0.4343 - val_accuracy: 0.8124\n",
            "Epoch 3/20\n",
            "7/7 [==============================] - 0s 28ms/step - loss: 0.3747 - accuracy: 0.8350 - val_loss: 0.3523 - val_accuracy: 0.8702\n",
            "Epoch 4/20\n",
            "7/7 [==============================] - 0s 36ms/step - loss: 0.3003 - accuracy: 0.8850 - val_loss: 0.2949 - val_accuracy: 0.9108\n",
            "Epoch 5/20\n",
            "7/7 [==============================] - 0s 31ms/step - loss: 0.2481 - accuracy: 0.9350 - val_loss: 0.2570 - val_accuracy: 0.9351\n",
            "Epoch 6/20\n",
            "7/7 [==============================] - 0s 31ms/step - loss: 0.2122 - accuracy: 0.9400 - val_loss: 0.2279 - val_accuracy: 0.9503\n",
            "Epoch 7/20\n",
            "7/7 [==============================] - 0s 37ms/step - loss: 0.1859 - accuracy: 0.9650 - val_loss: 0.2071 - val_accuracy: 0.9564\n",
            "Epoch 8/20\n",
            "7/7 [==============================] - 0s 35ms/step - loss: 0.1655 - accuracy: 0.9800 - val_loss: 0.1885 - val_accuracy: 0.9574\n",
            "Epoch 9/20\n",
            "7/7 [==============================] - 0s 21ms/step - loss: 0.1483 - accuracy: 0.9850 - val_loss: 0.1716 - val_accuracy: 0.9625\n",
            "Epoch 10/20\n",
            "7/7 [==============================] - 0s 20ms/step - loss: 0.1334 - accuracy: 0.9850 - val_loss: 0.1598 - val_accuracy: 0.9665\n",
            "Epoch 11/20\n",
            "7/7 [==============================] - 0s 32ms/step - loss: 0.1226 - accuracy: 0.9850 - val_loss: 0.1492 - val_accuracy: 0.9675\n",
            "Epoch 12/20\n",
            "7/7 [==============================] - 0s 22ms/step - loss: 0.1128 - accuracy: 0.9900 - val_loss: 0.1407 - val_accuracy: 0.9686\n",
            "Epoch 13/20\n",
            "7/7 [==============================] - 0s 21ms/step - loss: 0.1049 - accuracy: 0.9900 - val_loss: 0.1333 - val_accuracy: 0.9696\n",
            "Epoch 14/20\n",
            "7/7 [==============================] - 0s 20ms/step - loss: 0.0981 - accuracy: 0.9900 - val_loss: 0.1265 - val_accuracy: 0.9706\n",
            "Epoch 15/20\n",
            "7/7 [==============================] - 0s 20ms/step - loss: 0.0917 - accuracy: 0.9950 - val_loss: 0.1202 - val_accuracy: 0.9716\n",
            "Epoch 16/20\n",
            "7/7 [==============================] - 0s 33ms/step - loss: 0.0861 - accuracy: 0.9900 - val_loss: 0.1152 - val_accuracy: 0.9736\n",
            "Epoch 17/20\n",
            "7/7 [==============================] - 0s 20ms/step - loss: 0.0814 - accuracy: 0.9950 - val_loss: 0.1106 - val_accuracy: 0.9746\n",
            "Epoch 18/20\n",
            "7/7 [==============================] - 0s 32ms/step - loss: 0.0775 - accuracy: 0.9950 - val_loss: 0.1065 - val_accuracy: 0.9757\n",
            "Epoch 19/20\n",
            "7/7 [==============================] - 0s 20ms/step - loss: 0.0735 - accuracy: 0.9950 - val_loss: 0.1025 - val_accuracy: 0.9777\n",
            "Epoch 20/20\n",
            "7/7 [==============================] - 0s 20ms/step - loss: 0.0698 - accuracy: 0.9950 - val_loss: 0.0993 - val_accuracy: 0.9777\n"
          ]
        }
      ]
    },
    {
      "cell_type": "markdown",
      "source": [
        "## 4.전이학습 구현"
      ],
      "metadata": {
        "id": "KoKJhkbPq2Sd"
      }
    },
    {
      "cell_type": "code",
      "source": [
        "model_A = keras.models.load_model(\"my_model_A.h5\")\n",
        "model_B_on_A = keras.models.Sequential(model_A.layers[:-1])\n",
        "model_B_on_A.add(keras.layers.Dense(1, activation=\"sigmoid\"))"
      ],
      "metadata": {
        "id": "9If_bt7GqrFH"
      },
      "execution_count": 41,
      "outputs": []
    },
    {
      "cell_type": "code",
      "source": [
        "model_A_clone = keras.models.clone_model(model_A)\n",
        "model_A_clone.set_weights(model_A.get_weights())\n",
        "model_B_on_A = keras.models.Sequential(model_A_clone.layers[:-1])\n",
        "model_B_on_A.add(keras.layers.Dense(1, activation=\"sigmoid\"))"
      ],
      "metadata": {
        "id": "2e49Fh_Kq4rk"
      },
      "execution_count": 42,
      "outputs": []
    },
    {
      "cell_type": "code",
      "source": [
        "for layer in model_B_on_A.layers[:-1]:\n",
        "    layer.trainable = False\n",
        "\n",
        "model_B_on_A.compile(loss=\"binary_crossentropy\",\n",
        "                     optimizer=keras.optimizers.SGD(learning_rate=1e-3),\n",
        "                     metrics=[\"accuracy\"])\n",
        "\n",
        "history = model_B_on_A.fit(X_train_B, y_train_B, epochs=4, validation_data=(X_valid_B, y_valid_B))"
      ],
      "metadata": {
        "colab": {
          "base_uri": "https://localhost:8080/",
          "height": 0
        },
        "id": "h0VGpOF7q4t4",
        "outputId": "97d372d6-386d-45dc-e964-e747726b0b36"
      },
      "execution_count": 43,
      "outputs": [
        {
          "output_type": "stream",
          "name": "stdout",
          "text": [
            "Epoch 1/4\n",
            "7/7 [==============================] - 1s 43ms/step - loss: 0.4150 - accuracy: 0.7750 - val_loss: 0.4220 - val_accuracy: 0.7748\n",
            "Epoch 2/4\n",
            "7/7 [==============================] - 0s 31ms/step - loss: 0.3938 - accuracy: 0.7900 - val_loss: 0.4005 - val_accuracy: 0.7870\n",
            "Epoch 3/4\n",
            "7/7 [==============================] - 0s 31ms/step - loss: 0.3727 - accuracy: 0.8000 - val_loss: 0.3816 - val_accuracy: 0.7982\n",
            "Epoch 4/4\n",
            "7/7 [==============================] - 0s 18ms/step - loss: 0.3540 - accuracy: 0.8150 - val_loss: 0.3637 - val_accuracy: 0.8093\n"
          ]
        }
      ]
    },
    {
      "cell_type": "code",
      "source": [
        "for layer in model_B_on_A.layers[:-1]:\n",
        "    layer.trainable = True\n",
        "\n",
        "model_B_on_A.compile(loss=\"binary_crossentropy\",\n",
        "                     optimizer=keras.optimizers.SGD(learning_rate=1e-3),\n",
        "                     metrics=[\"accuracy\"])\n",
        "history = model_B_on_A.fit(X_train_B, y_train_B, epochs=16, validation_data=(X_valid_B, y_valid_B))"
      ],
      "metadata": {
        "colab": {
          "base_uri": "https://localhost:8080/",
          "height": 0
        },
        "id": "OYPp8V0hq4wO",
        "outputId": "7ff91cac-183d-463b-99ae-90eb1b4cdc47"
      },
      "execution_count": 44,
      "outputs": [
        {
          "output_type": "stream",
          "name": "stdout",
          "text": [
            "Epoch 1/16\n",
            "7/7 [==============================] - 1s 58ms/step - loss: 0.2895 - accuracy: 0.8700 - val_loss: 0.2456 - val_accuracy: 0.8996\n",
            "Epoch 2/16\n",
            "7/7 [==============================] - 0s 18ms/step - loss: 0.1976 - accuracy: 0.9350 - val_loss: 0.1878 - val_accuracy: 0.9493\n",
            "Epoch 3/16\n",
            "7/7 [==============================] - 0s 31ms/step - loss: 0.1507 - accuracy: 0.9750 - val_loss: 0.1566 - val_accuracy: 0.9706\n",
            "Epoch 4/16\n",
            "7/7 [==============================] - 0s 31ms/step - loss: 0.1252 - accuracy: 0.9850 - val_loss: 0.1367 - val_accuracy: 0.9767\n",
            "Epoch 5/16\n",
            "7/7 [==============================] - 0s 18ms/step - loss: 0.1078 - accuracy: 0.9950 - val_loss: 0.1214 - val_accuracy: 0.9828\n",
            "Epoch 6/16\n",
            "7/7 [==============================] - 0s 17ms/step - loss: 0.0945 - accuracy: 0.9950 - val_loss: 0.1107 - val_accuracy: 0.9858\n",
            "Epoch 7/16\n",
            "7/7 [==============================] - 0s 31ms/step - loss: 0.0851 - accuracy: 0.9950 - val_loss: 0.1027 - val_accuracy: 0.9868\n",
            "Epoch 8/16\n",
            "7/7 [==============================] - 0s 31ms/step - loss: 0.0778 - accuracy: 0.9950 - val_loss: 0.0944 - val_accuracy: 0.9878\n",
            "Epoch 9/16\n",
            "7/7 [==============================] - 0s 31ms/step - loss: 0.0705 - accuracy: 0.9950 - val_loss: 0.0876 - val_accuracy: 0.9878\n",
            "Epoch 10/16\n",
            "7/7 [==============================] - 0s 32ms/step - loss: 0.0646 - accuracy: 1.0000 - val_loss: 0.0825 - val_accuracy: 0.9888\n",
            "Epoch 11/16\n",
            "7/7 [==============================] - 0s 18ms/step - loss: 0.0600 - accuracy: 1.0000 - val_loss: 0.0782 - val_accuracy: 0.9888\n",
            "Epoch 12/16\n",
            "7/7 [==============================] - 0s 18ms/step - loss: 0.0561 - accuracy: 1.0000 - val_loss: 0.0744 - val_accuracy: 0.9888\n",
            "Epoch 13/16\n",
            "7/7 [==============================] - 0s 19ms/step - loss: 0.0527 - accuracy: 1.0000 - val_loss: 0.0706 - val_accuracy: 0.9899\n",
            "Epoch 14/16\n",
            "7/7 [==============================] - 0s 32ms/step - loss: 0.0494 - accuracy: 1.0000 - val_loss: 0.0676 - val_accuracy: 0.9899\n",
            "Epoch 15/16\n",
            "7/7 [==============================] - 0s 19ms/step - loss: 0.0467 - accuracy: 1.0000 - val_loss: 0.0649 - val_accuracy: 0.9899\n",
            "Epoch 16/16\n",
            "7/7 [==============================] - 0s 17ms/step - loss: 0.0444 - accuracy: 1.0000 - val_loss: 0.0624 - val_accuracy: 0.9899\n"
          ]
        }
      ]
    },
    {
      "cell_type": "code",
      "source": [
        "model_B.evaluate(X_test_B, y_test_B)"
      ],
      "metadata": {
        "colab": {
          "base_uri": "https://localhost:8080/",
          "height": 0
        },
        "id": "i7teu2JarANW",
        "outputId": "376d74cb-0498-4f01-afd9-45c15838ed02"
      },
      "execution_count": 45,
      "outputs": [
        {
          "output_type": "stream",
          "name": "stdout",
          "text": [
            "63/63 [==============================] - 0s 3ms/step - loss: 0.1035 - accuracy: 0.9765\n"
          ]
        },
        {
          "output_type": "execute_result",
          "data": {
            "text/plain": [
              "[0.1035233810544014, 0.9764999747276306]"
            ]
          },
          "metadata": {},
          "execution_count": 45
        }
      ]
    },
    {
      "cell_type": "code",
      "source": [
        "model_B_on_A.evaluate(X_test_B, y_test_B)"
      ],
      "metadata": {
        "colab": {
          "base_uri": "https://localhost:8080/",
          "height": 0
        },
        "id": "nAEib3psrAP5",
        "outputId": "c2cebe7c-97a1-4547-d40e-ed89084bd957"
      },
      "execution_count": 46,
      "outputs": [
        {
          "output_type": "stream",
          "name": "stdout",
          "text": [
            "63/63 [==============================] - 0s 3ms/step - loss: 0.0579 - accuracy: 0.9960\n"
          ]
        },
        {
          "output_type": "execute_result",
          "data": {
            "text/plain": [
              "[0.057929910719394684, 0.9959999918937683]"
            ]
          },
          "metadata": {},
          "execution_count": 46
        }
      ]
    },
    {
      "cell_type": "code",
      "source": [
        "(100 - 97.75) / (100 - 98.90)"
      ],
      "metadata": {
        "colab": {
          "base_uri": "https://localhost:8080/",
          "height": 0
        },
        "id": "8rym1eEVrASg",
        "outputId": "f03f218a-8fdc-446a-b6eb-8212bc831f49"
      },
      "execution_count": 47,
      "outputs": [
        {
          "output_type": "execute_result",
          "data": {
            "text/plain": [
              "2.045454545454556"
            ]
          },
          "metadata": {},
          "execution_count": 47
        }
      ]
    },
    {
      "cell_type": "markdown",
      "source": [
        "# 고속 옵티마이저\n",
        "## 1.모멘텀 최적화"
      ],
      "metadata": {
        "id": "cxB50gcu21AE"
      }
    },
    {
      "cell_type": "code",
      "source": [
        "optimizer = keras.optimizers.SGD(learning_rate=0.001, momentum=0.9)"
      ],
      "metadata": {
        "id": "RvjgBQ6vrFB7"
      },
      "execution_count": 49,
      "outputs": []
    },
    {
      "cell_type": "markdown",
      "source": [
        "## 2.네스테로프 가속 경사"
      ],
      "metadata": {
        "id": "00ERi3hm39NW"
      }
    },
    {
      "cell_type": "code",
      "source": [
        "optimizer = keras.optimizers.SGD(learning_rate=0.001, momentum=0.9, nesterov=True)"
      ],
      "metadata": {
        "id": "Lzv9QEFR3HR4"
      },
      "execution_count": 50,
      "outputs": []
    },
    {
      "cell_type": "markdown",
      "source": [
        "## 3.AdaGrad"
      ],
      "metadata": {
        "id": "dWDDWJoW5lhr"
      }
    },
    {
      "cell_type": "code",
      "source": [
        "optimizer = keras.optimizers.Adagrad(learning_rate=0.001)"
      ],
      "metadata": {
        "id": "Ui8JjAPC4Imj"
      },
      "execution_count": 51,
      "outputs": []
    },
    {
      "cell_type": "markdown",
      "source": [
        "## 4.RMSProp"
      ],
      "metadata": {
        "id": "2okDFbO95sMR"
      }
    },
    {
      "cell_type": "code",
      "source": [
        "optimizer = keras.optimizers.RMSprop(learning_rate=0.001, rho=0.9)"
      ],
      "metadata": {
        "id": "Oj6tNjOE5ptt"
      },
      "execution_count": 52,
      "outputs": []
    },
    {
      "cell_type": "markdown",
      "source": [
        "## 5.Adam"
      ],
      "metadata": {
        "id": "PbQPnJ8r63oM"
      }
    },
    {
      "cell_type": "code",
      "source": [
        "optimizer = keras.optimizers.Adam(learning_rate=0.001, beta_1=0.9, beta_2=0.999)"
      ],
      "metadata": {
        "id": "VC46s8835yob"
      },
      "execution_count": 54,
      "outputs": []
    },
    {
      "cell_type": "markdown",
      "source": [
        "## 6.AdaMax"
      ],
      "metadata": {
        "id": "EGGTejMD8Ev1"
      }
    },
    {
      "cell_type": "code",
      "source": [
        "optimizer = keras.optimizers.Adamax(learning_rate=0.001, beta_1=0.9, beta_2=0.999)"
      ],
      "metadata": {
        "id": "oFoyXCYB7Fni"
      },
      "execution_count": 55,
      "outputs": []
    },
    {
      "cell_type": "markdown",
      "source": [
        "## 7.Nadam"
      ],
      "metadata": {
        "id": "zSSby5cR8LvM"
      }
    },
    {
      "cell_type": "code",
      "source": [
        "optimizer = keras.optimizers.Nadam(learning_rate=0.001, beta_1=0.9, beta_2=0.999)"
      ],
      "metadata": {
        "id": "1qkTvEOs8KjF"
      },
      "execution_count": 56,
      "outputs": []
    },
    {
      "cell_type": "markdown",
      "source": [
        "# 학습률 스케줄링\n",
        "## 1.지수 기반 스케줄링"
      ],
      "metadata": {
        "id": "LtSLf3ow9WGY"
      }
    },
    {
      "cell_type": "code",
      "source": [
        "def exponential_decay_fn(epoch):\n",
        "    return 0.01 * 0.1**(epoch / 20)"
      ],
      "metadata": {
        "id": "4S1EZANb8RHi"
      },
      "execution_count": 60,
      "outputs": []
    },
    {
      "cell_type": "code",
      "source": [
        "def exponential_decay(lr0, s):\n",
        "    def exponential_decay_fn(epoch):\n",
        "        return lr0 * 0.1**(epoch / s)\n",
        "    return exponential_decay_fn\n",
        "\n",
        "exponential_decay_fn = exponential_decay(lr0=0.01, s=20)"
      ],
      "metadata": {
        "id": "F2XgC-DhBBh1"
      },
      "execution_count": 61,
      "outputs": []
    },
    {
      "cell_type": "code",
      "source": [
        "model = keras.models.Sequential([\n",
        "    keras.layers.Flatten(input_shape=[28, 28]),\n",
        "    keras.layers.Dense(300, activation=\"selu\", kernel_initializer=\"lecun_normal\"),\n",
        "    keras.layers.Dense(100, activation=\"selu\", kernel_initializer=\"lecun_normal\"),\n",
        "    keras.layers.Dense(10, activation=\"softmax\")\n",
        "])\n",
        "model.compile(loss=\"sparse_categorical_crossentropy\", optimizer=\"nadam\", metrics=[\"accuracy\"])"
      ],
      "metadata": {
        "id": "lI2Dvy-_BBfv"
      },
      "execution_count": 62,
      "outputs": []
    },
    {
      "cell_type": "code",
      "source": [
        "n_epochs = 25\n",
        "lr_scheduler = keras.callbacks.LearningRateScheduler(exponential_decay_fn)\n",
        "history = model.fit(X_train_scaled, y_train, epochs=n_epochs,\n",
        "                    validation_data=(X_valid_scaled, y_valid),\n",
        "                    callbacks=[lr_scheduler])"
      ],
      "metadata": {
        "colab": {
          "base_uri": "https://localhost:8080/"
        },
        "id": "PxXR5XL0BBdZ",
        "outputId": "e0b4a618-1f9b-47ea-8b73-d1658fc4287b"
      },
      "execution_count": 63,
      "outputs": [
        {
          "output_type": "stream",
          "name": "stdout",
          "text": [
            "Epoch 1/25\n",
            "1719/1719 [==============================] - 10s 5ms/step - loss: 0.7573 - accuracy: 0.7731 - val_loss: 0.6889 - val_accuracy: 0.8030 - lr: 0.0100\n",
            "Epoch 2/25\n",
            "1719/1719 [==============================] - 7s 4ms/step - loss: 0.6572 - accuracy: 0.7977 - val_loss: 0.6593 - val_accuracy: 0.8022 - lr: 0.0089\n",
            "Epoch 3/25\n",
            "1719/1719 [==============================] - 10s 6ms/step - loss: 0.6186 - accuracy: 0.8092 - val_loss: 0.6041 - val_accuracy: 0.8200 - lr: 0.0079\n",
            "Epoch 4/25\n",
            "1719/1719 [==============================] - 8s 5ms/step - loss: 0.5617 - accuracy: 0.8307 - val_loss: 0.6191 - val_accuracy: 0.7990 - lr: 0.0071\n",
            "Epoch 5/25\n",
            "1719/1719 [==============================] - 8s 4ms/step - loss: 0.5290 - accuracy: 0.8399 - val_loss: 0.5754 - val_accuracy: 0.8374 - lr: 0.0063\n",
            "Epoch 6/25\n",
            "1719/1719 [==============================] - 7s 4ms/step - loss: 0.4595 - accuracy: 0.8574 - val_loss: 0.5565 - val_accuracy: 0.8522 - lr: 0.0056\n",
            "Epoch 7/25\n",
            "1719/1719 [==============================] - 8s 5ms/step - loss: 0.4443 - accuracy: 0.8630 - val_loss: 0.4904 - val_accuracy: 0.8534 - lr: 0.0050\n",
            "Epoch 8/25\n",
            "1719/1719 [==============================] - 7s 4ms/step - loss: 0.3884 - accuracy: 0.8735 - val_loss: 0.5162 - val_accuracy: 0.8538 - lr: 0.0045\n",
            "Epoch 9/25\n",
            "1719/1719 [==============================] - 8s 4ms/step - loss: 0.3615 - accuracy: 0.8799 - val_loss: 0.4891 - val_accuracy: 0.8610 - lr: 0.0040\n",
            "Epoch 10/25\n",
            "1719/1719 [==============================] - 8s 5ms/step - loss: 0.3406 - accuracy: 0.8881 - val_loss: 0.4650 - val_accuracy: 0.8806 - lr: 0.0035\n",
            "Epoch 11/25\n",
            "1719/1719 [==============================] - 11s 7ms/step - loss: 0.3109 - accuracy: 0.8945 - val_loss: 0.4688 - val_accuracy: 0.8714 - lr: 0.0032\n",
            "Epoch 12/25\n",
            "1719/1719 [==============================] - 9s 5ms/step - loss: 0.2885 - accuracy: 0.9017 - val_loss: 0.4560 - val_accuracy: 0.8740 - lr: 0.0028\n",
            "Epoch 13/25\n",
            "1719/1719 [==============================] - 8s 4ms/step - loss: 0.2716 - accuracy: 0.9066 - val_loss: 0.4383 - val_accuracy: 0.8782 - lr: 0.0025\n",
            "Epoch 14/25\n",
            "1719/1719 [==============================] - 8s 5ms/step - loss: 0.2464 - accuracy: 0.9141 - val_loss: 0.4395 - val_accuracy: 0.8718 - lr: 0.0022\n",
            "Epoch 15/25\n",
            "1719/1719 [==============================] - 8s 4ms/step - loss: 0.2290 - accuracy: 0.9214 - val_loss: 0.4515 - val_accuracy: 0.8780 - lr: 0.0020\n",
            "Epoch 16/25\n",
            "1719/1719 [==============================] - 8s 4ms/step - loss: 0.2205 - accuracy: 0.9254 - val_loss: 0.4372 - val_accuracy: 0.8870 - lr: 0.0018\n",
            "Epoch 17/25\n",
            "1719/1719 [==============================] - 7s 4ms/step - loss: 0.2039 - accuracy: 0.9284 - val_loss: 0.4703 - val_accuracy: 0.8844 - lr: 0.0016\n",
            "Epoch 18/25\n",
            "1719/1719 [==============================] - 10s 6ms/step - loss: 0.1826 - accuracy: 0.9365 - val_loss: 0.4743 - val_accuracy: 0.8870 - lr: 0.0014\n",
            "Epoch 19/25\n",
            "1719/1719 [==============================] - 10s 6ms/step - loss: 0.1735 - accuracy: 0.9404 - val_loss: 0.4777 - val_accuracy: 0.8908 - lr: 0.0013\n",
            "Epoch 20/25\n",
            "1719/1719 [==============================] - 11s 6ms/step - loss: 0.1613 - accuracy: 0.9438 - val_loss: 0.4765 - val_accuracy: 0.8880 - lr: 0.0011\n",
            "Epoch 21/25\n",
            "1719/1719 [==============================] - 9s 5ms/step - loss: 0.1480 - accuracy: 0.9504 - val_loss: 0.5151 - val_accuracy: 0.8864 - lr: 0.0010\n",
            "Epoch 22/25\n",
            "1719/1719 [==============================] - 8s 5ms/step - loss: 0.1378 - accuracy: 0.9530 - val_loss: 0.5306 - val_accuracy: 0.8898 - lr: 8.9125e-04\n",
            "Epoch 23/25\n",
            "1719/1719 [==============================] - 8s 5ms/step - loss: 0.1298 - accuracy: 0.9563 - val_loss: 0.5482 - val_accuracy: 0.8854 - lr: 7.9433e-04\n",
            "Epoch 24/25\n",
            "1719/1719 [==============================] - 8s 4ms/step - loss: 0.1228 - accuracy: 0.9589 - val_loss: 0.5939 - val_accuracy: 0.8882 - lr: 7.0795e-04\n",
            "Epoch 25/25\n",
            "1719/1719 [==============================] - 7s 4ms/step - loss: 0.1159 - accuracy: 0.9616 - val_loss: 0.5659 - val_accuracy: 0.8894 - lr: 6.3096e-04\n"
          ]
        }
      ]
    },
    {
      "cell_type": "code",
      "source": [
        "plt.plot(history.epoch, history.history[\"lr\"], \"o-\")\n",
        "plt.axis([0, n_epochs - 1, 0, 0.011])\n",
        "plt.xlabel(\"Epoch\")\n",
        "plt.ylabel(\"Learning Rate\")\n",
        "plt.title(\"Exponential Scheduling\", fontsize=14)\n",
        "plt.grid(True)\n",
        "plt.show()"
      ],
      "metadata": {
        "colab": {
          "base_uri": "https://localhost:8080/",
          "height": 473
        },
        "id": "YYvIo2_kBBbU",
        "outputId": "aab8f8fb-dc1f-43f1-c5ca-540843648b65"
      },
      "execution_count": 64,
      "outputs": [
        {
          "output_type": "display_data",
          "data": {
            "text/plain": [
              "<Figure size 640x480 with 1 Axes>"
            ],
            "image/png": "[encoded data removed]"
          },
          "metadata": {}
        }
      ]
    },
    {
      "cell_type": "markdown",
      "source": [
        "## 2.구간별 고정 스케줄링"
      ],
      "metadata": {
        "id": "NbSanmFtCmAS"
      }
    },
    {
      "cell_type": "code",
      "source": [
        "def piecewise_constant_fn(epoch):\n",
        "    if epoch < 5:\n",
        "        return 0.01\n",
        "    elif epoch < 15:\n",
        "        return 0.005\n",
        "    else:\n",
        "        return 0.001"
      ],
      "metadata": {
        "id": "4sTlWIftBBY-"
      },
      "execution_count": 65,
      "outputs": []
    },
    {
      "cell_type": "code",
      "source": [
        "def piecewise_constant(boundaries, values):\n",
        "    boundaries = np.array([0] + boundaries)\n",
        "    values = np.array(values)\n",
        "    def piecewise_constant_fn(epoch):\n",
        "        return values[np.argmax(boundaries > epoch) - 1]\n",
        "    return piecewise_constant_fn\n",
        "\n",
        "piecewise_constant_fn = piecewise_constant([5, 15], [0.01, 0.005, 0.001])"
      ],
      "metadata": {
        "id": "6ASDqkrsBBV1"
      },
      "execution_count": 66,
      "outputs": []
    },
    {
      "cell_type": "code",
      "source": [
        "model = keras.models.Sequential([\n",
        "    keras.layers.Flatten(input_shape=[28, 28]),\n",
        "    keras.layers.Dense(300, activation=\"selu\", kernel_initializer=\"lecun_normal\"),\n",
        "    keras.layers.Dense(100, activation=\"selu\", kernel_initializer=\"lecun_normal\"),\n",
        "    keras.layers.Dense(10, activation=\"softmax\")\n",
        "])\n",
        "model.compile(loss=\"sparse_categorical_crossentropy\", optimizer=\"nadam\", metrics=[\"accuracy\"])"
      ],
      "metadata": {
        "id": "udd4xw7NBBTz"
      },
      "execution_count": 67,
      "outputs": []
    },
    {
      "cell_type": "code",
      "source": [
        "n_epochs = 25\n",
        "lr_scheduler = keras.callbacks.LearningRateScheduler(piecewise_constant_fn)\n",
        "history = model.fit(X_train_scaled, y_train, epochs=n_epochs,\n",
        "                    validation_data=(X_valid_scaled, y_valid),\n",
        "                    callbacks=[lr_scheduler])"
      ],
      "metadata": {
        "colab": {
          "base_uri": "https://localhost:8080/"
        },
        "id": "3oDRVOhdC9FZ",
        "outputId": "53b77fef-1105-46d9-edc5-9826d0b54bc7"
      },
      "execution_count": 68,
      "outputs": [
        {
          "output_type": "stream",
          "name": "stdout",
          "text": [
            "Epoch 1/25\n",
            "1719/1719 [==============================] - 9s 4ms/step - loss: 0.7522 - accuracy: 0.7758 - val_loss: 0.6327 - val_accuracy: 0.8322 - lr: 0.0100\n",
            "Epoch 2/25\n",
            "1719/1719 [==============================] - 8s 5ms/step - loss: 0.7686 - accuracy: 0.7750 - val_loss: 0.8401 - val_accuracy: 0.7618 - lr: 0.0100\n",
            "Epoch 3/25\n",
            "1719/1719 [==============================] - 7s 4ms/step - loss: 0.8140 - accuracy: 0.7681 - val_loss: 1.0977 - val_accuracy: 0.7372 - lr: 0.0100\n",
            "Epoch 4/25\n",
            "1719/1719 [==============================] - 8s 5ms/step - loss: 0.8461 - accuracy: 0.7544 - val_loss: 1.1810 - val_accuracy: 0.6454 - lr: 0.0100\n",
            "Epoch 5/25\n",
            "1719/1719 [==============================] - 7s 4ms/step - loss: 0.9201 - accuracy: 0.7055 - val_loss: 0.7596 - val_accuracy: 0.7422 - lr: 0.0100\n",
            "Epoch 6/25\n",
            "1719/1719 [==============================] - 8s 5ms/step - loss: 0.6359 - accuracy: 0.8010 - val_loss: 0.6360 - val_accuracy: 0.8242 - lr: 0.0050\n",
            "Epoch 7/25\n",
            "1719/1719 [==============================] - 7s 4ms/step - loss: 0.5676 - accuracy: 0.8320 - val_loss: 0.6138 - val_accuracy: 0.8172 - lr: 0.0050\n",
            "Epoch 8/25\n",
            "1719/1719 [==============================] - 9s 5ms/step - loss: 0.5260 - accuracy: 0.8478 - val_loss: 0.6568 - val_accuracy: 0.8332 - lr: 0.0050\n",
            "Epoch 9/25\n",
            "1719/1719 [==============================] - 9s 6ms/step - loss: 0.4889 - accuracy: 0.8537 - val_loss: 0.6614 - val_accuracy: 0.8494 - lr: 0.0050\n",
            "Epoch 10/25\n",
            "1719/1719 [==============================] - 8s 5ms/step - loss: 0.4882 - accuracy: 0.8568 - val_loss: 0.6502 - val_accuracy: 0.8598 - lr: 0.0050\n",
            "Epoch 11/25\n",
            "1719/1719 [==============================] - 7s 4ms/step - loss: 0.4668 - accuracy: 0.8646 - val_loss: 0.5934 - val_accuracy: 0.8550 - lr: 0.0050\n",
            "Epoch 12/25\n",
            "1719/1719 [==============================] - 8s 4ms/step - loss: 0.4756 - accuracy: 0.8659 - val_loss: 0.6329 - val_accuracy: 0.8268 - lr: 0.0050\n",
            "Epoch 13/25\n",
            "1719/1719 [==============================] - 8s 4ms/step - loss: 0.4419 - accuracy: 0.8709 - val_loss: 0.7155 - val_accuracy: 0.8494 - lr: 0.0050\n",
            "Epoch 14/25\n",
            "1719/1719 [==============================] - 7s 4ms/step - loss: 0.4425 - accuracy: 0.8698 - val_loss: 0.6604 - val_accuracy: 0.8594 - lr: 0.0050\n",
            "Epoch 15/25\n",
            "1719/1719 [==============================] - 8s 4ms/step - loss: 0.4427 - accuracy: 0.8732 - val_loss: 0.7161 - val_accuracy: 0.8454 - lr: 0.0050\n",
            "Epoch 16/25\n",
            "1719/1719 [==============================] - 7s 4ms/step - loss: 0.3029 - accuracy: 0.9025 - val_loss: 0.6134 - val_accuracy: 0.8752 - lr: 0.0010\n",
            "Epoch 17/25\n",
            "1719/1719 [==============================] - 8s 5ms/step - loss: 0.2781 - accuracy: 0.9112 - val_loss: 0.5802 - val_accuracy: 0.8716 - lr: 0.0010\n",
            "Epoch 18/25\n",
            "1719/1719 [==============================] - 8s 5ms/step - loss: 0.2653 - accuracy: 0.9146 - val_loss: 0.6194 - val_accuracy: 0.8782 - lr: 0.0010\n",
            "Epoch 19/25\n",
            "1719/1719 [==============================] - 9s 5ms/step - loss: 0.2542 - accuracy: 0.9175 - val_loss: 0.6363 - val_accuracy: 0.8792 - lr: 0.0010\n",
            "Epoch 20/25\n",
            "1719/1719 [==============================] - 7s 4ms/step - loss: 0.2479 - accuracy: 0.9213 - val_loss: 0.6513 - val_accuracy: 0.8840 - lr: 0.0010\n",
            "Epoch 21/25\n",
            "1719/1719 [==============================] - 8s 5ms/step - loss: 0.2402 - accuracy: 0.9237 - val_loss: 0.6573 - val_accuracy: 0.8834 - lr: 0.0010\n",
            "Epoch 22/25\n",
            "1719/1719 [==============================] - 7s 4ms/step - loss: 0.2316 - accuracy: 0.9270 - val_loss: 0.6518 - val_accuracy: 0.8842 - lr: 0.0010\n",
            "Epoch 23/25\n",
            "1719/1719 [==============================] - 8s 4ms/step - loss: 0.2242 - accuracy: 0.9295 - val_loss: 0.6821 - val_accuracy: 0.8792 - lr: 0.0010\n",
            "Epoch 24/25\n",
            "1719/1719 [==============================] - 7s 4ms/step - loss: 0.2165 - accuracy: 0.9329 - val_loss: 0.6463 - val_accuracy: 0.8836 - lr: 0.0010\n",
            "Epoch 25/25\n",
            "1719/1719 [==============================] - 9s 5ms/step - loss: 0.2099 - accuracy: 0.9344 - val_loss: 0.6649 - val_accuracy: 0.8820 - lr: 0.0010\n"
          ]
        }
      ]
    },
    {
      "cell_type": "code",
      "source": [
        "plt.plot(history.epoch, [piecewise_constant_fn(epoch) for epoch in history.epoch], \"o-\")\n",
        "plt.axis([0, n_epochs - 1, 0, 0.011])\n",
        "plt.xlabel(\"Epoch\")\n",
        "plt.ylabel(\"Learning Rate\")\n",
        "plt.title(\"Piecewise Constant Scheduling\", fontsize=14)\n",
        "plt.grid(True)\n",
        "plt.show()"
      ],
      "metadata": {
        "colab": {
          "base_uri": "https://localhost:8080/",
          "height": 473
        },
        "id": "AlyGee7oC9IN",
        "outputId": "7973f0b0-10bb-493e-cfac-8a817ab6af1c"
      },
      "execution_count": 69,
      "outputs": [
        {
          "output_type": "display_data",
          "data": {
            "text/plain": [
              "<Figure size 640x480 with 1 Axes>"
            ],
            "image/png": "[encoded data removed]"
          },
          "metadata": {}
        }
      ]
    },
    {
      "cell_type": "markdown",
      "source": [
        "## 3.성능 기반 스케줄링"
      ],
      "metadata": {
        "id": "0rS8rpJOEJPE"
      }
    },
    {
      "cell_type": "code",
      "source": [
        "tf.random.set_seed(42)\n",
        "np.random.seed(42)"
      ],
      "metadata": {
        "id": "_TKT4NQZDAuu"
      },
      "execution_count": 70,
      "outputs": []
    },
    {
      "cell_type": "code",
      "source": [
        "model = keras.models.Sequential([\n",
        "    keras.layers.Flatten(input_shape=[28, 28]),\n",
        "    keras.layers.Dense(300, activation=\"selu\", kernel_initializer=\"lecun_normal\"),\n",
        "    keras.layers.Dense(100, activation=\"selu\", kernel_initializer=\"lecun_normal\"),\n",
        "    keras.layers.Dense(10, activation=\"softmax\")\n",
        "])\n",
        "optimizer = keras.optimizers.SGD(learning_rate=0.02, momentum=0.9)\n",
        "model.compile(loss=\"sparse_categorical_crossentropy\", optimizer=optimizer, metrics=[\"accuracy\"])"
      ],
      "metadata": {
        "id": "s61ugrNEEPMP"
      },
      "execution_count": 71,
      "outputs": []
    },
    {
      "cell_type": "code",
      "source": [
        "n_epochs = 25\n",
        "lr_scheduler = keras.callbacks.ReduceLROnPlateau(factor=0.5, patience=5)\n",
        "history = model.fit(X_train_scaled, y_train, epochs=n_epochs,\n",
        "                    validation_data=(X_valid_scaled, y_valid),\n",
        "                    callbacks=[lr_scheduler])"
      ],
      "metadata": {
        "colab": {
          "base_uri": "https://localhost:8080/"
        },
        "id": "XTJtfENoEgQW",
        "outputId": "8ffd2dcd-e5da-485a-9eac-b6b0e28fbfef"
      },
      "execution_count": 72,
      "outputs": [
        {
          "output_type": "stream",
          "name": "stdout",
          "text": [
            "Epoch 1/25\n",
            "1719/1719 [==============================] - 8s 4ms/step - loss: 0.5902 - accuracy: 0.8054 - val_loss: 0.5003 - val_accuracy: 0.8490 - lr: 0.0200\n",
            "Epoch 2/25\n",
            "1719/1719 [==============================] - 6s 4ms/step - loss: 0.4896 - accuracy: 0.8416 - val_loss: 0.5740 - val_accuracy: 0.8418 - lr: 0.0200\n",
            "Epoch 3/25\n",
            "1719/1719 [==============================] - 8s 5ms/step - loss: 0.5133 - accuracy: 0.8419 - val_loss: 0.4638 - val_accuracy: 0.8606 - lr: 0.0200\n",
            "Epoch 4/25\n",
            "1719/1719 [==============================] - 6s 3ms/step - loss: 0.5235 - accuracy: 0.8451 - val_loss: 0.5768 - val_accuracy: 0.8248 - lr: 0.0200\n",
            "Epoch 5/25\n",
            "1719/1719 [==============================] - 8s 5ms/step - loss: 0.5309 - accuracy: 0.8476 - val_loss: 0.5748 - val_accuracy: 0.8542 - lr: 0.0200\n",
            "Epoch 6/25\n",
            "1719/1719 [==============================] - 6s 4ms/step - loss: 0.5234 - accuracy: 0.8515 - val_loss: 0.5038 - val_accuracy: 0.8642 - lr: 0.0200\n",
            "Epoch 7/25\n",
            "1719/1719 [==============================] - 6s 4ms/step - loss: 0.5283 - accuracy: 0.8524 - val_loss: 0.5479 - val_accuracy: 0.8480 - lr: 0.0200\n",
            "Epoch 8/25\n",
            "1719/1719 [==============================] - 8s 5ms/step - loss: 0.5112 - accuracy: 0.8565 - val_loss: 0.7348 - val_accuracy: 0.8144 - lr: 0.0200\n",
            "Epoch 9/25\n",
            "1719/1719 [==============================] - 7s 4ms/step - loss: 0.2935 - accuracy: 0.8975 - val_loss: 0.4169 - val_accuracy: 0.8774 - lr: 0.0100\n",
            "Epoch 10/25\n",
            "1719/1719 [==============================] - 6s 4ms/step - loss: 0.2469 - accuracy: 0.9098 - val_loss: 0.4198 - val_accuracy: 0.8876 - lr: 0.0100\n",
            "Epoch 11/25\n",
            "1719/1719 [==============================] - 6s 4ms/step - loss: 0.2263 - accuracy: 0.9164 - val_loss: 0.3973 - val_accuracy: 0.8848 - lr: 0.0100\n",
            "Epoch 12/25\n",
            "1719/1719 [==============================] - 7s 4ms/step - loss: 0.2102 - accuracy: 0.9216 - val_loss: 0.4946 - val_accuracy: 0.8744 - lr: 0.0100\n",
            "Epoch 13/25\n",
            "1719/1719 [==============================] - 9s 5ms/step - loss: 0.1964 - accuracy: 0.9262 - val_loss: 0.4489 - val_accuracy: 0.8866 - lr: 0.0100\n",
            "Epoch 14/25\n",
            "1719/1719 [==============================] - 7s 4ms/step - loss: 0.1869 - accuracy: 0.9299 - val_loss: 0.4922 - val_accuracy: 0.8690 - lr: 0.0100\n",
            "Epoch 15/25\n",
            "1719/1719 [==============================] - 10s 6ms/step - loss: 0.1820 - accuracy: 0.9330 - val_loss: 0.4578 - val_accuracy: 0.8876 - lr: 0.0100\n",
            "Epoch 16/25\n",
            "1719/1719 [==============================] - 7s 4ms/step - loss: 0.1629 - accuracy: 0.9385 - val_loss: 0.4731 - val_accuracy: 0.8932 - lr: 0.0100\n",
            "Epoch 17/25\n",
            "1719/1719 [==============================] - 8s 5ms/step - loss: 0.1151 - accuracy: 0.9558 - val_loss: 0.4545 - val_accuracy: 0.8934 - lr: 0.0050\n",
            "Epoch 18/25\n",
            "1719/1719 [==============================] - 6s 3ms/step - loss: 0.1016 - accuracy: 0.9595 - val_loss: 0.4870 - val_accuracy: 0.8882 - lr: 0.0050\n",
            "Epoch 19/25\n",
            "1719/1719 [==============================] - 7s 4ms/step - loss: 0.0942 - accuracy: 0.9637 - val_loss: 0.4981 - val_accuracy: 0.8972 - lr: 0.0050\n",
            "Epoch 20/25\n",
            "1719/1719 [==============================] - 6s 3ms/step - loss: 0.0886 - accuracy: 0.9651 - val_loss: 0.5162 - val_accuracy: 0.8904 - lr: 0.0050\n",
            "Epoch 21/25\n",
            "1719/1719 [==============================] - 8s 4ms/step - loss: 0.0828 - accuracy: 0.9676 - val_loss: 0.5210 - val_accuracy: 0.8924 - lr: 0.0050\n",
            "Epoch 22/25\n",
            "1719/1719 [==============================] - 7s 4ms/step - loss: 0.0645 - accuracy: 0.9754 - val_loss: 0.5311 - val_accuracy: 0.8954 - lr: 0.0025\n",
            "Epoch 23/25\n",
            "1719/1719 [==============================] - 9s 5ms/step - loss: 0.0594 - accuracy: 0.9772 - val_loss: 0.5288 - val_accuracy: 0.8938 - lr: 0.0025\n",
            "Epoch 24/25\n",
            "1719/1719 [==============================] - 6s 4ms/step - loss: 0.0560 - accuracy: 0.9792 - val_loss: 0.5544 - val_accuracy: 0.8952 - lr: 0.0025\n",
            "Epoch 25/25\n",
            "1719/1719 [==============================] - 7s 4ms/step - loss: 0.0532 - accuracy: 0.9803 - val_loss: 0.5647 - val_accuracy: 0.8936 - lr: 0.0025\n"
          ]
        }
      ]
    },
    {
      "cell_type": "code",
      "source": [
        "plt.plot(history.epoch, history.history[\"lr\"], \"o-\")\n",
        "plt.xlabel(\"Epoch\")\n",
        "plt.ylabel(\"Learning Rate\")\n",
        "plt.title(\"Reduce LR on Plateau\", fontsize=14)\n",
        "plt.grid(True)\n",
        "plt.show()"
      ],
      "metadata": {
        "colab": {
          "base_uri": "https://localhost:8080/",
          "height": 473
        },
        "id": "2_uORTu3EgpB",
        "outputId": "80c6b5d7-f143-4cc9-a8d4-f117dab2ec7f"
      },
      "execution_count": 74,
      "outputs": [
        {
          "output_type": "display_data",
          "data": {
            "text/plain": [
              "<Figure size 640x480 with 1 Axes>"
            ],
            "image/png": "[encoded data removed]"
          },
          "metadata": {}
        }
      ]
    },
    {
      "cell_type": "markdown",
      "source": [
        "# 규제를 사용해 과대적합 피하기\n",
        "## 1.$\\ell_1$과 $\\ell_2$ 규제"
      ],
      "metadata": {
        "id": "9N1u7NEmFw6M"
      }
    },
    {
      "cell_type": "code",
      "source": [
        "layer = keras.layers.Dense(100, activation=\"elu\",\n",
        "                           kernel_initializer=\"he_normal\",\n",
        "                           kernel_regularizer=keras.regularizers.l2(0.01))"
      ],
      "metadata": {
        "id": "qgzXKxPTFOZv"
      },
      "execution_count": 75,
      "outputs": []
    },
    {
      "cell_type": "code",
      "source": [
        "model = keras.models.Sequential([\n",
        "    keras.layers.Flatten(input_shape=[28, 28]),\n",
        "    keras.layers.Dense(300, activation=\"elu\",\n",
        "                       kernel_initializer=\"he_normal\",\n",
        "                       kernel_regularizer=keras.regularizers.l2(0.01)),\n",
        "    keras.layers.Dense(100, activation=\"elu\",\n",
        "                       kernel_initializer=\"he_normal\",\n",
        "                       kernel_regularizer=keras.regularizers.l2(0.01)),\n",
        "    keras.layers.Dense(10, activation=\"softmax\",\n",
        "                       kernel_regularizer=keras.regularizers.l2(0.01))\n",
        "])\n",
        "model.compile(loss=\"sparse_categorical_crossentropy\", optimizer=\"nadam\", metrics=[\"accuracy\"])"
      ],
      "metadata": {
        "id": "jCDoS4C4G-wm"
      },
      "execution_count": 76,
      "outputs": []
    },
    {
      "cell_type": "code",
      "source": [
        "n_epochs = 2\n",
        "history = model.fit(X_train_scaled, y_train, epochs=n_epochs, validation_data=(X_valid_scaled, y_valid))"
      ],
      "metadata": {
        "colab": {
          "base_uri": "https://localhost:8080/"
        },
        "id": "AUqo1V7XHA-r",
        "outputId": "47c6ee07-d2e3-4972-d3ec-0057f641b9a1"
      },
      "execution_count": 77,
      "outputs": [
        {
          "output_type": "stream",
          "name": "stdout",
          "text": [
            "Epoch 1/2\n",
            "1719/1719 [==============================] - 9s 4ms/step - loss: 1.6061 - accuracy: 0.8140 - val_loss: 0.7065 - val_accuracy: 0.8402\n",
            "Epoch 2/2\n",
            "1719/1719 [==============================] - 8s 5ms/step - loss: 0.7187 - accuracy: 0.8293 - val_loss: 0.6898 - val_accuracy: 0.8334\n"
          ]
        }
      ]
    },
    {
      "cell_type": "code",
      "source": [
        "from functools import partial\n",
        "\n",
        "RegularizedDense = partial(keras.layers.Dense,\n",
        "                           activation=\"elu\",\n",
        "                           kernel_initializer=\"he_normal\",\n",
        "                           kernel_regularizer=keras.regularizers.l2(0.01))"
      ],
      "metadata": {
        "id": "TnmzspApHMox"
      },
      "execution_count": 78,
      "outputs": []
    },
    {
      "cell_type": "code",
      "source": [
        "model = keras.models.Sequential([\n",
        "    keras.layers.Flatten(input_shape=[28, 28]),\n",
        "    RegularizedDense(300),\n",
        "    RegularizedDense(100),\n",
        "    RegularizedDense(10, activation=\"softmax\")\n",
        "])\n",
        "model.compile(loss=\"sparse_categorical_crossentropy\", optimizer=\"nadam\", metrics=[\"accuracy\"])"
      ],
      "metadata": {
        "id": "ZeIpADGfH9m0"
      },
      "execution_count": 79,
      "outputs": []
    },
    {
      "cell_type": "code",
      "source": [
        "n_epochs = 2\n",
        "history = model.fit(X_train_scaled, y_train, epochs=n_epochs, validation_data=(X_valid_scaled, y_valid))"
      ],
      "metadata": {
        "colab": {
          "base_uri": "https://localhost:8080/"
        },
        "id": "M6bhpzU3H6EQ",
        "outputId": "9d6446d2-ff82-414c-b813-d1538fe1b8ec"
      },
      "execution_count": 80,
      "outputs": [
        {
          "output_type": "stream",
          "name": "stdout",
          "text": [
            "Epoch 1/2\n",
            "1719/1719 [==============================] - 9s 5ms/step - loss: 1.6849 - accuracy: 0.8130 - val_loss: 0.7094 - val_accuracy: 0.8404\n",
            "Epoch 2/2\n",
            "1719/1719 [==============================] - 7s 4ms/step - loss: 0.7184 - accuracy: 0.8289 - val_loss: 0.6864 - val_accuracy: 0.8380\n"
          ]
        }
      ]
    },
    {
      "cell_type": "code",
      "source": [],
      "metadata": {
        "id": "vFRik1rDH6Gl"
      },
      "execution_count": null,
      "outputs": []
    },
    {
      "cell_type": "code",
      "source": [],
      "metadata": {
        "id": "r-DWw6yPH6I8"
      },
      "execution_count": null,
      "outputs": []
    }
  ]
}